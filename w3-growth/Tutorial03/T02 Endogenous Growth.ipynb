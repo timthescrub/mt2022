{
 "cells": [
  {
   "cell_type": "markdown",
   "metadata": {
    "toc": true
   },
   "source": [
    "<h1>Table of Contents<span class=\"tocSkip\"></span></h1>\n",
    "<div class=\"toc\"><ul class=\"toc-item\"><li><span><a href=\"#An-early-Harrod-Domar-('39,-'46)-endogenous-growth-model\" data-toc-modified-id=\"An-early-Harrod-Domar-('39,-'46)-endogenous-growth-model-1\"><span class=\"toc-item-num\">1&nbsp;&nbsp;</span>An early Harrod-Domar ('39, '46) endogenous growth model</a></span></li><li><span><a href=\"#Computation-and-visualization-exercise\" data-toc-modified-id=\"Computation-and-visualization-exercise-2\"><span class=\"toc-item-num\">2&nbsp;&nbsp;</span>Computation and visualization exercise</a></span></li><li><span><a href=\"#Lucas-'88-meets-Glomm-Ravikumar-'92\" data-toc-modified-id=\"Lucas-'88-meets-Glomm-Ravikumar-'92-3\"><span class=\"toc-item-num\">3&nbsp;&nbsp;</span>Lucas '88 meets Glomm-Ravikumar '92</a></span></li><li><span><a href=\"#Computation-and-visualization-exercise\" data-toc-modified-id=\"Computation-and-visualization-exercise-4\"><span class=\"toc-item-num\">4&nbsp;&nbsp;</span>Computation and visualization exercise</a></span></li></ul></div>"
   ]
  },
  {
   "cell_type": "markdown",
   "metadata": {},
   "source": [
    "# An early Harrod-Domar ('39, '46) endogenous growth model"
   ]
  },
  {
   "cell_type": "markdown",
   "metadata": {},
   "source": [
    "Consider the textbook Solow-Swan growth model (see T01) with Cobb-Douglas production function and a capital income share of total production measured as $0< \\alpha \\leq 1$. Population grows at a constant rate of $n > -1$. Total factor productivity is constant at $Z > 0$ and consumers' common marginal propensity to save out of current income is $s \\in (0,1)$.\n",
    "\n",
    "Under what parameter restriction(s) would there be\n",
    "\n",
    "1. perpetual growth?\n",
    "\n",
    "2. No growth? \n",
    "\n",
    "Provide plain-English, economic explanations of your insights."
   ]
  },
  {
   "cell_type": "markdown",
   "metadata": {},
   "source": [
    "There would be perpetual growth if the population grows at an increasing rate\n",
    "\n",
    "No growth if the replacement cost of capital is equal to the TFP increases (MPK)"
   ]
  },
  {
   "cell_type": "markdown",
   "metadata": {},
   "source": [
    "# Computation and visualization exercise"
   ]
  },
  {
   "cell_type": "markdown",
   "metadata": {},
   "source": [
    "Now try to demonstrate your analytical insights"
   ]
  },
  {
   "cell_type": "code",
   "execution_count": 12,
   "metadata": {},
   "outputs": [],
   "source": [
    "#set parameters\n",
    "α = 1.0\n",
    "δ = 0.10\n",
    "n = 0.001\n",
    "g = 0.01"
   ]
  },
  {
   "cell_type": "markdown",
   "metadata": {},
   "source": [
    "Here I'll set $g = 0$ so there is no source of exogenous growth in per capita income\n",
    "\n",
    "then, any possible growth in the long run will only come from the feature of the \"endogenous\" $A$ term"
   ]
  },
  {
   "cell_type": "code",
   "execution_count": 13,
   "metadata": {},
   "outputs": [],
   "source": [
    "# Composite paramter on the RHS for our sufficient condition\n"
   ]
  },
  {
   "cell_type": "code",
   "execution_count": 14,
   "metadata": {},
   "outputs": [],
   "source": [
    "s = 0.15"
   ]
  },
  {
   "cell_type": "code",
   "execution_count": 22,
   "metadata": {},
   "outputs": [],
   "source": [
    "parameters = {\n",
    "    'capital share' : α,\n",
    "    'depreciation rate' : δ,\n",
    "    'pop growth rate' : n,\n",
    "    'tech growth rate' : g,\n",
    "    'savings rate' : s,\n",
    "    \n",
    "}"
   ]
  },
  {
   "cell_type": "code",
   "execution_count": 29,
   "metadata": {},
   "outputs": [],
   "source": [
    "def modelonuevo(k, Z, parameters):\n",
    "    '''Equilibrium map of growth models '''\n",
    "    \n",
    "    α = parameters['capital share']\n",
    "    δ = parameters['depreciation rate']\n",
    "    n = parameters['pop growth rate']\n",
    "    g = parameters['tech growth rate']\n",
    "    s = parameters['savings rate']\n",
    "    \n",
    "    # per-efficency units of worker terms\n",
    "    \n",
    "    k_next = ((1.0-δ)*k + s*k**α)/((1.0+n)*(1.0+g))\n",
    "    y = k**α\n",
    "    \n",
    "    #tech\n",
    "    Z_next = (1.0+g)*Z\n",
    "    \n",
    "    #per worker terms\n",
    "    kw = k*Z\n",
    "    yw = y*Z\n",
    "    return k_next, y, kw, yw, Z_next"
   ]
  },
  {
   "cell_type": "code",
   "execution_count": 34,
   "metadata": {},
   "outputs": [],
   "source": [
    "def simulate(parameters, k0=0.5, Z0=1.0, T=50):\n",
    "    \"\"\" Solve recursion for T period s\"\"\"\n",
    "    \n",
    "    # initial states\n",
    "    \n",
    "    k, z = k0, Z0\n",
    "    \n",
    "    data = {'k' : [], 'y' : [], 'kw': [], 'yw' : [], 'z':[]}\n",
    "    for t in range(T):\n",
    "        #Evaluate data generation process once\n",
    "        k_next, y, kw, yw, Z_next = modelonuevo(k, z, parameters)\n",
    "        \n",
    "        data['k'].append(k)\n",
    "        data['y'].append(y)\n",
    "        data['kw'].append(kw)\n",
    "        data['yw'].append(yw)\n",
    "        data['z'].append(z)\n",
    "        \n",
    "        k, Z = k_next, Z_next"
   ]
  },
  {
   "cell_type": "code",
   "execution_count": 35,
   "metadata": {},
   "outputs": [],
   "source": [
    "out = simulate(parameters, k0=0.5, Z0 = 1.0, T = 50 )"
   ]
  },
  {
   "cell_type": "code",
   "execution_count": null,
   "metadata": {},
   "outputs": [],
   "source": [
    "plt.figer"
   ]
  },
  {
   "cell_type": "code",
   "execution_count": null,
   "metadata": {},
   "outputs": [],
   "source": []
  },
  {
   "cell_type": "markdown",
   "metadata": {},
   "source": [
    "# Lucas '88 meets Glomm-Ravikumar '92\n",
    "\n",
    "Do **Question F** from the 2019 Final Exam.\n",
    "\n",
    "References:\n",
    "\n",
    "* [Lucas (1988)](https://doi.org/10.1016/0304-3932(88)90168-7)\n",
    "\n",
    "* [Glomm and Ravikumar (1992)](https://www.jstor.org/stable/2138689)\n",
    "\n",
    "* [de la Croix and Michel (2002)](https://ebookcentral.proquest.com/lib/anu/detail.action?docID=202147)\n",
    "\n"
   ]
  },
  {
   "cell_type": "code",
   "execution_count": null,
   "metadata": {},
   "outputs": [],
   "source": []
  },
  {
   "cell_type": "markdown",
   "metadata": {},
   "source": [
    "# Computation and visualization exercise\n",
    "\n",
    "Revisit your work in the last Assignment and code up the two cases of dynamic equilibria (under privately-funded and publicly funded human-capital investment)."
   ]
  },
  {
   "cell_type": "code",
   "execution_count": null,
   "metadata": {},
   "outputs": [],
   "source": []
  }
 ],
 "metadata": {
  "kernelspec": {
   "display_name": "Python 3",
   "language": "python",
   "name": "python3"
  },
  "language_info": {
   "codemirror_mode": {
    "name": "ipython",
    "version": 3
   },
   "file_extension": ".py",
   "mimetype": "text/x-python",
   "name": "python",
   "nbconvert_exporter": "python",
   "pygments_lexer": "ipython3",
   "version": "3.7.4"
  },
  "latex_envs": {
   "LaTeX_envs_menu_present": true,
   "autoclose": false,
   "autocomplete": true,
   "bibliofile": "biblio.bib",
   "cite_by": "apalike",
   "current_citInitial": 1,
   "eqLabelWithNumbers": true,
   "eqNumInitial": 1,
   "hotkeys": {
    "equation": "Ctrl-E",
    "itemize": "Ctrl-I"
   },
   "labels_anchors": false,
   "latex_user_defs": false,
   "report_style_numbering": false,
   "user_envs_cfg": false
  },
  "toc": {
   "base_numbering": 1,
   "nav_menu": {},
   "number_sections": true,
   "sideBar": false,
   "skip_h1_title": false,
   "title_cell": "Table of Contents",
   "title_sidebar": "Contents",
   "toc_cell": true,
   "toc_position": {
    "height": "281px",
    "left": "10px",
    "top": "150px",
    "width": "165px"
   },
   "toc_section_display": true,
   "toc_window_display": true
  }
 },
 "nbformat": 4,
 "nbformat_minor": 5
}
