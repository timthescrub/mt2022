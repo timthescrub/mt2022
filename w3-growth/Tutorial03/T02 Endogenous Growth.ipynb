{
 "cells": [
  {
   "cell_type": "markdown",
   "id": "steady-macintosh",
   "metadata": {
    "toc": true
   },
   "source": [
    "<h1>Table of Contents<span class=\"tocSkip\"></span></h1>\n",
    "<div class=\"toc\"><ul class=\"toc-item\"><li><span><a href=\"#An-early-Harrod-Domar-('39,-'46)-endogenous-growth-model\" data-toc-modified-id=\"An-early-Harrod-Domar-('39,-'46)-endogenous-growth-model-1\"><span class=\"toc-item-num\">1&nbsp;&nbsp;</span>An early Harrod-Domar ('39, '46) endogenous growth model</a></span></li><li><span><a href=\"#Computation-and-visualization-exercise\" data-toc-modified-id=\"Computation-and-visualization-exercise-2\"><span class=\"toc-item-num\">2&nbsp;&nbsp;</span>Computation and visualization exercise</a></span></li><li><span><a href=\"#Lucas-'88-meets-Glomm-Ravikumar-'92\" data-toc-modified-id=\"Lucas-'88-meets-Glomm-Ravikumar-'92-3\"><span class=\"toc-item-num\">3&nbsp;&nbsp;</span>Lucas '88 meets Glomm-Ravikumar '92</a></span></li><li><span><a href=\"#Computation-and-visualization-exercise\" data-toc-modified-id=\"Computation-and-visualization-exercise-4\"><span class=\"toc-item-num\">4&nbsp;&nbsp;</span>Computation and visualization exercise</a></span></li></ul></div>"
   ]
  },
  {
   "cell_type": "markdown",
   "id": "elect-wiring",
   "metadata": {},
   "source": [
    "# An early Harrod-Domar ('39, '46) endogenous growth model"
   ]
  },
  {
   "cell_type": "markdown",
   "id": "blond-monroe",
   "metadata": {},
   "source": [
    "Consider the textbook Solow-Swan growth model (see T01) with Cobb-Douglas production function and a capital income share of total production measured as $0< \\alpha \\leq 1$. Population grows at a constant rate of $n > -1$. Total factor productivity is constant at $Z > 0$ and consumers' common marginal propensity to save out of current income is $s \\in (0,1)$.\n",
    "\n",
    "Under what parameter restriction(s) would there be\n",
    "\n",
    "1. perpetual growth?\n",
    "\n",
    "2. No growth? \n",
    "\n",
    "Provide plain-English, economic explanations of your insights."
   ]
  },
  {
   "cell_type": "code",
   "execution_count": null,
   "id": "spiritual-league",
   "metadata": {},
   "outputs": [],
   "source": []
  },
  {
   "cell_type": "markdown",
   "id": "roman-lafayette",
   "metadata": {},
   "source": [
    "# Computation and visualization exercise"
   ]
  },
  {
   "cell_type": "markdown",
   "id": "declared-badge",
   "metadata": {},
   "source": [
    "Now try to demonstrate your analytical insights"
   ]
  },
  {
   "cell_type": "code",
   "execution_count": null,
   "id": "alone-stereo",
   "metadata": {},
   "outputs": [],
   "source": []
  },
  {
   "cell_type": "markdown",
   "id": "comparable-aberdeen",
   "metadata": {},
   "source": [
    "# Lucas '88 meets Glomm-Ravikumar '92\n",
    "\n",
    "Do **Question F** from the 2019 Final Exam.\n",
    "\n",
    "References:\n",
    "\n",
    "* [Lucas (1988)](https://doi.org/10.1016/0304-3932(88)90168-7)\n",
    "\n",
    "* [Glomm and Ravikumar (1992)](https://www.jstor.org/stable/2138689)\n",
    "\n",
    "* [de la Croix and Michel (2002)](https://ebookcentral.proquest.com/lib/anu/detail.action?docID=202147)\n",
    "\n"
   ]
  },
  {
   "cell_type": "code",
   "execution_count": null,
   "id": "intimate-margin",
   "metadata": {},
   "outputs": [],
   "source": []
  },
  {
   "cell_type": "markdown",
   "id": "interstate-pharmaceutical",
   "metadata": {},
   "source": [
    "# Computation and visualization exercise\n",
    "\n",
    "Revisit your work in the last Assignment and code up the two cases of dynamic equilibria (under privately-funded and publicly funded human-capital investment)."
   ]
  },
  {
   "cell_type": "code",
   "execution_count": null,
   "id": "conservative-annex",
   "metadata": {},
   "outputs": [],
   "source": []
  }
 ],
 "metadata": {
  "kernelspec": {
   "display_name": "Python 3",
   "language": "python",
   "name": "python3"
  },
  "language_info": {
   "codemirror_mode": {
    "name": "ipython",
    "version": 3
   },
   "file_extension": ".py",
   "mimetype": "text/x-python",
   "name": "python",
   "nbconvert_exporter": "python",
   "pygments_lexer": "ipython3",
   "version": "3.6.12"
  },
  "latex_envs": {
   "LaTeX_envs_menu_present": true,
   "autoclose": false,
   "autocomplete": true,
   "bibliofile": "biblio.bib",
   "cite_by": "apalike",
   "current_citInitial": 1,
   "eqLabelWithNumbers": true,
   "eqNumInitial": 1,
   "hotkeys": {
    "equation": "Ctrl-E",
    "itemize": "Ctrl-I"
   },
   "labels_anchors": false,
   "latex_user_defs": false,
   "report_style_numbering": false,
   "user_envs_cfg": false
  },
  "toc": {
   "base_numbering": 1,
   "nav_menu": {},
   "number_sections": true,
   "sideBar": false,
   "skip_h1_title": false,
   "title_cell": "Table of Contents",
   "title_sidebar": "Contents",
   "toc_cell": true,
   "toc_position": {
    "height": "281px",
    "left": "10px",
    "top": "150px",
    "width": "165px"
   },
   "toc_section_display": true,
   "toc_window_display": true
  }
 },
 "nbformat": 4,
 "nbformat_minor": 5
}
