{
 "cells": [
  {
   "cell_type": "markdown",
   "metadata": {
    "toc": true
   },
   "source": [
    "<h1>Table of Contents<span class=\"tocSkip\"></span></h1>\n",
    "<div class=\"toc\"><ul class=\"toc-item\"><li><span><a href=\"#Growth-Facts-and-Solow-Swan\" data-toc-modified-id=\"Growth-Facts-and-Solow-Swan-1\"><span class=\"toc-item-num\">1&nbsp;&nbsp;</span>Growth Facts and Solow-Swan</a></span><ul class=\"toc-item\"><li><span><a href=\"#Problem-0\" data-toc-modified-id=\"Problem-0-1.1\"><span class=\"toc-item-num\">1.1&nbsp;&nbsp;</span>Problem 0</a></span><ul class=\"toc-item\"><li><span><a href=\"#Answer-0.1\" data-toc-modified-id=\"Answer-0.1-1.1.1\"><span class=\"toc-item-num\">1.1.1&nbsp;&nbsp;</span>Answer 0.1</a></span></li><li><span><a href=\"#Answer-0.2\" data-toc-modified-id=\"Answer-0.2-1.1.2\"><span class=\"toc-item-num\">1.1.2&nbsp;&nbsp;</span>Answer 0.2</a></span></li><li><span><a href=\"#Answer-0.3\" data-toc-modified-id=\"Answer-0.3-1.1.3\"><span class=\"toc-item-num\">1.1.3&nbsp;&nbsp;</span>Answer 0.3</a></span></li></ul></li><li><span><a href=\"#Problem-1\" data-toc-modified-id=\"Problem-1-1.2\"><span class=\"toc-item-num\">1.2&nbsp;&nbsp;</span>Problem 1</a></span><ul class=\"toc-item\"><li><span><a href=\"#Model-primitives-(functions/assumptions)\" data-toc-modified-id=\"Model-primitives-(functions/assumptions)-1.2.1\"><span class=\"toc-item-num\">1.2.1&nbsp;&nbsp;</span>Model primitives (functions/assumptions)</a></span></li><li><span><a href=\"#Model-simulation-tools\" data-toc-modified-id=\"Model-simulation-tools-1.2.2\"><span class=\"toc-item-num\">1.2.2&nbsp;&nbsp;</span>Model simulation tools</a></span></li><li><span><a href=\"#Answer-1.1\" data-toc-modified-id=\"Answer-1.1-1.2.3\"><span class=\"toc-item-num\">1.2.3&nbsp;&nbsp;</span>Answer 1.1</a></span></li><li><span><a href=\"#Model-parameter-settings\" data-toc-modified-id=\"Model-parameter-settings-1.2.4\"><span class=\"toc-item-num\">1.2.4&nbsp;&nbsp;</span>Model parameter settings</a></span></li><li><span><a href=\"#Answer-1.2\" data-toc-modified-id=\"Answer-1.2-1.2.5\"><span class=\"toc-item-num\">1.2.5&nbsp;&nbsp;</span>Answer 1.2</a></span></li><li><span><a href=\"#Answer-1.3\" data-toc-modified-id=\"Answer-1.3-1.2.6\"><span class=\"toc-item-num\">1.2.6&nbsp;&nbsp;</span>Answer 1.3</a></span></li></ul></li><li><span><a href=\"#Problem-2\" data-toc-modified-id=\"Problem-2-1.3\"><span class=\"toc-item-num\">1.3&nbsp;&nbsp;</span>Problem 2</a></span><ul class=\"toc-item\"><li><span><a href=\"#Answer-2.1\" data-toc-modified-id=\"Answer-2.1-1.3.1\"><span class=\"toc-item-num\">1.3.1&nbsp;&nbsp;</span>Answer 2.1</a></span></li><li><span><a href=\"#Answer-2.2\" data-toc-modified-id=\"Answer-2.2-1.3.2\"><span class=\"toc-item-num\">1.3.2&nbsp;&nbsp;</span>Answer 2.2</a></span></li><li><span><a href=\"#Answer-3.3\" data-toc-modified-id=\"Answer-3.3-1.3.3\"><span class=\"toc-item-num\">1.3.3&nbsp;&nbsp;</span>Answer 3.3</a></span></li></ul></li><li><span><a href=\"#Problem-3\" data-toc-modified-id=\"Problem-3-1.4\"><span class=\"toc-item-num\">1.4&nbsp;&nbsp;</span>Problem 3</a></span><ul class=\"toc-item\"><li><span><a href=\"#Answer-3.1\" data-toc-modified-id=\"Answer-3.1-1.4.1\"><span class=\"toc-item-num\">1.4.1&nbsp;&nbsp;</span>Answer 3.1</a></span></li><li><span><a href=\"#Answer-3.2\" data-toc-modified-id=\"Answer-3.2-1.4.2\"><span class=\"toc-item-num\">1.4.2&nbsp;&nbsp;</span>Answer 3.2</a></span></li><li><span><a href=\"#Answer-3.3\" data-toc-modified-id=\"Answer-3.3-1.4.3\"><span class=\"toc-item-num\">1.4.3&nbsp;&nbsp;</span>Answer 3.3</a></span></li><li><span><a href=\"#Answer-3.4\" data-toc-modified-id=\"Answer-3.4-1.4.4\"><span class=\"toc-item-num\">1.4.4&nbsp;&nbsp;</span>Answer 3.4</a></span></li></ul></li><li><span><a href=\"#Problem-4-(Optional,-medium-difficulty)\" data-toc-modified-id=\"Problem-4-(Optional,-medium-difficulty)-1.5\"><span class=\"toc-item-num\">1.5&nbsp;&nbsp;</span>Problem 4 (Optional, medium difficulty)</a></span></li><li><span><a href=\"#Homework-5-(Extension,-easy-exam-style-problem)\" data-toc-modified-id=\"Homework-5-(Extension,-easy-exam-style-problem)-1.6\"><span class=\"toc-item-num\">1.6&nbsp;&nbsp;</span>Homework 5 (Extension, easy exam-style problem)</a></span><ul class=\"toc-item\"><li><span><a href=\"#Answer-5.1\" data-toc-modified-id=\"Answer-5.1-1.6.1\"><span class=\"toc-item-num\">1.6.1&nbsp;&nbsp;</span>Answer 5.1</a></span></li><li><span><a href=\"#Answer-5.2\" data-toc-modified-id=\"Answer-5.2-1.6.2\"><span class=\"toc-item-num\">1.6.2&nbsp;&nbsp;</span>Answer 5.2</a></span></li><li><span><a href=\"#Answer-5.3\" data-toc-modified-id=\"Answer-5.3-1.6.3\"><span class=\"toc-item-num\">1.6.3&nbsp;&nbsp;</span>Answer 5.3</a></span></li><li><span><a href=\"#Answer-5.4\" data-toc-modified-id=\"Answer-5.4-1.6.4\"><span class=\"toc-item-num\">1.6.4&nbsp;&nbsp;</span>Answer 5.4</a></span></li></ul></li></ul></li></ul></div>"
   ]
  },
  {
   "cell_type": "markdown",
   "metadata": {
    "collapsed": true,
    "slideshow": {
     "slide_type": "slide"
    }
   },
   "source": [
    "# Growth Facts and Solow-Swan\n",
    "\n",
    "Author: [Timothy Kam](https://github.com/phantomachine) | [Twitter](https://twitter.com/machinafantasma)\n",
    "\n"
   ]
  },
  {
   "cell_type": "markdown",
   "metadata": {
    "slideshow": {
     "slide_type": "subslide"
    }
   },
   "source": [
    "Key Learning Points\n",
    "\n",
    "* Representing simple growth model (Solow-Swan) on computer\n",
    "\n",
    "* Developing useful numerical and graphical methods to analyze *comparative steady states* to address growth facts\n",
    "\n",
    "* Equilibrium in Solow and Swan as a recursive mapping (function) - instanced by a difference equation\n",
    "\n",
    "* From theory with pencil and paper to practical code-based analyses"
   ]
  },
  {
   "cell_type": "markdown",
   "metadata": {
    "slideshow": {
     "slide_type": "subslide"
    }
   },
   "source": [
    "Skills:\n",
    "* Lists and arrays (again)\n",
    "* Some more NumPy tricks\n",
    "* Methods/functions (again)\n",
    "    * Reusable `def` function\n",
    "* Programming Loops and relation to recursive economic equilibrium operator\n",
    "* Simulation and Graphical Visualization"
   ]
  },
  {
   "cell_type": "code",
   "execution_count": 1,
   "metadata": {
    "slideshow": {
     "slide_type": "skip"
    }
   },
   "outputs": [],
   "source": [
    "# Tell notebook to render MATPLOTLIB figures inline (inside Notebook)\n",
    "%matplotlib inline\n",
    "# Import numeric library\n",
    "import numpy as np\n",
    "# Import MATPLOTLIB plotting tools\n",
    "import matplotlib.pyplot as plt\n",
    "# Interactive widgets - works only on your machine (not on Azure cloud)\n",
    "from ipywidgets import interact, fixed"
   ]
  },
  {
   "cell_type": "markdown",
   "metadata": {
    "slideshow": {
     "slide_type": "slide"
    }
   },
   "source": [
    "## Problem 0\n",
    "\n",
    "Let's go back to a familiar economic theory of growth: the Solow-Swan model. A closed economy has a per-worker production technology $f(\\cdot, A): X \\rightarrow \\mathbb{R}_{+}$ that takes per-worker capital $k_t$ available at the beginning of date $t$ and produces $y_{t} = f(k,A) = Ak_{t}^{\\alpha}$ units of output per worker. The variable $A$ is exogenous technology or *total factor productivity*. \n",
    "\n",
    "The parameter $\\alpha \\in (0,1)$ is known as the (Cobb-Douglas) share of capital income in total income of the economy. \n",
    "\n",
    "\n"
   ]
  },
  {
   "cell_type": "markdown",
   "metadata": {
    "slideshow": {
     "slide_type": "subslide"
    }
   },
   "source": [
    "Capital per worker evolves according to the technology:\n",
    "$$\n",
    "k_{t+1} = (1-\\delta)k_{t} + s y_{t}. \n",
    "$$\n",
    "This says that (per-worker) capital available for use next period is a combination of undepreciated per-worker capital at the end of this period, and new savings flow. The parameters $\\delta \\in [0,1]$ and $s \\in (0,1)$ are, respectively, the rate of depreciation of capital and the savings rate."
   ]
  },
  {
   "cell_type": "markdown",
   "metadata": {
    "slideshow": {
     "slide_type": "subslide"
    }
   },
   "source": [
    "1. Define a dynamic equilibrium in this model. (Hint: equal number of equations pinning down equal number of unknowns!) Show that a dynamic equilibrium of this model has a recursive structure.\n",
    "\n",
    "2. Solve for a non-trivial steady state equilibrium of this model (i.e., when $k_{t+1} = k_{t} = k$, a constant). Calculate a constant (steady-state) value $k > 0$ such that it satisfies the dynamic equilibrium condition of the model. \n",
    "\n",
    "3. Work through the [self-study slides on Growth Facts and Questions](https://anu365-my.sharepoint.com/:b:/g/personal/u4166777_anu_edu_au/EWCsZaqaH5BGi9xvxasUgBABAdjDAt_8khpZtzDqIWxA7A?e=3W2Bzl). Focus on Convergence Facts 1 and 2. How would you *rationalize* these facts from the specific lens of this model? (Use appropriate graphs to do this.) To answer these questions, consider the following comparative equilibria:\n",
    "    * What happens to per-capita income when two countries have different $A$ parameters?\n",
    "    * What happens to per-capita income when two countries have the same $A$ parameters, but have the different initial conditions, $k_{0}$?\n"
   ]
  },
  {
   "cell_type": "markdown",
   "metadata": {
    "slideshow": {
     "slide_type": "subslide"
    }
   },
   "source": [
    "### Answer 0.1"
   ]
  },
  {
   "cell_type": "markdown",
   "metadata": {
    "slideshow": {
     "slide_type": "subslide"
    }
   },
   "source": [
    "**Definition.** A *recursive equilibrium* in this model, beginning from an initial state $k_{0}$, is an infinite sequence of allocations $\\{k_{t+1}, y_{t}, c_{t}: t = 0,1,...\\}$ satisfying:\n",
    "* $k_{t+1} = (1-\\delta)k_{t} + s y_{t}$\n",
    "* $c_{t} = (1-s)y_{t}$\n",
    "* $y_{t} = f(k_{t}, A)$"
   ]
  },
  {
   "cell_type": "markdown",
   "metadata": {
    "slideshow": {
     "slide_type": "subslide"
    }
   },
   "source": [
    "### Answer 0.2"
   ]
  },
  {
   "cell_type": "markdown",
   "metadata": {
    "slideshow": {
     "slide_type": "subslide"
    }
   },
   "source": [
    "**Definition.** A *steady state equilibrium* is a recursive equilibrium when the state of the system is at rest: $k_{t+1} = k_{t} = k$.\n",
    "\n",
    "Evaluate the equations from the recursive equilibrium above at steady state, we have\n",
    "* $k = (1-\\delta)k + s f(k, A)$\n",
    "\n",
    "In our example, where $f(k,A) = Ak^{\\alpha}$, we have the steady equilibrium as\n",
    "* $k = 0$ or $k = (sA/\\delta)^{1/(1-\\alpha)}$\n",
    "\n",
    "Note: There are thus two possible steady state equilibria. From here on, we'll focus on the non-trivial $k > 0$."
   ]
  },
  {
   "cell_type": "markdown",
   "metadata": {
    "slideshow": {
     "slide_type": "subslide"
    }
   },
   "source": [
    "### Answer 0.3"
   ]
  },
  {
   "cell_type": "markdown",
   "metadata": {
    "slideshow": {
     "slide_type": "subslide"
    }
   },
   "source": [
    "**Fact 1**: *There is convergence or “catching up” among the richer nations (OECD members)*\n"
   ]
  },
  {
   "cell_type": "markdown",
   "metadata": {
    "slideshow": {
     "slide_type": "subslide"
    }
   },
   "source": [
    "*Common long run path*: In the model, this is accounted for by the following interpretation. All the rich countries today share similar characteristics. For convenience, let's just suppose they are exactly the same, so they have the same production function $f(\\cdot, A)$ and the same parameters $(s, \\alpha, \\delta)$. If these fundamentals *in the model* are the same across these countries, we can deduce that they have the same steady state $k$ and therefore $y$. "
   ]
  },
  {
   "cell_type": "markdown",
   "metadata": {
    "slideshow": {
     "slide_type": "subslide"
    }
   },
   "source": [
    "*Convergence*: Now if we consider these countries as starting out say in 1950 (equiv. date $t=0$) with different initial $k_0$'s, then the country that is furthest away should be growing faster than the country that is nearest to the same long run $k$ (and $y$). \n",
    "\n",
    "Mechanically, this is because of the concavity of the production, and therefore, savings function in the model. \n",
    "\n",
    "Economically, this translates as diminishing returns to capital (i.e., MPK) that implies the convergence dynamics."
   ]
  },
  {
   "cell_type": "markdown",
   "metadata": {
    "slideshow": {
     "slide_type": "subslide"
    }
   },
   "source": [
    "Formally we can prove this:\n",
    "\n",
    "* From the recursive equilibrium conditions, we can derive the growth factor (gross growth) of $k_{t}$:\n",
    "    $$\n",
    "    \\gamma_{k}(k_{t}) := \\frac{k_{t+1}}{k_{t}} = (1-\\delta) + sA(k_{t})^{\\alpha - 1}\n",
    "    $$\n",
    "  Since $\\alpha \\in (0,1)$, then $\\gamma_{k}(k_{t})$ is a decreasing function of $k_{t}$. Also, since $y_{t}$ is an increasing function of $k_{t}$ (see production function assumption), then per capita income also shares the same dynamic property as $k_{t}$. Thus as a country is further (closer) to its steady state equilibrium point, its living-standards growth is faster (slower). \n",
    "  \n",
    "  So two countries, with the same features, will eventually catch up to each other in the long run.\n",
    "  \n",
    "  "
   ]
  },
  {
   "cell_type": "markdown",
   "metadata": {
    "slideshow": {
     "slide_type": "subslide"
    }
   },
   "source": [
    "**Fact 2**: *There is non-convergence or “no catching up” when we include African and other poorer nations*\n",
    "\n"
   ]
  },
  {
   "cell_type": "markdown",
   "metadata": {
    "slideshow": {
     "slide_type": "subslide"
    }
   },
   "source": [
    "In the model, this is accounted as follows: If two countries have different $A$'s then, their long run $k$'s will be different, and thus, their long run per capita incomes, their $y$'s, are different. Mathematically, we have that\n",
    "$$\n",
    "\\frac{\\text{d} k}{\\text{d} A} = \\frac{1}{(1-\\alpha)}(s/\\delta)(sA/\\delta)^{\\alpha/(1-\\alpha)} > 0\n",
    "$$\n",
    "which says that a country with higher total factor productivity ($A$) will have a higher living standard, $y$, since\n",
    "$$\n",
    "\\frac{\\text{d} y}{\\text{d} A} = \\frac{\\partial f(k,A)}{\\partial k}\\frac{\\text{d} k}{\\text{d} A} + \\frac{\\partial f(k,A)}{\\partial A}\n",
    "= \\alpha Ak^{\\alpha-1}\\frac{\\text{d} k}{\\text{d} A} +  \\frac{f(k,A)}{A}> 0\n",
    "$$"
   ]
  },
  {
   "cell_type": "markdown",
   "metadata": {
    "slideshow": {
     "slide_type": "slide"
    }
   },
   "source": [
    "## Problem 1"
   ]
  },
  {
   "cell_type": "markdown",
   "metadata": {
    "slideshow": {
     "slide_type": "subslide"
    }
   },
   "source": [
    "Repeat the exercises 2-3 from **Problem 0** above, but now using Python coding. \n",
    "\n",
    "*Remark*. Coding this up reinforces your understanding and hones your quantitative skills for more difficult modelling work in future\n",
    "\n",
    "Below I've set you up with some basic elements of the model."
   ]
  },
  {
   "cell_type": "markdown",
   "metadata": {
    "slideshow": {
     "slide_type": "subslide"
    }
   },
   "source": [
    "### Model primitives (functions/assumptions)\n",
    "\n",
    "Below we define the model components (you'll have to modify this later for the other problems!)"
   ]
  },
  {
   "cell_type": "code",
   "execution_count": 2,
   "metadata": {
    "slideshow": {
     "slide_type": "subslide"
    }
   },
   "outputs": [],
   "source": [
    "def f(k, A, ALPHA):\n",
    "    \"\"\"Per-worker Production function, output, income\"\"\"\n",
    "    return A*k**ALPHA\n",
    "\n",
    "def savings(k, A, s, ALPHA):\n",
    "    \"\"\"Per-worker Savings/Investment flow\"\"\"\n",
    "    return s*f(k, A, ALPHA)"
   ]
  },
  {
   "cell_type": "code",
   "execution_count": 3,
   "metadata": {
    "slideshow": {
     "slide_type": "subslide"
    }
   },
   "outputs": [],
   "source": [
    "def depreciation(k, DELTA):\n",
    "    \"\"\"Total k Depreciation\"\"\"\n",
    "    return DELTA*k\n",
    "\n",
    "def g(k, A, s, ALPHA, DELTA):\n",
    "    \"\"\"Solow-swan equilibrium recursive map\"\"\"\n",
    "    undepreciated_k = k - depreciation(k, DELTA)\n",
    "    newinvestment_k = savings(k, A, s, ALPHA)\n",
    "    return undepreciated_k + newinvestment_k"
   ]
  },
  {
   "cell_type": "markdown",
   "metadata": {
    "slideshow": {
     "slide_type": "subslide"
    }
   },
   "source": [
    "### Model simulation tools"
   ]
  },
  {
   "cell_type": "code",
   "execution_count": 4,
   "metadata": {
    "slideshow": {
     "slide_type": "subslide"
    }
   },
   "outputs": [],
   "source": [
    "def show_dynamics(dictionary, yss=None, n_columns=2):\n",
    "    \"\"\"Plot a collection of data arrays with labels already \n",
    "    defined in the dictionary keys\n",
    "    \n",
    "    Parameters\n",
    "    ----------\n",
    "    dictionary: dict\n",
    "        Contains \"key\" and \"item\" for each data array\n",
    "        \n",
    "    yss: array-like (default: None)\n",
    "        List of steady-state value from each corresponding \"item\"\n",
    "        \n",
    "    n_columns: int (default: 2)\n",
    "        Number of columns to plot figure panels\n",
    "    \"\"\"\n",
    "    # Auto set number of rows in subplots\n",
    "    n_rows = (len(dictionary) // n_columns) + (len(dictionary) % n_columns)\n",
    "    # Instantiate figure and axes objects\n",
    "    fig, axes = plt.subplots(n_rows,n_columns, \n",
    "                             figsize=(15, 6), \n",
    "                             facecolor='w', edgecolor='k')\n",
    "    # Adjust spacing between subplots\n",
    "    fig.subplots_adjust(hspace = 0.5, wspace=.25)\n",
    "    # Flatten out axes object for looping over below\n",
    "    axes = axes.ravel()  \n",
    "    # Loop over each data array \"y\" indexed by \"key\" and plot\n",
    "    if yss!= None:\n",
    "        # Convert dict values into Python list yss\n",
    "        yss = list(yss.values())\n",
    "        \n",
    "    for panel, (key, y) in enumerate(dictionary.items()): \n",
    "        # x-axis variable\n",
    "        # --------------------\n",
    "        x = np.arange(len(y))\n",
    "        \n",
    "        # y-axis variable(s)\n",
    "        # --------------------\n",
    "        # Steady state path\n",
    "        if yss != None:\n",
    "            ys = np.tile(yss[panel], len(y))\n",
    "            axes[panel].plot(x, ys, color=\"red\", lw=0.5, alpha=0.5)\n",
    "        # Dynamic path \n",
    "        axes[panel].plot(x, y, lw=2, marker='o')\n",
    "        axes[panel].set_title(key)\n",
    "        axes[panel].set_xlabel(\"Date, $t$\")\n",
    "    plt.show()"
   ]
  },
  {
   "cell_type": "markdown",
   "metadata": {
    "slideshow": {
     "slide_type": "subslide"
    }
   },
   "source": [
    "### Answer 1.1"
   ]
  },
  {
   "cell_type": "markdown",
   "metadata": {
    "slideshow": {
     "slide_type": "subslide"
    }
   },
   "source": [
    "We have previously shown in Answer 0.1 that the notion of dynamic equilibrium is recursive. That is, the same mapping is applied recursively on each current state $k_{t}$ to induce the recursive equilibrium *outcomes*. The method below implements just that:"
   ]
  },
  {
   "cell_type": "code",
   "execution_count": 5,
   "metadata": {
    "slideshow": {
     "slide_type": "subslide"
    }
   },
   "outputs": [],
   "source": [
    "# Now carry on with your solutions ...\n",
    "def recursive_equilibrium(k0, A, s, ALPHA, DELTA, T=200):\n",
    "    \"\"\"Define all allocation functions in a \n",
    "    Recursive Equilibrium\n",
    "    \"\"\"\n",
    "    # Empty lists for storage\n",
    "    income = []\n",
    "    saving = []\n",
    "    consumption = []\n",
    "    capital = []\n",
    "    # Initial state - kickoff path\n",
    "    k = k0\n",
    "    # Recursive equilibrium outcome generation\n",
    "    for t in range(T):\n",
    "        capital.append(k)\n",
    "        income.append( f(k, A, ALPHA) )\n",
    "        saving.append( savings(k, A, s, ALPHA) )\n",
    "        consumption.append( income[t] - saving[t] )\n",
    "        knext =  g(k, A, s, ALPHA, DELTA)\n",
    "        # t <- t+1: update, repeat from top of loop\n",
    "        k = knext\n",
    "    # Store results in a Python dictionary\n",
    "    trajectory = {\n",
    "        \"y\":income,\n",
    "        \"s\":saving,\n",
    "        \"c\":consumption,\n",
    "        \"k\":capital\n",
    "    }\n",
    "    return trajectory"
   ]
  },
  {
   "cell_type": "markdown",
   "metadata": {
    "slideshow": {
     "slide_type": "subslide"
    }
   },
   "source": [
    "Let's take it for a spin (includes **Answer 1.2**):"
   ]
  },
  {
   "cell_type": "markdown",
   "metadata": {
    "slideshow": {
     "slide_type": "subslide"
    }
   },
   "source": [
    "### Model parameter settings"
   ]
  },
  {
   "cell_type": "code",
   "execution_count": 6,
   "metadata": {
    "slideshow": {
     "slide_type": "subslide"
    }
   },
   "outputs": [],
   "source": [
    "# Parameters\n",
    "ALPHA = 0.33\n",
    "DELTA = 0.1\n",
    "s = 0.2\n",
    "A = 1.0\n",
    "\n",
    "# Initial per-capita (equiv. per-worker) capital stock\n",
    "k0 = 0.5"
   ]
  },
  {
   "cell_type": "code",
   "execution_count": 7,
   "metadata": {
    "slideshow": {
     "slide_type": "subslide"
    }
   },
   "outputs": [
    {
     "name": "stdout",
     "output_type": "stream",
     "text": [
      "2.813834181477653\n",
      "... as a Python dictionary\n",
      "{'y': [1.4069170907388264], 's': [0.2813834181477653], 'c': [1.1255336725910612], 'k': [2.813834181477653]}\n"
     ]
    },
    {
     "data": {
      "text/plain": [
       "[2.813834181477653]"
      ]
     },
     "execution_count": 7,
     "metadata": {},
     "output_type": "execute_result"
    }
   ],
   "source": [
    "# Execute a recursive equilibrium solution\n",
    "repath = recursive_equilibrium(k0, A, s, ALPHA, DELTA, T=50)\n",
    "\n",
    "# Answer 1.2: Calculate steady state k\n",
    "kss = (s*A/DELTA)**(1.0/(1.0-ALPHA))\n",
    "print(kss)\n",
    "\n",
    "# Answer 1.2: Calculate vector of (y, s, c, k) at k = kss\n",
    "sspath = recursive_equilibrium(kss, A, s, ALPHA, DELTA, T=1)\n",
    "print(\"... as a Python dictionary\")\n",
    "print(sspath)\n",
    "\n",
    "# Check that indeed kss is steady state: k = g(k)\n",
    "sspath[\"k\"]"
   ]
  },
  {
   "cell_type": "markdown",
   "metadata": {
    "slideshow": {
     "slide_type": "subslide"
    }
   },
   "source": [
    "*Note*: The last set of instructions to get `sspath` merely applies the recursive equilibrium mapping *once* on the steady state point $k$, which is called `kss` in the code. We should get back `kss` as the output, plus the steady state values of the other variables."
   ]
  },
  {
   "cell_type": "markdown",
   "metadata": {
    "slideshow": {
     "slide_type": "subslide"
    }
   },
   "source": [
    "Visualize the recursive equilibrium path, beginning from $k_{0}$ that was defined earlier:"
   ]
  },
  {
   "cell_type": "code",
   "execution_count": 8,
   "metadata": {
    "slideshow": {
     "slide_type": "subslide"
    }
   },
   "outputs": [
    {
     "data": {
      "image/png": "[encoded data removed]",
      "text/plain": [
       "<Figure size 1080x432 with 4 Axes>"
      ]
     },
     "metadata": {},
     "output_type": "display_data"
    }
   ],
   "source": [
    "show_dynamics(repath, yss=sspath, n_columns=2)"
   ]
  },
  {
   "cell_type": "markdown",
   "metadata": {
    "slideshow": {
     "slide_type": "subslide"
    }
   },
   "source": [
    "### Answer 1.2"
   ]
  },
  {
   "cell_type": "markdown",
   "metadata": {
    "slideshow": {
     "slide_type": "subslide"
    }
   },
   "source": [
    "We've done this as part of Answer 1.1"
   ]
  },
  {
   "cell_type": "markdown",
   "metadata": {
    "slideshow": {
     "slide_type": "subslide"
    }
   },
   "source": [
    "### Answer 1.3"
   ]
  },
  {
   "cell_type": "markdown",
   "metadata": {
    "slideshow": {
     "slide_type": "subslide"
    }
   },
   "source": [
    "For me, it's convenient to re-wrap the above codes into a single wrapper function:"
   ]
  },
  {
   "cell_type": "code",
   "execution_count": 9,
   "metadata": {
    "slideshow": {
     "slide_type": "subslide"
    }
   },
   "outputs": [],
   "source": [
    "def solowswansim(k0=0.1, A=1.0, s=0.2, ALPHA=0.33, DELTA=0.1, T=50):\n",
    "    # Execute a recursive equilibrium solution\n",
    "    repath = recursive_equilibrium(k0, A, s, ALPHA, DELTA, T=T)\n",
    "    # Answer 1.2: Calculate steady state k\n",
    "    kss = (s*A/DELTA)**(1.0/(1.0-ALPHA))\n",
    "    # Answer 1.2: Calculate vector of (y, s, c, k) at k = kss\n",
    "    sspath = recursive_equilibrium(kss, A, s, ALPHA, DELTA, T=1)\n",
    "    # sspath = list(sspath.values())\n",
    "    # Plot results\n",
    "    show_dynamics(repath, yss=sspath, n_columns=2)"
   ]
  },
  {
   "cell_type": "markdown",
   "metadata": {
    "slideshow": {
     "slide_type": "subslide"
    }
   },
   "source": [
    "Then I'd set up an interactive figure:"
   ]
  },
  {
   "cell_type": "code",
   "execution_count": 10,
   "metadata": {
    "slideshow": {
     "slide_type": "subslide"
    }
   },
   "outputs": [
    {
     "data": {
      "application/vnd.jupyter.widget-view+json": {
       "model_id": "907a1496468040f39a53787dde2e55a2",
       "version_major": 2,
       "version_minor": 0
      },
      "text/plain": [
       "interactive(children=(FloatSlider(value=0.1, description='k0', max=1.0, min=0.01), FloatSlider(value=1.0, desc…"
      ]
     },
     "metadata": {},
     "output_type": "display_data"
    }
   ],
   "source": [
    "interact(solowswansim, \n",
    "         k0 = (0.01, 1.0),\n",
    "         A = (1.0, 8.0),\n",
    "         s = [0.1, 0.2, 0.5, 0.8],\n",
    "         ALPHA = fixed(0.33),\n",
    "         DELTA = [0.01, 0.1, 0.5],\n",
    "         T = fixed(50), \n",
    "        )\n",
    "plt.show()"
   ]
  },
  {
   "cell_type": "code",
   "execution_count": 11,
   "metadata": {
    "slideshow": {
     "slide_type": "subslide"
    }
   },
   "outputs": [],
   "source": [
    "def growthfunc(k, A=1.0, s=0.2, ALPHA=0.33, DELTA=0.1):\n",
    "    \"\"\"Equilibrium (Gross) growth function in Solow-Swan\"\"\"\n",
    "    gamma_k = g(k, A, s, ALPHA, DELTA) / k\n",
    "    return gamma_k"
   ]
  },
  {
   "cell_type": "code",
   "execution_count": 12,
   "metadata": {
    "slideshow": {
     "slide_type": "subslide"
    }
   },
   "outputs": [],
   "source": [
    "def growthsim(k, A=1.0, s=0.2, ALPHA=0.33, DELTA=0.1):\n",
    "    # grid space for values of k\n",
    "    X = np.linspace(0.05, 9.0, 100)\n",
    "    # growth at k = kss\n",
    "    kss = (s*A/DELTA)**(1.0/(1.0-ALPHA))\n",
    "    # graph of growth function\n",
    "    gk = growthfunc(X, A, s, ALPHA, DELTA)\n",
    "    gkss = growthfunc(kss, A, s, ALPHA, DELTA)\n",
    "    # growth at current k\n",
    "    gknow = growthfunc(k, A, s, ALPHA, DELTA)\n",
    "    plt.figure()\n",
    "    zero = np.ones(len(X))\n",
    "    plt.plot(X, gk, '-k', \n",
    "             kss, gkss, 'ok', \n",
    "             X, zero, '--r', alpha=0.7)\n",
    "    plt.plot(k, gknow, 'dm')\n",
    "    plt.ylabel(\"$\\gamma_k(k_{t})$\")\n",
    "    plt.xlabel(\"$k_{t}$\")\n",
    "    plt.show()"
   ]
  },
  {
   "cell_type": "code",
   "execution_count": 13,
   "metadata": {
    "slideshow": {
     "slide_type": "subslide"
    }
   },
   "outputs": [
    {
     "data": {
      "application/vnd.jupyter.widget-view+json": {
       "model_id": "59c94d8f90c64119b98ede9774c80e0c",
       "version_major": 2,
       "version_minor": 0
      },
      "text/plain": [
       "interactive(children=(FloatSlider(value=4.5249999999999995, description='k', max=9.0, min=0.05), Dropdown(desc…"
      ]
     },
     "metadata": {},
     "output_type": "display_data"
    }
   ],
   "source": [
    "# growthsim(know=0.2, A=1.0, s=0.2, ALPHA=0.33, DELTA=0.1)\n",
    "interact(growthsim, \n",
    "         k = (0.05, 9.0),\n",
    "         A = [1.0,2.0],\n",
    "         s = [0.1, 0.2],\n",
    "         ALPHA = fixed(0.33),\n",
    "         DELTA = [0.1, 0.2],\n",
    "        )\n",
    "plt.show()"
   ]
  },
  {
   "cell_type": "markdown",
   "metadata": {
    "slideshow": {
     "slide_type": "slide"
    }
   },
   "source": [
    "## Problem 2\n",
    "\n",
    "Consider the variation where $A$ is no longer a fixed parameter. Suppose $A_{t}$ grows at a costant factor $\\gamma_A > 1$. Then we can write:\n",
    "$$\n",
    "A_{t+1} = \\gamma_{A}A_{t} = (\\gamma_{A})^{t+1}A_{0}\n",
    "$$\n",
    "where $A_{0}$ is a given parameter: the initial *total factor productivity* of the country. Assume that now, $f(k_{t}, A_{t}) = A_{t}^{1-\\alpha} k_{t}^{\\alpha}$.\n",
    "\n",
    "1. Define a dynamic equilibrium in this model. Show that a dynamic equilibrium of this model has a recursive structure. \n",
    "    \n",
    "    *Hint*: Because $A$ is now growing perpetually, per-capita variables will no longer be constant in the long run. You should re-define the model variables in *per effective units of workers*: $\\tilde{k}_{t}:= k_{t}/A_{t}$ so that the solution to the next part is well-defined. Along the steady state equilibrium (i.e., *balanced growth* path), $k_{t}$ will still be changing but it will be growing deterministically at rate $\\gamma_{A}-1$. \n",
    "\n",
    "2. Solve for a non-trivial steady state equilibrium of this model (i.e., when $\\tilde{k}_{t+1} = \\tilde{k}_{t} = \\tilde{k}$, a constant). Calculate a constant (steady-state) value $\\tilde{k} > 0$ such that it satisfies the dynamic equilibrium condition of the model.  \n",
    "\n",
    "3. Work through the [self-study slides on Growth Facts and Questions](growth_intro.pdf). Focus on Convergence Facts 1 and 2. How would you *rationalize* these facts from the specific lens of this model? (Use appropriate graphs to do this.) To answer these questions, consider the following comparative steady state equilibria:\n",
    "    * What happens to per-capita income when two countries have different initial $A_0$ parameters?\n",
    "    * What happens to per-capita income when two countries have the same initial $A_0$ but different $\\gamma_A$ parameters?\n",
    "    * What happens to per-capita income when two countries have different initial conditions, $k_{0}$, all else equal?"
   ]
  },
  {
   "cell_type": "markdown",
   "metadata": {
    "slideshow": {
     "slide_type": "subslide"
    }
   },
   "source": [
    "### Answer 2.1"
   ]
  },
  {
   "cell_type": "markdown",
   "metadata": {
    "slideshow": {
     "slide_type": "subslide"
    }
   },
   "source": [
    "The difference now is that TFP $A$ is time dependent, and it has a time trend. This means that a steady state in terms of per-worker variables will not exist because $k_{t} = K_{t}/N_{t}$ will be growing at rate $\\gamma_{A}-1$ in the long run. That is, there is a long run time (exponential) trend. So we further transform the variables into stationary ones (i.e., we \"de-trend\" them): $\\tilde{k}_{t} = k_{t}/A_{t}$.\n",
    "\n",
    "You should be able to summarize the dynamic equilibrium as\n",
    "\n",
    "$\n",
    "\\tilde{k}_{t+1} = \\frac{(1-\\delta)\\tilde{k}_{t}+s\\tilde{k}_{t}^{\\alpha}}{\\gamma_{A}(1+n)}.\n",
    "$\n",
    "\n",
    "Then the trajectory of $\\tilde{k}_{t}$ will be similar, qualitatively, to what we've seen before. It will also have a well-defined, non-trivial steady state. "
   ]
  },
  {
   "cell_type": "markdown",
   "metadata": {
    "slideshow": {
     "slide_type": "subslide"
    }
   },
   "source": [
    "### Answer 2.2"
   ]
  },
  {
   "cell_type": "code",
   "execution_count": 14,
   "metadata": {
    "slideshow": {
     "slide_type": "subslide"
    }
   },
   "outputs": [],
   "source": [
    "# Now carry on with your solutions ..."
   ]
  },
  {
   "cell_type": "markdown",
   "metadata": {
    "slideshow": {
     "slide_type": "subslide"
    }
   },
   "source": [
    "### Answer 3.3"
   ]
  },
  {
   "cell_type": "markdown",
   "metadata": {
    "slideshow": {
     "slide_type": "subslide"
    }
   },
   "source": [
    "*Hint*: \n",
    "\n",
    "Be careful now. The solution in terms of per-worker variables now will have a time trend! \n",
    "\n",
    "First let's consider a steady-state equilibrium path (or sometimes called a *balanced-growth* path). In terms of per-efficient-units-of-worker capital $\\tilde{k}$ this is a constant number over time:\n",
    "\\[\n",
    "\\tilde{k}_{ss} = \\left[\\frac{s}{\\gamma_{A}(1+n)-(1-\\delta)}\\right]^{\\frac{1}{1-\\alpha}}\n",
    "\\]\n",
    "\n",
    "By definition, per-worker capital is\n",
    "\\[\n",
    "k_{t} = \\tilde{k}_{t}A_{t} = \\tilde{k}_{t} \\times A_{0}\\gamma_{A}^{t}.\n",
    "\\]\n",
    "\n",
    "(Show that if you take logs on both sides, then the log of $k$ will exhibit a linear time trend.)\n",
    "\n",
    "So, even at steady state $\\tilde{k}_{t} = \\tilde{k}_{ss}$, $k_{t}$ will be growing at the constant rate of $\\gamma_{A}-1$:\n",
    "\n",
    "\\[\n",
    "k_{t} = \\tilde{k}_{t}A_{t} = \\tilde{k}_{ss}A_{0}\\gamma_{A}^{t}.\n",
    "\\]\n",
    "\n",
    "We also know that per-capita income is $y_{t} = (A_{t})^{1-\\alpha} k_{t}^{\\alpha}$, through our definition of the per-worker production function. So you can also derive the transition path and the long-run or balanced-growth path of per capita income. You have enough math now to help you answer the questions in this part. You should also try coding this up (modify what we have above) to make doubly sure you have understood things!\n",
    "\n",
    "Carry on ...\n"
   ]
  },
  {
   "cell_type": "markdown",
   "metadata": {
    "slideshow": {
     "slide_type": "slide"
    }
   },
   "source": [
    "## Problem 3\n",
    "\n",
    "So far we have described the Solow model and its dynamic allocation in terms of a *dictatorial solution*. If you think about it, it was as if the economy was entirely planned by a single decision-maker who takes consumption action (or investment), conducts capital accumulation and executes the final good production all as one entity.\n",
    "\n",
    "In the real world there is no such (benevolent dictator or planner). Instead, some market mechanism plays the role of coordinate allocation of resources, and this is usually done through some pricing mechanism. (Even planned communist economies in reality are far from the Marxian ideal of some benevolent dictatorship.) \n",
    "\n",
    "Imagine now a world with perfectly competitive markets for hiring labor, for transforming savings into new capital and renting these to a infinite set of firms who exist on the interval $[0,1]$, and for selling final goods. Without loss of generality (an insight from *competitive* or *general/Walrasian* equilibrium theory in microeconomics), let's normalize the price of the final good for consumption to one. Then denote $w_{t}$ and $r_{t}$ as the respective *relative prices* faced by firms hiring labor and capital services.\n",
    "\n",
    "Reconsider the Solow-Swan model in Problem 1 (written in level variables).\n",
    "\n",
    "1. Write down or derive the demand and supply equations for the following markets:\n",
    "\n",
    "    * Final good ($Y_{t}$)\n",
    "    \n",
    "    * Labor ($N_{t}$)\n",
    "    \n",
    "    * Capital ($K_{t}$)\n",
    "    \n",
    "   *Some hints*: Show that the demand for capital is $r_{t} = \\partial F(K_{t},N_{t})/\\partial K_{t}$, and, the demand for labor is $w_{t} = \\partial F(K_{t},N_{t})/\\partial N_{t}$. So what are the corresponding supply functions?\n",
    "    \n",
    "2. Assume the constant returns to scale production function $F$ as before, e.g., the Cobb-Douglas example. Prove that firms (or equivalently, the representative competitive firm) earn(s) zero economic profit, or that $F(K_{t},N_{t}) = w_{t}N_{t} + r_{t}K_{t}$. \n",
    "    \n",
    "3. Write down market clearing conditions for the relevant markets. Show that in a competitive equilibrium, if any of the two markets clear, the third must also clear.\n",
    "\n",
    "4. Define *precisely* a *general* or *competitive equilibrium* in this model. Show that the dynamics of this economy is identical to that of the planned economy earlier."
   ]
  },
  {
   "cell_type": "markdown",
   "metadata": {
    "slideshow": {
     "slide_type": "subslide"
    }
   },
   "source": [
    "### Answer 3.1\n",
    "\n",
    "1. Final good:\n",
    "\n",
    "    * Supply: $Y_{t} = F(K_{t}, N_{t})$\n",
    "    \n",
    "    * Demand: $C_{t} + I_{t}$\n",
    "\n",
    "2. Labor:\n",
    "\n",
    "    * Supply: Everyone can be thought of as having a normalized unit of time endowment as 1. Since people are not modelled as valuing leisure time, they'll supply all of their time endowment to work. (Logical in the model, but of course, not an accurate description of people or labor markets!) There is $N_{t}$ measure of people. So total labor supply is just $N_{t}^{s} = N_{t}$.\n",
    "    \n",
    "    * Demand: From firms' profit maximization problem (write this down!), you can derive the first-order condition that says that firms will optimally hire worker services (time) $N_{t}^{d}$ up to the point where its marginal product (returns to labor for the firm) equals the market determined real wage (the marginal cost of hiring). So demand is (implicitly) described by the equation $w_{t} = \\partial F(K_{t}^{d},N_{t})/\\partial K_{t}$.\n",
    "    \n",
    " In equilibrium, we write for labor market clearing: $N_{t}^{d} = N_{t}^{s} = N_{t}$.\n",
    "\n",
    "3. Capital:\n",
    "\n",
    "    * Supply: $K_{t}^{s} = (1-\\delta)K_{t-1} + sF(K_{t-1}, N_{t-1})$ for each $t \\geq 1$\n",
    "    \n",
    "    * Demand: $r_{t} = \\partial F(K_{t}^{d},N_{t})/\\partial K_{t}^{d}$\n",
    "    \n",
    " In equilibrium, we write for capital market clearing: $K_{t}^{d} = K_{t}^{s} = K_{t}$.\n",
    "\n"
   ]
  },
  {
   "cell_type": "markdown",
   "metadata": {
    "slideshow": {
     "slide_type": "subslide"
    }
   },
   "source": [
    "### Answer 3.2\n",
    "\n",
    "* Use the firm's FOC for profit maximization (i.e., the labor demand and capital demand expressions)\n",
    "\n",
    "* Total revenue is $1 \\times F(K_{t},N_{t})$ where the price of the final good is 1 (normalized). (Why can we do that? Go back to your lessons on competitive equilibrium theory in micro!)\n",
    "\n",
    "* Evaluate total cost (wage bill and capital services cost), $w_{t}N_{t} + r_{t}K_{t}$, as firm's optimum (in equilibrium). \n",
    "\n",
    "* Show that the difference between the last two terms is indeed zero!\n",
    "\n",
    "### Answer 3.3\n",
    "\n",
    "This is easy to check. Use the market clearing and equilibrium conditions. "
   ]
  },
  {
   "cell_type": "markdown",
   "metadata": {
    "slideshow": {
     "slide_type": "subslide"
    }
   },
   "source": [
    "### Answer 3.4\n",
    "\n",
    "1. Final good:\n",
    "\n",
    "    * Supply: $Y_{t} = F(K_{t}, N_{t})$\n",
    "    \n",
    "    * Demand: $C_{t} + I_{t}$\n",
    "\n",
    "2. Labor:\n",
    "\n",
    "    * Supply: Everyone can be thought of as having a normalized unit of time endowment as 1. Since people are not modelled as valuing leisure time, they'll supply all of their time endowment to work. (Logical in the model, but of course, not an accurate description of people or labor markets!) There is $N_{t}$ measure of people. So total labor supply is just $N_{t}^{s} = N_{t}$.\n",
    "    \n",
    "    * Demand: From firms' profit maximization problem (write this down!), you can derive the first-order condition that says that firms will optimally hire worker services (time) $N_{t}^{d}$ up to the point where its marginal product (returns to labor for the firm) equals the market determined real wage (the marginal cost of hiring). So demand is (implicitly) described by the equation $w_{t} = \\partial F(K_{t}^{d},N_{t})/\\partial K_{t}$.\n",
    "    \n",
    " In equilibrium, we write for labor market clearing: $N_{t}^{d} = N_{t}^{s} = N_{t}$.\n",
    "\n",
    "3. Capital:\n",
    "\n",
    "    * Supply: $K_{t}^{s} = (1-\\delta)K_{t-1} + sF(K_{t-1}, N_{t-1})$ for each $t \\geq 1$\n",
    "    \n",
    "    * Demand: $r_{t} = \\partial F(K_{t}^{d},N_{t})/\\partial K_{t}^{d}$\n",
    "    \n",
    " In equilibrium, we write for capital market clearing: $K_{t}^{d} = K_{t}^{s} = K_{t}$.\n"
   ]
  },
  {
   "cell_type": "markdown",
   "metadata": {
    "slideshow": {
     "slide_type": "slide"
    }
   },
   "source": [
    "## Problem 4 (Optional, medium difficulty)\n",
    "\n",
    "Prove that there exists a unique competitive equilibrium to the market economy in the last question.\n",
    "\n"
   ]
  },
  {
   "cell_type": "code",
   "execution_count": 15,
   "metadata": {
    "slideshow": {
     "slide_type": "subslide"
    }
   },
   "outputs": [],
   "source": [
    "# Do this yourself, and show your work to tutors if you wish to discuss your answers\n"
   ]
  },
  {
   "cell_type": "markdown",
   "metadata": {
    "slideshow": {
     "slide_type": "slide"
    }
   },
   "source": [
    "## Homework 5 (Extension, easy exam-style problem)\n",
    "\n",
    "Consider the same setup of the Solow-Swan model. The exception is that now, there is a government that taxes aggregate income $Y_{t}$ each period at a linear rate $\\tau \\in [0,1)$. That is, for every unit of the final good produced, the government extracts $\\tau$ units from the private sector. The government's budget constraint is $G_{t} = \\tau Y_{t}$, where $G_{t}$ is government expenditure flow.\n",
    "\n",
    "Assume that $G_{t}$ is a productive input to private production: \n",
    "$\n",
    "Y_{t} = F(K_{t}, N_{t}, G_{t}; A) := AK_{t}^{\\alpha}N_{t}^{1-\\alpha-\\theta}G_{t}^{\\theta},\n",
    "$\n",
    "where $\\alpha \\in (0,1)$, $\\theta \\in (0,1)$, and $\\alpha + \\theta < 1$. We can interpret $G_{t}$ as the flow of public services and/or immediate investment into public infrastructure like internet networks, bridges, airports and highways."
   ]
  },
  {
   "cell_type": "markdown",
   "metadata": {
    "slideshow": {
     "slide_type": "subslide"
    }
   },
   "source": [
    "1. Define *precisely* what competitive equilbrium is, given government policy.\n",
    "\n",
    "2. Suppose the government policy is optimally chosen. What do we mean by *optimal* here? Suppose the government's problem is to maximize income or capital growth. Show that the optimal tax rate in this sense is $\\tau = \\theta$. Interpret what this means.\n",
    "\n",
    "3. Derive and compute the steady-state equilibrium of this economy under the optimal fiscal policy.\n",
    "\n",
    "4. Derive and compute the dynamic equilibrium of this economy under the optimal fiscal policy."
   ]
  },
  {
   "cell_type": "code",
   "execution_count": 16,
   "metadata": {
    "slideshow": {
     "slide_type": "subslide"
    }
   },
   "outputs": [],
   "source": [
    "# Do this yourself, and show your work to tutors if you wish to discuss your answers\n"
   ]
  },
  {
   "cell_type": "markdown",
   "metadata": {
    "slideshow": {
     "slide_type": "subslide"
    }
   },
   "source": [
    "### Answer 5.1\n",
    "\n",
    "Hint: Show that in equilibrium we have \n",
    "\\[\n",
    "(1+n)k_{t+1} = (1-\\delta)k_{t} + s(1-\\tau)A^{\\frac{1}{1-\\theta}}k_{t}^{\\frac{\\alpha}{1-\\theta}}\\tau^{\\frac{\\theta}{1-\\theta}}\n",
    "\\]"
   ]
  },
  {
   "cell_type": "markdown",
   "metadata": {
    "slideshow": {
     "slide_type": "subslide"
    }
   },
   "source": [
    "### Answer 5.2\n",
    "\n",
    "Hint: Use the last expression and derive the growth rate of $k_{t}$. Maximize this growth rate with respect to the policy choice $\\tau$."
   ]
  },
  {
   "cell_type": "markdown",
   "metadata": {
    "slideshow": {
     "slide_type": "subslide"
    }
   },
   "source": [
    "### Answer 5.3\n",
    "\n",
    "Hint: You should get \n",
    "\\[\n",
    "k_{ss} = \\left[\\frac{ sA^{\\frac{\\theta}{1-\\theta}}(1-\\tau )\\tau^{ \\frac{\\theta}{1-\\theta} }}{\\delta + n}\\right]^{\\frac{1-\\theta}{1-\\alpha-\\theta}}\n",
    "\\]\n",
    "\n",
    "Note: If government spending is not productive ($\\theta=0$) and there is no taxation $\\tau = 0$, we get back the original steady state equilibrium in Problem 1."
   ]
  },
  {
   "cell_type": "markdown",
   "metadata": {
    "slideshow": {
     "slide_type": "subslide"
    }
   },
   "source": [
    "### Answer 5.4\n",
    "\n",
    "Hint: Use the definition you wrote down in Answer 5.1. Adapt our code from before."
   ]
  }
 ],
 "metadata": {
  "author": "k",
  "celltoolbar": "Slideshow",
  "kernelspec": {
   "display_name": "Python 3",
   "language": "python",
   "name": "python3"
  },
  "language_info": {
   "codemirror_mode": {
    "name": "ipython",
    "version": 3
   },
   "file_extension": ".py",
   "mimetype": "text/x-python",
   "name": "python",
   "nbconvert_exporter": "python",
   "pygments_lexer": "ipython3",
   "version": "3.7.4"
  },
  "latex_envs": {
   "LaTeX_envs_menu_present": true,
   "autoclose": false,
   "autocomplete": true,
   "bibliofile": "biblio.bib",
   "cite_by": "apalike",
   "current_citInitial": 1,
   "eqLabelWithNumbers": true,
   "eqNumInitial": 1,
   "hotkeys": {
    "equation": "Ctrl-E",
    "itemize": "Ctrl-I"
   },
   "labels_anchors": false,
   "latex_user_defs": false,
   "report_style_numbering": true,
   "user_envs_cfg": false
  },
  "toc": {
   "base_numbering": 1,
   "nav_menu": {},
   "number_sections": true,
   "sideBar": false,
   "skip_h1_title": false,
   "title_cell": "Table of Contents",
   "title_sidebar": "Contents",
   "toc_cell": true,
   "toc_position": {
    "height": "403px",
    "left": "10px",
    "top": "150px",
    "width": "165px"
   },
   "toc_section_display": true,
   "toc_window_display": true
  }
 },
 "nbformat": 4,
 "nbformat_minor": 2
}
