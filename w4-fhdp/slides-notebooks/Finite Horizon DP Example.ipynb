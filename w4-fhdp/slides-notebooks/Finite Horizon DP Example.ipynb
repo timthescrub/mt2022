{
 "cells": [
  {
   "cell_type": "markdown",
   "metadata": {
    "toc": true
   },
   "source": [
    "<h1>Table of Contents<span class=\"tocSkip\"></span></h1>\n",
    "<div class=\"toc\"><ul class=\"toc-item\"><li><span><a href=\"#Finite-horizon-Dynamic-Programming\" data-toc-modified-id=\"Finite-horizon-Dynamic-Programming-1\"><span class=\"toc-item-num\">1&nbsp;&nbsp;</span>Finite-horizon Dynamic Programming</a></span><ul class=\"toc-item\"><li><ul class=\"toc-item\"><li><span><a href=\"#The-Big-Picture\" data-toc-modified-id=\"The-Big-Picture-1.0.1\"><span class=\"toc-item-num\">1.0.1&nbsp;&nbsp;</span>The Big Picture</a></span></li></ul></li><li><span><a href=\"#Exercise-0\" data-toc-modified-id=\"Exercise-0-1.1\"><span class=\"toc-item-num\">1.1&nbsp;&nbsp;</span>Exercise 0</a></span></li><li><span><a href=\"#Answer-0.1\" data-toc-modified-id=\"Answer-0.1-1.2\"><span class=\"toc-item-num\">1.2&nbsp;&nbsp;</span>Answer 0.1</a></span></li><li><span><a href=\"#Answer-0.2\" data-toc-modified-id=\"Answer-0.2-1.3\"><span class=\"toc-item-num\">1.3&nbsp;&nbsp;</span>Answer 0.2</a></span><ul class=\"toc-item\"><li><span><a href=\"#Throwback\" data-toc-modified-id=\"Throwback-1.3.1\"><span class=\"toc-item-num\">1.3.1&nbsp;&nbsp;</span>Throwback</a></span></li></ul></li><li><span><a href=\"#Self-test-exercise\" data-toc-modified-id=\"Self-test-exercise-1.4\"><span class=\"toc-item-num\">1.4&nbsp;&nbsp;</span>Self-test exercise</a></span></li></ul></li></ul></div>"
   ]
  },
  {
   "cell_type": "markdown",
   "metadata": {},
   "source": [
    "# Finite-horizon Dynamic Programming\n",
    "\n",
    "Author: [MachinaFantasma](https://github.com/phantomachine) | [Twitter](https://twitter.com/machinafantasma)\n",
    "\n",
    "\n",
    "**Key Learning Points**\n",
    "\n",
    "Ideas:\n",
    "\n",
    "* From theory (pencil and paper) to code implementation\n",
    "\n",
    "* Backward induction for finite $T$\n",
    "\n",
    "Skills/Python:\n",
    "\n",
    "* 1D Function Approximation and Interpolation\n",
    "* 1D optimization\n",
    "\n",
    "Economics:\n",
    "\n",
    "* Optimal control policy\n",
    "* Valuation of an optimal program"
   ]
  },
  {
   "cell_type": "code",
   "execution_count": 1,
   "metadata": {},
   "outputs": [],
   "source": [
    "%matplotlib inline\n",
    "import numpy as np\n",
    "import matplotlib.pyplot as plt\n",
    "import scipy.optimize as opt\n",
    "import scipy.interpolate as interpolate"
   ]
  },
  {
   "cell_type": "markdown",
   "metadata": {},
   "source": [
    "### The Big Picture\n",
    "\n",
    "Consider the problem of choosing a sequence of actions $\\mathbf{a} \\equiv ( (c_{0}, k_{1}), (c_{1}, k_{2}), ..., (c_{T}, k_{T+1}))$ such that we attain a maximal value:\n",
    "$$\n",
    "    V_{T}(k_{0}) = \\max_{\\mathbf{a}} \\left\\{ \\sum_{t=0}^{T} \\beta^{t} U(c_{t}) : k_{t+1} = f(k_{t}) - c_{t}, k_{0} = a \\right\\},\n",
    "$$\n",
    "where $a \\in (0,\\infty)$ is given, and, $k_{t}$ is a stock of capital fixed at the start of date $t$.\n",
    "\n",
    "**Avoiding corner and multiplicity of solutions**\n",
    "\n",
    "The functions $U$ and $f$ are strictly increasing, strictly concave, twice-continuously differentiable and satisfy the usual Inada conditions in our textbooks. \n",
    "\n",
    "* The Inada conditions are sufficient to guarantee that optimal solutions live in the interior of the commodity space. \n",
    "\n",
    "* Strict convexity of preference set and convexity of production set buys us uniqueness of an optimal solution. "
   ]
  },
  {
   "cell_type": "markdown",
   "metadata": {},
   "source": [
    "**Optimal plans**\n",
    "\n",
    "The necessary (and sufficient) conditions for an optimum are:\n",
    "$$\n",
    "    \\frac{\\beta U_{c}[g_{t+1}(k_{t+1})]}{U_{c}[g_{t}(k_{t})]} = \\frac{1}{f_{k}(k_{t+1})};\n",
    "$$\n",
    "and, of course, not forgetting that an optimum (or here, equivalently an equilibrium) solution must be feasible:\n",
    "$$\n",
    "    k_{t+1} = f(k_{t}) - g_{t}(k_{t}),\n",
    "$$\n",
    "for every date $t \\in \\{0, ...,T\\}$.\n",
    "\n",
    "These say exactly the same thing as what you have learned from microeconomics. (Just relabel $x$ and $y$ to date-$t$ and date-$(t+1)$ contingent goods!)\n",
    "\n",
    "Note that there are $(T+1)$ number of functions, $(t, k_{t}) \\mapsto g_{t}(k_{t})$ for every $t \\in \\{0, ...,T\\}$.\n",
    "\n",
    "These constitute the sequence of *optimal/equilibrium consumption functions* to be solved for. \n",
    "\n",
    "**Economics Takeaway**\n",
    "\n",
    "* We can think of this problem as a *planner*'s *optimal allocation* (dynamic programming) problem.\n",
    "\n",
    "* Later when we study *competitive equilibrium* we come back to this example and make some connections, by way of the *Fundamental Welfare Theorems*. (Again, this would be a concept you would have seen from a later-year undergraduate Microeconomics course.)"
   ]
  },
  {
   "cell_type": "markdown",
   "metadata": {},
   "source": [
    "\n",
    "\n",
    "\n",
    "## Exercise 0\n",
    "\n",
    "Let $U(c) = \\ln(c)$ and $f(k) = k^{\\alpha}$, where $\\alpha \\in (0,1)$. Set $\\beta = 1$.\n",
    "\n",
    "1. Let $T = 2$. Solve for the sequence of value and consumption (demand) *functions* $\\left\\{ (t, k_{t}) \\mapsto g_{t}(k_{t}): t = 0, ...,T \\right\\}$.\n",
    "\n",
    "2. Design a pseudocode that reflects what you just did by hand in the last question. (Hint: Can you decipher the source code/methods below and summarize that as an accurate yet human-readable list of instructions?)\n",
    "\n",
    "2. Implement/write a Python program to solve this example for any value of $T$. Set $\\alpha = 0.333$. (The source methods are given to you below.)"
   ]
  },
  {
   "cell_type": "code",
   "execution_count": 34,
   "metadata": {},
   "outputs": [],
   "source": [
    "# Model primitives\n",
    "\n",
    "def u(c, θ):\n",
    "    \"\"\"Utility function: CRRA class\n",
    "    \n",
    "    Note: Theoretically, u'(c) -> \\infty when \n",
    "    c -> 0 (\"in the limit\"). Practically, we may \n",
    "    have instances where c=0 (\"at the limit\").\n",
    "    A small number, say, 1e-18 is added to prevent\n",
    "    a \"division-by-zero\" error.\n",
    "    \"\"\"\n",
    "    if θ == 1.0:\n",
    "        youtiao = np.log(c)\n",
    "    elif θ > 0.0 and θ != 1.0:\n",
    "        youtiao = ((c)**(1.0-θ) - 1.0)/(1.0-θ)\n",
    "    return youtiao\n",
    "\n",
    "def f(k, α):\n",
    "    \"\"\"Cobb-Douglas production function (per capita)\"\"\"\n",
    "    sifan = k**α\n",
    "    return sifan\n",
    "\n",
    "def f_prime(k, α):\n",
    "    \"\"\"Cobb-Douglas production function (per capita)\"\"\"\n",
    "    return α*k**(α-1.0)\n",
    "\n",
    "def C_TotalResources(k, knext, α):\n",
    "    \"\"\"Resource constraint - returns c, consumption\"\"\"\n",
    "    xiangjiao = f(k, α) - knext\n",
    "    return xiangjiao"
   ]
  },
  {
   "cell_type": "code",
   "execution_count": 35,
   "metadata": {},
   "outputs": [],
   "source": [
    "def FunctionFit(X, Y, kind='linear'):\n",
    "    \"\"\"Given discrete data (x,y) \\in X x Y,\n",
    "    Find a continuous approximant function f that\n",
    "    rationalizes finite data. \n",
    "    \n",
    "    Two flavors:\n",
    "    linear : linear bases\n",
    "    cubic  : cubic spline\n",
    "    \"\"\"\n",
    "    if kind == 'linear':\n",
    "        f = interpolate.interp1d(X,Y)\n",
    "    elif kind == 'cubic':\n",
    "        f = interpolate.interp1d(X,Y,kind='cubic')\n",
    "    return f"
   ]
  },
  {
   "cell_type": "code",
   "execution_count": 36,
   "metadata": {},
   "outputs": [],
   "source": [
    "def Bellman(V_next_fitted, X, α, β, θ):\n",
    "    \"\"\"RHS of Bellman equation is a max. problem\n",
    "    Assumes input V_next_fitted is interpolant object\n",
    "    - either analytic or SciPy interpolated using\n",
    "      continuous basis functions\n",
    "    \"\"\"\n",
    "    # Pre-allocate array space\n",
    "    g = np.empty(X.size)\n",
    "    h = g.copy()\n",
    "    V = g.copy()\n",
    "    \n",
    "    # Defining the same function but using def instead of lambda\n",
    "    def fungsiobjectif(K, k_next, α, β, θ, V_next_fitted):\n",
    "        \n",
    "        return -u(f(k, α) - k_next, θ) - β*V_next_fitted(k_next)\n",
    "        \n",
    "    \n",
    "    # Define Objective Function at fixed k\n",
    "    fungsiobjektif = lambda k_next, k: -u(f(k, α) - k_next, θ) \\\n",
    "                                        - β*V_next_fitted(k_next) \n",
    "            \n",
    "    # Loop over current states in X\n",
    "    for idx_k, k in enumerate(X):     \n",
    "        # Solve max. problem to get g(t)(k), V(t)(k)\n",
    "        k_lb = X.min()\n",
    "        k_ub = f(k, α)\n",
    "        knext_opt, val, ierr, numfeval = opt.fminbound(fungsiobjektif, \n",
    "                                       k_lb, k_ub, \n",
    "                                       args=(k,),\n",
    "                                       full_output=True,\n",
    "                                      )\n",
    "        g[idx_k] = knext_opt\n",
    "        # Value at optimum, given k\n",
    "        V[idx_k] = -val\n",
    "        # Back out c = h(k), store it\n",
    "        c_opt = C_TotalResources(k, knext_opt, α)\n",
    "        h[idx_k] = c_opt\n",
    "        \n",
    "    # Fitted (interpolants) policy functions\n",
    "    g_fitted = FunctionFit(X, g, kind='cubic')\n",
    "    h_fitted = FunctionFit(X, h, kind='cubic')\n",
    "    V_fitted = FunctionFit(X, V, kind='cubic')\n",
    "    \n",
    "    # Bento box\n",
    "    result = { 'saving': g_fitted,\n",
    "               'consumption': h_fitted,\n",
    "               'value': V_fitted,\n",
    "               'saving-raw': g,\n",
    "               'consumption-raw': h,\n",
    "               'value-raw': V,\n",
    "    }\n",
    "    return result"
   ]
  },
  {
   "cell_type": "code",
   "execution_count": 37,
   "metadata": {},
   "outputs": [],
   "source": [
    "def BackwardInduction_Bellman(X, α, β, θ, T=2):\n",
    "    # Stage T+1 (scrap) value function\n",
    "    V_next = np.zeros(X.size)\n",
    "    V_next_fit = FunctionFit(X, V_next)\n",
    "    V_list = [ V_next_fit ]\n",
    "\n",
    "    # List containing sequence of policy functions\n",
    "    g_list = [ ]\n",
    "    h_list = [ ]\n",
    "\n",
    "    # Backward induction loop\n",
    "    for t in range(T, -1, -1):\n",
    "        # Get optimizers satisfying stage-t Euler functional\n",
    "        print(\"Solving Stage t = %i problem\" %(t))\n",
    "        result = Bellman(V_next_fit, X, α, β, θ)\n",
    "        # Concatenate stage t policies to list of policy functions\n",
    "        g_list.append(result['saving'])\n",
    "        h_list.append(result['consumption'])\n",
    "        V = result['value']\n",
    "        V_list.append(V)\n",
    "        # Use current V_t as t-1 stage input\n",
    "        V_next_fit = V\n",
    "\n",
    "    # Re-order g_list, h_list by natural time order\n",
    "    g_list = g_list[::-1] # k(t+1) = g(t)(k(t))\n",
    "    h_list = h_list[::-1] #   c(t) = h(t)(k(t))\n",
    "    V_list = V_list[::-1]\n",
    "    return g_list, h_list, V_list"
   ]
  },
  {
   "cell_type": "code",
   "execution_count": 38,
   "metadata": {},
   "outputs": [],
   "source": [
    "# Planning horizon\n",
    "T = 2\n",
    "\n",
    "# Model parameters\n",
    "θ = 1.0\n",
    "α = 0.3333\n",
    "β = 0.98\n",
    "A = 1.0\n",
    "\n",
    "# Discretized state space\n",
    "N_states = 100\n",
    "k_min = 1e-12\n",
    "k_max = (1.0/A)**(1.0/(α-1.0))\n",
    "X = np.linspace(k_min, k_max, N_states)"
   ]
  },
  {
   "cell_type": "markdown",
   "metadata": {},
   "source": [
    "## Answer 0.1\n",
    "\n",
    "Hint: Set $k_{2} = 0$ (Verify why). Use backward induction. The solution is given a by sequence of stage-dependent functions. The outcome (pointwise solution) is characterized by two (second order difference equation in the variable $k$), with the boundary conditions given by the terminal and the initial value of $k$.\n",
    "\n",
    "## Answer 0.2\n",
    "\n",
    "Consider the relevant primitive functions for this problem: per-period utility, production or resource constraint functions, state space, action space, discounting.\n",
    "\n",
    "Now, we solve this by backward induction on the Bellman equation directly. "
   ]
  },
  {
   "cell_type": "code",
   "execution_count": 39,
   "metadata": {},
   "outputs": [
    {
     "name": "stdout",
     "output_type": "stream",
     "text": [
      "Solving Stage t = 2 problem\n",
      "Solving Stage t = 1 problem\n",
      "Solving Stage t = 0 problem\n"
     ]
    }
   ],
   "source": [
    "g_list, h_list, V_list = BackwardInduction_Bellman(X, α, β, θ, T=2)"
   ]
  },
  {
   "cell_type": "markdown",
   "metadata": {},
   "source": [
    "### Throwback\n",
    "\n",
    "Recall the exercise we did and solved by hand?"
   ]
  },
  {
   "cell_type": "code",
   "execution_count": 40,
   "metadata": {},
   "outputs": [],
   "source": [
    "# Handcrafted solutions (note T = 2 only)\n",
    "\n",
    "g_0 = (α*β*(1+α*β))*(X**α) / (1+α*β*(1+α*β))\n",
    "g_1 = α*β*(X**α) / (1+α*β)\n",
    "g_2 = np.zeros(g_1.size)\n",
    "g_list_exact = [ g_0, g_1, g_2 ]"
   ]
  },
  {
   "cell_type": "code",
   "execution_count": 41,
   "metadata": {},
   "outputs": [
    {
     "data": {
      "image/png": "[encoded data removed]",
      "text/plain": [
       "<Figure size 432x288 with 1 Axes>"
      ]
     },
     "metadata": {
      "needs_background": "light"
     },
     "output_type": "display_data"
    }
   ],
   "source": [
    "plt.figure()\n",
    "for t in range(len(g_list_exact)):  \n",
    "    # Analytical solution\n",
    "    if θ == 1.0:\n",
    "        plt.plot(X, g_list_exact[t])\n",
    "    else:\n",
    "        print(\"D'oh! Move along, nothing here to see...\")\n",
    "    plt.xlabel(\"$k_{t}$\")\n",
    "plt.title(\"Stage-$t$ dependent savings policy functions\")\n",
    "plt.show() "
   ]
  },
  {
   "cell_type": "markdown",
   "metadata": {},
   "source": [
    "Now we will solve the *backward induction* problem directly using the Bellman equation.\n",
    "\n",
    "We'll compare our numerical results with this plot of the exact decision functions later."
   ]
  },
  {
   "cell_type": "markdown",
   "metadata": {},
   "source": [
    "Now we superimpose our backward induction on the Bellman equation solution, onto the analytical solution."
   ]
  },
  {
   "cell_type": "code",
   "execution_count": 42,
   "metadata": {},
   "outputs": [
    {
     "data": {
      "image/png": "[encoded data removed]",
      "text/plain": [
       "<Figure size 432x288 with 1 Axes>"
      ]
     },
     "metadata": {
      "needs_background": "light"
     },
     "output_type": "display_data"
    }
   ],
   "source": [
    "plt.figure()\n",
    "for t in range(len(g_list)):  \n",
    "    # Analytical solution\n",
    "    if θ == 1.0:\n",
    "        plt.plot(X, g_list_exact[t])\n",
    "    else:\n",
    "        print(\"D'oh! Move along, nothing here to see...\")\n",
    "    # Approximate solution\n",
    "    plt.plot(X, g_list[t](X), '+',\n",
    "             label=\"g(\"+str(t)+\") at $t=$\"+str(t)\n",
    "            )\n",
    "    plt.xlabel(\"$k_{t}$\")\n",
    "plt.title(\"Stage-$t$ dependent savings policy functions\")\n",
    "plt.show() "
   ]
  },
  {
   "cell_type": "code",
   "execution_count": 43,
   "metadata": {
    "scrolled": true
   },
   "outputs": [
    {
     "data": {
      "image/png": "[encoded data removed]",
      "text/plain": [
       "<Figure size 432x288 with 1 Axes>"
      ]
     },
     "metadata": {
      "needs_background": "light"
     },
     "output_type": "display_data"
    }
   ],
   "source": [
    "plt.figure()\n",
    "for t in range(len(g_list)):  \n",
    "    plt.plot(X, g_list[t](X), '+',\n",
    "             label=\"g(\"+str(t)+\") at $t=$\"+str(t)\n",
    "            )\n",
    "    plt.xlabel(\"$k_{t}$\")\n",
    "plt.title(\"Stage-$t$ dependent savings policy functions\")\n",
    "plt.show() "
   ]
  },
  {
   "cell_type": "markdown",
   "metadata": {},
   "source": [
    "## Self-test exercise\n",
    "\n",
    "1. What is the optimal amount of consumption, if at date $t = 1$, the state is $k_{1} = 0.452$?\n",
    "\n",
    "2. What is the induced indirect utility at this stage-state pair $(t, k_{t}) = (1, 0.452)$?\n",
    "\n",
    "3. Repeat the solution problem from the start, but now suppose the terminal stage is $T = 120$. Plot the stage-dependent optimal policy and value functions. If the initial state was $k_{0} = 0.25$, what is the optimal path for saving? What is the induced path for indirect utilities at each stage? What is the stage-$0$ indirect utility?\n",
    "\n",
    "4. Why do we call the value of an optimal plan indirect utility?"
   ]
  },
  {
   "cell_type": "code",
   "execution_count": 44,
   "metadata": {},
   "outputs": [
    {
     "data": {
      "text/plain": [
       "array(0.44084034)"
      ]
     },
     "execution_count": 44,
     "metadata": {},
     "output_type": "execute_result"
    }
   ],
   "source": [
    "h_list[1](0.2)"
   ]
  },
  {
   "cell_type": "code",
   "execution_count": 46,
   "metadata": {},
   "outputs": [
    {
     "data": {
      "text/plain": [
       "array(-1.09156446)"
      ]
     },
     "execution_count": 46,
     "metadata": {},
     "output_type": "execute_result"
    }
   ],
   "source": [
    "V_list[1](0.452) #doesnt matter if negative because utility functions are ordinal"
   ]
  }
 ],
 "metadata": {
  "kernelspec": {
   "display_name": "Python 3",
   "language": "python",
   "name": "python3"
  },
  "language_info": {
   "codemirror_mode": {
    "name": "ipython",
    "version": 3
   },
   "file_extension": ".py",
   "mimetype": "text/x-python",
   "name": "python",
   "nbconvert_exporter": "python",
   "pygments_lexer": "ipython3",
   "version": "3.7.4"
  },
  "latex_envs": {
   "LaTeX_envs_menu_present": true,
   "autoclose": false,
   "autocomplete": true,
   "bibliofile": "biblio.bib",
   "cite_by": "apalike",
   "current_citInitial": 1,
   "eqLabelWithNumbers": true,
   "eqNumInitial": 1,
   "hotkeys": {
    "equation": "Ctrl-E",
    "itemize": "Ctrl-I"
   },
   "labels_anchors": false,
   "latex_user_defs": false,
   "report_style_numbering": true,
   "user_envs_cfg": false
  },
  "toc": {
   "base_numbering": 1,
   "nav_menu": {},
   "number_sections": true,
   "sideBar": true,
   "skip_h1_title": false,
   "title_cell": "Table of Contents",
   "title_sidebar": "Contents",
   "toc_cell": true,
   "toc_position": {
    "height": "358.6px",
    "left": "895px",
    "top": "146px",
    "width": "214.4px"
   },
   "toc_section_display": true,
   "toc_window_display": true
  },
  "widgets": {
   "application/vnd.jupyter.widget-state+json": {
    "state": {},
    "version_major": 2,
    "version_minor": 0
   }
  }
 },
 "nbformat": 4,
 "nbformat_minor": 2
}
