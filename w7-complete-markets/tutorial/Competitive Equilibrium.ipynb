{
 "cells": [
  {
   "cell_type": "markdown",
   "metadata": {
    "toc": true
   },
   "source": [
    "<h1>Table of Contents<span class=\"tocSkip\"></span></h1>\n",
    "<div class=\"toc\"><ul class=\"toc-item\"><li><span><a href=\"#Exercise-1\" data-toc-modified-id=\"Exercise-1-1\">Exercise 1</a></span><ul class=\"toc-item\"><li><span><a href=\"#Answer-1.1\" data-toc-modified-id=\"Answer-1.1-1.1\">Answer 1.1</a></span></li><li><span><a href=\"#Answer-1.2\" data-toc-modified-id=\"Answer-1.2-1.2\">Answer 1.2</a></span></li></ul></li><li><span><a href=\"#Exercise-2\" data-toc-modified-id=\"Exercise-2-2\">Exercise 2</a></span></li><li><span><a href=\"#Exercise-3\" data-toc-modified-id=\"Exercise-3-3\">Exercise 3</a></span></li><li><span><a href=\"#Exercise-4\" data-toc-modified-id=\"Exercise-4-4\">Exercise 4</a></span></li><li><span><a href=\"#Exercise-5\" data-toc-modified-id=\"Exercise-5-5\">Exercise 5</a></span><ul class=\"toc-item\"><li><span><a href=\"#Answer-5.1\" data-toc-modified-id=\"Answer-5.1-5.1\">Answer 5.1</a></span></li><li><span><a href=\"#Answer-5.2\" data-toc-modified-id=\"Answer-5.2-5.2\">Answer 5.2</a></span></li><li><span><a href=\"#Answer-5.3\" data-toc-modified-id=\"Answer-5.3-5.3\">Answer 5.3</a></span></li><li><span><a href=\"#Answers-5.4---5.6\" data-toc-modified-id=\"Answers-5.4---5.6-5.4\">Answers 5.4 - 5.6</a></span></li><li><span><a href=\"#Answer-5.7\" data-toc-modified-id=\"Answer-5.7-5.5\">Answer 5.7</a></span></li></ul></li><li><span><a href=\"#Exercise-6\" data-toc-modified-id=\"Exercise-6-6\">Exercise 6</a></span><ul class=\"toc-item\"><li><span><a href=\"#Answer-6\" data-toc-modified-id=\"Answer-6-6.1\">Answer 6</a></span></li></ul></li><li><span><a href=\"#Exercise-7\" data-toc-modified-id=\"Exercise-7-7\">Exercise 7</a></span><ul class=\"toc-item\"><li><span><a href=\"#Answer-7\" data-toc-modified-id=\"Answer-7-7.1\">Answer 7</a></span></li></ul></li><li><span><a href=\"#Exercise-8-(Competitive-Equilbrium-with-Taxes)\" data-toc-modified-id=\"Exercise-8-(Competitive-Equilbrium-with-Taxes)-8\">Exercise 8 (Competitive Equilbrium with Taxes)</a></span><ul class=\"toc-item\"><li><span><a href=\"#Answer-8.1\" data-toc-modified-id=\"Answer-8.1-8.1\">Answer 8.1</a></span></li><li><span><a href=\"#Answer-8.2\" data-toc-modified-id=\"Answer-8.2-8.2\">Answer 8.2</a></span></li><li><span><a href=\"#Answer-8.3\" data-toc-modified-id=\"Answer-8.3-8.3\">Answer 8.3</a></span></li><li><span><a href=\"#Answer-8.4\" data-toc-modified-id=\"Answer-8.4-8.4\">Answer 8.4</a></span></li><li><span><a href=\"#Answer-8.5\" data-toc-modified-id=\"Answer-8.5-8.5\">Answer 8.5</a></span></li></ul></li><li><span><a href=\"#Exercise-9-(Ramsey-Optimal-Taxation)\" data-toc-modified-id=\"Exercise-9-(Ramsey-Optimal-Taxation)-9\">Exercise 9 (Ramsey Optimal Taxation)</a></span></li></ul></div>"
   ]
  },
  {
   "cell_type": "markdown",
   "metadata": {},
   "source": [
    "Author: [MachinaFantasma](https://github.com/phantomachine) | [Twitter](https://twitter.com/machinafantasma)\n",
    "\n",
    "\n",
    "**Key Learning Points**\n",
    "\n",
    "Ideas:\n",
    "\n",
    "\n",
    "\n",
    "* Competitive Equilibrium Allocation and Pricing Functions\n",
    "\n",
    "* Pareto Allocations\n",
    "\n",
    "* Fundamental Welfare Theorems 1 and 2\n",
    "\n",
    "* Dynamic Programming Implementations when FWT holds"
   ]
  },
  {
   "cell_type": "markdown",
   "metadata": {},
   "source": [
    "**For all the questions below**: \n",
    "\n",
    "Assume that the Inada conditions (see textbook or lecture notes) on each per-period utility functions hold so that you can focus on interior solutions."
   ]
  },
  {
   "cell_type": "markdown",
   "metadata": {},
   "source": [
    "## Exercise 1\n",
    "\n",
    "Time is indexed by $t = 0,1, ...$. Let individuals be indexed by $i = 1,...,I$. Assume that each function $u^{i}$ is twice continuously differentiable, increasing and strictly concave. Assume that the $u^{i}$ functions satisfy [Gorman's theorem](https://en.wikipedia.org/wiki/Gorman_polar_form). For example, it suffices if they belong to the class of homothetic preference functions.\n",
    "\n",
    "Let $S$ denote a finite set of possible outcomes for a publicly observable random variable $s_{t}$. Denote $h^{t} = (s_0, s_1, ..., s_{t})$ as a history of realized outcomes of $s_{t}$ at the start of each date $t$. Note that $h^{t}$ is an element of $H_{t} := \\times_{j=0}^{t} S$, i.e., the $(t+1)$-fold Cartesian product of $S$. Each agent $i$ faces an idiosyncratic and random stream of endowments $\\{ y_{t}^{i}(h^{t})\\}_{t\\geq0}$. Also, assume that the realized list $h^{t}$ is drawn from a known probability distribution $P_{t}(h^{t})$.\n",
    "\n",
    "Each agent $i$'s objective function is\n",
    "\n",
    "$$\n",
    "(1-\\beta)\\sum_{t=0}^{\\infty} \\beta^{t}\\sum_{h^{t} \\in H_{t}} u^{i}(c_{t}(h^{t}))P_{t}(h^{t}).\n",
    "$$\n",
    "\n",
    "\n",
    "\n",
    "1. TRUE or FALSE. Consider $u^{i}(c) =  a^{i}\\ln ( c)$, where $a^{i} > 0$ is a parameter. Is this instance of the objective function, given our assumption on $u^{i}$, a [homothetic function](https://en.wikipedia.org/wiki/Homothetic_preferences)?\n",
    "\n",
    "2. *(Sequential) competitive equilibrium with complete Arrow securities*. Each agent $i$'s sequential budget constraint says:\n",
    "\n",
    "    $$\n",
    "    c_{t}^{i}(h^{t}) + \\sum_{s_{t+1}\\in S}Q_{t}(h^{t}, s_{t+1}) a_{t+1}^{i}(s_{t+1},h^{t}) = a_{t}^{i}(h^{t}) + y_{t}^{i}(h^{t}),\n",
    "    $$\n",
    "\n",
    "    for every date $t$ and history $h^{t}$, and every continuation state $s_{t+1}$ possibly reached from $h^{t}$.  Note that $a_{t}^{i}(h^{t}) := a_{t}^{i}(s_{t}, h^{t-1})$ describes a history and date contingent asset demand function and $Q_{t}(h^{t},\\cdot)$ is its supporting price *kernel*.\n",
    "\n",
    "   * Define the agent's natural borrowing limit.\n",
    "   \n",
    "   * Then characterize (i.e., describe precisely conditions for) a competitive equilibrium. Hint:\n",
    "       * Derive conditions describing optimal demand for commodities and assets, given prices\n",
    "       \n",
    "       * Impose market clearing conditions (Check: How many, and what, markets?)"
   ]
  },
  {
   "cell_type": "markdown",
   "metadata": {},
   "source": [
    "### Answer 1.1\n",
    "\n",
    "TRUE. Let \n",
    "\n",
    "$$\n",
    "U^{i}(s_0,1) = \n",
    "(1-\\beta)\\sum_{t=0}^{\\infty} \\beta^{t}\\sum_{h^{t} \\in H_{t}} u^{i}(c_{t}^{i}(h^{t}))P_{t}(h^{t}).\n",
    "$$\n",
    "\n",
    "where $\\mathbf{c}^{i} := \\{ c_{t}^{i}(h^{t}) \\}_{t=0}^{\\infty}$.\n",
    "\n",
    "Multiply the consumption bundle by a factor $\\lambda > 0$, to get $\\mathbf{c}_{\\lambda}^{i} := \\{ \\lambda \\times c_{t}^{i}(h^{t}) \\}_{t=0}^{\\infty}$. Observe that\n",
    "\n",
    "$$\n",
    "U^{i}(s_0, {\\lambda}) = \n",
    "(1-\\beta)\\sum_{t=0}^{\\infty} \\beta^{t}\\sum_{h^{t} \\in H_{t}} u^{i}(\\lambda c_{t}^{i}(h^{t}))P_{t}(h^{t}).\n",
    "$$\n",
    "\n",
    "\n",
    "The per-period log utility is a monotonic transformation of a function that is linear (and is therefore homogeneous of degree 1) in the argument $c_{t}^{i}(h^{t})$. The lifetime objective function is also homothetic.\n",
    "\n",
    "An implication of a homothetic preference function here is that the marginal rate of substitution (MRS) at any two allocations or bundles, along a constant ray from the origin, is the same---i.e., it is scale free. Another way to say this is that the MRS is independent of wealth. A richer dudette who can afford to consume double that of a poorer dude, in all contingencies, will still have the optimal demand trade-off as her poorer cousin.\n",
    "\n",
    "For example, consider fixing the same history $h^{t}$. Then consider between two dates, the MRS of any two selections from the sequence $\\mathbf{c}$,\n",
    "$$\n",
    "\\frac{\\beta (u^{i})'[ c_{t+1}^{i}(h^{t+1}) ]}{ (u^{i})'[ c_{t}^{i}(h^{t})] }\n",
    "\\frac{P_{t+1}(h^{t+1})}{P_{t}(h^{t})} = \\beta\\frac{c_{t}^{i}(h^{t})}{c_{t+1}^{i}(h^{t+1})} \\frac{P_{t+1}(h^{t+1})}{P_{t}(h^{t})},\n",
    "$$\n",
    "\n",
    "is the same as the MRS at the corresponding selections from the sequence $\\mathbf{c}_{\\lambda}$:\n",
    "\n",
    "$$\n",
    "\\frac{\\beta (u^{i})'[\\lambda c_{t+1}^{i}(h^{t+1})]}{ (u^{i})'[\\lambda c_{t}^{i}(h^{t})]} \\frac{P_{t+1}(h^{t+1})}{P_{t}(h^{t})} = \\beta\\frac{c_{t}^{i}(h^{t})}{c_{t+1}^{i}(h^{t+1})} \\frac{P_{t+1}(h^{t+1})}{P_{t}(h^{t})}.\n",
    "$$\n",
    "The equality in both expressions above follows from applying our instance of the function $u^i$.\n",
    "\n",
    "Likewise, fix the same date $t$ and consider across different histories. You can show that\n",
    "\n",
    "$$\n",
    "\\frac{ (u^{i})'[ c_{t}^{i}(\\tilde{h}^{t}) ]}{ (u^{i})'[ c_{t}^{i}(h^{t}) ] }\\frac{P_{t+1}(\\tilde{h}^{t})}{P_{t}(h^{t})} \n",
    "= \n",
    "\\frac{ c_{t}^{i}(h^{t}) }{ c_{t}^{i}(\\tilde{h}^{t})}\\frac{P_{t+1}(\\tilde{h}^{t})}{P_{t}(h^{t})}\n",
    "$$\n",
    "and that\n",
    "\n",
    "$$\n",
    "\\frac{ (u^{i})'[ \\lambda c_{t}^{i}(\\tilde{h}^{t}) ]}{ (u^{i})'[ \\lambda c_{t}^{i}(h^{t}) ] }\\frac{P_{t+1}(\\tilde{h}^{t})}{P_{t}(h^{t})}\n",
    "= \n",
    "\\frac{ c_{t}^{i}(h^{t}) }{ c_{t}^{i}(\\tilde{h}^{t})}\\frac{P_{t+1}(\\tilde{h}^{t})}{P_{t}(h^{t})}. \n",
    "$$\n"
   ]
  },
  {
   "cell_type": "markdown",
   "metadata": {},
   "source": [
    "### Answer 1.2\n",
    "\n",
    "*Natural borrowing limit*. The NBL is:\n",
    "\n",
    "$$\n",
    "A_{t+1}^{i}(h^{t+1}) = \\sum_{k=t+1}^{\\infty} \\sum_{h^{k}|h^{t}} Q_{t}(h^{t}, h^{k}) y_{k}^{i}(h^{k})\n",
    "\\tag{1.0}\n",
    "$$\n",
    "\n",
    "at each date $t \\geq 0$, for every possible continuation history $h^{t+1} := h^{t} \\cup \\{s_{t+1}\\} \\equiv (h^{t},s_{t+1})\\in H_{t+1}$.\n",
    "\n",
    "Bahasa Inggeris: The contingent NBL, for a given date and history of realized events, is the total expected, discounted tail value of endowments, from date $t+1$ onwards. Tis is the most relaxed contingent repayment requirement, in that all endowments are not consumed forever in order to repay this maximal level of debt incurred. Thus, any debt assumed for the beginning of each $t+1$ cannot exceed this quantity."
   ]
  },
  {
   "cell_type": "markdown",
   "metadata": {},
   "source": [
    "*Competitive equilibrium*. Set up the Lagrangian for the infinite horizon agents' problems. You should get these respective FOCS, w.r.t. to these random variables $c_{t}(h^{t})$ and $a_{t+1}(h^{t}, s_{t+1})$:\n",
    "\n",
    "$$\n",
    "\\beta^{t}a^{i}[c_{t}(h^{t})]^{-1}P_{t}(h^{t}) = \\mu_{SBC, t}^{i}(h^{t}),\n",
    "\\tag{1.1}\n",
    "$$\n",
    "\n",
    "and\n",
    "\n",
    "$$\n",
    "- \\mu_{SBC, t}^{i}(h^{t}) Q_{t}(h^{t}, s_{t+1}) + \\mu_{NBL, t}^{i}(h^{t},s_{t+1}) + \\mu_{SBC, t+1}^{i}((h^{t},s_{t+1})),\n",
    "\\tag{1.2}\n",
    "$$\n",
    "where $\\mu_{SBC, t}^{i}(h^{t})$ and $\\mu_{NBL, t}^{i}(h^{t}, s_{t+1})$, respectively, are the Lagrange multipliers associated with the date-$t$, history-$h^{t}$ sequential budget constraint and natural borrowing limit, for person $i$.\n",
    "\n",
    "Since $u^{i}$ satisfies the Inada conditions the NBL never binds everywhere. (Why?) So we can show that $\\mu_{NBL, t}^{i}(h^{t},s_{t+1}) = 0$.\n",
    "\n",
    "Combining these two equations we have the asset pricing kernel given by:\n",
    "$$\n",
    "Q_{t}(h^{t}, s_{t+1}) =  \\frac{\\beta [c_{t+1}^{i}(h^{t+1})]^{-1}P_{t+1}(h^{t+1})}{[c_{t}^{i}(h^{t})]^{-1}P_{t}(h^{t})},\n",
    "\\tag{1.3}\n",
    "$$\n",
    "for each date $t$ and history $h^{t}$.\n",
    "\n",
    "(What does this FOC say?)\n",
    "\n",
    "Market clearing for goods requires that\n",
    "$$\n",
    "\\sum_{i = 1}^{I}c_{t}^{i}(h^{t}) = \\sum_{i = 1}^{I}y_{t}^{i}(h^{t}).\n",
    "\\tag{1.4}\n",
    "$$\n",
    "\n",
    "Market clearing for Arrow security claims means\n",
    "$$\n",
    "\\sum_{i = 1}^{I}a_{t+1}^{i}(h^{t},s_{t+1}) = 0.\n",
    "\\tag{1.5}\n",
    "$$\n",
    "\n",
    "**DEFINITION**. A *competitive equilibrium with sequential exchange of Arrow securities* in this model economy is\n",
    "1. an initial allocation of wealth $\\{a_{0}^{i}(s_0)\\}_{i=1}^{I}$,\n",
    "2. a system of borrowing limits (1.0), and,\n",
    "3. an allocation $\\mathbf{c}^{i}$ and pricing functions $Q(h^{t},\\cdot)$,\n",
    "such that consumers optimize, viz. (1.3), and markets clear, viz. (1.4) and (1.5)."
   ]
  },
  {
   "cell_type": "markdown",
   "metadata": {},
   "source": [
    "## Exercise 2\n",
    "\n",
    "*This exercise continues from the last.*\n",
    "\n",
    "*No-trade competitive equilibrium for the representative agent*. Now consider the [person on the Clapham Omnibus](https://en.wikipedia.org/wiki/The_man_on_the_Clapham_omnibus) (or, the [average person on the Bondi Tram](http://www8.austlii.edu.au/cgi-bin/viewdoc/au/cases/cth/HCA/1985/3.html)) representing an average across a finite set of ex-ante heterogenous agents. These agents have heterogeneous Bernoulli payoff functions: $\\{u^{i}: i = 1,...,I\\}$. His/her valuation (indirect utility) is:\n",
    "\n",
    "$$\n",
    "V(\\bar{y}_{0};\\{\\lambda_{i}\\}_{i=1}^{I}) = \\max_{\\{c_{t}^{i}(h^{t}), a_{t}^{i}(s_{t+1},h^{t}):i=1,...,I\\}_{t=0}^{\\infty}}(1-\\beta)\\sum_{i=1}^{I} \\lambda_{i}\\sum_{t=0}^{\\infty} \\beta^{t}\\sum_{h^{t} \\in H_{t}} u^{i}(c_{t}(h^{t}))P_{t}(h^{t})\n",
    "$$\n",
    "\n",
    "subject to \n",
    "$$\n",
    "c_{t}^{i}(h^{t}) + \\sum_{s_{t+1}\\in S}Q_{t}(h^{t}, s_{t+1}) a_{t+1}^{i}(s_{t+1},h^{t}) = a_{t}^{i}(h^{t}) + y_{t}^{i}(h^{t}),\n",
    "\\tag{2.1}\n",
    "$$\n",
    "and,\n",
    "$$\n",
    "\\sum_{i=1}^{I}c_{t}^{i}(h^{t}) = \\bar{y}_{t} \\equiv \\sum_{i=1}^{I}y_{t}^{i}(h^{t}),\n",
    "\\tag{2.2}\n",
    "$$\n",
    "for every date $t$ and history $h^{t}$, and every continuation state $s_{t+1}$ possibly reached from $h^{t}$.\n",
    "\n",
    "1. Derive and characterize the competitive equilibrium for this representative agent. Argue that the equilbrium involves *no trade* from the point of view of the representative agent. \n",
    "\n",
    "2. Show that the competitive equilibrium you described earlier with heterogeneous agents is allocatively equivalent to the no-trade competitive equilibrium for the representative agent.\n",
    "\n"
   ]
  },
  {
   "cell_type": "code",
   "execution_count": null,
   "metadata": {},
   "outputs": [],
   "source": []
  },
  {
   "cell_type": "markdown",
   "metadata": {},
   "source": [
    "## Exercise 3\n",
    "\n",
    "Think about the results from the last two exercises: Discuss and explain how the representative household relates to the benevolent (Pareto) planner allegory that we used in class and in the Ljungqvist-Sargent textbook (Chapter 8)."
   ]
  },
  {
   "cell_type": "code",
   "execution_count": null,
   "metadata": {},
   "outputs": [],
   "source": []
  },
  {
   "cell_type": "markdown",
   "metadata": {},
   "source": [
    "## Exercise 4\n",
    "\n",
    "An economy consists of two infinitely lived consumers named $i=1,2$. There is\n",
    "one nonstorable consumption good. Consumer $i$ consumes $c_{t}^{i}$ at time $t$. \n",
    "\n",
    "Consumer $i$ ranks consumption according to the following criterion function:\n",
    "\n",
    "$$\n",
    "\\sum_{t=0}^{\\infty} \\beta^{t} u\\left(c_{t}^{i}\\right)\n",
    "$$\n",
    "\n",
    "where $\\beta \\in(0,1)$ and $u(c)$ is increasing, strictly concave, and twice continuously differentiable. Consumer 1 is endowed with a stream of the consumption good $y_{t}^{i}=1,0,0,1,0,0,1, \\ldots$. Consumer 2 is endowed with a stream of the consumption good $0,1,1,0,1,1,0, \\ldots$ Assume that there are complete markets with time-$0$ trading.\n",
    "\n",
    "1. Define a competitive equilibrium.\n",
    "2. Compute a competitive equilibrium outcome.\n",
    "3. Suppose that one of the consumers markets a derivative asset that promises\n",
    "to pay $0.05$ units of consumption each period. What would the price of that asset\n",
    "be?"
   ]
  },
  {
   "cell_type": "code",
   "execution_count": null,
   "metadata": {},
   "outputs": [],
   "source": []
  },
  {
   "cell_type": "markdown",
   "metadata": {},
   "source": [
    "## Exercise 5\n",
    "\n",
    "*From Ljungqvist and Sargent*.\n",
    "\n",
    "Consider an economy with a single consumer. There is one good in the economy, which arrives in the form of an exogenous endowment obeying \n",
    "$$\n",
    "\\quad y_{t+1}=\\lambda_{t+1} y_{t}\n",
    "$$\n",
    "where $y_{t}$ is the endowment at time $t$ and $\\left\\{\\lambda_{t+1}\\right\\}$ is governed by a two-state Markov chain with transition matrix\n",
    "$$\n",
    "P=\\left[ \\begin{array}{cc}{p_{11}} & {1-p_{11}} \\\\ {1-p_{22}} & {p_{22}}\\end{array}\\right]\n",
    "$$\n",
    "and initial distribution $\\pi_{\\lambda}=\\left[\\pi_{0} \\quad 1-\\pi_{0}\\right] .$ The value of $\\lambda_{t}$ is given by $\\overline{\\lambda}_{1}=.98$ in state 1 and $\\overline{\\lambda}_{2}=1.03$ in state $2 .$ Assume that the history of $y_{s}, \\lambda_{s}$ up to $t$ is observed at time $t .$ The consumer has endowment process $\\left\\{y_{t}\\right\\}$ and has preferences over consumption streams that are ordered by\n",
    "$$\n",
    "E_{0} \\sum_{t=0}^{\\infty} \\beta^{t} u\\left(c_{t}\\right)\n",
    "$$\n",
    "where $\\beta \\in(0,1)$ and $u(c)=\\frac{c^{1-\\gamma}}{1-\\gamma},$ where $\\gamma \\geq 1$.\n",
    "\n",
    "1. Define a competitive equilibrium, being careful to name all of the objects of which it consists.\n",
    "2. Explain how you would compute a competitive equilibrium. For the remainder of this problem, suppose that $p_{11}=.8, p_{22}=.85, \\pi_{0}=.5, \\beta=.96$ , and $\\gamma=2 .$ Suppose that the economy begins with $\\lambda_{0}=.98$ and $y_{0}=1$.\n",
    "3. Compute the (unconditional) average growth rate of consumption, computed before having observed $\\lambda_{0}$.\n",
    "4. Compute the time-0 prices of three risk-free discount bonds, in particular, those promising to pay one unit of time-j consumption for $j=0,1,2,$ respectively.\n",
    "5. Compute the time-0 prices of three bonds, in particular, ones promising to pay one unit of time-j consumption contingent on $\\lambda_{j}=\\overline{\\lambda}_{1}$ for $j=0,1,2,$ respectively.\n",
    "6. Compute the time-0 prices of three bonds, in particular, ones promising to pay one unit of time-j consumption contingent on $\\lambda_{j}=\\overline{\\lambda}_{2}$ for $j=0,1,2,$ respectively.\n",
    "7. Compare the prices that you computed in parts 4, 5, and 6."
   ]
  },
  {
   "cell_type": "markdown",
   "metadata": {},
   "source": [
    "### Answer 5.1\n",
    "\n",
    "The household's problem is to maximize\n",
    "$$\n",
    "\\quad E_{0} \\sum_{t=0}^{\\infty} \\beta^{t} u\\left(c_{t}\\left(\\lambda^{t}\\right)\\right)\n",
    "\\tag{5.1}\n",
    "$$\n",
    "subject to the time zero budget constraint\n",
    "$$\n",
    "\\sum_{t=0}^{\\infty} q_{t}^{0}\\left(\\lambda^{t}\\right) c_{t}\\left(\\lambda^{t}\\right) \\leq \\sum_{t=0}^{\\infty} q_{t}^{0}\\left(\\lambda^{t}\\right) y_{t}\\left(\\lambda^{t}\\right).\n",
    "\\tag{5.2}\n",
    "$$\n",
    "Market clearing requires that\n",
    "$$\n",
    "c_{t}(\\lambda^{t}) = y_{t}(\\lambda^{t})\n",
    "\\tag{5.3}\n",
    "$$\n",
    "for all dates $t \\geq 0$ and histories $\\lambda^{t}$.\n",
    "\n",
    "**DEFINITION**. A competitive equilibrium is an allocation $\\left\\{c_{t}\\left(\\lambda^{t}\\right)\\right\\}_{t=0}^{\\infty}$ and a\n",
    "price system $\\left\\{q_{t}^{0}\\left(\\lambda^{t}\\right)\\right\\}_{t=0}^{\\infty}$ such that the allocation solves the household problem (5.1)-(5.2) and\n",
    "markets clear (5.3).\n"
   ]
  },
  {
   "cell_type": "markdown",
   "metadata": {},
   "source": [
    "### Answer 5.2\n",
    "\n",
    "After normalization $\\left(q_{0}^{0}=1\\right)$ this leads to the familiar first order condition\n",
    "$$\n",
    "q_{t}^{0}\\left(\\lambda^{t} | \\lambda_{0}\\right)=\\beta^{t} \\pi\\left(\\lambda^{t} | \\lambda_{0}\\right)\\left[\\frac{c_{t}\\left(\\lambda^{t}\\right)}{c_{0}\\left(\\lambda_{0}\\right)}\\right]^{-\\gamma}.\n",
    "$$\n",
    "\n",
    "Imposing market clearing leads to\n",
    "$$\n",
    "q_{t}^{0}\\left(\\lambda^{t} | \\lambda_{0}\\right)=\\beta^{t} \\pi\\left(\\lambda^{t} | \\lambda_{0}\\right)\\left[\\frac{y_{t}\\left(\\lambda^{t}\\right)}{y_{0}\\left(\\lambda_{0}\\right)}\\right]^{-\\gamma}.\n",
    "$$\n",
    "Since $y_{t+1}=\\lambda_{t+1} y_{t}$ we have\n",
    "$$\n",
    "\\begin{aligned} \n",
    "q_{t}^{0}\\left(\\lambda^{t} | \\lambda_{0}\\right) &=\\beta^{t} \\pi\\left(\\lambda^{t} | \\lambda_{0}\\right)\\left[\\lambda_{t} \\lambda_{t-1} \\ldots \\lambda_{1}\\right]^{-\\gamma} \\\\ &=\\beta^{t} \\pi\\left(\\lambda_{t} | \\lambda_{t-1}\\right) \\ldots \\pi\\left(\\lambda_{1} | \\lambda_{0}\\right)\\left[\\lambda_{t} \\lambda_{t-1} \\ldots \\lambda_{1}\\right]^{-\\gamma}.\n",
    "\\end{aligned}\n",
    "$$"
   ]
  },
  {
   "cell_type": "markdown",
   "metadata": {},
   "source": [
    "### Answer 5.3\n",
    "\n",
    "In this example consumption is trivially endowment in all contingencies. The unconditional growth factor in consumption is thus\n",
    "$$\n",
    "\\mathbb{E}(c_{t}/c_{t-1}) := \\frac{1}{T} \\sum_{t=1}^{T} \\frac{y_{t}}{y_{t-1}}=\\frac{1}{T} \\sum_{t=1}^{T} \\lambda_{t}\n",
    "$$\n",
    "\n",
    "The above time average will converge almost surely towards the expectation of $\\lambda$\n",
    "under the stationary probability:\n",
    "$$\n",
    "\\lim_{T \\rightarrow \\infty}\\frac{1}{T} \\sum_{t=1}^{T}\\lambda_{t}  = \\frac{1-p_{22}}{1-p_{11}+1-p_{22}} \\overline{\\lambda}_{1}+\\frac{1-p_{11}}{1-p_{11}+1-p_{22}} \\overline{\\lambda}_{2}.\n",
    "$$\n",
    "The last line uses the (unique) stationary distribution of the ergodic Markov chain. (Do you know how to analytically compute this by now?)"
   ]
  },
  {
   "cell_type": "markdown",
   "metadata": {},
   "source": [
    "### Answers 5.4 - 5.6\n",
    "\n",
    "Assume $\\lambda_0 = 0.98$.\n",
    "\n",
    "A bond promising to pay 1 unit of consumption at time 0 has a time-zero price of $Q_{0}=q_{0}^{0} = 1$. An AD security promising to pay 1 unit of consumption at time 1 in state $\\overline{\\lambda}_{1}$ has a time\n",
    "zero price of $Q_{11}=q_{1}^{0}\\left(\\lambda_{1}\\right)=.7997 .$ An AD security promising to pay 1 unit of consumption at time 1 in state $\\lambda_{2}$ has a time zero price of $Q_{12}=q_{1}^{0}\\left(\\lambda_{2}\\right)=q_{1}^{0}\\left(\\lambda_{2}\\right)=.1809$. \n",
    "Synthesizing from these, a \"risk free\" bond promising one unit for sure at time 1 has time zero price $Q_{1}=Q_{11}+Q_{12}=.9806$.\n",
    "\n",
    "An AD claim promising to pay 1 unit of consumption at time 2 in state $\\overline{\\lambda}_{1}$ has a time\n",
    "zero price of\n",
    "$Q_{21}=q_{2}^{0}\\left(\\overline{\\lambda}_{1}, \\overline{\\lambda}_{1}\\right)+q_{2}^{0}\\left(\\overline{\\lambda}_{1}, \\overline{\\lambda}_{2}\\right)=.6666$. An AD security promising to pay 1 unit of consumption at time 2 in state $\\overline{\\lambda}_{2}$ has a time\n",
    "zero price of\n",
    "$Q_{22}=q_{2}^{0}\\left(\\overline{\\lambda}_{2}, \\overline{\\lambda}_{1}\\right)+q_{2}^{0}\\left(\\overline{\\lambda}_{2}, \\overline{\\lambda}_{2}\\right)=.2839$.\n",
    "Thus, a bond promising to pay 1 unit for sure at time 2 has time zero price\n",
    "$Q_{2}=Q_{21}+Q_{22}=.9505$.\n"
   ]
  },
  {
   "cell_type": "markdown",
   "metadata": {},
   "source": [
    "### Answer 5.7\n",
    "\n",
    "We conclude from the last set of calculations:\n",
    "\n",
    "The prices of risk-free bonds decrease as the pay-out period is further into the\n",
    "future (i.e., with their maturity). Furthermore, consumption contingent on the\n",
    "bad state is more expensive than consumption contingent on the good state."
   ]
  },
  {
   "cell_type": "markdown",
   "metadata": {},
   "source": [
    "## Exercise 6\n",
    "\n",
    "Consider a representative agent with objective function\n",
    "$$\n",
    "\\mathbb{E}_{0}\\sum_{t=0}^{\\infty}\\beta^{t}u(C_{t}).\n",
    "$$\n",
    "Assume $u(C) = \\lim_{\\theta' \\rightarrow \\theta}\\left[C^{1-\\theta'} - 1\\right]/(1-\\theta')$ and consumption growth is an independently and identically distributed (i.i.d.) random process: $\\ln(C_{t+1}/C_{t}) = g + \\sigma\\epsilon_{t+1}$, where $\\epsilon_{t}$ is i.i.d. as [standard Normal](https://en.wikipedia.org/wiki/Normal_distribution#Standard_normal_distribution) and $\\sigma \\in (0,\\infty)$ is a standard deviation scaling parameter.\n",
    "\n",
    "The agent faces a financial world that has only two assets: a risk-free bond $B_{t}$, whose return is $R_{f,t}$ and an equity or stock $N_{t}$. Her sequential budget constraint is:\n",
    "$$\n",
    "c_{t}+R_{f,t+1}^{-1} B_{t+1}+p_{t} N_{t+1} \\leq B_{t}+\\left(p_{t}+d_{t}\\right) N_{t},\n",
    "$$\n",
    "where $p_t$ is the market price of the stock and $d_{t}$ is a dividend payout, which is a claim on consumption in date $t$. In equilibrium the stock is fully held by the agent and the bond is in zero net supply.\n",
    "\n",
    "1. Show that a no-trade competitive equilibrium is characterized by a condition of the form:\n",
    "    $$\n",
    "    \\mathbb{E}_{t}\\left\\{ \\frac{\\beta u_{c}(C_{t+1})}{u_{c}(C_{t})}R_{t+1}\\right\\} = 1.\n",
    "    $$\n",
    "    What is $R_{t+1}$ exactly, and what is its economic interpretation? What does this condition say? What do you think the conditional expectations operator $\\mathbb{E}_{t}\\{\\cdot\\}$ means precisely?\n",
    "    \n",
    "2. Show that the log risk-free rate, $r_{f,t+1} := \\ln(R_{f,t+1})$, is given by the formula\n",
    "    $$\n",
    "    r_{f,t+1} = -\\ln\\beta +\\theta g -\\frac{(\\theta \\sigma)^{2}}{2}.\n",
    "    $$\n",
    "   Interpret in English what this condition says and how the log risk-free rate varies with parameters relating to preferences and also to the endowment process.\n",
    "   \n",
    "3. Let $r := \\ln(R)$. Also, show that \n",
    "    $$\n",
    "    \\mathbb{E}_{t}(r_{t+1} - r_{f,t+1}) = \\theta \\text{cov}(r_{t+1} - r_{f,t+1},\\epsilon_{t+1}) - \\frac{1}{2}\\text{var}(r_{t+1} - \\mathbb{E}_{t}r_{t+1}).\n",
    "    $$\n",
    "    What does this condition say? How do its arguments behave in different economies with different $\\theta$?\n",
    "   "
   ]
  },
  {
   "cell_type": "markdown",
   "metadata": {},
   "source": [
    "### Answer 6\n",
    "\n",
    "Hint: See Section 13.8 in Miao's textbook."
   ]
  },
  {
   "cell_type": "code",
   "execution_count": null,
   "metadata": {},
   "outputs": [],
   "source": []
  },
  {
   "cell_type": "markdown",
   "metadata": {},
   "source": [
    "## Exercise 7\n",
    "\n",
    "\n",
    "(Asset pricing, Corporate Taxes, Fiscal Policy and Competitive Equilibrium.)\n",
    "\n",
    "* **Read** Section 14.1 in Miao's *Economic Dynamics in Discrete Time*; and then ...\n",
    "* **Do** Exercise 14.4 (Part 1) in Miao (p.394-395)."
   ]
  },
  {
   "cell_type": "markdown",
   "metadata": {},
   "source": [
    "### Answer 7\n",
    "\n",
    "In Section 14.1.2 of the book, Miao constructs a competitive equilibrium as a *sequential competitive equilibrium* (in terms of markets opening for trade every date).\n",
    "\n",
    "Now, you're ask to re-formulate it in the original Debreu (1957) setting where markets open only once, at the beginning of time, $t=0$. That is, all trades occur once and for all, in a centralized, Walrasian market.Traders (are assumed to) commit ex-ante to making good on their date-$0$ contractual promises (i.e., they deliver on their contractual terms), as time unravels.\n",
    "\n",
    "The difference is that in the Debreu formulation, agents problem are all specified in terms of present-value date-0 constraints. In the equential markets setting, there is a date- and state-specific sequence of constraints.\n",
    "\n",
    "The workings are easy so I will leave this for you to derive. The takeaway is that in either method, they have exactly the same equilibrium characterization. As a result, they imply the same allocations.\n",
    "\n",
    "*Discussion*. So why the equivalence here?\n",
    "\n",
    "* Commitment: Because agents are assumed to honor their contracts they will never renege on delivery of any date-$t$ goods promised initially. \n",
    "\n",
    "* Bellman's principle of optimality at work: It turns out, because agents' preference representations are linearly separable in date-contingent goods, even if we re-open the Debreu once-and-for-all centralized market next period, or thereafter, agents will still trade with the same optimal strategy. That is there is no profitable one-time deviation from the original equilibrium allocation. Or, we say that agents are never tempted away from their equilibrium optimal plans.\n",
    "\n",
    "* Departures:\n",
    "\n",
    "    * So, if we somehow destroy either of those two ingredients above in the model, then it may be the case that Debreu's date-0 market formulation of *competitive equilibrium* and Arrow's *sequential markets competitive equilibrium* no longer yield the same equilibrium. \n",
    "    \n",
    "    * For example, if agents have non-standard behavioral preferences that suffer from dynamically inconsistent decisions, e.g., preferences with hyperbolic discounting.\n",
    "    \n",
    "    * Or, even if preferences are still well-behaved, if there is limited commitment in contracts (i.e., agents can always threaten to walk away from delivering on a contract), or if there is asymmetric information, then the two formulations may no longer coincide in their equilibria."
   ]
  },
  {
   "cell_type": "code",
   "execution_count": null,
   "metadata": {},
   "outputs": [],
   "source": []
  },
  {
   "cell_type": "markdown",
   "metadata": {},
   "source": [
    "## Exercise 8 (Competitive Equilbrium with Taxes)\n",
    "\n",
    "**Fiscal policy, recursive competitive equilibrium and productive public goods**. Consider an economy with measure 1 continua of identical households and firms. (This just means we normalize each population size of households and firms to 1.) Note all variables below are thus in per-capita (and per-worker) terms.\n",
    "\n",
    "**Households.** Each household values a stream of consumption $\\{ c_{t} \\}_{t=0}^{\\infty}$ according to this criterion function:\n",
    "$$\n",
    "\\sum_{t=0}^{\\infty} \\beta^{t} \\ln(c_{t}).\n",
    "$$\n",
    "Note, for your convenience, we assume the agent/household does not value leisure/work although they have an endowment of time of 1 unit per period. (This implies that the household would optimally supply $l_{t} = 1$ unit of labor every period.)\n",
    "\n",
    "Each household owns an initial capital stock/endowment of $k_{0}$. The household's sequential budget constraints are\n",
    "$$\n",
    "c_{t} + i_{t} = (1-\\tau_{t})(w_{t} + r_{t}k_{t}) + \\pi_{t},\n",
    "$$\n",
    "where $i_{t}$ is new investment demand, $w_{t}$ and $r_{t}$ are respectively rental rates of labor determined in perfectly competitive factor markets, and $\\pi_{t}$ is the total profits from ownership of firms. Households are price takers and take the sequence of tax rates $\\{\\tau_{t}\\}_{t=0}^{\\infty}$ as given.\n",
    "\n",
    "**Firms.** Each firm produces per-capita output $y_{t}$ (numeraire good) according to the production function:\n",
    "$$\n",
    "y_{t} = AG_{t}^{\\theta}k_{t}^{\\alpha}l_{t}^{1-\\alpha}, \\qquad A>0, \\alpha, \\theta \\in (0,1).\n",
    "$$\n",
    "New capital produced by the end of date $t$ (and available for use at the start of date $t+1$) obeys this technological process:\n",
    "$$\n",
    "k_{t+1} = i_{t}\n",
    "$$\n",
    "where $i_{t}$ is new investment flow. The firm's total cost (labor wage bill and capital rental bill) is $w_{t}l_{t} + r_{t}k_{t}$. Firms are perfectly competitive in both the factor and the product markets.\n",
    "\n",
    "1. Write down the household's recursive optimization problem (Bellman functional equation).\n",
    "\n",
    "2. Write down the firm's profit maximization problem, and characterize it's solution.\n",
    "\n",
    "3. Define a *recursive competitive equilibrium* for this economy, taking as exogenous some bounded policy sequence $\\{G_{t}, \\tau_{t}\\}_{t=0}^{\\infty}$ and $k_{0}$. *Hint*: You'll need to count how many markets there are and ensure that there are enough market clearing conditions for general equilibrium.\n",
    "\n",
    "4. Prove that for fixed government policies, there is a unique *recursive competitive equilibrium*. (Assume that $\\alpha + \\theta = 1$.)\n",
    "\n",
    "5. Derive the solution to this equilibrium. Show that the equilibrium consumption function is $c_{t} = (1-\\tau_{t})(1-\\alpha\\beta)y_{t}$ and the savings/investment function is $k_{t+1} = (1-\\tau_{t})\\alpha\\beta y_{t}$. *Hint*: Guess that the value function for households is log-linear in the variables of the production function."
   ]
  },
  {
   "cell_type": "markdown",
   "metadata": {},
   "source": [
    "### Answer 8.1\n",
    "\n",
    "This questions suggests you to approach this from a Mehra-Prescott style of defining a *recursive competitive equilibrium*. So follow the requirements closely!\n",
    "\n",
    "Let $V^{h}$ denote the value function of the household. Let's be pedantic*, and denote $K$ and $G$, respectively, as aggregate and competitive equilibrium stocks of private and public capital. These are taken as given by the atomistic (measure-zero) household.\n",
    "\n",
    "The household's Bellman equation is:\n",
    "$$\n",
    "V^{h}(k,K,\\tilde{G}) = \\max_{k_{+1} \\in \\Gamma(k|K,\\tilde{G})} \\left\\{ \\ln\\left[(1-\\tau)(w(K,\\tilde{G})+r(K,G)k+\\pi(K,\\tilde{G})-k_{+1}) \\right] + \\beta V^{h}(k_{+1},K_{+1},\\tilde{G}_{+1})\\right\\},\n",
    "$$\n",
    "where\n",
    "$$\n",
    "\\Gamma(k,K,\\tilde{G}) = \\{x \\in \\mathbb{R}: 0 \\leq x \\leq (1-\\tau)(w(K,\\tilde{G})+r(K,\\tilde{G})k+\\pi(K,\\tilde{G})\\}; \n",
    "$$\n",
    "and $(K_{+1}, \\tilde{G}_{+1}) = PLM(K,\\tilde{G})$ is the household's perception of the equilibrium law of motion for the aggregate states $(K,\\tilde{G})$. (Think of $PLM$ as the household's forecasting function for future states of the aggregate economy. They need that to calculate their total future payoffs, which is tucked away in the continuation value of the Bellman equation.)\n",
    "\n",
    "**Note***: We're being pedantic here, although it is unneccesary since this is a representative agent model and in equilibrium we'll expect that $K = k$ and $\\tilde{G} = G$ (i.e., agent's perceptions will be consistent with the aggregate laws in equilibrium). So why the notational extras?\n",
    "\n",
    "1. I keep this stick-up-the-arse notational convention to reminds us to be careful when thinking \"off-equilibrium-\" versus \"on-equilibrium-path\" solutions. \n",
    "\n",
    "2. Also, this notational baggage will be very important when you have to deal with heterogeneous-agents models in future, where careful notation and thinking will keep you from making mistakes in characterizing equilibrium and in coding your solutions.\n",
    "\n",
    "Quite often, being sloppy with notation will often end up as mistakes in our analytics and computations. So it's good practice to be notationally careful when writing your research as well."
   ]
  },
  {
   "cell_type": "markdown",
   "metadata": {},
   "source": [
    "### Answer 8.2"
   ]
  },
  {
   "cell_type": "markdown",
   "metadata": {},
   "source": [
    "The (aggregate) firm solves\n",
    "$$\n",
    "\\pi(K,G) = \\max_{K, L} \\left\\{ AG^{\\theta}K^{\\alpha}L^{1-\\alpha} - r(K,G)K - w(K,G)L \\right\\},\n",
    "$$\n",
    "The firm's profit maximizing decisions, $K$ and $L$, respectively satisfy:\n",
    "$$\n",
    "r(K,G) = \\alpha A G^{\\theta}\\left(\\frac{K}{L}\\right)^{\\alpha - 1},\n",
    "$$\n",
    "and,\n",
    "$$\n",
    "w(K,G) = (1-\\alpha) A G^{\\theta}\\left(\\frac{K}{L}\\right)^{\\alpha}.\n",
    "$$\n",
    "**Note**: If we plug these two FoCs into the objective (profit) function, we get that $\\pi(K,G) = 0$ whenever the firm is maximizing profits. (Why?)"
   ]
  },
  {
   "cell_type": "markdown",
   "metadata": {},
   "source": [
    "### Answer 8.3\n",
    "\n",
    "In equilibrium, since agents are identical, they make identical forecasts and take the same actions. Since populations are normalized to size 1, we have in equilibrium, $K = k$ and $\\tilde{G} = G$. The households' $PLM$ is thus consistent with the aggregate laws $K_{+1} = k_{+1} = i$ and $\\tilde{G}_{+1} = G_{+1}$ where the process for $G$ is given (exogenously, for now).\n",
    "\n",
    "Let the state space be $X$ which contains vectors $(k,G)$. Now we define a *recursive competitive equilibrium* in this model:\n",
    "\n",
    "**DEFINITION**. A *recursive competitive equilibrium* beginning from initial states $(k_{0},G_{0})$, $CE(k_{0},G_{0})$, is described by a value function $V^{h}: X \\rightarrow \\mathbb{R}$, decision function $g^{h}: X \\rightarrow X$, and pricing functions $p: X \\rightarrow \\mathbb{R}_{++}$ ($p \\in \\{w, r\\}$), such that:\n",
    "\n",
    "0. Individual beliefs are consistent with aggregate laws, so that $K = k$, $G = \\tilde{G}$ and $k_{+1} = g^{h}(k,G)$;\n",
    "\n",
    "1. Given pricing functions, $(V^{h}, g^{h})$ satisfy the household Bellman equation;\n",
    "\n",
    "2. The pricing functions $w$ and $r$ solve the firm's FoCs; and\n",
    "\n",
    "3. Markets clear: \n",
    "    * Labor (demand equals supply): $L = l = 1$; and\n",
    "    * Good (aggregate demand equals aggregate supply): $k_{+1} + c = y$ and $ y = (1-\\tau)AG^{\\theta}k^{\\alpha}$."
   ]
  },
  {
   "cell_type": "markdown",
   "metadata": {},
   "source": [
    "### Answer 8.4\n",
    "\n",
    "Combining the (functional) equations from parts 1-4 of the definition of an RCE, we can summarize $CE(k_{0},G_{0})$ sufficiently as:\n",
    "$$\n",
    "V^{h}(k,G) = \\max_{k_{+1} \\in \\Gamma(k,\\tilde{G})} \\left\\{ \\ln\\left[(1-\\tau)(AG^{\\theta}k^{\\alpha}-k_{+1}) \\right] + \\beta V^{h}(k_{+1},\\tilde{G}_{+1})\\right\\}\n",
    "\\\\\n",
    "= T(V^{h})(k,G),\n",
    "$$\n",
    "where\n",
    "$$\n",
    "\\Gamma(k,\\tilde{G}) = \\{x \\in \\mathbb{R}: 0 \\leq x \\leq (1-\\tau)AG^{\\theta}k^{\\alpha}\\}.\n",
    "$$\n",
    "\n",
    "*Interpretation*: This looks *as if* a planner is choosing a particular allocation of resources whilst ensuring the household is still at its optimum level of total happiness, subject to a given (bounded) sequence of policy $\\{ \\tau_{t},G_{t}\\}$ at each date $t$ and state $(k_{t}, G_{t})$."
   ]
  },
  {
   "cell_type": "markdown",
   "metadata": {},
   "source": [
    "How do we show that this has a unique solution? (Recall, our solutions are to be *functions* not Euclidean points!)\n",
    "\n",
    "Let $x := (k,G) \\in X$.\n",
    "\n",
    "First, we note that the Bellman operator $T$ is a self map. Suppose $V^{h}$ is a member of the class of continuous and bounded real-valued functions on domain $X$, i.e., $V^{h} \\in C_{b}(X, \\mathbb{R})$. Since the flow utility (being log) is continuous, and is bounded because its domain $X$ is bounded, then the sum of two functions from $C_{b}(X, \\mathbb{R})$ is a function that still belongs to the same class. The max operator preserves this property. Hence the Bellman operator is a self map from $C_{b}(X, \\mathbb{R})$ into itself.\n",
    "\n",
    "We can invoke Blackwell's Theorem to show that this self map is a $\\beta$-contraction map. Check that:\n",
    "1. $T$ is a monotone operator: Let $V, W$ be two candidate functions from $C_{b}(X, \\mathbb{R})$, and suppose $V(x) \\geq W(x)$ for every $x \\in X$. Since $V \\geq W$ uniformly, and since the per-period payoff function (log) is strictly increasing, then we also have $T(V)(k,G) \\geq T(W)(k,G)$ for every $(k,G) \\in X$.\n",
    "\n",
    "2. $T$ satisfies discounting: Let $(W+d)(x) := W(x) + d$ where $d > 0$. You *can show* that \n",
    "$$\n",
    "T(W+d)(k,G) = \\max_{k_{+1} \\in \\Gamma(k,\\tilde{G})} \\left\\{ \\ln\\left[(1-\\tau)(AG^{\\theta}k^{\\alpha}-k_{+1}) \\right] + \\beta W(k_{+1},\\tilde{G}_{+1}) \\right\\} +\\beta d\n",
    "\\\\\n",
    "= T(W)(k,G) + \\beta d.\n",
    "$$\n",
    "\n",
    "Finally, we assert that $\\left( C_{b}(X, \\mathbb{R}), d_{\\infty}\\right)$ is a *complete metric* space, where $d_{\\infty}$ is the sup-norm metric. You don't have to prove this, but if you're interested the idea is as follows:\n",
    "1. Show that the functions' co-domain $\\mathbb{R}$ is a complete metric space. (Every Cauchy sequence in $\\mathbb{R}$ has a limit has it also in $\\mathbb{R}$.)\n",
    "\n",
    "2. Then we show for any Cauchy sequence of functions $\\{f_{n}\\}_{n \\geq 0}$ in $C_{b}(X, \\mathbb{R})$ that converges uniformly to a limit $f$ in the same set, $f$ is also continuous and bounded.\n",
    "\n",
    "Because we can show that $T$ is a $\\beta$-contraction map, iterating on it will generate a Cauchy sequence of functions that continue to live in the space $C_{b}(X, \\mathbb{R})$, and which when equipped with the sup-norm metric, yields a complete metric space $\\left( C_{b}(X, \\mathbb{R}), d_{\\infty}\\right)$. In fact, the fixed point $V^{h}$ lives in a subset of $C_{b}(X, \\mathbb{R})$---the set of bounded, continuous, increasing, and strictly concave functions. Finally, by Banach's fixed point theorem, there is a unique solution, *in terms of* $V^h$.\n",
    "\n",
    "Second, we need to also show that there is a unique selection of actions at any state, under the RCE decision rules. Since the objective function in the Bellman operator is strictly increasing, and the constraint set is increasing with $x \\in X$, then the optimal selection $k_{+1} = g^{h}(x)$ is increasing with $x \\in X$. Moreover, since the objective function is strictly concave and the constraint set is convex, and they are continuous at each state $x$, then the optimizer $g^{h}$ is also continuous and $g^{h}(x)$ is single valued at all $x \\in X$. (That is, $g^{h}$ is a function and not a correspondence.)\n",
    "\n",
    "Finally, note that $k_{+1} =g^{h}(k,G)$ is a recursion on $X$, so then using the RCE definition we can generate a unique sequence of RCE outcomes in terms of allocation and pricing $\\{k_{t+1}, c_{t}, y_{t}, w_{t}, r_{t}\\}_{t=0}^{\\infty} \\in CE(k_0, G_0)$, for a fixed policy sequence $\\{\\tau_{t}, G_{t}\\}_{t=0}^{\\infty}$."
   ]
  },
  {
   "cell_type": "markdown",
   "metadata": {},
   "source": [
    "### Answer 8.5\n",
    "\n",
    "The quickest way is to guess and verify: Guess that $V^{h}(k,G) = A + B\\ln(k) + C\\ln(G)$. Plug that into the LHS and RHS of the Bellman functional. Evaluate the Bellman functional: Get the optimal decisions as a function of $(A, B, C)$ and $(k,G)$. Evaluate the objective function at this optimum. Because the guess is assumed to be a fixed point, we can now solve for the undetermined coefficients $(A, B, C)$. Finally, go back and evaluate the optimal decision functions by substituting out the $A$, $B$, and $C$ terms.\n",
    "\n",
    "The naive way is to do value iteration from say $V^{h}(k_{+1},G_{+1}) = 0$ like what we did on the computer. But for this analytical problem, this method will take you a long time!\n",
    "\n",
    "*RCE closed-form solution functions*. Luigi says, \"Ecco! ...\"\n",
    "* $k_{t+1} = (1-\\tau_{t})\\alpha\\beta y_{t}$.\n",
    "* $c_{t} = (1-\\tau_{t})(1-\\alpha\\beta) y_{t}$.\n",
    "* $y_{t} = AG_{t}^{\\theta}k_{t}^{\\alpha}$."
   ]
  },
  {
   "cell_type": "markdown",
   "metadata": {},
   "source": [
    "## Exercise 9 (Ramsey Optimal Taxation)"
   ]
  },
  {
   "cell_type": "markdown",
   "metadata": {},
   "source": [
    "**Public finance background**. The idea of optimal taxation here is in the spirit of Frank Ramsey's optimal taxation problem. Intuitively, in a static Ramsey optimal tax problem, the (benevolent) government is just like a monopolist price setter. In monopoly pricing, the optimal tax is given by a markup rule as a function of the elasticity of demand. We have the same insight here, where the government is the monopolist tax (pricing distortion) setter. Now, this is dynamic version of it. Because the problem is dynamic, so that the government chooses an infinite sequence of tax rates, we are going to assume that the government commits to its initial tax plan. (Aside: In general, such an *ex-ante* optimal tax plan need not be optimal for the benevolent government *ex post* (even if we put politics aside!)---i.e., the government may face a dynamic inconsistency problem so the taxation problem becomes a constrained-efficient dynamic game. But that is a harder kettle of worms that will require a modification to the Bellman equations.)"
   ]
  },
  {
   "cell_type": "markdown",
   "metadata": {},
   "source": [
    "The optimal Ramsey public policy is one of choosing the sequence of tax rates $\\{\\tau_{t}\\}_{t=0}^{\\infty}$ to maximize the Bethamite (i.e., utilitarian) criterion subject to its anticipation that the rest of the economy best respond according to their competitive equilibrium behavior.\n",
    "\n",
    "Mathematically, the benevolent Ramsey planner's problem is:\n",
    "$$\n",
    "V^{G}(k_{0}, G_{0}) = \\max_{\\{\\tau_{t}\\}_{t=0}^{\\infty}} \\left\\{ \\sum_{t=0}^{\\infty} \\beta^{t}\\ln(c_{t}): (c_{t}, k_{t+1}, y_{t}) \\in CE(k_{0}, G_{0}), G_{t+1} = \\tau_{t}y_{t},  (k_0, G_0) \\text{ given}\\right\\}.\n",
    "$$\n",
    "Note: The first constraint says that given policy, the private sector choices are competitive equilibrium---and therefore, optimal---choices. It turns out, this constraint can be summarized by the two equations you derived at the end of **Exercise 8** and by the definition of the production function. The second constraint is the government's per-period feasibility (budget) constraint, where we have assumed that the government cannot borrow. The last condition just tells us that the initial state variables are given."
   ]
  },
  {
   "cell_type": "markdown",
   "metadata": {},
   "source": [
    "1. Write down the Ramsey optimal tax program as a dynamic programming problem. (Use the note above.)\n",
    "\n",
    "2. Show that the optimal sequence of taxes is constant for every date $t \\in \\mathbb{N}$: $\\tau_{t} = \\beta\\theta$. Interpret and comment on the economics of this result.\n",
    "\n",
    "3. Derive an analytical expression for the evolution of capital in this economy under the Ramsey optimal tax plan.\n",
    "\n",
    "4. Suggest how you could take this model to the data and test it. (Advanced, optional.)"
   ]
  },
  {
   "cell_type": "code",
   "execution_count": null,
   "metadata": {},
   "outputs": [],
   "source": []
  }
 ],
 "metadata": {
  "kernelspec": {
   "display_name": "Python 3",
   "language": "python",
   "name": "python3"
  },
  "language_info": {
   "codemirror_mode": {
    "name": "ipython",
    "version": 3
   },
   "file_extension": ".py",
   "mimetype": "text/x-python",
   "name": "python",
   "nbconvert_exporter": "python",
   "pygments_lexer": "ipython3",
   "version": "3.6.12"
  },
  "latex_envs": {
   "LaTeX_envs_menu_present": true,
   "autoclose": false,
   "autocomplete": true,
   "bibliofile": "biblio.bib",
   "cite_by": "apalike",
   "current_citInitial": 1,
   "eqLabelWithNumbers": true,
   "eqNumInitial": 1,
   "hotkeys": {
    "equation": "Ctrl-E",
    "itemize": "Ctrl-I"
   },
   "labels_anchors": false,
   "latex_user_defs": false,
   "report_style_numbering": true,
   "user_envs_cfg": false
  },
  "toc": {
   "base_numbering": 1,
   "nav_menu": {},
   "number_sections": false,
   "sideBar": true,
   "skip_h1_title": false,
   "title_cell": "Table of Contents",
   "title_sidebar": "Contents",
   "toc_cell": true,
   "toc_position": {
    "height": "calc(100% - 180px)",
    "left": "10px",
    "top": "150px",
    "width": "384px"
   },
   "toc_section_display": true,
   "toc_window_display": true
  },
  "widgets": {
   "application/vnd.jupyter.widget-state+json": {
    "state": {},
    "version_major": 2,
    "version_minor": 0
   }
  }
 },
 "nbformat": 4,
 "nbformat_minor": 2
}
