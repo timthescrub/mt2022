{
 "cells": [
  {
   "cell_type": "markdown",
   "metadata": {
    "slideshow": {
     "slide_type": "skip"
    },
    "toc": true
   },
   "source": [
    "<h1>Table of Contents<span class=\"tocSkip\"></span></h1>\n",
    "<div class=\"toc\"><ul class=\"toc-item\"><li><span><a href=\"#Acknowledgement\" data-toc-modified-id=\"Acknowledgement-1\">Acknowledgement</a></span></li><li><span><a href=\"#Getting-Started\" data-toc-modified-id=\"Getting-Started-2\">Getting Started</a></span><ul class=\"toc-item\"><li><span><a href=\"#Welcome\" data-toc-modified-id=\"Welcome-2.1\">Welcome</a></span><ul class=\"toc-item\"><li><span><a href=\"#Why-Python?\" data-toc-modified-id=\"Why-Python?-2.1.1\">Why Python?</a></span></li><li><span><a href=\"#Why-Open-Source?\" data-toc-modified-id=\"Why-Open-Source?-2.1.2\">Why Open Source?</a></span></li><li><span><a href=\"#Computing-Environment\" data-toc-modified-id=\"Computing-Environment-2.1.3\">Computing Environment</a></span><ul class=\"toc-item\"><li><span><a href=\"#Jupyter\" data-toc-modified-id=\"Jupyter-2.1.3.1\">Jupyter</a></span></li></ul></li></ul></li></ul></li><li><span><a href=\"#Level-1-Header\" data-toc-modified-id=\"Level-1-Header-3\">Level 1 Header</a></span><ul class=\"toc-item\"><li><ul class=\"toc-item\"><li><ul class=\"toc-item\"><li><span><a href=\"#Running-the-course-.ipynb-materials\" data-toc-modified-id=\"Running-the-course-.ipynb-materials-3.0.0.1\">Running the course <code>.ipynb</code> materials</a></span></li><li><span><a href=\"#Jupyter-Basics\" data-toc-modified-id=\"Jupyter-Basics-3.0.0.2\">Jupyter Basics</a></span></li><li><span><a href=\"#Exercise\" data-toc-modified-id=\"Exercise-3.0.0.3\">Exercise</a></span></li></ul></li></ul></li><li><span><a href=\"#Exercises\" data-toc-modified-id=\"Exercises-3.1\">Exercises</a></span><ul class=\"toc-item\"><li><span><a href=\"#Exercise-1\" data-toc-modified-id=\"Exercise-1-3.1.1\">Exercise 1</a></span></li></ul></li></ul></li></ul></div>"
   ]
  },
  {
   "cell_type": "code",
   "execution_count": null,
   "metadata": {},
   "outputs": [],
   "source": []
  },
  {
   "cell_type": "markdown",
   "metadata": {
    "slideshow": {
     "slide_type": "slide"
    }
   },
   "source": [
    "# Acknowledgement\n",
    "\n",
    "This lecture and exercise notebook has been adapted from the open resources development by [QuantEcon](https://quantecon.org/)."
   ]
  },
  {
   "cell_type": "markdown",
   "metadata": {
    "slideshow": {
     "slide_type": "slide"
    }
   },
   "source": [
    "# Getting Started\n",
    "\n",
    "**Prerequisites**\n",
    "\n",
    "- Good attitude  \n",
    "- Good work ethic  "
   ]
  },
  {
   "cell_type": "markdown",
   "metadata": {
    "slideshow": {
     "slide_type": "subslide"
    }
   },
   "source": [
    "**Expected Learning Outcomes**\n",
    "\n",
    "- Understand what a programming language is  \n",
    "- Know why we chose Python  \n",
    "- Know what the Jupyter Notebook is  \n",
    "- Be able to start JupyterLab in the chosen environment (cloud or personal computer)  \n",
    "- Be able to open a Jupyter notebook in JupyterLab  \n",
    "- Know Jupyter Notebook basics: cell modes, editing/evaluating cells  "
   ]
  },
  {
   "cell_type": "markdown",
   "metadata": {
    "slideshow": {
     "slide_type": "slide"
    }
   },
   "source": [
    "## Welcome\n",
    "\n",
    "Welcome to the start of how to work in the\n",
    "Python programming language!\n",
    "\n",
    "A programming language:\n",
    "\n",
    "* is a structured subset of natural language (words) and special characters \n",
    "* allow humans to describe operations for computer to perform on their behalf"
   ]
  },
  {
   "cell_type": "markdown",
   "metadata": {
    "slideshow": {
     "slide_type": "subslide"
    }
   },
   "source": [
    "The programming language \n",
    "\n",
    "* translates these words and symbols \n",
    "\n",
    "* into instructions the computer can execute"
   ]
  },
  {
   "cell_type": "markdown",
   "metadata": {
    "slideshow": {
     "slide_type": "subslide"
    }
   },
   "source": [
    "### Why Python?\n",
    "\n",
    "* Relatively easy to learn and use  \n",
    "* Syntax with human readability \n",
    "* Excellent tools/libraries  \n",
    "* Highly popular and widely adopted standard in industry\n",
    "* General purpose\n",
    "    - data analysis\n",
    "    - websites\n",
    "    - database management\n",
    "    - web scraping\n",
    "    - financial modeling, data visualization\n",
    "    - best language for [gluing](https://en.wikipedia.org/wiki/Glue_code) these different pieces together  "
   ]
  },
  {
   "cell_type": "markdown",
   "metadata": {
    "slideshow": {
     "slide_type": "subslide"
    }
   },
   "source": [
    "### Why Open Source?\n",
    "\n",
    "Software development has changed radically in the last decade\n",
    "\n",
    "Increasingly, a process of stitching together high quality libraries and cutting research projects\n",
    "\n",
    "A disadvantage of proprietary languages (``MATLAB``, ``Stata``, etc) \n",
    "* they are not open-source\n",
    "* so unable to work within this new paradigm\n",
    "* due to legal, licensing conflicts"
   ]
  },
  {
   "cell_type": "markdown",
   "metadata": {
    "slideshow": {
     "slide_type": "subslide"
    }
   },
   "source": [
    "Practical the benefits of using an open-source language:\n",
    "* Easier for everyone in the world to write and share packages\n",
    "* Active contribution by many experts  \n",
    "* Publicly accessible sites (e.g. GitHub) - easier to build a community and collaborate.  \n",
    "* Convenient package management systems (i.e. a way to find, download, install, and upgrade packages)\n",
    "* Don't have to worry about annoying licensing fees (esp. if you don't have money!)"
   ]
  },
  {
   "cell_type": "markdown",
   "metadata": {
    "slideshow": {
     "slide_type": "subslide"
    }
   },
   "source": [
    "### Computing Environment\n",
    "\n",
    "These materials are meant to be interacted with, not passively read.\n",
    "\n",
    "To help you do this, we use a software called [Jupyter](https://jupyter.org/) \n",
    "- files known as **Jupyter notebooks** \n",
    "- allow us to bundle a mixture of text, code, and code output together\n",
    "\n",
    "In fact, right now you are either \n",
    "- directly reading a Jupyter notebook \n",
    "- or a website that was generated from a Jupyter notebook"
   ]
  },
  {
   "cell_type": "markdown",
   "metadata": {
    "slideshow": {
     "slide_type": "subslide"
    }
   },
   "source": [
    "#### Jupyter\n",
    "\n",
    "We will refer to two components of Jupyter’s software: \n",
    "\n",
    "* JupyterLab \n",
    "* Jupyter Notebook.\n",
    "\n",
    "**JupyterLab**\n",
    "\n",
    "JupyterLab runs in your browser \n",
    "\n",
    "It allows you to do a variety of things such\n",
    "as: \n",
    "\n",
    "edit text, view files, and work with Jupyter notebooks.\n",
    "\n",
    "**Jupyter Notebook**\n",
    "\n",
    "This is the actual file that allows you to mix code and text.\n",
    "\n",
    "The content inside a Jupyter notebook is organized into cells.\n",
    "\n",
    "Cells can have *inputs* and *outputs*.\n",
    "\n"
   ]
  },
  {
   "cell_type": "markdown",
   "metadata": {
    "slideshow": {
     "slide_type": "subslide"
    }
   },
   "source": [
    "There are two main types of cells:\n",
    "\n",
    "1. Markdown cells  \n",
    "  - *Inputs* are written in [markdown](https://github.com/adam-p/markdown-here/wiki/Markdown-Here-Cheatsheet) and can contain formatted text, images, equations, and more.  \n",
    "  - *Outputs* are rendered **in place of the input** when the cell is executed.  \n",
    "1. Code cells  \n",
    "  - *Inputs* Contain Python code (or code in [another language](https://github.com/jupyter/jupyter/wiki/Jupyter-kernels)).  \n",
    "  - *Outputs* Below the input cell; contain the results from executing input code.  \n",
    "\n",
    "\n"
   ]
  },
  {
   "cell_type": "markdown",
   "metadata": {
    "slideshow": {
     "slide_type": "subslide"
    }
   },
   "source": [
    "Below is an image that demonstrates what a Jupyter Notebook looks like:\n",
    "\n",
    "![https://datascience.quantecon.org/_static/jupyter_notebook.png](https://datascience.quantecon.org/_static/jupyter_notebook.png)\n",
    "\n"
   ]
  },
  {
   "cell_type": "markdown",
   "metadata": {
    "slideshow": {
     "slide_type": "subslide"
    }
   },
   "source": [
    "Notice a few things about this image:\n",
    "\n",
    "- Inputs to code cells have a ` [ ]:` \n",
    "\n",
    "    - to the left of them \n",
    "    - have a darker background than the surrounding area\n",
    "    \n",
    "- Code cells that have not yet been executed \n",
    "\n",
    "    - do not have a number in the `[ ]:` box \n",
    "    - have no corresponding output\n",
    "    \n",
    "- Executed code cells have a `[#]:` \n",
    "\n",
    "    - to the left of them (where `#` is a number) \n",
    "    - may or may not have an output (depends on input code)\n",
    "\n",
    "- Executed markdown cells are displayed as formatted text\n",
    "\n",
    "\n"
   ]
  },
  {
   "cell_type": "markdown",
   "metadata": {
    "slideshow": {
     "slide_type": "subslide"
    }
   },
   "source": [
    "Being able to include both text and code allows us to do interesting computations *and* explain them.\n",
    "\n",
    "Leading companies like [Netflix](https://medium.com/netflix-techblog/notebook-innovation-591ee3221233)\n",
    "and [Bloomberg](https://www.techatbloomberg.com/blog/inside-the-collaboration-that-built-the-open-source-jupyterlab-project/)\n",
    "adopt Jupyter as a tool of choice for data analytics and reporting.\n",
    "\n",
    "We will follow in their path and leverage Jupyter Notebook throughout these materials."
   ]
  },
  {
   "cell_type": "markdown",
   "metadata": {
    "slideshow": {
     "slide_type": "subslide"
    }
   },
   "source": [
    "#### Running the course ``.ipynb`` materials\n",
    "\n",
    "**Local Installation**\n",
    "\n",
    "With a local installation, you will install the required software onto your own computer.\n",
    "\n",
    "Please read the instructions in\n",
    "[local installation instructions](https://datascience.quantecon.org/introduction/local_install.html) page.\n",
    "\n",
    "These instructions will walk you through \n",
    "- the installation procedure, \n",
    "- help with some basic setup,\n",
    "- and show you how to open JupyterLab.\n",
    "\n",
    "Once you have completed installing the software, \n",
    "return here and proceed with the Jupyter\n",
    "Basics section."
   ]
  },
  {
   "cell_type": "markdown",
   "metadata": {
    "slideshow": {
     "slide_type": "subslide"
    }
   },
   "source": [
    "#### Jupyter Basics\n",
    "\n",
    "Now that you can open a JupyterLab instance on the cloud or on your own computer\n",
    "\n",
    "In this course we assume you will work on your own computer\n"
   ]
  },
  {
   "cell_type": "markdown",
   "metadata": {
    "slideshow": {
     "slide_type": "subslide"
    }
   },
   "source": [
    "**JupyterLab Dashboard**\n",
    "\n",
    "When you open a new session in Jupyter, you will be taken to the JupyterLab dashboard page\n",
    "\n",
    "This page shows the file system of the machine running the Jupyter server\n",
    "\n",
    "It allows you to navigate and open particular Jupyter Notebooks (or other types of files!)\n",
    "\n"
   ]
  },
  {
   "cell_type": "markdown",
   "metadata": {
    "slideshow": {
     "slide_type": "subslide"
    }
   },
   "source": [
    "The dashboard page is shown below.\n",
    "\n",
    "![https://datascience.quantecon.org/_static/jupyter_lab_dashboard.png](https://datascience.quantecon.org/_static/jupyter_lab_dashboard.png)\n",
    "\n",
    "  \n"
   ]
  },
  {
   "cell_type": "markdown",
   "metadata": {
    "slideshow": {
     "slide_type": "subslide"
    }
   },
   "source": [
    "You can \n",
    "\n",
    "- open existing files \n",
    "- change folders by double clicking on them\n",
    "- create new notebooks by clicking `Python 3` in the Launcher\n",
    "\n",
    "If you don’t see the Launcher as one of your tabs, \n",
    "- you can open it by clicking the `+` at the top of the JupyterLab dashboard (see the red circle in the image)\n",
    "\n"
   ]
  },
  {
   "cell_type": "markdown",
   "metadata": {
    "slideshow": {
     "slide_type": "subslide"
    }
   },
   "source": [
    "**Editing Jupyter Notebooks**\n",
    "\n",
    "Once you have opened a particular notebook, you can be in one of two “edit modes”.\n",
    "\n",
    "Command mode:\n",
    "\n",
    "* blue sidebar appears on the left of the cell\n",
    "\n",
    "* high-level changes: e.g., order of cells, creating a new cell, etc\n",
    "\n",
    "* Shortcut keys:\n",
    "\n",
    "    * `a` adds a new cell above current cell\n",
    "    * `b` adds one below the current\n",
    "    * `dd` deletes the current cell.  \n",
    "    * up arrow (or `k`) moves to the cell above\n",
    "    * down arrow (or `j`) changes to the cell below  "
   ]
  },
  {
   "cell_type": "markdown",
   "metadata": {
    "slideshow": {
     "slide_type": "subslide"
    }
   },
   "source": [
    "Edit mode: \n",
    "\n",
    "* Used when editing the content inside of cells\n",
    "\n",
    "* the selected cell displays a green sidebar on left.  \n",
    "  \n",
    "    * Can edit the content of a cell.  \n"
   ]
  },
  {
   "cell_type": "markdown",
   "metadata": {
    "slideshow": {
     "slide_type": "subslide"
    }
   },
   "source": [
    "Some useful commands:\n",
    "\n",
    "- To go from command mode to edit mode, press enter or double click the mouse  \n",
    "- Go from edit mode to command mode by pressing escape  \n",
    "- You can evaluate a cell by pressing `Shift + Enter` (meaning `Shift` and `Enter` at\n",
    "  the same time)  "
   ]
  },
  {
   "cell_type": "markdown",
   "metadata": {
    "slideshow": {
     "slide_type": "subslide"
    }
   },
   "source": [
    "#### Exercise\n",
    "\n",
    "See exercise 1 in the [exercise list](#ex1-1).\n",
    "\n",
    "**Advanced Usage and Getting Help**\n",
    "\n",
    "For more help with JupyterLab and Jupyter Notebook, see the user guides:\n",
    "\n",
    "- [JupyterLab](https://jupyterlab.readthedocs.io/en/latest/user/interface.html)  \n",
    "- [Jupyter Notebook](https://jupyterlab.readthedocs.io/en/latest/user/notebook.html)  \n",
    "\n",
    "\n",
    "\n",
    "<a id='ex1-1'></a>"
   ]
  },
  {
   "cell_type": "markdown",
   "metadata": {
    "slideshow": {
     "slide_type": "slide"
    }
   },
   "source": [
    "## Exercises"
   ]
  },
  {
   "cell_type": "markdown",
   "metadata": {
    "slideshow": {
     "slide_type": "subslide"
    }
   },
   "source": [
    "### Exercise 1\n",
    "\n",
    "In the *code* cell below (notice the `[ ]:` to the left) \n",
    "\n",
    "- type a quote (`\"`), \n",
    "- type ``Hello World!``,\n",
    "- then close with another quote (`\"`) and \n",
    "- evaluate the cell"
   ]
  },
  {
   "cell_type": "code",
   "execution_count": 11,
   "metadata": {
    "hide-output": false,
    "slideshow": {
     "slide_type": "subslide"
    }
   },
   "outputs": [
    {
     "data": {
      "text/plain": [
       "'Hello world'"
      ]
     },
     "execution_count": 11,
     "metadata": {},
     "output_type": "execute_result"
    }
   ],
   "source": [
    "\"Hello world\"\n",
    "\n",
    "#string1 = \"Hello World!\"\n",
    "\n",
    "#string2 = \"Have a nice day!\""
   ]
  },
  {
   "cell_type": "code",
   "execution_count": 5,
   "metadata": {},
   "outputs": [
    {
     "data": {
      "text/plain": [
       "'Hello World! Have a nice day!'"
      ]
     },
     "execution_count": 5,
     "metadata": {},
     "output_type": "execute_result"
    }
   ],
   "source": [
    "# Concatenate string1 and string2\n",
    "string1 + \" \" + string2"
   ]
  },
  {
   "cell_type": "markdown",
   "metadata": {
    "slideshow": {
     "slide_type": "skip"
    }
   },
   "source": [
    "([back to text](#dir1-1-1))"
   ]
  }
 ],
 "metadata": {
  "celltoolbar": "Slideshow",
  "date": 1627429656.7606714,
  "filename": "getting_started.md",
  "kernelspec": {
   "display_name": "Python 3",
   "language": "python",
   "name": "python3"
  },
  "language_info": {
   "codemirror_mode": {
    "name": "ipython",
    "version": 3
   },
   "file_extension": ".py",
   "mimetype": "text/x-python",
   "name": "python",
   "nbconvert_exporter": "python",
   "pygments_lexer": "ipython3",
   "version": "3.7.4"
  },
  "latex_envs": {
   "LaTeX_envs_menu_present": true,
   "autoclose": false,
   "autocomplete": true,
   "bibliofile": "biblio.bib",
   "cite_by": "apalike",
   "current_citInitial": 1,
   "eqLabelWithNumbers": true,
   "eqNumInitial": 1,
   "hotkeys": {
    "equation": "Ctrl-E",
    "itemize": "Ctrl-I"
   },
   "labels_anchors": false,
   "latex_user_defs": false,
   "report_style_numbering": false,
   "user_envs_cfg": false
  },
  "title": "Getting Started",
  "toc": {
   "base_numbering": 1,
   "nav_menu": {},
   "number_sections": false,
   "sideBar": true,
   "skip_h1_title": false,
   "title_cell": "Table of Contents",
   "title_sidebar": "Contents",
   "toc_cell": true,
   "toc_position": {
    "height": "916px",
    "left": "10px",
    "top": "150px",
    "width": "293.767px"
   },
   "toc_section_display": true,
   "toc_window_display": true
  }
 },
 "nbformat": 4,
 "nbformat_minor": 5
}
