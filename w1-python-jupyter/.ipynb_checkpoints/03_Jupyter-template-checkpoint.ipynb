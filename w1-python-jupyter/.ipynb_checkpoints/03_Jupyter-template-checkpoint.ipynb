{
 "cells": [
  {
   "cell_type": "markdown",
   "metadata": {
    "slideshow": {
     "slide_type": "skip"
    },
    "toc": true
   },
   "source": [
    "<h1>Table of Contents<span class=\"tocSkip\"></span></h1>\n",
    "<div class=\"toc\"><ul class=\"toc-item\"><li><span><a href=\"#Jupyter-Notebook-Editing-Template\" data-toc-modified-id=\"Jupyter-Notebook-Editing-Template-1\"><span class=\"toc-item-num\">1&nbsp;&nbsp;</span>Jupyter Notebook Editing Template</a></span><ul class=\"toc-item\"><li><span><a href=\"#Quick-guide-(hyperlinks-to-more-details)\" data-toc-modified-id=\"Quick-guide-(hyperlinks-to-more-details)-1.1\"><span class=\"toc-item-num\">1.1&nbsp;&nbsp;</span>Quick guide (hyperlinks to more details)</a></span></li><li><span><a href=\"#Editing-Math-and-Text\" data-toc-modified-id=\"Editing-Math-and-Text-1.2\"><span class=\"toc-item-num\">1.2&nbsp;&nbsp;</span>Editing Math and Text</a></span><ul class=\"toc-item\"><li><span><a href=\"#Lists\" data-toc-modified-id=\"Lists-1.2.1\"><span class=\"toc-item-num\">1.2.1&nbsp;&nbsp;</span>Lists</a></span></li><li><span><a href=\"#Special-decorators\" data-toc-modified-id=\"Special-decorators-1.2.2\"><span class=\"toc-item-num\">1.2.2&nbsp;&nbsp;</span>Special decorators</a></span></li><li><span><a href=\"#Section-headers\" data-toc-modified-id=\"Section-headers-1.2.3\"><span class=\"toc-item-num\">1.2.3&nbsp;&nbsp;</span>Section headers</a></span></li><li><span><a href=\"#LaTeX-Math-in-Markdown\" data-toc-modified-id=\"LaTeX-Math-in-Markdown-1.2.4\"><span class=\"toc-item-num\">1.2.4&nbsp;&nbsp;</span>LaTeX Math in Markdown</a></span></li></ul></li></ul></li><li><span><a href=\"#Editing-and-Executing-Python-Code\" data-toc-modified-id=\"Editing-and-Executing-Python-Code-2\"><span class=\"toc-item-num\">2&nbsp;&nbsp;</span>Editing and Executing Python Code</a></span><ul class=\"toc-item\"><li><span><a href=\"#Turn-Your-Notebook-into-a-Live-Presentation\" data-toc-modified-id=\"Turn-Your-Notebook-into-a-Live-Presentation-2.1\"><span class=\"toc-item-num\">2.1&nbsp;&nbsp;</span>Turn Your Notebook into a Live Presentation</a></span></li></ul></li></ul></div>"
   ]
  },
  {
   "cell_type": "markdown",
   "metadata": {
    "collapsed": true,
    "slideshow": {
     "slide_type": "slide"
    }
   },
   "source": [
    "Author: [MachinaFantasma](github.com/phantomachine) | [Twitter](https://twitter.com/machinafantasma)\n",
    "\n",
    "\n",
    "# Jupyter Notebook Editing Template\n",
    "\n",
    "This is an example of a Jupyter Notebook. The Notebook is an interactive environment for code design and step-by-step execution with explanatory (Markdown) notes, including math (input using LaTeX syntax).\n",
    "\n",
    "1. Double-click on each cell to see the raw input which then gets rendered as reader-friendly HTML content.\n",
    "2. Then if you hit ``SHIFT + ENTER`` on your keyboard the raw input gets displayed (or if it is executable code, it gets executed).\n",
    "\n",
    "Here's a more comprehensive guide by the Jupyter Notebook people: https://jupyter-notebook.readthedocs.io/en/stable/"
   ]
  },
  {
   "cell_type": "markdown",
   "metadata": {
    "slideshow": {
     "slide_type": "slide"
    }
   },
   "source": [
    "## Quick guide (hyperlinks to more details)\n",
    "\n",
    "1. Use the [dropdown menu to select ``Code``](https://jupyter-notebook.readthedocs.io/en/stable/examples/Notebook/Running%20Code.html). (Keyboard shortcut would be ``ESC + ` + y``.)\n",
    "2. Or use the [dropdown menu to select ``Markdown``](https://jupyter-notebook.readthedocs.io/en/stable/examples/Notebook/Working%20With%20Markdown%20Cells.html). (Keyboard shortcut would be ``ESC + ` + m``.)\n",
    "3. Active cells are highlighted by a green box.\n",
    "    * Use the ``Insert , Insert Cell Above`` dropdown menu to add a new cell above a currently active cell. (Keyboard shortcut would be ``ESC + ` + a``.)\n",
    "    * Use the ``Insert , Insert Cell Below`` dropdown menu to add a new cell above a currently active cell. (Keyboard shortcut would be ``ESC + ` + b``.)\n",
    "    \n",
    "   Note: The ``ESC`` prefix in the keyboard shortcut will be redundant if you're not currently inside an active cell.\n",
    "   \n",
    "4. To delete an unwanted cell quickly, use the ``d + d`` shortcut keys or go to the ``Edit`` dropdown menu."
   ]
  },
  {
   "cell_type": "markdown",
   "metadata": {},
   "source": [
    "sdfasdfasdfas\\ \n"
   ]
  },
  {
   "cell_type": "markdown",
   "metadata": {
    "slideshow": {
     "slide_type": "slide"
    }
   },
   "source": [
    "## Editing Math and Text\n",
    "\n",
    "This is all to be rendered in a **Markdown cell**.\n",
    "\n",
    "### Lists\n",
    "\n",
    "You can create enumerated or bullet lists. \n",
    "\n",
    "This is an enumerated list:\n",
    "\n",
    "1. Item 1\n",
    "2. Item 2\n",
    "\n",
    "This was literally done by inputing\n",
    "\n",
    "``1. Item 1``\n",
    "\n",
    "``2. Item 2``\n",
    "\n",
    "Replace the numbers by asterisk ``*`` to have a bullet list.\n",
    "\n",
    "\n",
    "### Special decorators\n",
    "\n",
    "* Typing quote-and-quote, your text, and closing with quote-and-quote again, will create a *literal* or *verbatim* render of the text contained within the double quotes. For example: ``your text``.\n",
    "\n",
    "* Adding an asterisk before and after your text will render the text in *italics*. Example: ``*italics*`` produces *italics*.\n",
    "\n",
    "* Adding two asterisks before and after your text will render the text in **bold**. Example: ``**bold**`` produces **bold**.\n",
    "\n",
    "### Section headers\n",
    "\n",
    "To create a Level 1 Header, use the single-hash prefix decorator followed by your header text, like so:\n",
    "\n",
    "``# This is My Level 1 Header Title``\n",
    "\n",
    "A Level 2 Header example is the one above, which was rendered using this:\n",
    "\n",
    "``## This is My Level 2 Header Title``\n",
    "\n",
    "Note the double-hash prefix.\n",
    "\n",
    "You can infer the rest.\n",
    "\n",
    "\n",
    "\n",
    "### LaTeX Math in Markdown\n",
    "\n",
    "Here's a few example Greek symbols\n",
    "\n",
    "* $\\alpha$ rendered from Markdown input ``$\\alpha$``\n",
    "\n",
    "* $\\omega$ rendered from Markdown input ``$\\omega$``\n",
    "\n",
    "If you forget the syntax for a symbol try this pattern-recognition tool: http://detexify.kirelabs.org/classify.html\n",
    "\n",
    "\n",
    "The open-close ``$`` symbol tells Markdown that this is a LaTeX Math string.\n",
    "\n",
    "Here's a few math notations we'll see recurrently in this course. Use and reconstruct from examples.\n",
    "\n",
    "*Example 1*\n",
    "\n",
    "$f(x) = \\sum_{t=0}^{\\infty}g_{t}(x)$\n",
    "\n",
    "This was rendered by the Markdown input ``$f(x) = \\sum_{t=0}^{\\infty}g_{t}(x)$``.\n",
    "\n",
    "\n",
    "*Example 2*\n",
    "\n",
    "$f(t) = \\int_{a}^{b}g_{t}(x)dx$\n",
    "\n",
    "This was rendered by the Markdown input ``$f(t) = \\int_{a}^{b}g_{t}(x)dx$``.\n",
    "\n",
    "*Example 3*\n",
    "\n",
    "$\\mathbb{E}(X_{t+1}|X_{t}) = \\int_{S} g\\left[ X_{t+1}\\left( s \\right), X_{t} \\right]d\\mu_{t+1}(s)$\n",
    "\n",
    "This was rendered by the Markdown input ``$\\mathbb{E}(X_{t+1}|X_{t}) = \\int_{S} g\\left[ X_{t+1}\\left( s \\right), X_{t} \\right]d\\mu_{t+1}(s)$``.\n",
    "\n",
    "\n",
    "Notes:\n",
    "\n",
    "* If you place a carriage return (i.e., hit ``ENTER``) between your text and a math string, then Markdown will render this as a *displayed* equation.\n",
    "\n",
    "* If you don't place a carriage return (i.e., hit ``ENTER``) between your text and a math string, then Markdown will render this as a *inline* equation."
   ]
  },
  {
   "cell_type": "markdown",
   "metadata": {
    "slideshow": {
     "slide_type": "slide"
    }
   },
   "source": [
    "# Editing and Executing Python Code\n",
    "\n",
    "Here's a example, where we import a numeric package call ``NumPy`` that is great for doing scientific and math computations (e.g., linear algebra, arrays or matrices, function evaluation and some basic statistics)."
   ]
  },
  {
   "cell_type": "code",
   "execution_count": 1,
   "metadata": {
    "slideshow": {
     "slide_type": "slide"
    }
   },
   "outputs": [],
   "source": [
    "# Import NumPy package\n",
    "import numpy as np\n",
    "\n",
    "# Define a NumPy 1D array\n",
    "A = np.array([1.0, 1.5, 32.1])"
   ]
  },
  {
   "cell_type": "markdown",
   "metadata": {
    "slideshow": {
     "slide_type": "slide"
    }
   },
   "source": [
    "Let's see what this looks like:"
   ]
  },
  {
   "cell_type": "code",
   "execution_count": 3,
   "metadata": {
    "scrolled": true,
    "slideshow": {
     "slide_type": "slide"
    }
   },
   "outputs": [
    {
     "name": "stdout",
     "output_type": "stream",
     "text": [
      "[ 1.   1.5 32.1]\n"
     ]
    }
   ],
   "source": [
    "# Display to screen\n",
    "print(A)"
   ]
  },
  {
   "cell_type": "code",
   "execution_count": 4,
   "metadata": {
    "slideshow": {
     "slide_type": "slide"
    }
   },
   "outputs": [
    {
     "data": {
      "text/plain": [
       "dtype('float64')"
      ]
     },
     "execution_count": 4,
     "metadata": {},
     "output_type": "execute_result"
    }
   ],
   "source": [
    "# Show type of array\n",
    "A.dtype"
   ]
  },
  {
   "cell_type": "code",
   "execution_count": 5,
   "metadata": {
    "slideshow": {
     "slide_type": "slide"
    }
   },
   "outputs": [
    {
     "data": {
      "text/plain": [
       "(3,)"
      ]
     },
     "execution_count": 5,
     "metadata": {},
     "output_type": "execute_result"
    }
   ],
   "source": [
    "# Report dimensionality of array\n",
    "A.shape"
   ]
  },
  {
   "cell_type": "markdown",
   "metadata": {},
   "source": [
    "This tells us that the example array ``A`` is a NumPy array which is flat or one dimensional with 3 elements. The elements are 64-bit floating point numbers (i.e., the computer's version of a real number, up to 64-bit precision).\n",
    "\n",
    "Here's a 2D array example."
   ]
  },
  {
   "cell_type": "code",
   "execution_count": 6,
   "metadata": {},
   "outputs": [],
   "source": [
    "B = np.array([A, [0.0, 2.0, -1.0]])"
   ]
  },
  {
   "cell_type": "code",
   "execution_count": 7,
   "metadata": {},
   "outputs": [
    {
     "name": "stdout",
     "output_type": "stream",
     "text": [
      "[[ 1.   1.5 32.1]\n",
      " [ 0.   2.  -1. ]]\n"
     ]
    }
   ],
   "source": [
    "print(B)"
   ]
  },
  {
   "cell_type": "code",
   "execution_count": 8,
   "metadata": {},
   "outputs": [
    {
     "data": {
      "text/plain": [
       "(2, 3)"
      ]
     },
     "execution_count": 8,
     "metadata": {},
     "output_type": "execute_result"
    }
   ],
   "source": [
    "B.shape"
   ]
  },
  {
   "cell_type": "code",
   "execution_count": 9,
   "metadata": {},
   "outputs": [
    {
     "data": {
      "text/plain": [
       "dtype('float64')"
      ]
     },
     "execution_count": 9,
     "metadata": {},
     "output_type": "execute_result"
    }
   ],
   "source": [
    "B.dtype"
   ]
  },
  {
   "cell_type": "markdown",
   "metadata": {},
   "source": [
    "You could also turn a ``NumPy`` array into a Python list (which will not have the science/math attributes or tool built into the list). For example:"
   ]
  },
  {
   "cell_type": "code",
   "execution_count": 11,
   "metadata": {},
   "outputs": [],
   "source": [
    "B_list = B.tolist()"
   ]
  },
  {
   "cell_type": "code",
   "execution_count": 13,
   "metadata": {},
   "outputs": [
    {
     "data": {
      "text/plain": [
       "list"
      ]
     },
     "execution_count": 13,
     "metadata": {},
     "output_type": "execute_result"
    }
   ],
   "source": [
    "type(B_list)"
   ]
  },
  {
   "cell_type": "code",
   "execution_count": 16,
   "metadata": {},
   "outputs": [
    {
     "name": "stdout",
     "output_type": "stream",
     "text": [
      "[[1.0, 1.5, 32.1], [0.0, 2.0, -1.0]]\n"
     ]
    }
   ],
   "source": [
    "print(B_list)"
   ]
  },
  {
   "cell_type": "markdown",
   "metadata": {},
   "source": [
    "You can convert a Python list into a ``Numpy`` array again like so:"
   ]
  },
  {
   "cell_type": "code",
   "execution_count": 14,
   "metadata": {},
   "outputs": [],
   "source": [
    "C = np.asarray(B_list)"
   ]
  },
  {
   "cell_type": "code",
   "execution_count": 15,
   "metadata": {},
   "outputs": [
    {
     "data": {
      "text/plain": [
       "numpy.ndarray"
      ]
     },
     "execution_count": 15,
     "metadata": {},
     "output_type": "execute_result"
    }
   ],
   "source": [
    "type(C)"
   ]
  },
  {
   "cell_type": "markdown",
   "metadata": {},
   "source": [
    "More examples through our [lecture notes here and the links contained therein](https://phantomachine.github.io/econ8022/pyprog.html)."
   ]
  },
  {
   "cell_type": "markdown",
   "metadata": {},
   "source": [
    "## Turn Your Notebook into a Live Presentation\n",
    "\n",
    "This uses ``RISE`` (Reveal.js - Jupyter/IPython Slideshow Extension).\n",
    "\n",
    "Super useful if you are presenting your results and you want to also include live code demos.\n",
    "\n",
    "More [information here](https://damianavila.github.io/RISE/)."
   ]
  }
 ],
 "metadata": {
  "celltoolbar": "Slideshow",
  "kernelspec": {
   "display_name": "Python 3",
   "language": "python",
   "name": "python3"
  },
  "language_info": {
   "codemirror_mode": {
    "name": "ipython",
    "version": 3
   },
   "file_extension": ".py",
   "mimetype": "text/x-python",
   "name": "python",
   "nbconvert_exporter": "python",
   "pygments_lexer": "ipython3",
   "version": "3.7.4"
  },
  "latex_envs": {
   "LaTeX_envs_menu_present": true,
   "autoclose": false,
   "autocomplete": true,
   "bibliofile": "biblio.bib",
   "cite_by": "apalike",
   "current_citInitial": 1,
   "eqLabelWithNumbers": true,
   "eqNumInitial": 1,
   "hotkeys": {
    "equation": "Ctrl-E",
    "itemize": "Ctrl-I"
   },
   "labels_anchors": false,
   "latex_user_defs": false,
   "report_style_numbering": true,
   "user_envs_cfg": false
  },
  "toc": {
   "base_numbering": 1,
   "nav_menu": {},
   "number_sections": true,
   "sideBar": true,
   "skip_h1_title": false,
   "title_cell": "Table of Contents",
   "title_sidebar": "Contents",
   "toc_cell": true,
   "toc_position": {
    "height": "940px",
    "left": "10px",
    "top": "150px",
    "width": "337.438px"
   },
   "toc_section_display": true,
   "toc_window_display": true
  }
 },
 "nbformat": 4,
 "nbformat_minor": 2
}
