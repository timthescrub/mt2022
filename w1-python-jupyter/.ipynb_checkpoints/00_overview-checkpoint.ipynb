{
 "cells": [
  {
   "cell_type": "markdown",
   "metadata": {
    "slideshow": {
     "slide_type": "skip"
    },
    "toc": true
   },
   "source": [
    "<h1>Table of Contents<span class=\"tocSkip\"></span></h1>\n",
    "<div class=\"toc\"><ul class=\"toc-item\"><li><span><a href=\"#What-will-we-study-in-this-course?\" data-toc-modified-id=\"What-will-we-study-in-this-course?-1\"><span class=\"toc-item-num\">1&nbsp;&nbsp;</span>What will we study in this course?</a></span></li><li><span><a href=\"#An-act-in-three-parts\" data-toc-modified-id=\"An-act-in-three-parts-2\"><span class=\"toc-item-num\">2&nbsp;&nbsp;</span>An act in three parts</a></span><ul class=\"toc-item\"><li><span><a href=\"#Prerequisites\" data-toc-modified-id=\"Prerequisites-2.1\"><span class=\"toc-item-num\">2.1&nbsp;&nbsp;</span>Prerequisites</a></span><ul class=\"toc-item\"><li><span><a href=\"#Calculus\" data-toc-modified-id=\"Calculus-2.1.1\"><span class=\"toc-item-num\">2.1.1&nbsp;&nbsp;</span>Calculus</a></span></li><li><span><a href=\"#Linear-Algebra\" data-toc-modified-id=\"Linear-Algebra-2.1.2\"><span class=\"toc-item-num\">2.1.2&nbsp;&nbsp;</span>Linear Algebra</a></span></li><li><span><a href=\"#Probability\" data-toc-modified-id=\"Probability-2.1.3\"><span class=\"toc-item-num\">2.1.3&nbsp;&nbsp;</span>Probability</a></span></li><li><span><a href=\"#Economics\" data-toc-modified-id=\"Economics-2.1.4\"><span class=\"toc-item-num\">2.1.4&nbsp;&nbsp;</span>Economics</a></span></li></ul></li></ul></li><li><span><a href=\"#Succeeding-in-this-course\" data-toc-modified-id=\"Succeeding-in-this-course-3\"><span class=\"toc-item-num\">3&nbsp;&nbsp;</span>Succeeding in this course</a></span><ul class=\"toc-item\"><li><span><a href=\"#Read,-think-and-get-your-hands-dirty\" data-toc-modified-id=\"Read,-think-and-get-your-hands-dirty-3.1\"><span class=\"toc-item-num\">3.1&nbsp;&nbsp;</span>Read, think and get your hands dirty</a></span></li><li><span><a href=\"#Discuss,-debate,-compete\" data-toc-modified-id=\"Discuss,-debate,-compete-3.2\"><span class=\"toc-item-num\">3.2&nbsp;&nbsp;</span>Discuss, debate, compete</a></span></li><li><span><a href=\"#Don't-be-shy-and-talk-to-us\" data-toc-modified-id=\"Don't-be-shy-and-talk-to-us-3.3\"><span class=\"toc-item-num\">3.3&nbsp;&nbsp;</span>Don't be shy and talk to us</a></span></li></ul></li><li><span><a href=\"#Welcome-and-enjoy-the-journey-together!\" data-toc-modified-id=\"Welcome-and-enjoy-the-journey-together!-4\"><span class=\"toc-item-num\">4&nbsp;&nbsp;</span>Welcome and enjoy the journey together!</a></span></li></ul></div>"
   ]
  },
  {
   "cell_type": "markdown",
   "metadata": {
    "slideshow": {
     "slide_type": "slide"
    }
   },
   "source": [
    "# What will we study in this course?"
   ]
  },
  {
   "cell_type": "markdown",
   "metadata": {
    "slideshow": {
     "slide_type": "subslide"
    }
   },
   "source": [
    "An introductory course covering \n",
    "\n",
    "* numerical methods\n",
    "* data science \n",
    "* economics\n",
    "* programming\n",
    "\n",
    "for understanding the world around us."
   ]
  },
  {
   "cell_type": "markdown",
   "metadata": {
    "slideshow": {
     "slide_type": "subslide"
    }
   },
   "source": [
    "Course is a complement to pencil-and-paper *economics* and *econometrics*. \n",
    "\n",
    "Focus on learning *practical* programming skills:\n",
    "\n",
    "* prepare you for the workplace \n",
    "\n",
    "* prepare you for future studies in economics and finance."
   ]
  },
  {
   "cell_type": "markdown",
   "metadata": {
    "slideshow": {
     "slide_type": "slide"
    }
   },
   "source": [
    "# An act in three parts \n",
    "\n",
    "You can divide this course into three themes:\n",
    "\n",
    "1. Programming and basic scientific computing in Python\n",
    "\n",
    "2. Data analysis, data science and data wrangling skills\n",
    "\n",
    "3. Case studies \n",
    "\n",
    "All seen through the lens of *economic* thinking\n",
    " "
   ]
  },
  {
   "cell_type": "markdown",
   "metadata": {
    "slideshow": {
     "slide_type": "subslide"
    }
   },
   "source": [
    "## Prerequisites\n",
    "\n",
    "Some degree of mathematical fluency is required.\n",
    "\n",
    "**No** programming knowledge is required.\n",
    "\n",
    "You should have at least: \n",
    "\n",
    "1. an introductory economics class\n",
    "2. one/two terms of calculus\n",
    "3. an elementary course in matrix/linear algebra\n",
    "\n",
    "If not, be willing to learn the basics on your own."
   ]
  },
  {
   "cell_type": "markdown",
   "metadata": {
    "slideshow": {
     "slide_type": "subslide"
    }
   },
   "source": [
    "### Calculus\n",
    "\n",
    "The core concepts used throughout:\n",
    "* Differentiation of univariate functions (e.g. chain rule, product rule)  \n",
    "* Exponentials, natural logarithms, and their derivatives  \n",
    "* Inverse functions and implicit functions  \n",
    "* Maximization/minimization of univariate functions  \n",
    "* Sequences, series, and infinite series  \n",
    "* Partial derivatives and multivariate functions  \n",
    "* Unconstrained optimization of multivariate functions  \n",
    "* Simple constrained optimization (including Lagrange multipliers)  "
   ]
  },
  {
   "cell_type": "markdown",
   "metadata": {
    "slideshow": {
     "slide_type": "subslide"
    }
   },
   "source": [
    "### Linear Algebra\n",
    "\n",
    "We assume you are good friends with:\n",
    "\n",
    "* Vectors and matrices  \n",
    "* Matrices and systems of linear equations  \n",
    "* Dimension and rank  \n",
    "* Matrix operations (e.g. addition, multiplication, inverse)  \n",
    "* Inner products  \n",
    "* Least squares projection"
   ]
  },
  {
   "cell_type": "markdown",
   "metadata": {
    "slideshow": {
     "slide_type": "subslide"
    }
   },
   "source": [
    "### Probability\n",
    "\n",
    "And somewhat acquainted with:\n",
    "\n",
    "* Basic probability of discrete and continuous distributions  \n",
    "* Conditional and marginal distributions  \n",
    "* Expected value, variance, and standard deviation  "
   ]
  },
  {
   "cell_type": "markdown",
   "metadata": {
    "slideshow": {
     "slide_type": "subslide"
    }
   },
   "source": [
    "### Economics\n",
    "\n",
    "While more economics is always better, we will try to assume an “Econ 101” background.\n",
    "\n",
    "Otherwise, we will try to provide additional background material on the economics topics."
   ]
  },
  {
   "cell_type": "markdown",
   "metadata": {
    "slideshow": {
     "slide_type": "slide"
    }
   },
   "source": [
    "# Succeeding in this course"
   ]
  },
  {
   "cell_type": "markdown",
   "metadata": {
    "slideshow": {
     "slide_type": "subslide"
    }
   },
   "source": [
    "## Read, think and get your hands dirty\n",
    "\n",
    "* Useful to pre-read before each week's lecture\n",
    "\n",
    "* Think about what you have read\n",
    "\n",
    "* Do the exercises and try to make up your own questions too!\n",
    "\n",
    "* Show up to live workshop and ask questions"
   ]
  },
  {
   "cell_type": "markdown",
   "metadata": {
    "slideshow": {
     "slide_type": "subslide"
    }
   },
   "source": [
    "## Discuss, debate, compete\n",
    "\n",
    "* Get together with your friends weekly\n",
    "\n",
    "* Form a study group\n",
    "\n",
    "* Try a friendly competition to see who gets a solution first!\n",
    "\n",
    "* Struggle together and convince each other about your understanding\n",
    "\n",
    "* This also improves you communication skills and deepens your understanding\n",
    "\n",
    "* Remember to submit your own final work written in your own words"
   ]
  },
  {
   "cell_type": "markdown",
   "metadata": {
    "slideshow": {
     "slide_type": "subslide"
    }
   },
   "source": [
    "## Don't be shy and talk to us\n",
    "\n",
    "* Feel free to reach out to me for an appointment (or your class TA)\n",
    "\n",
    "* Let me know if things are going too fast and you want to slow down\n",
    "\n",
    "* Post on the course Q&A forum and get a conversation going\n",
    "\n",
    "* Never be shy about asking anything! There are no \"stupid questions\""
   ]
  },
  {
   "cell_type": "markdown",
   "metadata": {
    "slideshow": {
     "slide_type": "slide"
    }
   },
   "source": [
    "# Welcome and enjoy the journey together!\n",
    "\n",
    "Thank you \n",
    "             \n",
    "             감사합니다\n",
    "             \n",
    "                        謝謝\n",
    "  \n",
    "  \n",
    "  Muchas gracias\n",
    "                             \n",
    "                             Terima Kasih\n",
    "      Danke schön\n",
    "                   \n",
    "                   どうもありがとう"
   ]
  }
 ],
 "metadata": {
  "celltoolbar": "Slideshow",
  "date": 1627429656.808602,
  "filename": "overview.md",
  "kernelspec": {
   "display_name": "Python 3",
   "language": "python",
   "name": "python3"
  },
  "language_info": {
   "codemirror_mode": {
    "name": "ipython",
    "version": 3
   },
   "file_extension": ".py",
   "mimetype": "text/x-python",
   "name": "python",
   "nbconvert_exporter": "python",
   "pygments_lexer": "ipython3",
   "version": "3.7.4"
  },
  "latex_envs": {
   "LaTeX_envs_menu_present": true,
   "autoclose": false,
   "autocomplete": false,
   "bibliofile": "smolyak.bib",
   "cite_by": "apalike",
   "current_citInitial": 1,
   "eqLabelWithNumbers": true,
   "eqNumInitial": 1,
   "hotkeys": {
    "equation": "Ctrl-E",
    "itemize": "Ctrl-I"
   },
   "labels_anchors": false,
   "latex_user_defs": false,
   "report_style_numbering": true,
   "user_envs_cfg": true
  },
  "title": "Course Description",
  "toc": {
   "base_numbering": 1,
   "nav_menu": {},
   "number_sections": true,
   "sideBar": true,
   "skip_h1_title": false,
   "title_cell": "Table of Contents",
   "title_sidebar": "Contents",
   "toc_cell": true,
   "toc_position": {
    "height": "calc(100% - 180px)",
    "left": "10px",
    "top": "150px",
    "width": "337.326px"
   },
   "toc_section_display": true,
   "toc_window_display": true
  }
 },
 "nbformat": 4,
 "nbformat_minor": 5
}
