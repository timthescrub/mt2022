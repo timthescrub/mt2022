{
 "cells": [
  {
   "cell_type": "markdown",
   "metadata": {
    "toc": true
   },
   "source": [
    "<h1>Table of Contents<span class=\"tocSkip\"></span></h1>\n",
    "<div class=\"toc\"><ul class=\"toc-item\"><li><span><a href=\"#The-Big-Picture-(via-Ramsey's-optimal-accumulation-example):\" data-toc-modified-id=\"The-Big-Picture-(via-Ramsey's-optimal-accumulation-example):-1\"><span class=\"toc-item-num\">1&nbsp;&nbsp;</span>The Big Picture (via Ramsey's optimal accumulation example):</a></span></li><li><span><a href=\"#Exercise-0\" data-toc-modified-id=\"Exercise-0-2\"><span class=\"toc-item-num\">2&nbsp;&nbsp;</span>Exercise 0</a></span><ul class=\"toc-item\"><li><span><a href=\"#Throwback-Thursday!\" data-toc-modified-id=\"Throwback-Thursday!-2.1\"><span class=\"toc-item-num\">2.1&nbsp;&nbsp;</span>Throwback Thursday!</a></span></li></ul></li><li><span><a href=\"#Exercise-1\" data-toc-modified-id=\"Exercise-1-3\"><span class=\"toc-item-num\">3&nbsp;&nbsp;</span>Exercise 1</a></span></li><li><span><a href=\"#Exercise-2-(Analytical-beefcaking)\" data-toc-modified-id=\"Exercise-2-(Analytical-beefcaking)-4\"><span class=\"toc-item-num\">4&nbsp;&nbsp;</span>Exercise 2 (Analytical beefcaking)</a></span></li><li><span><a href=\"#Exercise-3-(Computational-beefcaking)\" data-toc-modified-id=\"Exercise-3-(Computational-beefcaking)-5\"><span class=\"toc-item-num\">5&nbsp;&nbsp;</span>Exercise 3 (Computational beefcaking)</a></span></li><li><span><a href=\"#Exercise-4-(More-beefcaking)\" data-toc-modified-id=\"Exercise-4-(More-beefcaking)-6\"><span class=\"toc-item-num\">6&nbsp;&nbsp;</span>Exercise 4 (More beefcaking)</a></span></li><li><span><a href=\"#Exercise-5\" data-toc-modified-id=\"Exercise-5-7\"><span class=\"toc-item-num\">7&nbsp;&nbsp;</span>Exercise 5</a></span></li><li><span><a href=\"#Optional-exercise-for-the-serious-student\" data-toc-modified-id=\"Optional-exercise-for-the-serious-student-8\"><span class=\"toc-item-num\">8&nbsp;&nbsp;</span>Optional exercise for the serious student</a></span></li></ul></div>"
   ]
  },
  {
   "cell_type": "markdown",
   "metadata": {},
   "source": [
    "\n",
    "\n",
    "Author: [MachinaFantasma](https://github.com/phantomachine) | [Twitter](https://twitter.com/machinafantasma)\n",
    "\n",
    "\n",
    "**Key Learning Points**\n",
    "\n",
    "Ideas:\n",
    "\n",
    "* From theory (pencil and paper) to code implementation\n",
    "\n",
    "* Backward induction for finite $T$\n",
    "\n",
    "* Banach's fixed point theorem for infinite $T$\n",
    "\n",
    "    * Bellman functionals and value functions as fixed points\n",
    "    \n",
    "    * From theorem to Successive Approximation algorithm design\n",
    "\n",
    "Skills/Python:\n",
    "\n",
    "* 1D Function Approximation and Interpolation\n",
    "* 1D optimization\n",
    "\n",
    "Economics:\n",
    "\n",
    "* Optimal control policy\n",
    "* Valuation of an optimal program"
   ]
  },
  {
   "cell_type": "code",
   "execution_count": 3,
   "metadata": {},
   "outputs": [],
   "source": [
    "%matplotlib inline\n",
    "import numpy as np\n",
    "import matplotlib.pyplot as plt\n",
    "import scipy.optimize as opt\n",
    "import scipy.interpolate as interpolate\n",
    "import matplotlib.mlab as mlab   # For plotting given distribution functions\n",
    "from matplotlib.animation import FuncAnimation\n",
    "from IPython.display import HTML\n",
    "from matplotlib import cm\n",
    "from IPython.display import Image"
   ]
  },
  {
   "cell_type": "markdown",
   "metadata": {},
   "source": [
    "## The Big Picture (via Ramsey's optimal accumulation example):\n",
    "\n",
    "**What you already know**. In lectures so far we began with lessons from the classical microeconomics of consumer and general equilibrium theory. We recalled the following example of convex preference and production sets (with smooth preference and production functions), and its insights: \n",
    "\n",
    "* A (set of) necessary (and sufficient) condition(s) for equilibrium is that the consumer's preference-driven *marginal rate of substitution* (MRS) between any arbitrary two goods (say good $x$ and good $y$) would be equalized with the *marginal rate of tranformation* (MRT) of the two goods.\n",
    "\n",
    "* The resulting equilibrium allocation of the goods is supported by a price system (relative prices) that equates with the consumer's MRS and also with the firm's MRT.\n",
    "\n",
    "**Making the connection to macro**. We then began with a homogenous-good production economy, where there is a finite-horizon dynamic consumption planning problem, as a concrete example. Recalling the Fundamental Welfare Theorems (FWT) of general equilibrium, we could write the market equilibrium problem as a first-best social planning problem (where a price system is not explicitly required to coordinate allocations). This was the problem of choosing a sequence $\\mathbf{a} \\equiv ( (c_{0}, k_{1}), (c_{1}, k_{2}), ..., (c_{T}, k_{T+1}))$ such that we attain a maximal value:\n",
    "$$\n",
    "    V_{T}(k_{0}) = \\max_{\\mathbf{a}} \\left\\{ \\sum_{t=0}^{T} \\beta^{t} U(c_{t}) : k_{t+1} = f(k_{t}) - c_{t}, k_{0} = a \\right\\},\n",
    "$$\n",
    "where $a \\in (0,\\infty)$ is given, and, $k_{t}$ is a stock of capital fixed at the start of date $t$. The functions $U$ and $f$ are strictly increasing, strictly concave, twice-continuously differentiable and satisfy the usual Inada conditions (so that optimum solutions are guaranteed to be always in the interior of the commodity space, and, unique). \n",
    "\n",
    "We ended up with the necessary (and sufficient) conditions for an optimum (equivalently via FWT, for a competitive equilibrium) that says exactly the same thing you've learned from microeconomics (just relabel $x$ and $y$ to date-$t$ and date-$(t+1)$ contingent goods!):\n",
    "$$\n",
    "    \\frac{\\beta U_{c}[g_{t+1}(k_{t+1})]}{U_{c}[g_{t}(k_{t})]} = \\frac{1}{f_{k}(k_{t+1})};\n",
    "$$\n",
    "and, of course, not forgetting that an optimum (or here, equivalently an equilibrium) solution must be feasible:\n",
    "$$\n",
    "    k_{t+1} = f(k_{t}) - g_{t}(k_{t}),\n",
    "$$\n",
    "for every date $t \\in \\{0, ...,T\\}$.\n",
    "\n",
    "where the $(T+1)$ number of functions, $(t, k_{t}) \\mapsto g_{t}(k_{t})$ for every $t \\in \\{0, ...,T\\}$ are the sequence of *optimal/equilibrium consumption functions* to be solved for. That is, they give us a value of (optimal/equilibrium) consumption $c_{t}$ as a function of the date $t$ and the state (stock of capital) of the economy $k_{t}$, at the start of date $t$.\n",
    "\n",
    "**Economics Takeaway**: In the neoclassical models, because the FWTs hold, it is easier to solve an *planner*'s *optimal allocation* (dynamic programming) problem first and then work out the corresponding *competitive equilibrium* pricing functions as a function of the equivalent planner's allocation.\n",
    "\n",
    "Even when the FWTs fails (e.g., in models with missing (incomplete) markets, monopolistic distortions, or constractual and informational frictions), quite often the problem of directly solving for a (suboptimal) *competitive equilibrium* can still be recursified as a modified dynamic programming problem subject to additional complications/constraints."
   ]
  },
  {
   "cell_type": "markdown",
   "metadata": {},
   "source": [
    "## Exercise 0\n",
    "\n",
    "Let $U(c) = \\ln(c)$ and $f(k) = k^{\\alpha}$, where $\\alpha \\in (0,1)$. Set $\\beta = 1$.\n",
    "\n",
    "1. Let $T = 2$. Solve for the sequence of value and consumption (demand) *functions* $\\left\\{ (t, k_{t}) \\mapsto g_{t}(k_{t}): t = 0, ...,T \\right\\}$.\n",
    "\n",
    "2. Design a pseudocode that reflects what you just did by hand in the last question. (Hint: Can you decipher the source code/methods below and summarize that as an accurate yet human-readable list of instructions?)\n",
    "\n",
    "2. Implement/write a Python program to solve this example for any value of $T$. Set $\\alpha = 0.333$. (The source methods are given to you below.)"
   ]
  },
  {
   "cell_type": "code",
   "execution_count": 85,
   "metadata": {},
   "outputs": [],
   "source": [
    "# Model primitives\n",
    "\n",
    "def u(c, θ):\n",
    "    \"\"\"Utility function: CRRA class\n",
    "    \n",
    "    Note: Theoretically, u'(c) -> \\infty when \n",
    "    c -> 0 (\"in the limit\"). Practically, we may \n",
    "    have instances where c=0 (\"at the limit\").\n",
    "    A small number, say, 1e-18 is added to prevent\n",
    "    a \"division-by-zero\" error.\n",
    "    \"\"\"\n",
    "    if θ == 1.0:\n",
    "        youtiao = np.log(c)\n",
    "    elif θ > 0.0 and θ != 1.0:\n",
    "        youtiao = ((c)**(1.0-θ) - 1.0)/(1.0-θ)\n",
    "    return youtiao\n",
    "\n",
    "def f(k, α):\n",
    "    \"\"\"Cobb-Douglas production function (per capita)\"\"\"\n",
    "    sifan = k**α\n",
    "    return sifan\n",
    "\n",
    "def f_prime(k, α):\n",
    "    \"\"\"Cobb-Douglas production function (per capita)\"\"\"\n",
    "    return α*k**(α-1.0)\n",
    "\n",
    "def C_TotalResources(k, knext, α):\n",
    "    \"\"\"Resource constraint - returns c, consumption\"\"\"\n",
    "    xiangjiao = f(k, α) - knext\n",
    "    return xiangjiao"
   ]
  },
  {
   "cell_type": "code",
   "execution_count": 91,
   "metadata": {},
   "outputs": [],
   "source": [
    "def FunctionFit(X, Y, kind='linear'):\n",
    "    \"\"\"Given discrete data (x,y) \\in X x Y,\n",
    "    Find a continuous approximant function f that\n",
    "    rationalizes finite data. \n",
    "    \n",
    "    Two flavors:\n",
    "    linear : linear bases\n",
    "    cubic  : cubic spline\n",
    "    \"\"\"\n",
    "    if kind == 'linear':\n",
    "        f = interpolate.interp1d(X,Y)\n",
    "    elif kind == 'cubic':\n",
    "        f = interpolate.interp1d(X,Y,kind='cubic')\n",
    "    return f"
   ]
  },
  {
   "cell_type": "code",
   "execution_count": 92,
   "metadata": {},
   "outputs": [],
   "source": [
    "def Bellman(V_next_fitted, X, α, β, θ):\n",
    "    \"\"\"RHS of Bellman equation is a max. problem\n",
    "    Assumes input V_next_fitted is interpolant object\n",
    "    - either analytic or SciPy interpolated using\n",
    "      continuous basis functions\n",
    "    \"\"\"\n",
    "    # Pre-allocate array space\n",
    "    g = np.empty(X.size)\n",
    "    h = g.copy()\n",
    "    V = g.copy()\n",
    "    \n",
    "    # Define Objective Function at fixed k\n",
    "    fungsiobjektif = lambda k_next, k: -u(f(k, α) - k_next, θ) \\\n",
    "                                        - β*V_next_fitted(k_next) \n",
    "            \n",
    "    # Loop over current states in X\n",
    "    for idx_k, k in enumerate(X):     \n",
    "        # Solve max. problem to get g(t)(k), V(t)(k)\n",
    "        k_lb = X.min()\n",
    "        k_ub = f(k, α)\n",
    "        knext_opt, val, ierr, numfeval = opt.fminbound(fungsiobjektif, \n",
    "                                       k_lb, k_ub, \n",
    "                                       args=(k,),\n",
    "                                       full_output=True,\n",
    "                                      )\n",
    "        g[idx_k] = knext_opt\n",
    "        # Value at optimum, given k\n",
    "        V[idx_k] = -val\n",
    "        # Back out c = h(k), store it\n",
    "        c_opt = C_TotalResources(k, knext_opt, α)\n",
    "        h[idx_k] = c_opt\n",
    "        \n",
    "    # Fitted (interpolants) policy functions\n",
    "    g_fitted = FunctionFit(X, g, kind='cubic')\n",
    "    h_fitted = FunctionFit(X, h, kind='cubic')\n",
    "    V_fitted = FunctionFit(X, V, kind='cubic')\n",
    "    \n",
    "    # Bento box\n",
    "    result = { 'saving': g_fitted,\n",
    "               'consumption': h_fitted,\n",
    "               'value': V_fitted,\n",
    "               'saving-raw': g,\n",
    "               'consumption-raw': h,\n",
    "               'value-raw': V,\n",
    "    }\n",
    "    return result"
   ]
  },
  {
   "cell_type": "code",
   "execution_count": 93,
   "metadata": {},
   "outputs": [],
   "source": [
    "def BackwardInduction_Bellman(X, α, β, θ, T=2):\n",
    "    # Stage T+1 (scrap) value function\n",
    "    V_next = np.zeros(X.size)\n",
    "    V_next_fit = FunctionFit(X, V_next)\n",
    "    V_list = [ V_next_fit ]\n",
    "\n",
    "    # List containing sequence of policy functions\n",
    "    g_list = [ ]\n",
    "    h_list = [ ]\n",
    "\n",
    "    # Backward induction loop\n",
    "    for t in range(T, -1, -1):\n",
    "        # Get optimizers satisfying stage-t Euler functional\n",
    "        print(\"Solving Stage t = %i problem\" %(t))\n",
    "        result = Bellman(V_next_fit, X, α, β, θ)\n",
    "        # Concatenate stage t policies to list of policy functions\n",
    "        g_list.append(result['saving'])\n",
    "        h_list.append(result['consumption'])\n",
    "        V = result['value']\n",
    "        V_list.append(V)\n",
    "        # Use current V_t as t-1 stage input\n",
    "        V_next_fit = V\n",
    "\n",
    "    # Re-order g_list, h_list by natural time order\n",
    "    g_list = g_list[::-1] # k(t+1) = g(t)(k(t))\n",
    "    h_list = h_list[::-1] #   c(t) = h(t)(k(t))\n",
    "    V_list = V_list[::-1]\n",
    "    return g_list, h_list, V_list"
   ]
  },
  {
   "cell_type": "code",
   "execution_count": 98,
   "metadata": {},
   "outputs": [],
   "source": [
    "# Planning horizon\n",
    "T = 2\n",
    "\n",
    "# Model parameters\n",
    "θ = 1.0\n",
    "α = 0.3333\n",
    "β = 0.98\n",
    "A = 1.0\n",
    "\n",
    "# Discretized state space\n",
    "N_states = 100\n",
    "k_min = 1e-12\n",
    "k_max = (1.0/A)**(1.0/(α-1.0))\n",
    "X = np.linspace(k_min, k_max, N_states)"
   ]
  },
  {
   "cell_type": "markdown",
   "metadata": {},
   "source": [
    "### Throwback Thursday!\n",
    "\n",
    "Recall the exercise we did and solved by hand? See also last tutorial notebook."
   ]
  },
  {
   "cell_type": "code",
   "execution_count": 100,
   "metadata": {},
   "outputs": [],
   "source": [
    "# Handcrafted solutions (note T = 2 only)\n",
    "\n",
    "g_0 = (α*β*(1+α*β))*(X**α) / (1+α*β*(1+α*β))\n",
    "g_1 = α*β*(X**α) / (1+α*β)\n",
    "g_2 = np.zeros(g_1.size)\n",
    "g_list_exact = [ g_0, g_1, g_2 ]"
   ]
  },
  {
   "cell_type": "code",
   "execution_count": 101,
   "metadata": {},
   "outputs": [
    {
     "data": {
      "image/png": "[encoded data removed]",
      "text/plain": [
       "<Figure size 432x288 with 1 Axes>"
      ]
     },
     "metadata": {},
     "output_type": "display_data"
    }
   ],
   "source": [
    "plt.figure()\n",
    "for t in range(len(g_list_exact)):  \n",
    "    # Analytical solution\n",
    "    if θ == 1.0:\n",
    "        plt.plot(X, g_list_exact[t])\n",
    "    else:\n",
    "        print(\"D'oh! Move along, nothing here to see...\")\n",
    "    plt.xlabel(\"$k_{t}$\")\n",
    "plt.title(\"Stage-$t$ dependent savings policy functions\")\n",
    "plt.show() "
   ]
  },
  {
   "cell_type": "markdown",
   "metadata": {},
   "source": [
    "Now we will solve the *backward induction* problem directly using the Bellman equation.\n",
    "\n",
    "We'll compare our numerical results with this plot of the exact decision functions later."
   ]
  },
  {
   "cell_type": "markdown",
   "metadata": {},
   "source": [
    "Now can you superimpose your backward induction on the Bellman equation solution, onto the analytical solution?"
   ]
  },
  {
   "cell_type": "code",
   "execution_count": null,
   "metadata": {},
   "outputs": [],
   "source": []
  },
  {
   "cell_type": "markdown",
   "metadata": {},
   "source": [
    "## Exercise 1\n",
    "\n",
    "Consider the same economy above, but now $T \\rightarrow +\\infty$, so that now, $\\mathbf{c} \\equiv (c_{0}, c_{1}, ...)$. We need to also discount each date-$t$ utility by the factor $\\beta^{t}$, where $\\beta \\in (0,1)$. \n",
    "\n",
    "1. Write down the infinite-horizon mathematical programming problem (i.e., the infinite-consumption-sequence planning problem), *precisely*. (For instance, write down a Lagrangean problem but be precise in your notation.)\n",
    "\n",
    "2. Now re-write the problem as a recursive two-period problem (i.e., the Bellman equation).\n",
    "\n",
    "3. Prove that there exists a unique solution to the Bellman equation. (*Hint*: The space of continuous functions on a bounded domain is *compact*. Show how you can apply Banach's fixed point theorem.)"
   ]
  },
  {
   "cell_type": "markdown",
   "metadata": {},
   "source": [
    "## Exercise 2 (Analytical beefcaking)\n",
    "\n",
    "Your theoretical result above also implies a particular computational algorithm: The *method of successive approximation* of the value function. Use this idea to derive (using pencil and paper) the solution in term of a pair of (*a priori* unknown) functions---the consumption policy function $k_{t} \\mapsto g(k_{t}) = c_{t}$, and, the value function $k_{t} \\mapsto V(k_{t})$. \n",
    "\n",
    "Make sure your high-school elementary algebra and calculus is tight!"
   ]
  },
  {
   "cell_type": "markdown",
   "metadata": {},
   "source": [
    "## Exercise 3 (Computational beefcaking)\n",
    "\n",
    "Now write down a pseudocode for and implement a Python solution to the problem from **Exercise 1**. Plot the analytical results you derived in **Exercise 2** against your numerical solution here. To do the plotting comparisons use the parameter settings from **Exercise 0**."
   ]
  },
  {
   "cell_type": "markdown",
   "metadata": {},
   "source": [
    "## Exercise 4 (More beefcaking)\n",
    "\n",
    "Show, by induction, that the solution to **Exercise 0** converges to the same solution in **Exercise 2**, as $T \\rightarrow +\\infty$."
   ]
  },
  {
   "cell_type": "markdown",
   "metadata": {},
   "source": [
    "## Exercise 5\n",
    "\n",
    "You can re-purpose the finite-horizon code from above. Show how you can use that to compute the same model except that now $T \\rightarrow +\\infty$."
   ]
  },
  {
   "cell_type": "markdown",
   "metadata": {},
   "source": [
    "## Optional exercise for the serious student\n",
    "\n",
    "Under some conditions, the Bellman operator also implies a dual recursive operator in the form of an Euler equation and resource constraint system. Our template optimal growth model above is a prime example.\n",
    "\n",
    "1. Show how you can derive the Euler functional equation together with the dynamic resource constraint. Hint: Combine the first-order condition on the RHS of the Bellman equation and exploit a version of the envelope theorem (due to Benveniste and Scheinkman).\n",
    "\n",
    "2. What is the economic interpretation of this alternative Euler-equation description of the decision maker's optimal plan?\n",
    "\n",
    "3. Devise a code recipe or pseudocode for computing the fixed point of this system of first order conditions: i.e., the Euler equation and the recursive resource constraint. Hint: The fixed point you seek is now in terms of the decision function directly.\n",
    "\n",
    "4. Implement your code and solve for the fixed point (optimal decision function) directly."
   ]
  }
 ],
 "metadata": {
  "kernelspec": {
   "display_name": "Python 3",
   "language": "python",
   "name": "python3"
  },
  "language_info": {
   "codemirror_mode": {
    "name": "ipython",
    "version": 3
   },
   "file_extension": ".py",
   "mimetype": "text/x-python",
   "name": "python",
   "nbconvert_exporter": "python",
   "pygments_lexer": "ipython3",
   "version": "3.6.12"
  },
  "latex_envs": {
   "LaTeX_envs_menu_present": true,
   "autoclose": false,
   "autocomplete": true,
   "bibliofile": "biblio.bib",
   "cite_by": "apalike",
   "current_citInitial": 1,
   "eqLabelWithNumbers": true,
   "eqNumInitial": 1,
   "hotkeys": {
    "equation": "Ctrl-E",
    "itemize": "Ctrl-I"
   },
   "labels_anchors": false,
   "latex_user_defs": false,
   "report_style_numbering": true,
   "user_envs_cfg": false
  },
  "toc": {
   "base_numbering": 1,
   "nav_menu": {},
   "number_sections": true,
   "sideBar": false,
   "skip_h1_title": false,
   "title_cell": "Table of Contents",
   "title_sidebar": "Contents",
   "toc_cell": true,
   "toc_position": {},
   "toc_section_display": true,
   "toc_window_display": true
  },
  "widgets": {
   "application/vnd.jupyter.widget-state+json": {
    "state": {},
    "version_major": 2,
    "version_minor": 0
   }
  }
 },
 "nbformat": 4,
 "nbformat_minor": 2
}
