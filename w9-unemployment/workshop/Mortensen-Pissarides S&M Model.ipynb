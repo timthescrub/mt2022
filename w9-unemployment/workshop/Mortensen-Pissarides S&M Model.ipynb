{
 "cells": [
  {
   "cell_type": "markdown",
   "metadata": {
    "toc": true
   },
   "source": [
    "<h1>Table of Contents<span class=\"tocSkip\"></span></h1>\n",
    "<div class=\"toc\"><ul class=\"toc-item\"><li><span><a href=\"#Labor-Search-and-Matching\" data-toc-modified-id=\"Labor-Search-and-Matching-1\"><span class=\"toc-item-num\">1&nbsp;&nbsp;</span>Labor Search and Matching</a></span><ul class=\"toc-item\"><li><span><a href=\"#Readings\" data-toc-modified-id=\"Readings-1.1\"><span class=\"toc-item-num\">1.1&nbsp;&nbsp;</span>Readings</a></span></li><li><span><a href=\"#Dependencies\" data-toc-modified-id=\"Dependencies-1.2\"><span class=\"toc-item-num\">1.2&nbsp;&nbsp;</span>Dependencies</a></span></li></ul></li><li><span><a href=\"#Model\" data-toc-modified-id=\"Model-2\"><span class=\"toc-item-num\">2&nbsp;&nbsp;</span>Model</a></span><ul class=\"toc-item\"><li><ul class=\"toc-item\"><li><span><a href=\"#Exercise-0\" data-toc-modified-id=\"Exercise-0-2.0.1\"><span class=\"toc-item-num\">2.0.1&nbsp;&nbsp;</span>Exercise 0</a></span></li><li><span><a href=\"#Solution\" data-toc-modified-id=\"Solution-2.0.2\"><span class=\"toc-item-num\">2.0.2&nbsp;&nbsp;</span>Solution</a></span></li><li><span><a href=\"#Parametric-instances-of-$M$\" data-toc-modified-id=\"Parametric-instances-of-$M$-2.0.3\"><span class=\"toc-item-num\">2.0.3&nbsp;&nbsp;</span>Parametric instances of $M$</a></span></li></ul></li><li><span><a href=\"#Workers-and-firms:-Decision-problems\" data-toc-modified-id=\"Workers-and-firms:-Decision-problems-2.1\"><span class=\"toc-item-num\">2.1&nbsp;&nbsp;</span>Workers and firms: Decision problems</a></span><ul class=\"toc-item\"><li><span><a href=\"#Firms\" data-toc-modified-id=\"Firms-2.1.1\"><span class=\"toc-item-num\">2.1.1&nbsp;&nbsp;</span>Firms</a></span></li><li><span><a href=\"#Workers/households\" data-toc-modified-id=\"Workers/households-2.1.2\"><span class=\"toc-item-num\">2.1.2&nbsp;&nbsp;</span>Workers/households</a></span></li><li><span><a href=\"#Wage-determination\" data-toc-modified-id=\"Wage-determination-2.1.3\"><span class=\"toc-item-num\">2.1.3&nbsp;&nbsp;</span>Wage determination</a></span></li></ul></li></ul></li><li><span><a href=\"#Search-and-Matching-Equilibrium\" data-toc-modified-id=\"Search-and-Matching-Equilibrium-3\"><span class=\"toc-item-num\">3&nbsp;&nbsp;</span>Search and Matching Equilibrium</a></span><ul class=\"toc-item\"><li><ul class=\"toc-item\"><li><span><a href=\"#Recursive-decentralized-equilibrium\" data-toc-modified-id=\"Recursive-decentralized-equilibrium-3.0.1\"><span class=\"toc-item-num\">3.0.1&nbsp;&nbsp;</span>Recursive decentralized equilibrium</a></span></li></ul></li><li><span><a href=\"#Steady-state-equilibrium\" data-toc-modified-id=\"Steady-state-equilibrium-3.1\"><span class=\"toc-item-num\">3.1&nbsp;&nbsp;</span>Steady state equilibrium</a></span><ul class=\"toc-item\"><li><span><a href=\"#Exercise-1\" data-toc-modified-id=\"Exercise-1-3.1.1\"><span class=\"toc-item-num\">3.1.1&nbsp;&nbsp;</span>Exercise 1</a></span></li><li><span><a href=\"#Exercise-2\" data-toc-modified-id=\"Exercise-2-3.1.2\"><span class=\"toc-item-num\">3.1.2&nbsp;&nbsp;</span>Exercise 2</a></span></li></ul></li><li><span><a href=\"#Quantitative-analysis\" data-toc-modified-id=\"Quantitative-analysis-3.2\"><span class=\"toc-item-num\">3.2&nbsp;&nbsp;</span>Quantitative analysis</a></span><ul class=\"toc-item\"><li><span><a href=\"#Defining-the-model-primitives\" data-toc-modified-id=\"Defining-the-model-primitives-3.2.1\"><span class=\"toc-item-num\">3.2.1&nbsp;&nbsp;</span>Defining the model primitives</a></span></li><li><span><a href=\"#Defining-the-equilibrium-mapping\" data-toc-modified-id=\"Defining-the-equilibrium-mapping-3.2.2\"><span class=\"toc-item-num\">3.2.2&nbsp;&nbsp;</span>Defining the equilibrium mapping</a></span></li><li><span><a href=\"#Qualitative-dynamics-via-phase-portrait\" data-toc-modified-id=\"Qualitative-dynamics-via-phase-portrait-3.2.3\"><span class=\"toc-item-num\">3.2.3&nbsp;&nbsp;</span>Qualitative dynamics via phase portrait</a></span></li><li><span><a href=\"#Exercise-3\" data-toc-modified-id=\"Exercise-3-3.2.4\"><span class=\"toc-item-num\">3.2.4&nbsp;&nbsp;</span>Exercise 3</a></span></li><li><span><a href=\"#Solution\" data-toc-modified-id=\"Solution-3.2.5\"><span class=\"toc-item-num\">3.2.5&nbsp;&nbsp;</span>Solution</a></span></li></ul></li><li><span><a href=\"#Nonlinear-dynamics---numerical-example\" data-toc-modified-id=\"Nonlinear-dynamics---numerical-example-3.3\"><span class=\"toc-item-num\">3.3&nbsp;&nbsp;</span>Nonlinear dynamics - numerical example</a></span><ul class=\"toc-item\"><li><span><a href=\"#Parametric-constraint-and-a-hack-job-check\" data-toc-modified-id=\"Parametric-constraint-and-a-hack-job-check-3.3.1\"><span class=\"toc-item-num\">3.3.1&nbsp;&nbsp;</span>Parametric constraint and a hack-job check</a></span></li></ul></li><li><span><a href=\"#Visualizing-equilibrium-transition-path\" data-toc-modified-id=\"Visualizing-equilibrium-transition-path-3.4\"><span class=\"toc-item-num\">3.4&nbsp;&nbsp;</span>Visualizing equilibrium transition path</a></span><ul class=\"toc-item\"><li><span><a href=\"#Exercise-4\" data-toc-modified-id=\"Exercise-4-3.4.1\"><span class=\"toc-item-num\">3.4.1&nbsp;&nbsp;</span>Exercise 4</a></span></li><li><span><a href=\"#Solution\" data-toc-modified-id=\"Solution-3.4.2\"><span class=\"toc-item-num\">3.4.2&nbsp;&nbsp;</span>Solution</a></span></li></ul></li><li><span><a href=\"#Extensions\" data-toc-modified-id=\"Extensions-3.5\"><span class=\"toc-item-num\">3.5&nbsp;&nbsp;</span>Extensions</a></span><ul class=\"toc-item\"><li><span><a href=\"#Exercise-5\" data-toc-modified-id=\"Exercise-5-3.5.1\"><span class=\"toc-item-num\">3.5.1&nbsp;&nbsp;</span>Exercise 5</a></span></li><li><span><a href=\"#Solution\" data-toc-modified-id=\"Solution-3.5.2\"><span class=\"toc-item-num\">3.5.2&nbsp;&nbsp;</span>Solution</a></span></li></ul></li></ul></li></ul></div>"
   ]
  },
  {
   "cell_type": "markdown",
   "metadata": {
    "slideshow": {
     "slide_type": "slide"
    }
   },
   "source": [
    "# Labor Search and Matching\n",
    "\n",
    "A basic deterministic and perfect-foresight equilibrium model\n",
    "\n",
    "[Timothy Kam](https://phantomachine.github.io/)"
   ]
  },
  {
   "cell_type": "markdown",
   "metadata": {
    "slideshow": {
     "slide_type": "slide"
    }
   },
   "source": [
    "## Readings\n",
    "\n",
    "* Ljungqvist and Sargent [2018, Chapters 29.3 and 30 (extensions)]\n",
    "\n",
    "* Miao (2014, Chapter 18.1)\n",
    "\n",
    "* Origin and scientific history:\n",
    "\n",
    "    * Pissarides, Christopher A. (1985, AER) [“Short-Run Equilibrium Dynamics of Unemployment, Vacancies, and Real Wages.”](https://www.jstor.org/stable/1821347)\n",
    "    \n",
    "    * Pissarides (2000, MIT) [\"Equilibrium Unemployment Theory\"](https://mitpress.mit.edu/books/equilibrium-unemployment-theory-second-edition)\n",
    "\n",
    "    * Albrecht, James.  [“Search Theory: The 2010 Nobel Memorial Prize in Economic Sciences.”](https://www.jstor.org/stable/23016835)\n",
    "\n",
    "## Dependencies\n",
    "\n",
    "* This notebook requires some Jupyter Notebook Extensions \n",
    "\n",
    "    * [Follow instructions here](https://github.com/phantomachine/BJBANKS)"
   ]
  },
  {
   "cell_type": "code",
   "execution_count": 1,
   "metadata": {
    "slideshow": {
     "slide_type": "skip"
    }
   },
   "outputs": [],
   "source": [
    "import numpy as np\n",
    "import scipy.optimize as opt\n",
    "import matplotlib.pyplot as plt\n",
    "\n",
    "%matplotlib inline"
   ]
  },
  {
   "cell_type": "markdown",
   "metadata": {
    "slideshow": {
     "slide_type": "slide"
    }
   },
   "source": [
    "# Model"
   ]
  },
  {
   "cell_type": "markdown",
   "metadata": {
    "slideshow": {
     "slide_type": "subslide"
    }
   },
   "source": [
    "**Aggregate state variable**\n",
    "\n",
    "Unemployment (rate), $u_{t}$\n",
    "\n",
    "* Alternatively, by a change of variables, aggregate employment $N_{t}$"
   ]
  },
  {
   "cell_type": "markdown",
   "metadata": {
    "slideshow": {
     "slide_type": "subslide"
    }
   },
   "source": [
    "**Households/worker**\n",
    "\n",
    "* Identical risk-neutral agents, each an element of $[0,1]$\n",
    "\n",
    "* Total discounted utility, $\\beta \\in (0,1)$: \n",
    "    \\begin{equation}\n",
    "    \\sum_{t=0}^{\\infty} \\beta^{t} C_{t}\n",
    "    \\label{eq: total utility function}\n",
    "    \\end{equation}\n",
    "    \n",
    "* $C_{t} = w_{t}$. If the agent works $w_{t}$ is paid by firm (wage income). If not, then $w_{t} = b$ (non-wage income)."
   ]
  },
  {
   "cell_type": "markdown",
   "metadata": {
    "slideshow": {
     "slide_type": "subslide"
    }
   },
   "source": [
    "**Firms and production**\n",
    "\n",
    "* Firms, each an element of $[0,1]$\n",
    "\n",
    "* Post vacancy at per-period fixed cost $\\kappa > 0$. There is free-entry to vacancy posting.\n",
    "\n",
    "* Each firms hires at most one worker\n",
    "\n",
    "* In a firm-worker match\n",
    "\n",
    "    * the worker produces $A > 0$ goods \n",
    "    \n",
    "    * firm and worker bargain over real wage outcome $w_{t}$\n",
    "\n",
    "* Firm's profit is $A - w_{t} > 0$\n",
    "\n",
    "* Each period, a match is destroyed with probability $s$"
   ]
  },
  {
   "cell_type": "markdown",
   "metadata": {
    "slideshow": {
     "slide_type": "subslide"
    }
   },
   "source": [
    "**Decentralized labor matching market**\n",
    "\n",
    "* Current measures of unemployed and vacancies: $(u_{t}, v_{t})$\n",
    "\n",
    "* Market tightness: $\\theta_{t} := v_{t}/u_{t}$\n",
    "\n",
    "* (Reduced-form) *matching function* outputs total number of matches: $(u_{t}, v_{t}) \\mapsto M(u_{t}, v_{t})$\n",
    "\n",
    "    * Continuously differentiable and increasing in both inputs, and strictly concave\n",
    "    \n",
    "    * Homogeneous of degree one. Implies probability of matching for firm and worker, respectively, as\n",
    "        \\begin{equation}\n",
    "        q_f(\\theta_{t}) \\equiv \\frac{ M(u_{t}, v_{t})}{v_{t}}, \n",
    "        \\ \\ \\\n",
    "        q_w(\\theta_{t}) := \\theta_{t}q(\\theta_{t}) \\equiv \\frac{ M(u_{t}, v_{t})}{u_{t}}\n",
    "        \\label{eq: matching probability-firm/worker}\n",
    "        \\end{equation}"
   ]
  },
  {
   "cell_type": "markdown",
   "metadata": {
    "slideshow": {
     "slide_type": "skip"
    }
   },
   "source": [
    "Microfoundations: \n",
    "\n",
    "* [Petrolongo and Pissarides](http://www.aeaweb.org/articles?id=10.1257/jel.39.2.390)\n",
    "* [Stevens](https://doi.org/10.1111/j.1468-2354.2007.00447.x) "
   ]
  },
  {
   "cell_type": "markdown",
   "metadata": {
    "slideshow": {
     "slide_type": "subslide"
    }
   },
   "source": [
    "### Exercise 0"
   ]
  },
  {
   "cell_type": "markdown",
   "metadata": {
    "slideshow": {
     "slide_type": "subslide"
    }
   },
   "source": [
    "Show that given the assumptions on $M$, \n",
    "\n",
    "$q_f'(\\theta) < 0$ \n",
    "\n",
    "and \n",
    "\n",
    "$-1 < \\frac{\\text{d}\\ln q_f(\\theta)}{\\text{d}\\ln\\theta} < 0$.\n",
    "\n",
    "Explain in words what these mean.\n"
   ]
  },
  {
   "cell_type": "markdown",
   "metadata": {
    "slideshow": {
     "slide_type": "subslide"
    }
   },
   "source": [
    "### Solution"
   ]
  },
  {
   "cell_type": "markdown",
   "metadata": {
    "slideshow": {
     "slide_type": "subslide"
    }
   },
   "source": [
    "Since $M$ is linearly homogeneous, we can write\n",
    "\n",
    "\\begin{equation*}\n",
    "q_f(\\theta) \\equiv \\frac{1}{v}M(u,v) = M(1/\\theta, 1)\n",
    "\\end{equation*}\n",
    "\n",
    "By inspection, $M$ is increasing in $u$ and $v$ individually. From the last line above, it is decreasing in $\\theta$. \n",
    "\n",
    "Explicitly, we can derive:\n",
    "\n",
    "\\begin{equation*}\n",
    "q_f'(\\theta) = -\\frac{\\partial M(1/\\theta, 1)}{\\partial 1/\\theta}\\frac{1}{\\theta^{2}} < 0\n",
    "\\end{equation*}"
   ]
  },
  {
   "cell_type": "markdown",
   "metadata": {
    "slideshow": {
     "slide_type": "subslide"
    }
   },
   "source": [
    "[**More than words ...**](https://www.youtube.com/watch?v=UrIiLvg58SY)\n",
    "\n",
    "$q_f'(\\theta) < 0$\n",
    "\n",
    "A firm's probability of matching with a worker is decreasing in market tightness. \n",
    "\n",
    "* i.e., if there are more buyers relative to sellers in the labor market, each buyer (firm) has a harder time finding a worker. \n",
    "\n",
    "* The black-box matching mechanism $M$, which encapsulates market congestion externalities, implies this. "
   ]
  },
  {
   "cell_type": "markdown",
   "metadata": {
    "slideshow": {
     "slide_type": "subslide"
    }
   },
   "source": [
    "Within an $\\epsilon$-neighbourhood of $\\theta$, the percentage change in the firm's probability of making a match as a ratio to a percentage change in market tightness is just:\n",
    "\n",
    "\\begin{equation*}\n",
    "\\epsilon_{q}(\\theta) :=\\frac{\\text{d}\\ln q_{f}(\\theta)}{\\text{d}\\ln\\theta} = q_{f}'(\\theta)\\frac{\\theta}{q_{f}(\\theta)} = -\\frac{\\partial M(1/\\theta, 1)}{\\partial 1/\\theta}\\frac{1}{\\theta q_{f}(\\theta)} < 0.\n",
    "\\end{equation*}\n",
    "\n",
    "Since this is a ratio of an infinitesimal rate of change in firm's matching probability relative to a given worker's matching probability, $\\vert \\epsilon_{q}(\\theta)\\vert < 1$.\n",
    "\n",
    "Hence $\\epsilon_{q}(\\theta) \\in (-1,0)$.\n"
   ]
  },
  {
   "cell_type": "markdown",
   "metadata": {
    "slideshow": {
     "slide_type": "subslide"
    }
   },
   "source": [
    "[**Words ...** ](https://www.youtube.com/watch?v=1ISYT6EeUM0)\n",
    "\n",
    "$\\epsilon_{q}(\\theta) \\in (-1,0)$\n",
    "\n",
    "This unit-free object measures the *point elasticity of $q(\\theta)$ with respect to $\\theta$*,\n",
    "\n",
    "* i.e., how sensitive is the firm's matching probability to market tightness (an endogenous object).\n"
   ]
  },
  {
   "cell_type": "markdown",
   "metadata": {
    "slideshow": {
     "slide_type": "subslide"
    }
   },
   "source": [
    "### Parametric instances of $M$\n",
    "\n",
    "We require the matching function to have the following properties:\n",
    "\n",
    "* Buyer: $q_f'(\\theta) < 0$ \n",
    "\n",
    "* Seller: $q_w'(\\theta) > 0$\n",
    "\n",
    "* $\\theta q_f(\\theta) = q_w(\\theta)$\n",
    "\n",
    "* $q_w, q_f$ are uniformly bounded on $[0,1]$\n",
    "\n",
    "\n",
    "\n"
   ]
  },
  {
   "cell_type": "markdown",
   "metadata": {
    "slideshow": {
     "slide_type": "subslide"
    }
   },
   "source": [
    "**Cobb-Douglas**. This was originally used by Pissarides (1985):\n",
    "\n",
    "\\begin{equation*}\n",
    "M(u,v) = \\mu u^{\\alpha}v^{1-\\alpha}; \\ \\ \\alpha \\in (0,1), \\mu > 0.\n",
    "\\end{equation*}\n",
    "\n",
    "* $\\epsilon_{q}(\\theta) = -\\alpha$, is constant.\n",
    "\n",
    "* Technically, the Cobb-Douglas function does not restrict $q_f(\\cdot)$ to be uniformly bounded below $1$. \n",
    "\n",
    "    * It is everywhere bounded below by $0$. \n",
    "\n",
    "    * So in practice, we'll have to impose the requirement that $q_f(\\theta) = \\min\\{ \\mu \\theta^{-\\alpha}, 1\\}$."
   ]
  },
  {
   "cell_type": "markdown",
   "metadata": {
    "slideshow": {
     "slide_type": "subslide"
    }
   },
   "source": [
    "**Telegraph-line matching**. \n",
    "\n",
    "* Cox and Miller (1965), *The Theory of Stochastic Processes*\n",
    "\n",
    "* $q_w(\\theta) = \\left(\\frac{\\theta^{\\rho}}{1+\\theta^{\\rho}}\\right)^{\\frac{1}{\\rho}}$\n",
    "\n",
    "* $q_w'(\\theta) = \\frac{1}{\\theta}\\frac{q_w(\\theta)}{1+\\theta^{\\rho}}$"
   ]
  },
  {
   "cell_type": "markdown",
   "metadata": {
    "slideshow": {
     "slide_type": "subslide"
    }
   },
   "source": [
    "**Urn-ball matching**. \n",
    "\n",
    "* $q_w(\\theta) = 1 - \\exp(-\\theta)$\n",
    "\n",
    "* $q_w'(\\theta) = \\exp(-\\theta)$"
   ]
  },
  {
   "cell_type": "markdown",
   "metadata": {
    "slideshow": {
     "slide_type": "subslide"
    }
   },
   "source": [
    "**Bathtub accounting process**\n",
    "\n",
    "* $u_{t}$ aggregate unemployment measure (also rate)\n",
    "\n",
    "\\begin{equation}\n",
    "u_{t+1} = s(1-u_{t}) + \\left[1-\\theta_{t}q_{f}(\\theta_{t})\\right]u_{t}\n",
    "\\label{eq: bathtub stock-flow accounting}\n",
    "\\end{equation}\n",
    "\n",
    "* Tomorrow's pool/stock of the unemployed is due to the flow from:\n",
    "\n",
    "    * current stock of employed who get separated from jobs end of this period, plus \n",
    "    * current pool of unemployed who don't get matched with firms"
   ]
  },
  {
   "cell_type": "markdown",
   "metadata": {
    "slideshow": {
     "slide_type": "slide"
    }
   },
   "source": [
    "## Workers and firms: Decision problems"
   ]
  },
  {
   "cell_type": "markdown",
   "metadata": {
    "slideshow": {
     "slide_type": "subslide"
    }
   },
   "source": [
    "Consider descriptions of:\n",
    "    \n",
    "* Firms' optimal behavior given aggregate outcomes  \n",
    "\n",
    "* Households' optimal behavior given aggregate outcomes\n",
    "\n",
    "* How they interact through a terms-of-trade mechanism to determine allocative and pricing outcomes (Nash bargaining), and, an adding up condition for the state of unemployment"
   ]
  },
  {
   "cell_type": "markdown",
   "metadata": {
    "slideshow": {
     "slide_type": "subslide"
    }
   },
   "source": [
    "### Firms"
   ]
  },
  {
   "cell_type": "markdown",
   "metadata": {
    "slideshow": {
     "slide_type": "subslide"
    }
   },
   "source": [
    "Given a wage outcome $w_{t}$, firm's value of filling a vacancy this period:\n",
    "\n",
    "\\begin{equation}\n",
    "J(u_{t}) = A - w_{t} + \\beta \\left[s V(u_{t+1}) + (1-s)J(u_{t+1})\\right].\n",
    "\\label{eq: J Bellman}\n",
    "\\end{equation}\n",
    "\n",
    "For a vacant firm this period, a firm's value is\n",
    "\n",
    "\\begin{equation}\n",
    "V(u_{t}) = - \\kappa + \\beta \\left[q_{f}(\\theta_{t}) J(u_{t+1}) + (1-q_{f}(\\theta_{t}))V(u_{t+1})\\right].\n",
    "\\label{eq: V Bellman}\n",
    "\\end{equation}"
   ]
  },
  {
   "cell_type": "markdown",
   "metadata": {
    "slideshow": {
     "slide_type": "subslide"
    }
   },
   "source": [
    "Free entry to vacancy posting means $V(u_{t}) = 0$ for all states and dates.\n",
    "\n",
    "From \\eqref{eq: V Bellman}, this implies the value of filling a job next period as \n",
    "\n",
    "\\begin{equation}\n",
    "J(u_{t+1}) = \\frac{\\kappa}{\\beta q_{f}(\\theta_{t})}.\n",
    "\\label{eq: V Bellman - free entry}\n",
    "\\end{equation}\n",
    "\n",
    "Using \\eqref{eq: V Bellman - free entry} in \\eqref{eq: J Bellman} given us the value of a job to a firm, a.k.a. *Job Creation* condition:\n",
    "\\begin{equation}\n",
    "\\frac{\\kappa}{q_{f}(\\theta_{t})} \n",
    "= \\beta \\left[A - w_{t+1} +\\frac{(1-s)\\kappa}{q_{f}(\\theta_{t})}\\right].\n",
    "\\label{eq: JC}\n",
    "\\end{equation}"
   ]
  },
  {
   "cell_type": "markdown",
   "metadata": {
    "slideshow": {
     "slide_type": "subslide"
    }
   },
   "source": [
    "### Workers/households"
   ]
  },
  {
   "cell_type": "markdown",
   "metadata": {
    "slideshow": {
     "slide_type": "subslide"
    }
   },
   "source": [
    "Given wage outcome, the value to a current worker is\n",
    "\\begin{equation}\n",
    "E(u_{t})\n",
    "= w_{t} + \\beta \\left[s U(u_{t+1}) + (1-s)E(u_{t+1})\\right].\n",
    "\\label{eq: E Bellman}\n",
    "\\end{equation}\n",
    "\n",
    "A current unemployed agent's valuation is\n",
    "\\begin{equation}\n",
    "U(u_{t})\n",
    "= b + \\beta \\left[q_{w}(\\theta_{t}) E(u_{t+1}) + (1-q_{w}(\\theta_{t}))U(u_{t+1})\\right].\n",
    "\\label{eq: U Bellman}\n",
    "\\end{equation}"
   ]
  },
  {
   "cell_type": "markdown",
   "metadata": {
    "slideshow": {
     "slide_type": "subslide"
    }
   },
   "source": [
    "### Wage determination"
   ]
  },
  {
   "cell_type": "markdown",
   "metadata": {
    "slideshow": {
     "slide_type": "subslide"
    }
   },
   "source": [
    "Unlike Walrasian markets:\n",
    "\n",
    "* Here we have decentralized trades. \n",
    "\n",
    "* There is no fictitious Walrasian auctioneer.\n",
    "\n",
    "* Term of trade is not a magical, un-modelled fixed point solution to some zero excess demand condition.\n",
    "\n",
    "* We need to be *explicit* on the process of trade---i.e., model how terms of trade (for labor) is pinned down.\n",
    "\n",
    "    * How about a bargaining process? Nash (1950) axiomatic bargaining. \n",
    "    * Or, Rubinstein and Wolinsky (1985) a non-cooperative sequential bargaining game interpretation of Nash. \n",
    "    \n",
    "  Here we'll take a (generalized) representation of Nash's axiomatic bargaining problem.\n",
    "\n"
   ]
  },
  {
   "cell_type": "markdown",
   "metadata": {
    "slideshow": {
     "slide_type": "subslide"
    }
   },
   "source": [
    "The Nash bargaining problem is represented by\n",
    "\\begin{equation}\n",
    "\\max_{w} \\left[E(u) - U(u)\\right]^{\\eta}\\left[J(u)-V(u)\\right]^{1-\\eta}\n",
    "\\label{eq: GNB}\n",
    "\\end{equation}\n",
    "subject to $J(u)-V(u) \\geq 0$ and $E(u) - U(u) \\geq 0$.\n",
    "\n",
    "The parameter $\\eta$ denotes worker's bargaining power (also the probability that worker gets to set the agenda in the sequential bargaining game interpretation)."
   ]
  },
  {
   "cell_type": "markdown",
   "metadata": {
    "slideshow": {
     "slide_type": "subslide"
    }
   },
   "source": [
    "First-order condition:\n",
    "\\begin{equation}\n",
    "\\eta J(u_{t}) = (1-\\eta)\\left[E(u_{t})-U(u_{t})\\right]\n",
    "\\label{eq: GNB FOC}\n",
    "\\end{equation}\n",
    "\n",
    "This implicitly restricts the solution of $w_{t}$. \n"
   ]
  },
  {
   "cell_type": "markdown",
   "metadata": {
    "slideshow": {
     "slide_type": "subslide"
    }
   },
   "source": [
    "Use the Bellman equations \\eqref{eq: J Bellman}, \\eqref{eq: V Bellman}, \\eqref{eq: E Bellman}, and \\eqref{eq: U Bellman} above (representing optimal behavior by firms and agents) in \\eqref{eq: GNB FOC} (Nash bargaining solution).\n",
    "\n",
    "We get an explicit Wage Setting condition that encapsulates the Nash bargaining outcome with both sides to the trade behaving rationally:\n",
    "\\begin{equation}\n",
    "w_{t} = \\eta(A+\\kappa\\theta_{t}) + (1-\\eta)b.\n",
    "\\label{eq: WS1}\n",
    "\\end{equation}"
   ]
  },
  {
   "cell_type": "markdown",
   "metadata": {
    "slideshow": {
     "slide_type": "subslide"
    }
   },
   "source": [
    "Intrepreting equation \\eqref{eq: WS1}:\n",
    "    \n",
    "* LHS: Cost of posting vacancy today (discounted by probability of filling it).\n",
    "\n",
    "* RHS: Discounted benefit (Match-surplus share to firm plus continuation benefit of not having to re-post vacancy)."
   ]
  },
  {
   "cell_type": "markdown",
   "metadata": {
    "slideshow": {
     "slide_type": "subslide"
    }
   },
   "source": [
    "Interpreting equation \\eqref{eq: WS1}: \n",
    "\n",
    "* What a worker gets in compensation is a weighted average of \n",
    "    * productivity plus average cost of vacancy per unemployed worker, and,\n",
    "    * her outside option"
   ]
  },
  {
   "cell_type": "markdown",
   "metadata": {
    "slideshow": {
     "slide_type": "subslide"
    }
   },
   "source": [
    "We can re-write \\eqref{eq: WS1} as\n",
    "\\begin{equation}\n",
    "w_{t} = b + \\eta(A +\\kappa\\theta_{t} -b).\n",
    "\\label{eq: WS-int}\n",
    "\\end{equation}\n",
    "\n",
    "So the bargained wage outcome compensates a worker for\n",
    "* Forgone outside option $b$, and, \n",
    "* her cut of the firm's net gain, i.e., output plus average cost of vacancy per unemployed worker $\\kappa\\theta_{t}$, net of $b$ (no double counting!).\n",
    "\n",
    "If worker has lower bargaining power $\\eta$, then she has a smaller wage premium over $b$."
   ]
  },
  {
   "cell_type": "markdown",
   "metadata": {
    "slideshow": {
     "slide_type": "slide"
    }
   },
   "source": [
    "# Search and Matching Equilibrium"
   ]
  },
  {
   "cell_type": "markdown",
   "metadata": {
    "slideshow": {
     "slide_type": "subslide"
    }
   },
   "source": [
    "We need $A > b$ for a well-defined equilibrium.\n",
    "\n",
    "Two notions:\n",
    "\n",
    "* Dynamic (transitional) equilibrium\n",
    "\n",
    "* Steady-state equilibrium"
   ]
  },
  {
   "cell_type": "markdown",
   "metadata": {
    "slideshow": {
     "slide_type": "subslide"
    }
   },
   "source": [
    "### Recursive decentralized equilibrium"
   ]
  },
  {
   "cell_type": "markdown",
   "metadata": {
    "slideshow": {
     "slide_type": "subslide"
    }
   },
   "source": [
    "A recursive, decentralized equilibrium is a sequence $\\{u_{t+1}, \\theta_{t}, w_{t}\\}_{t=0}^{\\infty}$,  satisfying:\n",
    "\n",
    "1. Worker and firm optimality, given Nash bargaining solution,\n",
    "    \\begin{equation}\n",
    "    \\frac{\\kappa}{q_{f}(\\theta_{t})} \n",
    "    = \\beta \\left[A - w_{t+1} +\\frac{(1-s)\\kappa}{q_{f}(\\theta_{t})}\\right];\n",
    "    \\label{eq: JC1}\n",
    "    \\end{equation}\n",
    "\n",
    "2. employment stock-flow consistency, given $u_{0}$,\n",
    "    \\begin{equation}\n",
    "    u_{t+1}\n",
    "    = s(1-u_{t}) + \\left[1-q_{w}(\\theta_{t})\\right]u_{t};\n",
    "    \\label{eq: BC}\n",
    "    \\end{equation}\n",
    "\n",
    "3. Nash bargaining wage-setting solution,\n",
    "    \\begin{equation}\n",
    "    w_{t} = \\eta(A+\\kappa\\theta_{t}) + (1-\\eta)b.\n",
    "    \\label{eq: WS}\n",
    "    \\end{equation}"
   ]
  },
  {
   "cell_type": "markdown",
   "metadata": {
    "slideshow": {
     "slide_type": "subslide"
    }
   },
   "source": [
    "## Steady state equilibrium"
   ]
  },
  {
   "cell_type": "markdown",
   "metadata": {
    "slideshow": {
     "slide_type": "subslide"
    }
   },
   "source": [
    "A steady-state equilibrium is a triple $\\{u_{ss}, \\theta_{ss}, w_{ss}\\}$,  satisfying the following conditions.\n",
    "\n",
    "1. *Job creation*. Firm optimality, given wage outcome:\n",
    "    \\begin{equation}\n",
    "    \\frac{\\kappa}{q_{f}(\\theta_{ss})}\\left[1-\\beta(1-s)\\right] \n",
    "    = \\beta \\left(A - w_{ss}\\right),\n",
    "    \\label{eq: WS-JC-steadystate}\n",
    "    \\end{equation}\n",
    "\n",
    "2. *Bathtub transition (Beveridge Curve)*. Employment stock-flow consistency,\n",
    "    \\begin{equation}\n",
    "    s(1-u_{ss})\n",
    "    =  q_{w}(\\theta_{ss})u_{ss},\n",
    "    \\label{eq: BC-steadystate}\n",
    "    \\end{equation}\n",
    "\n",
    "3. *Wage Setting*. Nash bargaining wage-setting solution (worker-firm optimality),\n",
    "    \\begin{equation}\n",
    "    w_{t} = \\eta(A+\\kappa\\theta_{ss}) + (1-\\eta)b.\n",
    "    \\label{eq: WS-steadystate}\n",
    "    \\end{equation}"
   ]
  },
  {
   "cell_type": "markdown",
   "metadata": {
    "slideshow": {
     "slide_type": "subslide"
    }
   },
   "source": [
    "### Exercise 1\n",
    "\n",
    "Provide an economic interpretation for the steady state equilibrium conditions \\eqref{eq: WS-JC-steadystate} and \\eqref{eq: BC-steadystate}. That is, explain in words what are the forces at work which maintain that long-run equilibrium."
   ]
  },
  {
   "cell_type": "markdown",
   "metadata": {
    "slideshow": {
     "slide_type": "subslide"
    }
   },
   "source": [
    "### Exercise 2\n",
    "\n",
    "Consider the steady state equilibrium description above.\n",
    "\n",
    "1. What happens to steady state unemployment rate if $b$ is higher?\n",
    "\n",
    "2. What happens to steady state unemployment rate if $s$ is higher?\n",
    "\n",
    "3. What happens to steady state unemployment rate if $A$ is higher?\n",
    "\n",
    "3. What happens to steady state unemployment rate if $\\kappa$ is higher?\n",
    "\n",
    "*Explain* your conclusions using appropriate equations and figures."
   ]
  },
  {
   "cell_type": "markdown",
   "metadata": {
    "slideshow": {
     "slide_type": "slide"
    }
   },
   "source": [
    "## Quantitative analysis"
   ]
  },
  {
   "cell_type": "markdown",
   "metadata": {
    "slideshow": {
     "slide_type": "subslide"
    }
   },
   "source": [
    "### Defining the model primitives\n",
    "\n",
    "We'll define a few useful functions:\n",
    "\n",
    "* Matching probability functions: $\\theta \\mapsto (q_{f}, q_{w})(\\theta)$\n",
    "\n",
    "* Elasticity of firm matching probability w.r.t. market tightness: $\\theta \\mapsto \\epsilon_{q}(\\theta)$"
   ]
  },
  {
   "cell_type": "code",
   "execution_count": 2,
   "metadata": {
    "slideshow": {
     "slide_type": "skip"
    }
   },
   "outputs": [],
   "source": [
    "def q(θ, parameters, matchfun=\"Telegraph\"): \n",
    "    \"\"\"Given market tightness θ, compute\n",
    "    Firm's matching probability with a worker\n",
    "    (q_f) and, Worker's matching probability \n",
    "    with a firm (q_w)\"\"\"\n",
    "    \n",
    "    # Firm's matching probability with a worker\n",
    "    if matchfun==\"Cobb-Douglas\":\n",
    "        α = parameters[\"U-share CD matching\"]\n",
    "        μ = parameters[\"Efficiency CD matching\"]\n",
    "        q_f = min(μ*θ**(-α), 0.99999)\n",
    "    elif matchfun==\"Telegraph\":\n",
    "        ρ = parameters[\"U-share Telegraph matching\"]\n",
    "        q_f = 1.0/((1.0+θ**ρ)**(1.0/ρ))   \n",
    "    elif matchfun==\"Urn-ball\":\n",
    "        δ = parameters[\"Dissipation Urn-ball matching\"]\n",
    "        q_f = (1.0 - np.exp(-δ*θ))/θ\n",
    "    \n",
    "    # Worker's matching probability with a firm\n",
    "    q_w = θ*q_f  \n",
    "    return q_f, q_w"
   ]
  },
  {
   "cell_type": "code",
   "execution_count": 3,
   "metadata": {
    "slideshow": {
     "slide_type": "skip"
    }
   },
   "outputs": [],
   "source": [
    "def epsilon_q(θ, parameters, matchfun=\"Telegraph\"):\n",
    "    \"\"\"Point elasticity of firm's matching probability\n",
    "    w.r.t. market tightness\"\"\"\n",
    "    \n",
    "    q_f = q(θ, parameters, matchfun=matchfun)[0]\n",
    "    \n",
    "    if matchfun==\"Cobb-Douglas\":\n",
    "        α = parameters[\"U-share CD matching\"]\n",
    "        μ = parameters[\"Efficiency CD matching\"]\n",
    "        q_f_diff = -α*μ*θ**(-α-1.0)\n",
    "    elif matchfun==\"Telegraph\":\n",
    "        ρ = parameters[\"U-share Telegraph matching\"]\n",
    "        q_f_diff = -(θ**(ρ-1.0))/((1+θ**ρ)**(1.0/ρ+1))\n",
    "    elif matchfun==\"Urn-ball\":\n",
    "        δ = parameters[\"Dissipation Urn-ball matching\"]\n",
    "        q_f = (1.0 - np.exp(-δ*θ))/θ\n",
    "        q_f_diff = ((1+δ*θ)*np.exp(-δ*θ) - 1.0)/(θ**2.0)\n",
    "    return q_f_diff*θ/q_f"
   ]
  },
  {
   "cell_type": "markdown",
   "metadata": {
    "slideshow": {
     "slide_type": "slide"
    }
   },
   "source": [
    "### Defining the equilibrium mapping\n",
    "\n",
    "\n",
    "We also code up the equilibrium conditions (dynamic and steady-state versions):\n",
    "\n",
    "* Euler condition summarizing Nash bargaining solution, worker and firm optimal behavior\n",
    "\n",
    "* Stock-flow consistency"
   ]
  },
  {
   "cell_type": "code",
   "execution_count": 4,
   "metadata": {
    "slideshow": {
     "slide_type": "skip"
    }
   },
   "outputs": [],
   "source": [
    "def w(θ, parameters):\n",
    "    \"\"\"Nash bargaining wage solution\"\"\"\n",
    "    \n",
    "    # Extract parameter values using dict keys\n",
    "    A = parameters[\"Labor productivity\"]\n",
    "    b = parameters[\"Non-labor income\"]\n",
    "    η = parameters[\"Worker bargaining power\"]\n",
    "    κ = parameters[\"Vacancy posting cost\"]\n",
    "    \n",
    "    return η*(A + κ*θ) + (1-η)*b\n",
    "\n",
    "def Euler_JCWS(θ_next, θ, parameters, matchfun=\"Telegraph\"):\n",
    "    \"\"\"Euler equation: Combining FOCs from \n",
    "    wage-setting (Nash bargaining solution) and\n",
    "    job-creation curve (firms and workers optimal \n",
    "    valuation recursions). Equation pins down jump \n",
    "    variable θ.\n",
    "    \n",
    "    Note: With linear production and preferences θ\n",
    "    will not depend on state u.\"\"\"\n",
    "    \n",
    "    # Extract parameter values using dict keys\n",
    "    A = parameters[\"Labor productivity\"]\n",
    "    b = parameters[\"Non-labor income\"]\n",
    "    β = parameters[\"Discount factor\"]\n",
    "    η = parameters[\"Worker bargaining power\"]\n",
    "    s = parameters[\"Job destruction rate\"]\n",
    "    κ = parameters[\"Vacancy posting cost\"]\n",
    "    \n",
    "    # Euler equation combining JC and WS - jump\n",
    "    qf = q(θ, parameters)[0]\n",
    "    qf_next = q(θ_next, parameters, matchfun=matchfun)[0]\n",
    "    Eval = κ/qf - β*(A - w(θ_next, parameters) + (1-s)*κ/qf_next)\n",
    "    return Eval"
   ]
  },
  {
   "cell_type": "code",
   "execution_count": 5,
   "metadata": {
    "slideshow": {
     "slide_type": "skip"
    }
   },
   "outputs": [],
   "source": [
    "def Euler_JCWS_Steady(parameters, matchfun=\"Telegraph\"):\n",
    "    \"\"\"Get steady state buyer-seller ratio \n",
    "    (market tightness). Uses Euler equation in θ\"\"\"\n",
    "    \n",
    "    # Extract parameter values using dict keys\n",
    "    A = parameters[\"Labor productivity\"]\n",
    "    b = parameters[\"Non-labor income\"]\n",
    "    β = parameters[\"Discount factor\"]\n",
    "    η = parameters[\"Worker bargaining power\"]\n",
    "    s = parameters[\"Job destruction rate\"]\n",
    "    κ = parameters[\"Vacancy posting cost\"]\n",
    "    \n",
    "    # Euler equation at steady state\n",
    "    Ess = lambda θ: κ/q(θ, parameters, matchfun)[0] \\\n",
    "            - β*(A - w(θ, parameters) + (1-s)*κ/q(θ, parameters, matchfun)[0])\n",
    "    \n",
    "    # Solve fixed point of monotone, cont. bounded function:\n",
    "    θ_ss = opt.brentq(Ess, 1e-12, 100.)\n",
    "    return θ_ss"
   ]
  },
  {
   "cell_type": "code",
   "execution_count": 6,
   "metadata": {
    "slideshow": {
     "slide_type": "skip"
    }
   },
   "outputs": [],
   "source": [
    "def Bathtub_BC(θ, u, parameters, matchfun=\"Telegraph\", SteadyState=False):\n",
    "    \"\"\"Difference equation in u - the bathtub a/c\n",
    "    model. Equation pins down state variable u. Can \n",
    "    be used for dynamic and steady state calculations\"\"\"\n",
    "    \n",
    "    s = parameters[\"Job destruction rate\"]\n",
    "\n",
    "    if SteadyState==False:\n",
    "        # Dynamic transition of u(t)\n",
    "        qf = q(θ, parameters, matchfun)[0]\n",
    "        u_next = s*(1-u) + (1.0- θ*qf)*u\n",
    "    else:\n",
    "        # Steady-state Beveridge curve \n",
    "        u_next = s/(s + θ*q(θ, parameters, matchfun)[0])\n",
    "    return u_next"
   ]
  },
  {
   "cell_type": "code",
   "execution_count": 7,
   "metadata": {
    "slideshow": {
     "slide_type": "skip"
    }
   },
   "outputs": [],
   "source": [
    "def SteadyState(parameters, matchfun=\"Telegraph\"):\n",
    "    \"\"\"Evaluate the JC-WS and BC curves at steady state.\n",
    "    Get the steady state equilibrium coordinate.\"\"\"\n",
    "    θ_ss = Euler_JCWS_Steady(parameters, matchfun)\n",
    "    u_ss = Bathtub_BC(θ_ss, 0.0, parameters, matchfun, SteadyState=True)\n",
    "    return u_ss, θ_ss"
   ]
  },
  {
   "cell_type": "markdown",
   "metadata": {
    "slideshow": {
     "slide_type": "subslide"
    }
   },
   "source": [
    "### Qualitative dynamics via phase portrait\n",
    "\n",
    "We'll also code up some functions for visualizing the equilibrium forces at work that produce the dynamic equilibrium outcomes or trajectory.\n",
    "\n",
    "Since the model is small (low dimensional), we can use a 2D phase portrait for this.\n",
    "\n",
    "The phase portrait depicts \n",
    "\n",
    "* the (local) set of positions for the state-costate pair $(u_{t}, \\theta_{t})$ relative to a steady state equilibrium;\n",
    "\n",
    "* the equilibrium conditions evaluated at stationary or steady states in each variable; and\n",
    "\n",
    "* the forces induced by the equilibrium conditions on a current position $(u_{t}, \\theta_{t})$ and the velocity (speed/magnitude and direction) of motion from the current position.\n"
   ]
  },
  {
   "cell_type": "markdown",
   "metadata": {
    "slideshow": {
     "slide_type": "subslide"
    }
   },
   "source": [
    "Goal: \n",
    "\n",
    "* Compute an equilibrium and understand its dynamic behavior.\n",
    "\n",
    "But before we do so, let's see how much qualitative analysis we can squeeze from this simple model:\n",
    "\n",
    "* The model is low-dimensional: one state, one jump variable.\n",
    "\n",
    "* We can visualize its qualitative (local) dynamics in a 2D phase portrait.\n",
    "\n",
    "* \"Local\" here means we approximate the nonlinear equilibrium conditions by a linear one.\n",
    "\n",
    "* With a linearized, approximate system we can get some intuition. (Humans think better linearly.)\n",
    "\n",
    "* We'll return to the computer to visualize the (non-analytical and nonlinear) global dynamics too.\n",
    "\n"
   ]
  },
  {
   "cell_type": "markdown",
   "metadata": {
    "slideshow": {
     "slide_type": "subslide"
    }
   },
   "source": [
    "**Local dynamics**.\n",
    "\n",
    "Take a first-order Taylor series approximation of each linearly separable terms in \\eqref{eq: JC} with \\eqref{eq: WS}, about $(u_{ss}, \\theta_{ss})$:\n",
    "\n",
    "\\begin{equation}\n",
    "(\\theta_{t}-\\theta_{ss})\n",
    "\\approx\n",
    "\\beta \\left[1-s-\\eta \\frac{\\theta_{ss}q_{f}(\\theta_{ss})}{\\epsilon_{q}(\\theta_{ss})}\\right]\n",
    "(\\theta_{t+1} - \\theta_{ss})\n",
    "\\label{eq: JC-WS linear}\n",
    "\\end{equation}\n"
   ]
  },
  {
   "cell_type": "markdown",
   "metadata": {
    "slideshow": {
     "slide_type": "subslide"
    }
   },
   "source": [
    "Notes: \n",
    "\n",
    "* So unlike backward-looking difference equations, \\eqref{eq: JC-WS linear} is forward looking.\n",
    "\n",
    "* The jump variable $\\theta_{t}$ has no initial condition. So we \"solve it forward\" by forward substitution.\n",
    "\n",
    "* For a well-defined (first-order-accurate) dynamic equilibrium, i.e, the forward solution must be convergent, or must not explode:\n",
    "\n",
    "    * This requires $\\vert \\beta \\left[1-s-\\eta {\\theta_{ss}q_{f}(\\theta_{ss})}/{\\epsilon_{q}(\\theta_{ss})}\\right] \\vert < 1$."
   ]
  },
  {
   "cell_type": "markdown",
   "metadata": {
    "slideshow": {
     "slide_type": "subslide"
    }
   },
   "source": [
    "Doing the same for the unemployment accounting equation \\eqref{eq: BC}, we get a local, first-order approximation of dynamics as a linear difference equation:\n",
    "\n",
    "\\begin{equation}\n",
    "(u_{t+1} - u_{ss}) \\approx\n",
    "\\underbrace{u_{ss}q_{f}(\\theta_{ss})\\left[1+\\epsilon_{q}(\\theta_{ss}) \\right]}_{>0}\n",
    "(\\theta_{t}-\\theta_{ss})\n",
    "+ \\underbrace{[1-s-q_{w}(\\theta_{ss})]}_{\\in (-1,1)}\n",
    "(u_{t}-u_{ss}).\n",
    "\\label{eq: BC linear}\n",
    "\\end{equation}"
   ]
  },
  {
   "cell_type": "markdown",
   "metadata": {
    "slideshow": {
     "slide_type": "subslide"
    }
   },
   "source": [
    "### Exercise 3\n",
    "\n",
    "Assume $\\vert \\beta \\left[1-s-\\eta {\\theta_{ss}q_{f}(\\theta_{ss})}/{\\epsilon_{q}(\\theta_{ss})}\\right] \\vert < 1$ holds.\n",
    "\n",
    "Show that the linearized approximate equilibrium system is saddle-point stable locally, i.e., around a small neighborhood of the steady state equilibrium point $(u_{ss}, \\theta_{ss})$. "
   ]
  },
  {
   "cell_type": "markdown",
   "metadata": {
    "slideshow": {
     "slide_type": "skip"
    }
   },
   "source": [
    "### Solution\n",
    "\n",
    "* Replicate this material: Miao (2014, Chapter 18, pp.464-466)."
   ]
  },
  {
   "cell_type": "code",
   "execution_count": 8,
   "metadata": {
    "slideshow": {
     "slide_type": "skip"
    }
   },
   "outputs": [],
   "source": [
    "def MakeField(steady_state, N=5):\n",
    "    \"\"\"Given array of steady state outcomes\n",
    "    (u_ss, θ_ss), construct a Cartesian 2D grid \n",
    "    containing (u_ss, θ_ss) as the reference point.\n",
    "    Used in phase portrait\"\"\"\n",
    "    # Steady-state points as reference\n",
    "    u_ss, θ_ss = steady_state[0], steady_state[1]\n",
    "    # Set axes limits for plotting purposes\n",
    "    xmin, xmax = u_ss*0.85, u_ss*1.1\n",
    "    ymin, ymax = θ_ss*0.5, θ_ss*1.5\n",
    "    x = np.linspace(xmin, xmax, N)\n",
    "    y = np.linspace(ymin, ymax, N)\n",
    "    # Generate Cartesian product grid-space (2D)\n",
    "    U, V = np.meshgrid(x,y)\n",
    "    return U, V, x, y"
   ]
  },
  {
   "cell_type": "code",
   "execution_count": 9,
   "metadata": {
    "slideshow": {
     "slide_type": "skip"
    }
   },
   "outputs": [],
   "source": [
    "def VectorField(U, V, steady_state, parameters, matchfun=\"Telegraph\"):\n",
    "    \"\"\"Given current state and jump variable \n",
    "    pairs (u, θ), construct vector field \n",
    "    representing equilibrium motion tendencies.\n",
    "    This uses the equilibrium conditions of the \n",
    "    model, a system of forward- and backward-looking\n",
    "    difference equations. Since the force (magnitude)\n",
    "    of motion and direction may not be solved for\n",
    "    analytically, we use a locally accurate (to first order)\n",
    "    approximation of the equilibrium conditions to evaluate\n",
    "    at each (u, θ) and to compute the vector (Δu', Δθ').\n",
    "    The angle and length of each vector measures a\n",
    "    the direction and size of the dynamic tendency at \n",
    "    each coordinate (u, θ).\n",
    "    \"\"\"\n",
    "    \n",
    "    β = parameters[\"Discount factor\"]\n",
    "    η = parameters[\"Worker bargaining power\"]\n",
    "    s = parameters[\"Job destruction rate\"]\n",
    "    κ = parameters[\"Vacancy posting cost\"]\n",
    "    \n",
    "    θ_ss = steady_state[1]\n",
    "    qf_ss = q(θ_ss, parameters, matchfun)[0]\n",
    "    \n",
    "    # U was a 2D array, we flatten into a 1D array\n",
    "    U = U.flatten()\n",
    "    V = V.flatten()\n",
    "    \n",
    "    # Pre-allocate memory space\n",
    "    ui, vj = np.empty(U.shape), np.empty(V.shape)\n",
    "    \n",
    "    # Loop over finite Cartesian grid of current (u, θ)\n",
    "    for idx, (u, θ) in enumerate(zip(U, V)):\n",
    "        \n",
    "        # Solve θ_next-but here, particular solution is θ_ss! \n",
    "        lhs_theta = κ*(1/q(θ, parameters, matchfun)[0] - 1/qf_ss)\n",
    "        \n",
    "        # Difference btw. Euler eqn evaluated at θ and Euler \n",
    "        # eqn evaluated at θ_ss. Use this to solve for θ_next\n",
    "        # off equilibrium θ_ss path; hence velocity (speed and \n",
    "        # direction Δθ' = θ_next - θ_ss) ...\n",
    "        # Euler_dev = lambda θ_next: -lhs_theta + η*κ*(θ_next - θ_ss) \\\n",
    "        #           + β*(1-s)*κ*(1/q(θ_next, parameters)[0] - 1/qf_ss)\n",
    "\n",
    "        # θ_next = opt.brentq( Euler_dev, 1e-12, min(100.0, V.max()) )\n",
    "        qw = θss*q(θss, parameters, matchfun)[0]\n",
    "        elast = 1.0/(1.0-s-η*qw/epsilon_q(θss, parameters, matchfun))\n",
    "        θ_next = elast*(θ-θ_ss) + θ_ss\n",
    "        \n",
    "        # Get u_next (analytically) - I cheat here, using nonlinear equation!\n",
    "        u_next = Bathtub_BC(θ, u, parameters, matchfun, SteadyState=False)\n",
    "        \n",
    "        # Calculate velocity (Δu', Δθ')\n",
    "        Du = u_next - u\n",
    "        Dθ = θ_next - θ\n",
    "            \n",
    "        # Store 'em\n",
    "        ui[idx], vj[idx] = Du, Dθ\n",
    "    \n",
    "    return ui, vj    "
   ]
  },
  {
   "cell_type": "code",
   "execution_count": 10,
   "metadata": {
    "slideshow": {
     "slide_type": "skip"
    }
   },
   "outputs": [],
   "source": [
    "def phasediagram(steady_state, parameters, matchfun=\"Telegraph\", quiver_scale=0.01):\n",
    "    \"\"\"Phase diagram for nonlinear equilibrium map.\n",
    "    Gives intuition about global dynamics.\"\"\"\n",
    "        \n",
    "    # Steady state point\n",
    "    uss, θss = steady_state\n",
    "    \n",
    "    # Define finite-grid sample of (u, θ) pairs\n",
    "    U, V, x, y = MakeField(steady_state, N=20)\n",
    "    \n",
    "    # Construct vector field in phase portrait\n",
    "    ui, vj = VectorField(U, V, steady_state, parameters, matchfun)\n",
    "    \n",
    "    # Plot locus along BC at Δu' = 0\n",
    "    tset = np.empty(x.shape)\n",
    "    for i, u in enumerate(x):\n",
    "        # Unemployment diff-eq at steady state\n",
    "        bcss = lambda θ: θ*q(θ, parameters, matchfun)[0] - s*(1-u)/u\n",
    "        # Given each u, find θ=t that satisfies bcss eqn: root finding problem\n",
    "        t = opt.brentq(bcss, 0.001, 10.)\n",
    "        # Store it\n",
    "        tset[i] = t\n",
    "    \n",
    "    plt.figure()\n",
    "    plt.plot(x, tset, label=\"$\\Delta(u_{t+1}) = 0$\")\n",
    "    \n",
    "    # Locus along WS-JC at Δθ' = 0\n",
    "    plt.plot(x, np.tile(θss, x.shape), label=\"$\\Delta(θ_{t+1}) = 0$\")\n",
    "    \n",
    "    # Steady state equilibrium point\n",
    "    plt.plot(uss, θss, 'or', label=\"Steady state\")\n",
    "\n",
    "\n",
    "    # Plot the vector fields (u,v) at each (x,y)\n",
    "    Q = plt.quiver(U, V, ui, vj, \n",
    "                   color=\"green\", \n",
    "                   alpha=0.5,\n",
    "                   scale=quiver_scale,\n",
    "                   scale_units='inches')\n",
    "    \n",
    "    # Axes decoration and attributes\n",
    "    plt.xlabel('$u_{t}$')\n",
    "    plt.ylabel('$θ_{t}$')\n",
    "    plt.legend()\n",
    "    plt.tight_layout()\n",
    "    return plt"
   ]
  },
  {
   "cell_type": "markdown",
   "metadata": {
    "slideshow": {
     "slide_type": "slide"
    }
   },
   "source": [
    "## Nonlinear dynamics - numerical example"
   ]
  },
  {
   "cell_type": "markdown",
   "metadata": {
    "slideshow": {
     "slide_type": "subslide"
    }
   },
   "source": [
    "**Warning** (*caveat emptor*):\n",
    "    \n",
    "* Current version of this notebook has only been parametrized and tested with the Telegraph-line Matching function.\n",
    "\n",
    "* Parameters have been borrowed (not calibrated to data) from an extended model in Hagedorn and Manovskii (2008)\n",
    "\n",
    "* If you wish to use the other matching functions, you will have to recalibrate all the other parameters\n",
    "\n",
    "* Not all parameter values will satisfy the requirements for an equilibrium"
   ]
  },
  {
   "cell_type": "code",
   "execution_count": 11,
   "metadata": {
    "slideshow": {
     "slide_type": "subslide"
    }
   },
   "outputs": [],
   "source": [
    "# Parameter values (borrowed from Hagedorn and Manovskii)\n",
    "A = 1.0               # Labor productivity\n",
    "b = 0.955             # Outside option: Non-labor income\n",
    "β = 0.99**(1.0/12.0)  # Discount factor (monthly frequency)\n",
    "η = 0.052             # Worker bargaining power\n",
    "s = 0.081             # One-period job-match destruction probability\n",
    "κ = 0.11              # Per-period vacancy posting fixed cost"
   ]
  },
  {
   "cell_type": "code",
   "execution_count": 12,
   "metadata": {
    "slideshow": {
     "slide_type": "subslide"
    }
   },
   "outputs": [],
   "source": [
    "# Alternative models for matching function ...\n",
    "\n",
    "ρ = 0.407             # Telegraph-line matching- Elasticity of matches wrt θ (Default setting)\n",
    "\n",
    "α = 0.27              # Cobb-Douglas matching- u share in matches\n",
    "μ = 1.0               # Cobb-Douglas matching- efficiency scale\n",
    "\n",
    "δ = 1.0               # Urn-ball matching- Share of evaporated buyers/firms in match: 1-δ"
   ]
  },
  {
   "cell_type": "code",
   "execution_count": 13,
   "metadata": {
    "slideshow": {
     "slide_type": "subslide"
    }
   },
   "outputs": [],
   "source": [
    "# Bento box\n",
    "parameters = {\n",
    "                \"Labor productivity\" : A,\n",
    "                \"Non-labor income\" : b,\n",
    "                \"Discount factor\" : β,\n",
    "                \"Worker bargaining power\" : η,\n",
    "                \"Job destruction rate\" : s,\n",
    "                \"Vacancy posting cost\" : κ,\n",
    "                \"U-share CD matching\" : α,          # Cobb-Douglas Matching Ex. 1\n",
    "                \"Efficiency CD matching\" : μ,\n",
    "                \"U-share Telegraph matching\" : ρ,   # Telegraph-line matching\n",
    "                \"Dissipation Urn-ball matching\" : δ # Urn-ball matching, 1-β is % of buyers disappearing\n",
    "             }"
   ]
  },
  {
   "cell_type": "code",
   "execution_count": 14,
   "metadata": {
    "slideshow": {
     "slide_type": "subslide"
    }
   },
   "outputs": [
    {
     "name": "stdout",
     "output_type": "stream",
     "text": [
      "Steady state u = 0.365 \n",
      "Steady state θ = 0.612\n"
     ]
    }
   ],
   "source": [
    "# Get steady state\n",
    "uss, θss = SteadyState(parameters, matchfun=\"Telegraph\")\n",
    "steady_state = [uss, θss]\n",
    "print(\"Steady state u = %5.3f \\nSteady state θ = %5.3f\" %(uss, θss))"
   ]
  },
  {
   "cell_type": "markdown",
   "metadata": {
    "slideshow": {
     "slide_type": "subslide"
    }
   },
   "source": [
    "### Parametric constraint and a hack-job check\n",
    "\n",
    "Check that a restriction $\\vert \\beta \\left[1-s-\\eta {\\theta_{ss}q_{f}(\\theta_{ss})}/{\\epsilon_{q}(\\theta_{ss})}\\right] \\vert < 1$ is respected:"
   ]
  },
  {
   "cell_type": "code",
   "execution_count": 15,
   "metadata": {
    "scrolled": false,
    "slideshow": {
     "slide_type": "subslide"
    }
   },
   "outputs": [
    {
     "name": "stdout",
     "output_type": "stream",
     "text": [
      "0.9352599232209172\n"
     ]
    }
   ],
   "source": [
    "test = 1-s-η*θss*q(θss, parameters)[0]/epsilon_q(θss, parameters)\n",
    "print(test)"
   ]
  },
  {
   "cell_type": "code",
   "execution_count": 16,
   "metadata": {
    "scrolled": true,
    "slideshow": {
     "slide_type": "subslide"
    }
   },
   "outputs": [
    {
     "data": {
      "image/png": "[encoded data removed]",
      "text/plain": [
       "<Figure size 432x288 with 1 Axes>"
      ]
     },
     "metadata": {
      "needs_background": "light"
     },
     "output_type": "display_data"
    }
   ],
   "source": [
    "if np.absolute(test) < 1.0:\n",
    "    plt = phasediagram(steady_state, \n",
    "                       parameters, \n",
    "                       matchfun=\"Telegraph\", \n",
    "                       quiver_scale=0.05)\n",
    "    plt.show()\n",
    "else:\n",
    "    print(\"You don't have a saddle-path stable equilibrium. Reparametrize.\")"
   ]
  },
  {
   "cell_type": "markdown",
   "metadata": {
    "slideshow": {
     "slide_type": "slide"
    }
   },
   "source": [
    "## Visualizing equilibrium transition path\n",
    "\n",
    "The model dynamics is very simple as a consequence of risk neutrality and constant returns to labor ($A$):\n",
    "\n",
    "* Along any equilibrium path, $\\theta_{t} = \\theta_{ss}$ is the only solution to \\eqref{eq: JC1} and \\eqref{eq: WS}, for all $t = 0,1,2, ...$.\n",
    "\n",
    "* Given this information, we use \\eqref{eq: BC} to solve for the equilibrium sequence $\\{u_{t+1}\\}_{t \\geq 0}$, beginning from a given initial state $u_{0}$.\n",
    "\n",
    "* The sequence $\\{w_{t}\\}_{t\\geq 0}$ can be pinned down using the static condition \\eqref{eq: WS}."
   ]
  },
  {
   "cell_type": "markdown",
   "metadata": {
    "slideshow": {
     "slide_type": "subslide"
    }
   },
   "source": [
    "### Exercise 4\n",
    "\n",
    "Suppose the economy at date $t=0$ was perturbed away from its steady state equilibrium, such that $u_{0} > u_{ss}$.\n",
    "\n",
    "Compute the response of the model in terms of its dynamic equilibrium outcome. "
   ]
  },
  {
   "cell_type": "markdown",
   "metadata": {
    "slideshow": {
     "slide_type": "subslide"
    }
   },
   "source": [
    "### Solution"
   ]
  },
  {
   "cell_type": "code",
   "execution_count": 17,
   "metadata": {
    "slideshow": {
     "slide_type": "subslide"
    }
   },
   "outputs": [],
   "source": [
    "T_simulate = 100\n",
    "\n",
    "\n",
    "# Initial state\n",
    "u0 = 1.15*uss\n",
    "u_simulate = [u0]\n",
    "theta_simulate = [θss]\n",
    "v_simulate = [u0*θss]\n",
    "w_simulate = [w(θss, parameters)]\n",
    "\n",
    "for t in range(T_simulate-1):\n",
    "    θ = theta_simulate[t]\n",
    "    u = u_simulate[t]\n",
    "    u_next = Bathtub_BC(θ, u, parameters, matchfun=\"Telegraph\", SteadyState=False) \n",
    "    u_simulate.append(u_next)\n",
    "    theta_simulate.append(θss)\n",
    "    v_simulate.append(u_next*θss)   \n",
    "    w_next = w(θss, parameters)\n",
    "    w_simulate.append(w_next)"
   ]
  },
  {
   "cell_type": "code",
   "execution_count": 18,
   "metadata": {
    "slideshow": {
     "slide_type": "subslide"
    }
   },
   "outputs": [
    {
     "data": {
      "image/png": "[encoded data removed]",
      "text/plain": [
       "<Figure size 432x288 with 1 Axes>"
      ]
     },
     "metadata": {
      "needs_background": "light"
     },
     "output_type": "display_data"
    }
   ],
   "source": [
    "plt.figure()\n",
    "dates = np.arange(T_simulate)\n",
    "plt.plot(dates, u_simulate)\n",
    "plt.plot(dates, np.tile(uss, dates.shape), '--r', label=\"$u_{ss}$\")\n",
    "plt.legend()\n",
    "plt.show()"
   ]
  },
  {
   "cell_type": "code",
   "execution_count": 19,
   "metadata": {
    "scrolled": true,
    "slideshow": {
     "slide_type": "subslide"
    }
   },
   "outputs": [
    {
     "data": {
      "image/png": "[encoded data removed]",
      "text/plain": [
       "<Figure size 432x288 with 1 Axes>"
      ]
     },
     "metadata": {
      "needs_background": "light"
     },
     "output_type": "display_data"
    }
   ],
   "source": [
    "plt.figure()\n",
    "dates = np.arange(T_simulate)\n",
    "plt.plot(dates, v_simulate)\n",
    "plt.plot(dates, np.tile(θss*uss, dates.shape), '--r', label=\"$v_{ss}$\")\n",
    "plt.legend()\n",
    "plt.show()"
   ]
  },
  {
   "cell_type": "code",
   "execution_count": 20,
   "metadata": {
    "scrolled": true,
    "slideshow": {
     "slide_type": "subslide"
    }
   },
   "outputs": [
    {
     "data": {
      "image/png": "[encoded data removed]",
      "text/plain": [
       "<Figure size 432x288 with 1 Axes>"
      ]
     },
     "metadata": {
      "needs_background": "light"
     },
     "output_type": "display_data"
    }
   ],
   "source": [
    "plt.figure()\n",
    "dates = np.arange(T_simulate)\n",
    "plt.plot(dates, w_simulate)\n",
    "plt.plot(dates, np.tile(w(θss, parameters), dates.shape), '--r', label=\"$w_{ss}$\")\n",
    "plt.legend()\n",
    "plt.show()"
   ]
  },
  {
   "cell_type": "markdown",
   "metadata": {
    "slideshow": {
     "slide_type": "slide"
    }
   },
   "source": [
    "## Extensions"
   ]
  },
  {
   "cell_type": "markdown",
   "metadata": {
    "slideshow": {
     "slide_type": "subslide"
    }
   },
   "source": [
    "### Exercise 5\n",
    "\n",
    "Consider now the same perfect foresight model but now there is a measure-one, infinite set of firms. Each firm $j \\in [0,1]$ hires total labor $N_{t}^{j}$ each period producing output using production function: $Y_{t}^{j} = \\left(AN_{t}^{j}\\right)$, where $\\vartheta \\in (0,1)$. The representative household (for a measure-one continuum of households) now has preference $\\sum_{t=0}^{\\infty}\\beta^{t}\\left[ C_{t} - N_{t}^{1+\\psi}/(1+\\psi) \\right]$ where $\\psi > 0$.\n",
    "\n",
    "Interpretation: \n",
    "\n",
    "* Each member $i \\in [0,1]$ seeks to get matched with a firm $j \\in [0,1]$. \n",
    "\n",
    "* Each member dislikes work. Assume disutility of working for member $i$ is $\\chi i^{\\psi}$. \n",
    "\n",
    "* The aggregate or representative household disutility of work is thus \n",
    "    \\begin{equation*}\n",
    "    \\int_{0}^{N_{t}}\\chi i^{\\psi}di = \\chi\\frac{N_{t}^{1+\\psi}}{1+\\psi},\n",
    "    \\end{equation*}\n",
    "   \n",
    "In equilibrium, aggregate employment across all firms is consistent with total household supply $N_{t} = \\int_{0}^{1}N_{t}^{j}\\text{d}j$. \n",
    "\n",
    "\n",
    "This another simplified and deterministic special case of the production economy (with labor and capital) of Merz (1995), Andolfatto (1996) and den Haan, Ramey and Watson (2000). (See Miao, Chapter 18.3.)\n",
    "\n",
    "Redo the questions in the last exercise. Show that now, the solution will be an *equilibrium*-determined market tightness function $N_{t} = \\theta^{\\star}(N_{t})$ solving the JC-Euler equation, a static, wage function $N_{t} \\mapsto w^{\\star}(N_{t})$ satisfying the equilibrium wage-setting equation, and a bathtub law of motion for the state variable $N_{t}$ respecting the stock-flow accounting of individuals in the system.\n",
    "\n",
    "You don't have to compute the solution. If you do, experiment with some number $\\psi > 0$ for your computer example. (At this stage, you are not yet ready to statistically calibrate the model to empirical statistics.)"
   ]
  },
  {
   "cell_type": "markdown",
   "metadata": {
    "slideshow": {
     "slide_type": "subslide"
    }
   },
   "source": [
    "### Solution\n",
    "\n",
    "For the motivated student: Try this yourself, show us your work and talk to us afterwards."
   ]
  }
 ],
 "metadata": {
  "celltoolbar": "Slideshow",
  "kernelspec": {
   "display_name": "Python 3",
   "language": "python",
   "name": "python3"
  },
  "language_info": {
   "codemirror_mode": {
    "name": "ipython",
    "version": 3
   },
   "file_extension": ".py",
   "mimetype": "text/x-python",
   "name": "python",
   "nbconvert_exporter": "python",
   "pygments_lexer": "ipython3",
   "version": "3.6.10"
  },
  "latex_envs": {
   "LaTeX_envs_menu_present": true,
   "autoclose": false,
   "autocomplete": true,
   "bibliofile": "biblio.bib",
   "cite_by": "apalike",
   "current_citInitial": 1,
   "eqLabelWithNumbers": true,
   "eqNumInitial": 1,
   "hotkeys": {
    "equation": "Ctrl-E",
    "itemize": "Ctrl-I"
   },
   "labels_anchors": true,
   "latex_user_defs": false,
   "report_style_numbering": false,
   "user_envs_cfg": false
  },
  "toc": {
   "base_numbering": 1,
   "nav_menu": {},
   "number_sections": true,
   "sideBar": false,
   "skip_h1_title": false,
   "title_cell": "Table of Contents",
   "title_sidebar": "Contents",
   "toc_cell": true,
   "toc_position": {
    "height": "606px",
    "left": "10px",
    "top": "150px",
    "width": "360px"
   },
   "toc_section_display": true,
   "toc_window_display": true
  }
 },
 "nbformat": 4,
 "nbformat_minor": 4
}
