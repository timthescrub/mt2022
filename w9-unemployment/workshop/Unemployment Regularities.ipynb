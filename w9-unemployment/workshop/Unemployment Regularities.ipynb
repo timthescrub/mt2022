{
 "cells": [
  {
   "cell_type": "markdown",
   "metadata": {
    "slideshow": {
     "slide_type": "slide"
    }
   },
   "source": [
    "# Search, Matching and Unemployment"
   ]
  },
  {
   "cell_type": "markdown",
   "metadata": {
    "slideshow": {
     "slide_type": "slide"
    }
   },
   "source": [
    "by [MachinaFantasma](https://phantomachine.github.io/) | [Twitter](https://twitter.com/MachinaFantasma)"
   ]
  },
  {
   "cell_type": "markdown",
   "metadata": {
    "slideshow": {
     "slide_type": "slide"
    },
    "toc": true
   },
   "source": [
    "<h1>Table of Contents<span class=\"tocSkip\"></span></h1>\n",
    "<div class=\"toc\"><ul class=\"toc-item\"><li><span><a href=\"#Search,-Matching-and-Unemployment\" data-toc-modified-id=\"Search,-Matching-and-Unemployment-1\"><span class=\"toc-item-num\">1&nbsp;&nbsp;</span>Search, Matching and Unemployment</a></span></li><li><span><a href=\"#Key-learning-points\" data-toc-modified-id=\"Key-learning-points-2\"><span class=\"toc-item-num\">2&nbsp;&nbsp;</span>Key learning points</a></span></li><li><span><a href=\"#Key-labor-market-variables\" data-toc-modified-id=\"Key-labor-market-variables-3\"><span class=\"toc-item-num\">3&nbsp;&nbsp;</span>Key labor market variables</a></span></li><li><span><a href=\"#Some-custom-methods\" data-toc-modified-id=\"Some-custom-methods-4\"><span class=\"toc-item-num\">4&nbsp;&nbsp;</span>Some custom methods</a></span></li><li><span><a href=\"#Data:-US-case-study\" data-toc-modified-id=\"Data:-US-case-study-5\"><span class=\"toc-item-num\">5&nbsp;&nbsp;</span>Data: US case study</a></span><ul class=\"toc-item\"><li><span><a href=\"#Unemployment-rate(s)\" data-toc-modified-id=\"Unemployment-rate(s)-5.1\"><span class=\"toc-item-num\">5.1&nbsp;&nbsp;</span>Unemployment rate(s)</a></span></li><li><span><a href=\"#Vacancies\" data-toc-modified-id=\"Vacancies-5.2\"><span class=\"toc-item-num\">5.2&nbsp;&nbsp;</span>Vacancies</a></span></li><li><span><a href=\"#Labor-force-participation\" data-toc-modified-id=\"Labor-force-participation-5.3\"><span class=\"toc-item-num\">5.3&nbsp;&nbsp;</span>Labor force participation</a></span></li><li><span><a href=\"#Beveridge-curve\" data-toc-modified-id=\"Beveridge-curve-5.4\"><span class=\"toc-item-num\">5.4&nbsp;&nbsp;</span>Beveridge curve</a></span></li><li><span><a href=\"#Business-cycle-frequencies\" data-toc-modified-id=\"Business-cycle-frequencies-5.5\"><span class=\"toc-item-num\">5.5&nbsp;&nbsp;</span>Business cycle frequencies</a></span><ul class=\"toc-item\"><li><span><a href=\"#Missing-data-and-quarterly-resampling\" data-toc-modified-id=\"Missing-data-and-quarterly-resampling-5.5.1\"><span class=\"toc-item-num\">5.5.1&nbsp;&nbsp;</span>Missing data and quarterly resampling</a></span></li><li><span><a href=\"#Add-(quarterly)-data-on-GDP-and-Labor-Productivity\" data-toc-modified-id=\"Add-(quarterly)-data-on-GDP-and-Labor-Productivity-5.5.2\"><span class=\"toc-item-num\">5.5.2&nbsp;&nbsp;</span>Add (quarterly) data on GDP and Labor Productivity</a></span></li></ul></li></ul></li><li><span><a href=\"#Shimer-data-set\" data-toc-modified-id=\"Shimer-data-set-6\"><span class=\"toc-item-num\">6&nbsp;&nbsp;</span>Shimer data set</a></span><ul class=\"toc-item\"><li><span><a href=\"#De-meaning-data\" data-toc-modified-id=\"De-meaning-data-6.1\"><span class=\"toc-item-num\">6.1&nbsp;&nbsp;</span>De-meaning data</a></span></li><li><span><a href=\"#HP-filtering\" data-toc-modified-id=\"HP-filtering-6.2\"><span class=\"toc-item-num\">6.2&nbsp;&nbsp;</span>HP-filtering</a></span></li><li><span><a href=\"#Replicating-Shimer's-correlation-table-with-our-data\" data-toc-modified-id=\"Replicating-Shimer's-correlation-table-with-our-data-6.3\"><span class=\"toc-item-num\">6.3&nbsp;&nbsp;</span>Replicating Shimer's correlation table with our data</a></span></li><li><span><a href=\"#Replicating-Shimer's-correlation-table-with-Shimer's-data\" data-toc-modified-id=\"Replicating-Shimer's-correlation-table-with-Shimer's-data-6.4\"><span class=\"toc-item-num\">6.4&nbsp;&nbsp;</span>Replicating Shimer's correlation table with Shimer's data</a></span></li><li><span><a href=\"#Revisit-by-Hagedorn-and-Manovskii\" data-toc-modified-id=\"Revisit-by-Hagedorn-and-Manovskii-6.5\"><span class=\"toc-item-num\">6.5&nbsp;&nbsp;</span>Revisit by Hagedorn and Manovskii</a></span></li></ul></li><li><span><a href=\"#Key-Labor-Market-Observations\" data-toc-modified-id=\"Key-Labor-Market-Observations-7\"><span class=\"toc-item-num\">7&nbsp;&nbsp;</span>Key Labor Market Observations</a></span><ul class=\"toc-item\"><li><span><a href=\"#Fact-1\" data-toc-modified-id=\"Fact-1-7.1\"><span class=\"toc-item-num\">7.1&nbsp;&nbsp;</span>Fact 1</a></span></li><li><span><a href=\"#Fact-2\" data-toc-modified-id=\"Fact-2-7.2\"><span class=\"toc-item-num\">7.2&nbsp;&nbsp;</span>Fact 2</a></span></li></ul></li><li><span><a href=\"#Accounting-for-business-cycle-statistics\" data-toc-modified-id=\"Accounting-for-business-cycle-statistics-8\"><span class=\"toc-item-num\">8&nbsp;&nbsp;</span>Accounting for business-cycle statistics</a></span></li><li><span><a href=\"#Readings\" data-toc-modified-id=\"Readings-9\"><span class=\"toc-item-num\">9&nbsp;&nbsp;</span>Readings</a></span></li></ul></div>"
   ]
  },
  {
   "cell_type": "code",
   "execution_count": 1,
   "metadata": {
    "slideshow": {
     "slide_type": "skip"
    }
   },
   "outputs": [],
   "source": [
    "import numpy as np\n",
    "import dbnomics as db\n",
    "from dbnomics import fetch_series, fetch_series_by_api_link\n",
    "import pandas as pd\n",
    "import pandas_datareader as pdr\n",
    "import datetime as dt\n",
    "import matplotlib.pyplot as plt\n",
    "from matplotlib.pyplot import subplots\n",
    "import statsmodels.api as sm\n",
    "import seaborn as sns"
   ]
  },
  {
   "cell_type": "code",
   "execution_count": 2,
   "metadata": {
    "slideshow": {
     "slide_type": "skip"
    }
   },
   "outputs": [],
   "source": [
    "%matplotlib inline"
   ]
  },
  {
   "cell_type": "markdown",
   "metadata": {
    "slideshow": {
     "slide_type": "subslide"
    }
   },
   "source": [
    "# Key learning points\n",
    "\n",
    "1. List the key labor market facts concerning the unemployment rate, the participation rate, and the employment/population ratio. \n",
    "\n",
    "2. Describe the Beveridge curve, and explain its importance. \n",
    "\n",
    "3. In the one-sided search model, explain how the reservation wage is determined.\n",
    "\n",
    "4. Show how the one-sided search model determines the unemployment rate. \n",
    "\n",
    "5. Use the one-sided search model to determine the effects of changes to wage and unemployment."
   ]
  },
  {
   "cell_type": "markdown",
   "metadata": {
    "slideshow": {
     "slide_type": "subslide"
    }
   },
   "source": [
    "6. Construct an equilibrium in the two-sided search model.\n",
    "\n",
    "7. Use the two-sided search model to explain how shocks to the labor market change labor force participation, unemployment, vacancies, aggregate output, and labor market tightness.\n",
    "\n",
    "8. Replicate US business cycle statistics on labor market using a well-known dynamic and stochastic version of the two-sided search model."
   ]
  },
  {
   "cell_type": "markdown",
   "metadata": {
    "slideshow": {
     "slide_type": "slide"
    }
   },
   "source": [
    "# Key labor market variables"
   ]
  },
  {
   "cell_type": "markdown",
   "metadata": {
    "slideshow": {
     "slide_type": "subslide"
    }
   },
   "source": [
    "|    Mnemonic     | Description                  |\n",
    "|:----------------|:-----------------------------|\n",
    "|    $N$          | Working age population       |\n",
    "|    $Q$          | Labor force                  |\n",
    "|    $U$          | Unemployed                   |\n",
    "|    $U/Q$        | Unemployoment rate           |\n",
    "|    $Q/N$        | Participation rate           |\n",
    "|    $(Q-U)/N$    | Employment/Population ratio  |"
   ]
  },
  {
   "cell_type": "code",
   "execution_count": 3,
   "metadata": {
    "slideshow": {
     "slide_type": "skip"
    }
   },
   "outputs": [],
   "source": [
    "def hpfilter2df(df, λ=1600):\n",
    "    # Start off with empty DICT\n",
    "    Y_cycle = {}\n",
    "    Y_trend = {}\n",
    "    # HP smoothing parameter (Shimer, AER2005)\n",
    "    λ = 1600\n",
    "    # Loop over series in dfQ, apply filter to series named \"key\", store in DICTs\n",
    "    for key, series in df.iteritems():\n",
    "        Y_cycle[key], Y_trend[key] = sm.tsa.filters.hpfilter(series, λ)\n",
    "    # Convert DICTs to Pandas dataframes\n",
    "    Y_cycle = pd.DataFrame.from_dict(Y_cycle)\n",
    "    Y_trend = pd.DataFrame.from_dict(Y_trend)\n",
    "    return Y_cycle, Y_trend"
   ]
  },
  {
   "cell_type": "markdown",
   "metadata": {
    "slideshow": {
     "slide_type": "skip"
    }
   },
   "source": [
    "# Some custom methods"
   ]
  },
  {
   "cell_type": "code",
   "execution_count": 4,
   "metadata": {
    "slideshow": {
     "slide_type": "skip"
    }
   },
   "outputs": [],
   "source": [
    "def seaborn_jointplot(x_key, y_key, df, xlabel=None, ylabel=None):\n",
    "    \"\"\"Custom wrapper to do seaborn jointplots\"\"\"\n",
    "    g = (sns.jointplot(x_key, y_key, \n",
    "                      data=df, \n",
    "                      kind=\"reg\",\n",
    "                      color =\"blue\",\n",
    "                      marker=\"+\",\n",
    "                      joint_kws = {'scatter_kws':dict(alpha=0.2)}\n",
    "                  )\n",
    "    ).plot_joint(sns.kdeplot, zorder=0, n_levels=6)\n",
    "    if xlabel != None:\n",
    "        g.ax_joint.set_xlabel(xlabel)\n",
    "    if ylabel != None:\n",
    "        g.ax_joint.set_ylabel(ylabel)"
   ]
  },
  {
   "cell_type": "code",
   "execution_count": 5,
   "metadata": {
    "slideshow": {
     "slide_type": "skip"
    }
   },
   "outputs": [],
   "source": [
    "def timeseries_df2acf1(df):\n",
    "    \"\"\"Take a Pandas dataframe df. Calculate first order autocorrelations.\"\"\"\n",
    "    # Loop to calculate first-order autocorrelation of each series\n",
    "    autocorr1 = {}\n",
    "    for key, series in df.iteritems():\n",
    "        autocorr1[key] = series.autocorr(lag=1)\n",
    "    acf_1 = pd.DataFrame.from_dict(autocorr1, orient='index', columns=[\"ACF(1)\"])\n",
    "    return acf_1"
   ]
  },
  {
   "cell_type": "code",
   "execution_count": 6,
   "metadata": {
    "slideshow": {
     "slide_type": "skip"
    }
   },
   "outputs": [],
   "source": [
    "def correlation_map(df, figsize=(7,6), fontsize=0.8, colormap='coolwarm'):\n",
    "    \"\"\"Generate SEABORN heatmap for Pearson correlation table,\n",
    "    given Pandas dataframe df.\"\"\"\n",
    "    # Get the lower triangle and diagonal of table\n",
    "    matrix = np.tril(df.corr(), k=-1)\n",
    "    # Mask/hide upper triangular duplicate\n",
    "    plt.figure(figsize=figsize)\n",
    "    sns.set(font_scale =fontsize)\n",
    "    sns.heatmap(df.corr(), annot=True, cmap=colormap, mask=matrix)\n",
    "    plt.show(block=False)"
   ]
  },
  {
   "cell_type": "markdown",
   "metadata": {
    "slideshow": {
     "slide_type": "slide"
    }
   },
   "source": [
    "# Data: US case study"
   ]
  },
  {
   "cell_type": "markdown",
   "metadata": {
    "slideshow": {
     "slide_type": "subslide"
    }
   },
   "source": [
    "Let's set our start and end dates for the time series sample.\n",
    "\n",
    "We'll look at the US case for our study here.\n",
    "\n",
    "The data can be found from the [FRED database](https://fred.stlouisfed.org/) hosted by the St. Louis Fed."
   ]
  },
  {
   "cell_type": "code",
   "execution_count": 7,
   "metadata": {
    "slideshow": {
     "slide_type": "subslide"
    }
   },
   "outputs": [],
   "source": [
    "# Most current (year, month) available\n",
    "current_year = 2020\n",
    "current_month = 8\n",
    "\n",
    "# year, month, day \n",
    "start = dt.datetime(1950, 12, 1)\n",
    "end = dt.datetime(current_year, current_month, 1)"
   ]
  },
  {
   "cell_type": "markdown",
   "metadata": {
    "slideshow": {
     "slide_type": "subslide"
    }
   },
   "source": [
    "I've chosen to use the ``pandas-datareader`` [library](https://pandas-datareader.readthedocs.io/en/latest/) for doing my data importing work into ``Pandas`` dataframe.\n",
    "\n",
    "Here's [an easy tutorial](https://medium.com/swlh/pandas-datareader-federal-reserve-economic-data-fred-a360c5795013) for using ``pandas-datareader`` with the Federal Reserve Economic Data(base) or [FRED](https://fred.stlouisfed.org/)."
   ]
  },
  {
   "cell_type": "code",
   "execution_count": 8,
   "metadata": {
    "slideshow": {
     "slide_type": "subslide"
    }
   },
   "outputs": [],
   "source": [
    "# Get the data - need to dig around on FRED: https://fred.stlouisfed.org/\n",
    "list_of_series = ['UNRATE', 'LNS14000006', 'JTSJOR', \n",
    "                  'CIVPART', 'LNS11300002', 'LNS11300001',\n",
    "                  'EMRATIO', 'PAYEMS',\n",
    "                 ]\n",
    "df = pdr.DataReader(list_of_series, 'fred', start, end)"
   ]
  },
  {
   "cell_type": "code",
   "execution_count": 9,
   "metadata": {
    "slideshow": {
     "slide_type": "subslide"
    }
   },
   "outputs": [],
   "source": [
    "# Update column titles with more readable names\n",
    "newnames = [\"Unemployment Rate\", \n",
    "            \"Unemployment Rate (Black)\", \n",
    "            \"Vacancy Rate\", \n",
    "            \"Participation Rate\",\n",
    "            \"Participation Rate (Female)\",\n",
    "            \"Participation Rate (Male)\",\n",
    "            \"Employment-Population Ratio\",\n",
    "            \"Employment\",\n",
    "           ]\n",
    "df.columns = newnames"
   ]
  },
  {
   "cell_type": "code",
   "execution_count": 10,
   "metadata": {
    "slideshow": {
     "slide_type": "subslide"
    }
   },
   "outputs": [
    {
     "data": {
      "text/html": [
       "<div>\n",
       "<style scoped>\n",
       "    .dataframe tbody tr th:only-of-type {\n",
       "        vertical-align: middle;\n",
       "    }\n",
       "\n",
       "    .dataframe tbody tr th {\n",
       "        vertical-align: top;\n",
       "    }\n",
       "\n",
       "    .dataframe thead th {\n",
       "        text-align: right;\n",
       "    }\n",
       "</style>\n",
       "<table border=\"1\" class=\"dataframe\">\n",
       "  <thead>\n",
       "    <tr style=\"text-align: right;\">\n",
       "      <th></th>\n",
       "      <th>Unemployment Rate</th>\n",
       "      <th>Unemployment Rate (Black)</th>\n",
       "      <th>Vacancy Rate</th>\n",
       "      <th>Participation Rate</th>\n",
       "      <th>Participation Rate (Female)</th>\n",
       "      <th>Participation Rate (Male)</th>\n",
       "      <th>Employment-Population Ratio</th>\n",
       "      <th>Employment</th>\n",
       "    </tr>\n",
       "    <tr>\n",
       "      <th>DATE</th>\n",
       "      <th></th>\n",
       "      <th></th>\n",
       "      <th></th>\n",
       "      <th></th>\n",
       "      <th></th>\n",
       "      <th></th>\n",
       "      <th></th>\n",
       "      <th></th>\n",
       "    </tr>\n",
       "  </thead>\n",
       "  <tbody>\n",
       "    <tr>\n",
       "      <th>1950-12-01</th>\n",
       "      <td>4.3</td>\n",
       "      <td>NaN</td>\n",
       "      <td>NaN</td>\n",
       "      <td>59.2</td>\n",
       "      <td>34.0</td>\n",
       "      <td>86.3</td>\n",
       "      <td>56.7</td>\n",
       "      <td>46861</td>\n",
       "    </tr>\n",
       "    <tr>\n",
       "      <th>1951-01-01</th>\n",
       "      <td>3.7</td>\n",
       "      <td>NaN</td>\n",
       "      <td>NaN</td>\n",
       "      <td>59.1</td>\n",
       "      <td>34.3</td>\n",
       "      <td>86.0</td>\n",
       "      <td>56.9</td>\n",
       "      <td>47288</td>\n",
       "    </tr>\n",
       "    <tr>\n",
       "      <th>1951-02-01</th>\n",
       "      <td>3.4</td>\n",
       "      <td>NaN</td>\n",
       "      <td>NaN</td>\n",
       "      <td>59.1</td>\n",
       "      <td>34.2</td>\n",
       "      <td>86.3</td>\n",
       "      <td>57.0</td>\n",
       "      <td>47577</td>\n",
       "    </tr>\n",
       "  </tbody>\n",
       "</table>\n",
       "</div>"
      ],
      "text/plain": [
       "            Unemployment Rate  Unemployment Rate (Black)  Vacancy Rate  \\\n",
       "DATE                                                                     \n",
       "1950-12-01                4.3                        NaN           NaN   \n",
       "1951-01-01                3.7                        NaN           NaN   \n",
       "1951-02-01                3.4                        NaN           NaN   \n",
       "\n",
       "            Participation Rate  Participation Rate (Female)  \\\n",
       "DATE                                                          \n",
       "1950-12-01                59.2                         34.0   \n",
       "1951-01-01                59.1                         34.3   \n",
       "1951-02-01                59.1                         34.2   \n",
       "\n",
       "            Participation Rate (Male)  Employment-Population Ratio  Employment  \n",
       "DATE                                                                            \n",
       "1950-12-01                       86.3                         56.7       46861  \n",
       "1951-01-01                       86.0                         56.9       47288  \n",
       "1951-02-01                       86.3                         57.0       47577  "
      ]
     },
     "execution_count": 10,
     "metadata": {},
     "output_type": "execute_result"
    }
   ],
   "source": [
    "# Look at first thre rows of the dataframe\n",
    "df.head(3)"
   ]
  },
  {
   "cell_type": "markdown",
   "metadata": {
    "slideshow": {
     "slide_type": "subslide"
    }
   },
   "source": [
    "It's always a good habit to visualize the data you'll work with. \n",
    "\n",
    "We'll preview the raw, monthly-frequency time series."
   ]
  },
  {
   "cell_type": "markdown",
   "metadata": {
    "slideshow": {
     "slide_type": "slide"
    }
   },
   "source": [
    "## Unemployment rate(s)"
   ]
  },
  {
   "cell_type": "code",
   "execution_count": 11,
   "metadata": {
    "scrolled": false,
    "slideshow": {
     "slide_type": "subslide"
    }
   },
   "outputs": [
    {
     "data": {
      "image/png": "[encoded data removed]",
      "text/plain": [
       "<Figure size 432x288 with 1 Axes>"
      ]
     },
     "metadata": {
      "needs_background": "light"
     },
     "output_type": "display_data"
    }
   ],
   "source": [
    "ax = df.plot(  y=['Unemployment Rate', 'Unemployment Rate (Black)'],\n",
    "               grid=True,\n",
    "               xlabel=\"Month\",\n",
    "               title=\"Total unemployment rate (monthly)\"\n",
    "            )\n",
    "ax.legend(['All', 'Black'])\n",
    "plt.show(block=False)"
   ]
  },
  {
   "cell_type": "markdown",
   "metadata": {
    "slideshow": {
     "slide_type": "subslide"
    }
   },
   "source": [
    "The series ``LNS14000006`` refers to the unemployment rate among those classified as \"Black or African American\".\n",
    "\n",
    "It appears uniformly higher than the overall unemployment rate in the economy."
   ]
  },
  {
   "cell_type": "markdown",
   "metadata": {
    "slideshow": {
     "slide_type": "slide"
    }
   },
   "source": [
    "## Vacancies"
   ]
  },
  {
   "cell_type": "markdown",
   "metadata": {
    "slideshow": {
     "slide_type": "subslide"
    }
   },
   "source": [
    "Vacancies data were not available until the 2000s in the US:"
   ]
  },
  {
   "cell_type": "code",
   "execution_count": 12,
   "metadata": {
    "scrolled": false,
    "slideshow": {
     "slide_type": "subslide"
    }
   },
   "outputs": [
    {
     "data": {
      "image/png": "[encoded data removed]",
      "text/plain": [
       "<Figure size 432x288 with 1 Axes>"
      ]
     },
     "metadata": {
      "needs_background": "light"
     },
     "output_type": "display_data"
    }
   ],
   "source": [
    "ax = df.dropna(subset=['Vacancy Rate']).plot(   \n",
    "           y=['Vacancy Rate'],\n",
    "           grid=True,\n",
    "           xlabel=\"Month\",\n",
    "           title=\"Total non-farm vacancy rate (monthly)\"\n",
    "          )\n",
    "plt.show(block=False)"
   ]
  },
  {
   "cell_type": "markdown",
   "metadata": {
    "slideshow": {
     "slide_type": "subslide"
    }
   },
   "source": [
    "## Labor force participation"
   ]
  },
  {
   "cell_type": "code",
   "execution_count": 13,
   "metadata": {
    "scrolled": false,
    "slideshow": {
     "slide_type": "subslide"
    }
   },
   "outputs": [
    {
     "data": {
      "image/png": "[encoded data removed]",
      "text/plain": [
       "<Figure size 432x288 with 1 Axes>"
      ]
     },
     "metadata": {
      "needs_background": "light"
     },
     "output_type": "display_data"
    }
   ],
   "source": [
    "ylist = ['Participation Rate', \n",
    "         'Participation Rate (Female)', \n",
    "         'Participation Rate (Male)']\n",
    "ax = df.plot(  y=ylist,\n",
    "               grid=True,\n",
    "               xlabel=\"Month\",\n",
    "               title=\"Participation rates (monthly)\"\n",
    "          )\n",
    "ax.legend([\"All\", \"Women\", \"Men\"])\n",
    "plt.show(block=False)"
   ]
  },
  {
   "cell_type": "code",
   "execution_count": 14,
   "metadata": {
    "slideshow": {
     "slide_type": "subslide"
    }
   },
   "outputs": [
    {
     "data": {
      "image/png": "[encoded data removed]",
      "text/plain": [
       "<Figure size 432x288 with 1 Axes>"
      ]
     },
     "metadata": {
      "needs_background": "light"
     },
     "output_type": "display_data"
    }
   ],
   "source": [
    "ax = df.plot(  y=['Participation Rate', 'Employment-Population Ratio'],\n",
    "               grid=True,\n",
    "               xlabel=\"Month\",\n",
    "               title=\"Participation rates vs employment-to-population ratio\"\n",
    "          )\n",
    "plt.show(block=False)"
   ]
  },
  {
   "cell_type": "markdown",
   "metadata": {
    "slideshow": {
     "slide_type": "subslide"
    }
   },
   "source": [
    "## Beveridge curve"
   ]
  },
  {
   "cell_type": "code",
   "execution_count": 15,
   "metadata": {
    "scrolled": false,
    "slideshow": {
     "slide_type": "subslide"
    }
   },
   "outputs": [
    {
     "data": {
      "image/png": "[encoded data removed]",
      "text/plain": [
       "<Figure size 432x288 with 1 Axes>"
      ]
     },
     "metadata": {
      "needs_background": "light"
     },
     "output_type": "display_data"
    }
   ],
   "source": [
    "ax = df.dropna(subset=['Vacancy Rate']).plot(   y=['Unemployment Rate', 'Vacancy Rate'],\n",
    "           grid=True,\n",
    "           xlabel=\"Month\",\n",
    "           title=\"Unemployment and vacancy rates\"\n",
    "          )\n",
    "plt.show(block=False)"
   ]
  },
  {
   "cell_type": "code",
   "execution_count": 16,
   "metadata": {
    "scrolled": false,
    "slideshow": {
     "slide_type": "subslide"
    }
   },
   "outputs": [
    {
     "data": {
      "image/png": "[encoded data removed]",
      "text/plain": [
       "<Figure size 432x432 with 3 Axes>"
      ]
     },
     "metadata": {
      "needs_background": "light"
     },
     "output_type": "display_data"
    }
   ],
   "source": [
    "seaborn_jointplot(\"Unemployment Rate\", \"Vacancy Rate\", df)"
   ]
  },
  {
   "cell_type": "markdown",
   "metadata": {
    "slideshow": {
     "slide_type": "subslide"
    }
   },
   "source": [
    "There appears to be a negative statistical association between unemployment rate and vacancies."
   ]
  },
  {
   "cell_type": "markdown",
   "metadata": {
    "slideshow": {
     "slide_type": "slide"
    }
   },
   "source": [
    "## Business cycle frequencies"
   ]
  },
  {
   "cell_type": "markdown",
   "metadata": {
    "slideshow": {
     "slide_type": "subslide"
    }
   },
   "source": [
    "We previously plotted raw monthly time series.\n",
    "\n",
    "However, some other data series like aggregate output (say, GDP) or productivity are usually only available as quarterly time series.\n",
    "\n",
    "In this part, we consider resampling our monthly data into quarterly measures.\n",
    "\n",
    "Economists working with business cycles often pre-treat the data to remove any slow-moving (trend) variations in the data.\n",
    "\n",
    "We will also consider how to do this de-trending, using a filter model called the Hodrick-Prescott (HP) filter.\n",
    "\n"
   ]
  },
  {
   "cell_type": "markdown",
   "metadata": {
    "slideshow": {
     "slide_type": "subslide"
    }
   },
   "source": [
    "### Missing data and quarterly resampling\n",
    "\n",
    "We'll drop the periods that have missing data using the ``dropna()`` attribute.\n",
    "\n",
    "Our source data is monthly. Let's do a quarterly averaging across monthly observations. This is done using the ``resample()`` attribute and taking the ``mean()``\n",
    "of samplings of three-monthly observations."
   ]
  },
  {
   "cell_type": "code",
   "execution_count": 17,
   "metadata": {
    "slideshow": {
     "slide_type": "skip"
    }
   },
   "outputs": [],
   "source": [
    "dfQ = df.resample('Q', convention='start').mean()"
   ]
  },
  {
   "cell_type": "markdown",
   "metadata": {
    "slideshow": {
     "slide_type": "subslide"
    }
   },
   "source": [
    "We'll also leave out the last three quarters with anomalies beginning in 2020 (due to COVID-19)."
   ]
  },
  {
   "cell_type": "code",
   "execution_count": 18,
   "metadata": {
    "slideshow": {
     "slide_type": "skip"
    }
   },
   "outputs": [],
   "source": [
    "# smaller than the end date\n",
    "end_date = '2020-03-31'\n",
    "mask = (dfQ.index < end_date) \n",
    "mask\n",
    "dq = dfQ[mask]"
   ]
  },
  {
   "cell_type": "code",
   "execution_count": 19,
   "metadata": {
    "scrolled": false,
    "slideshow": {
     "slide_type": "skip"
    }
   },
   "outputs": [],
   "source": [
    "# Truncated dfQ (cut out COVID-19 quarters)\n",
    "dfQ = dfQ[mask]"
   ]
  },
  {
   "cell_type": "markdown",
   "metadata": {
    "slideshow": {
     "slide_type": "subslide"
    }
   },
   "source": [
    "### Add (quarterly) data on GDP and Labor Productivity"
   ]
  },
  {
   "cell_type": "code",
   "execution_count": 20,
   "metadata": {
    "slideshow": {
     "slide_type": "skip"
    }
   },
   "outputs": [
    {
     "data": {
      "text/plain": [
       "Timestamp('1950-12-31 00:00:00', freq='Q-DEC')"
      ]
     },
     "execution_count": 20,
     "metadata": {},
     "output_type": "execute_result"
    }
   ],
   "source": [
    "tmin = dfQ.index.min()\n",
    "tmin"
   ]
  },
  {
   "cell_type": "code",
   "execution_count": 21,
   "metadata": {
    "slideshow": {
     "slide_type": "skip"
    }
   },
   "outputs": [
    {
     "data": {
      "text/plain": [
       "Timestamp('2019-12-31 00:00:00', freq='Q-DEC')"
      ]
     },
     "execution_count": 21,
     "metadata": {},
     "output_type": "execute_result"
    }
   ],
   "source": [
    "tmax = dfQ.index.max()\n",
    "tmax"
   ]
  },
  {
   "cell_type": "code",
   "execution_count": 22,
   "metadata": {
    "slideshow": {
     "slide_type": "skip"
    }
   },
   "outputs": [
    {
     "data": {
      "text/html": [
       "<div>\n",
       "<style scoped>\n",
       "    .dataframe tbody tr th:only-of-type {\n",
       "        vertical-align: middle;\n",
       "    }\n",
       "\n",
       "    .dataframe tbody tr th {\n",
       "        vertical-align: top;\n",
       "    }\n",
       "\n",
       "    .dataframe thead th {\n",
       "        text-align: right;\n",
       "    }\n",
       "</style>\n",
       "<table border=\"1\" class=\"dataframe\">\n",
       "  <thead>\n",
       "    <tr style=\"text-align: right;\">\n",
       "      <th></th>\n",
       "      <th>GDPC1</th>\n",
       "      <th>PRS85006163</th>\n",
       "      <th>PRS85006013</th>\n",
       "      <th>OUTNFB</th>\n",
       "    </tr>\n",
       "    <tr>\n",
       "      <th>DATE</th>\n",
       "      <th></th>\n",
       "      <th></th>\n",
       "      <th></th>\n",
       "      <th></th>\n",
       "    </tr>\n",
       "  </thead>\n",
       "  <tbody>\n",
       "    <tr>\n",
       "      <th>1951-01-01</th>\n",
       "      <td>2415.660</td>\n",
       "      <td>31.582</td>\n",
       "      <td>41.853</td>\n",
       "      <td>13.218</td>\n",
       "    </tr>\n",
       "    <tr>\n",
       "      <th>1951-04-01</th>\n",
       "      <td>2457.517</td>\n",
       "      <td>31.475</td>\n",
       "      <td>42.202</td>\n",
       "      <td>13.283</td>\n",
       "    </tr>\n",
       "    <tr>\n",
       "      <th>1951-07-01</th>\n",
       "      <td>2508.166</td>\n",
       "      <td>32.004</td>\n",
       "      <td>42.017</td>\n",
       "      <td>13.447</td>\n",
       "    </tr>\n",
       "    <tr>\n",
       "      <th>1951-10-01</th>\n",
       "      <td>2513.690</td>\n",
       "      <td>32.075</td>\n",
       "      <td>42.070</td>\n",
       "      <td>13.494</td>\n",
       "    </tr>\n",
       "    <tr>\n",
       "      <th>1952-01-01</th>\n",
       "      <td>2540.550</td>\n",
       "      <td>32.387</td>\n",
       "      <td>42.144</td>\n",
       "      <td>13.649</td>\n",
       "    </tr>\n",
       "    <tr>\n",
       "      <th>...</th>\n",
       "      <td>...</td>\n",
       "      <td>...</td>\n",
       "      <td>...</td>\n",
       "      <td>...</td>\n",
       "    </tr>\n",
       "    <tr>\n",
       "      <th>2018-10-01</th>\n",
       "      <td>18813.923</td>\n",
       "      <td>105.967</td>\n",
       "      <td>112.573</td>\n",
       "      <td>119.291</td>\n",
       "    </tr>\n",
       "    <tr>\n",
       "      <th>2019-01-01</th>\n",
       "      <td>18950.347</td>\n",
       "      <td>106.818</td>\n",
       "      <td>112.730</td>\n",
       "      <td>120.415</td>\n",
       "    </tr>\n",
       "    <tr>\n",
       "      <th>2019-04-01</th>\n",
       "      <td>19020.599</td>\n",
       "      <td>107.045</td>\n",
       "      <td>112.831</td>\n",
       "      <td>120.780</td>\n",
       "    </tr>\n",
       "    <tr>\n",
       "      <th>2019-07-01</th>\n",
       "      <td>19141.744</td>\n",
       "      <td>107.054</td>\n",
       "      <td>113.625</td>\n",
       "      <td>121.641</td>\n",
       "    </tr>\n",
       "    <tr>\n",
       "      <th>2019-10-01</th>\n",
       "      <td>19253.959</td>\n",
       "      <td>107.611</td>\n",
       "      <td>113.825</td>\n",
       "      <td>122.489</td>\n",
       "    </tr>\n",
       "  </tbody>\n",
       "</table>\n",
       "<p>276 rows × 4 columns</p>\n",
       "</div>"
      ],
      "text/plain": [
       "                GDPC1  PRS85006163  PRS85006013   OUTNFB\n",
       "DATE                                                    \n",
       "1951-01-01   2415.660       31.582       41.853   13.218\n",
       "1951-04-01   2457.517       31.475       42.202   13.283\n",
       "1951-07-01   2508.166       32.004       42.017   13.447\n",
       "1951-10-01   2513.690       32.075       42.070   13.494\n",
       "1952-01-01   2540.550       32.387       42.144   13.649\n",
       "...               ...          ...          ...      ...\n",
       "2018-10-01  18813.923      105.967      112.573  119.291\n",
       "2019-01-01  18950.347      106.818      112.730  120.415\n",
       "2019-04-01  19020.599      107.045      112.831  120.780\n",
       "2019-07-01  19141.744      107.054      113.625  121.641\n",
       "2019-10-01  19253.959      107.611      113.825  122.489\n",
       "\n",
       "[276 rows x 4 columns]"
      ]
     },
     "execution_count": 22,
     "metadata": {},
     "output_type": "execute_result"
    }
   ],
   "source": [
    "dfY = pdr.DataReader(['GDPC1', 'PRS85006163', 'PRS85006013', 'OUTNFB'], 'fred', tmin, tmax)\n",
    "dfY"
   ]
  },
  {
   "cell_type": "code",
   "execution_count": 23,
   "metadata": {
    "slideshow": {
     "slide_type": "subslide"
    }
   },
   "outputs": [],
   "source": [
    "# Drop first row of dfQ (we inspected to ensure that was not in dfY)\n",
    "dfQ_drop = dfQ.iloc[1:]\n",
    "# Make dfY timestamp the same as dfQ_drop\n",
    "dfQY = dfY.reindex_like(dfQ_drop)\n",
    "# Replace entries of dfQ_drop into empty dfQY\n",
    "dfQY[:] = dfQ_drop[:]\n",
    "# Insert new column series GDP\n",
    "dfQY[\"GDP\"] = dfY[\"GDPC1\"].array\n",
    "# Insert output per person (nonfarm business) series\n",
    "dfQY[\"Output per person (Nonfarm Business)\"] = dfY['PRS85006163'].array\n",
    "# Insert output (nonfarm business) series\n",
    "dfQY[\"Output (Nonfarm Business)\"] = dfY['OUTNFB'].array\n",
    "# Insert employment (nonfarm business) series\n",
    "dfQY[\"Employment (Nonfarm Business)\"] = dfY['PRS85006013'].array\n",
    "# Create Shimer's productivity series\n",
    "dfQY[\"Productivity\"] = dfQY[\"Output (Nonfarm Business)\"]/dfQY[\"Employment (Nonfarm Business)\"]"
   ]
  },
  {
   "cell_type": "code",
   "execution_count": 24,
   "metadata": {
    "scrolled": false,
    "slideshow": {
     "slide_type": "subslide"
    }
   },
   "outputs": [
    {
     "data": {
      "text/html": [
       "<div>\n",
       "<style scoped>\n",
       "    .dataframe tbody tr th:only-of-type {\n",
       "        vertical-align: middle;\n",
       "    }\n",
       "\n",
       "    .dataframe tbody tr th {\n",
       "        vertical-align: top;\n",
       "    }\n",
       "\n",
       "    .dataframe thead th {\n",
       "        text-align: right;\n",
       "    }\n",
       "</style>\n",
       "<table border=\"1\" class=\"dataframe\">\n",
       "  <thead>\n",
       "    <tr style=\"text-align: right;\">\n",
       "      <th></th>\n",
       "      <th>Unemployment Rate</th>\n",
       "      <th>Unemployment Rate (Black)</th>\n",
       "      <th>Vacancy Rate</th>\n",
       "      <th>Participation Rate</th>\n",
       "      <th>Participation Rate (Female)</th>\n",
       "      <th>Participation Rate (Male)</th>\n",
       "      <th>Employment-Population Ratio</th>\n",
       "      <th>Employment</th>\n",
       "      <th>GDP</th>\n",
       "      <th>Output per person (Nonfarm Business)</th>\n",
       "      <th>Output (Nonfarm Business)</th>\n",
       "      <th>Employment (Nonfarm Business)</th>\n",
       "      <th>Productivity</th>\n",
       "    </tr>\n",
       "    <tr>\n",
       "      <th>DATE</th>\n",
       "      <th></th>\n",
       "      <th></th>\n",
       "      <th></th>\n",
       "      <th></th>\n",
       "      <th></th>\n",
       "      <th></th>\n",
       "      <th></th>\n",
       "      <th></th>\n",
       "      <th></th>\n",
       "      <th></th>\n",
       "      <th></th>\n",
       "      <th></th>\n",
       "      <th></th>\n",
       "    </tr>\n",
       "  </thead>\n",
       "  <tbody>\n",
       "    <tr>\n",
       "      <th>1951-03-31</th>\n",
       "      <td>3.5</td>\n",
       "      <td>NaN</td>\n",
       "      <td>NaN</td>\n",
       "      <td>59.333333</td>\n",
       "      <td>34.500000</td>\n",
       "      <td>86.400000</td>\n",
       "      <td>57.200000</td>\n",
       "      <td>47579.333333</td>\n",
       "      <td>2415.660</td>\n",
       "      <td>31.582</td>\n",
       "      <td>13.218</td>\n",
       "      <td>41.853</td>\n",
       "      <td>0.315820</td>\n",
       "    </tr>\n",
       "    <tr>\n",
       "      <th>1951-06-30</th>\n",
       "      <td>3.1</td>\n",
       "      <td>NaN</td>\n",
       "      <td>NaN</td>\n",
       "      <td>59.166667</td>\n",
       "      <td>34.433333</td>\n",
       "      <td>86.433333</td>\n",
       "      <td>57.333333</td>\n",
       "      <td>47959.000000</td>\n",
       "      <td>2457.517</td>\n",
       "      <td>31.475</td>\n",
       "      <td>13.283</td>\n",
       "      <td>42.202</td>\n",
       "      <td>0.314748</td>\n",
       "    </tr>\n",
       "  </tbody>\n",
       "</table>\n",
       "</div>"
      ],
      "text/plain": [
       "            Unemployment Rate  Unemployment Rate (Black)  Vacancy Rate  \\\n",
       "DATE                                                                     \n",
       "1951-03-31                3.5                        NaN           NaN   \n",
       "1951-06-30                3.1                        NaN           NaN   \n",
       "\n",
       "            Participation Rate  Participation Rate (Female)  \\\n",
       "DATE                                                          \n",
       "1951-03-31           59.333333                    34.500000   \n",
       "1951-06-30           59.166667                    34.433333   \n",
       "\n",
       "            Participation Rate (Male)  Employment-Population Ratio  \\\n",
       "DATE                                                                 \n",
       "1951-03-31                  86.400000                    57.200000   \n",
       "1951-06-30                  86.433333                    57.333333   \n",
       "\n",
       "              Employment       GDP  Output per person (Nonfarm Business)  \\\n",
       "DATE                                                                       \n",
       "1951-03-31  47579.333333  2415.660                                31.582   \n",
       "1951-06-30  47959.000000  2457.517                                31.475   \n",
       "\n",
       "            Output (Nonfarm Business)  Employment (Nonfarm Business)  \\\n",
       "DATE                                                                   \n",
       "1951-03-31                     13.218                         41.853   \n",
       "1951-06-30                     13.283                         42.202   \n",
       "\n",
       "            Productivity  \n",
       "DATE                      \n",
       "1951-03-31      0.315820  \n",
       "1951-06-30      0.314748  "
      ]
     },
     "execution_count": 24,
     "metadata": {},
     "output_type": "execute_result"
    }
   ],
   "source": [
    "dfQY.head(2)"
   ]
  },
  {
   "cell_type": "code",
   "execution_count": 25,
   "metadata": {
    "slideshow": {
     "slide_type": "subslide"
    }
   },
   "outputs": [
    {
     "data": {
      "text/html": [
       "<div>\n",
       "<style scoped>\n",
       "    .dataframe tbody tr th:only-of-type {\n",
       "        vertical-align: middle;\n",
       "    }\n",
       "\n",
       "    .dataframe tbody tr th {\n",
       "        vertical-align: top;\n",
       "    }\n",
       "\n",
       "    .dataframe thead th {\n",
       "        text-align: right;\n",
       "    }\n",
       "</style>\n",
       "<table border=\"1\" class=\"dataframe\">\n",
       "  <thead>\n",
       "    <tr style=\"text-align: right;\">\n",
       "      <th></th>\n",
       "      <th>Unemployment Rate</th>\n",
       "      <th>Unemployment Rate (Black)</th>\n",
       "      <th>Vacancy Rate</th>\n",
       "      <th>Participation Rate</th>\n",
       "      <th>Participation Rate (Female)</th>\n",
       "      <th>Participation Rate (Male)</th>\n",
       "      <th>Employment-Population Ratio</th>\n",
       "      <th>Employment</th>\n",
       "      <th>GDP</th>\n",
       "      <th>Output per person (Nonfarm Business)</th>\n",
       "      <th>Output (Nonfarm Business)</th>\n",
       "      <th>Employment (Nonfarm Business)</th>\n",
       "      <th>Productivity</th>\n",
       "    </tr>\n",
       "    <tr>\n",
       "      <th>DATE</th>\n",
       "      <th></th>\n",
       "      <th></th>\n",
       "      <th></th>\n",
       "      <th></th>\n",
       "      <th></th>\n",
       "      <th></th>\n",
       "      <th></th>\n",
       "      <th></th>\n",
       "      <th></th>\n",
       "      <th></th>\n",
       "      <th></th>\n",
       "      <th></th>\n",
       "      <th></th>\n",
       "    </tr>\n",
       "  </thead>\n",
       "  <tbody>\n",
       "    <tr>\n",
       "      <th>2000-12-31</th>\n",
       "      <td>3.900000</td>\n",
       "      <td>7.333333</td>\n",
       "      <td>3.500000</td>\n",
       "      <td>66.900000</td>\n",
       "      <td>59.833333</td>\n",
       "      <td>74.600000</td>\n",
       "      <td>64.300000</td>\n",
       "      <td>132538.666667</td>\n",
       "      <td>13260.506</td>\n",
       "      <td>78.904</td>\n",
       "      <td>80.514</td>\n",
       "      <td>102.040</td>\n",
       "      <td>0.789044</td>\n",
       "    </tr>\n",
       "    <tr>\n",
       "      <th>2001-03-31</th>\n",
       "      <td>4.233333</td>\n",
       "      <td>8.066667</td>\n",
       "      <td>3.633333</td>\n",
       "      <td>67.166667</td>\n",
       "      <td>60.100000</td>\n",
       "      <td>74.833333</td>\n",
       "      <td>64.333333</td>\n",
       "      <td>132744.666667</td>\n",
       "      <td>13222.690</td>\n",
       "      <td>78.207</td>\n",
       "      <td>80.123</td>\n",
       "      <td>102.450</td>\n",
       "      <td>0.782069</td>\n",
       "    </tr>\n",
       "    <tr>\n",
       "      <th>2001-06-30</th>\n",
       "      <td>4.400000</td>\n",
       "      <td>8.066667</td>\n",
       "      <td>3.333333</td>\n",
       "      <td>66.766667</td>\n",
       "      <td>59.733333</td>\n",
       "      <td>74.433333</td>\n",
       "      <td>63.833333</td>\n",
       "      <td>132390.666667</td>\n",
       "      <td>13299.984</td>\n",
       "      <td>79.293</td>\n",
       "      <td>80.697</td>\n",
       "      <td>101.771</td>\n",
       "      <td>0.792927</td>\n",
       "    </tr>\n",
       "    <tr>\n",
       "      <th>2001-09-30</th>\n",
       "      <td>4.833333</td>\n",
       "      <td>8.666667</td>\n",
       "      <td>3.100000</td>\n",
       "      <td>66.700000</td>\n",
       "      <td>59.600000</td>\n",
       "      <td>74.333333</td>\n",
       "      <td>63.466667</td>\n",
       "      <td>131992.000000</td>\n",
       "      <td>13244.784</td>\n",
       "      <td>79.351</td>\n",
       "      <td>80.149</td>\n",
       "      <td>101.005</td>\n",
       "      <td>0.793515</td>\n",
       "    </tr>\n",
       "    <tr>\n",
       "      <th>2001-12-31</th>\n",
       "      <td>5.500000</td>\n",
       "      <td>9.800000</td>\n",
       "      <td>2.700000</td>\n",
       "      <td>66.700000</td>\n",
       "      <td>59.733333</td>\n",
       "      <td>74.333333</td>\n",
       "      <td>63.033333</td>\n",
       "      <td>131192.666667</td>\n",
       "      <td>13280.859</td>\n",
       "      <td>80.178</td>\n",
       "      <td>80.234</td>\n",
       "      <td>100.070</td>\n",
       "      <td>0.801779</td>\n",
       "    </tr>\n",
       "  </tbody>\n",
       "</table>\n",
       "</div>"
      ],
      "text/plain": [
       "            Unemployment Rate  Unemployment Rate (Black)  Vacancy Rate  \\\n",
       "DATE                                                                     \n",
       "2000-12-31           3.900000                   7.333333      3.500000   \n",
       "2001-03-31           4.233333                   8.066667      3.633333   \n",
       "2001-06-30           4.400000                   8.066667      3.333333   \n",
       "2001-09-30           4.833333                   8.666667      3.100000   \n",
       "2001-12-31           5.500000                   9.800000      2.700000   \n",
       "\n",
       "            Participation Rate  Participation Rate (Female)  \\\n",
       "DATE                                                          \n",
       "2000-12-31           66.900000                    59.833333   \n",
       "2001-03-31           67.166667                    60.100000   \n",
       "2001-06-30           66.766667                    59.733333   \n",
       "2001-09-30           66.700000                    59.600000   \n",
       "2001-12-31           66.700000                    59.733333   \n",
       "\n",
       "            Participation Rate (Male)  Employment-Population Ratio  \\\n",
       "DATE                                                                 \n",
       "2000-12-31                  74.600000                    64.300000   \n",
       "2001-03-31                  74.833333                    64.333333   \n",
       "2001-06-30                  74.433333                    63.833333   \n",
       "2001-09-30                  74.333333                    63.466667   \n",
       "2001-12-31                  74.333333                    63.033333   \n",
       "\n",
       "               Employment        GDP  Output per person (Nonfarm Business)  \\\n",
       "DATE                                                                         \n",
       "2000-12-31  132538.666667  13260.506                                78.904   \n",
       "2001-03-31  132744.666667  13222.690                                78.207   \n",
       "2001-06-30  132390.666667  13299.984                                79.293   \n",
       "2001-09-30  131992.000000  13244.784                                79.351   \n",
       "2001-12-31  131192.666667  13280.859                                80.178   \n",
       "\n",
       "            Output (Nonfarm Business)  Employment (Nonfarm Business)  \\\n",
       "DATE                                                                   \n",
       "2000-12-31                     80.514                        102.040   \n",
       "2001-03-31                     80.123                        102.450   \n",
       "2001-06-30                     80.697                        101.771   \n",
       "2001-09-30                     80.149                        101.005   \n",
       "2001-12-31                     80.234                        100.070   \n",
       "\n",
       "            Productivity  \n",
       "DATE                      \n",
       "2000-12-31      0.789044  \n",
       "2001-03-31      0.782069  \n",
       "2001-06-30      0.792927  \n",
       "2001-09-30      0.793515  \n",
       "2001-12-31      0.801779  "
      ]
     },
     "execution_count": 25,
     "metadata": {},
     "output_type": "execute_result"
    }
   ],
   "source": [
    "# Drop NaN (vacancies not available in JOLTS until Dec 2000)\n",
    "dfD = dfQY.dropna()\n",
    "dfD.head()"
   ]
  },
  {
   "cell_type": "markdown",
   "metadata": {
    "slideshow": {
     "slide_type": "slide"
    }
   },
   "source": [
    "# Shimer data set"
   ]
  },
  {
   "cell_type": "markdown",
   "metadata": {
    "slideshow": {
     "slide_type": "subslide"
    }
   },
   "source": [
    "For comparison, we also look at a well-known but older data set by Robert Shimer, [downloadable from the AER site](https://www.aeaweb.org/articles?id=10.1257/0002828053828572).\n",
    "\n",
    "Below, I assume you've already downloaded the source data."
   ]
  },
  {
   "cell_type": "code",
   "execution_count": 26,
   "metadata": {
    "slideshow": {
     "slide_type": "subslide"
    }
   },
   "outputs": [
    {
     "data": {
      "text/html": [
       "<div>\n",
       "<style scoped>\n",
       "    .dataframe tbody tr th:only-of-type {\n",
       "        vertical-align: middle;\n",
       "    }\n",
       "\n",
       "    .dataframe tbody tr th {\n",
       "        vertical-align: top;\n",
       "    }\n",
       "\n",
       "    .dataframe thead th {\n",
       "        text-align: right;\n",
       "    }\n",
       "</style>\n",
       "<table border=\"1\" class=\"dataframe\">\n",
       "  <thead>\n",
       "    <tr style=\"text-align: right;\">\n",
       "      <th></th>\n",
       "      <th>Title:</th>\n",
       "      <th>Unemployment Rate</th>\n",
       "      <th>Unemployment Level</th>\n",
       "      <th>Job Openings</th>\n",
       "      <th>Help Wanted Advertising</th>\n",
       "      <th>Unemployment &lt; 5 weeks</th>\n",
       "      <th>Adjusted to Unemployed &lt; 5 Weeks</th>\n",
       "      <th>Job Finding Rate</th>\n",
       "      <th>Civilian Employment: Sixteen Years &amp; Over</th>\n",
       "      <th>Separation Rate</th>\n",
       "    </tr>\n",
       "  </thead>\n",
       "  <tbody>\n",
       "    <tr>\n",
       "      <th>5</th>\n",
       "      <td>1951-01-01 00:00:00</td>\n",
       "      <td>3.7</td>\n",
       "      <td>2305</td>\n",
       "      <td>NaN</td>\n",
       "      <td>40</td>\n",
       "      <td>1115</td>\n",
       "      <td>1115</td>\n",
       "      <td>0.561822</td>\n",
       "      <td>59636</td>\n",
       "      <td>0.0258141</td>\n",
       "    </tr>\n",
       "    <tr>\n",
       "      <th>6</th>\n",
       "      <td>1951-02-01 00:00:00</td>\n",
       "      <td>3.4</td>\n",
       "      <td>2117</td>\n",
       "      <td>NaN</td>\n",
       "      <td>41</td>\n",
       "      <td>1107</td>\n",
       "      <td>1107</td>\n",
       "      <td>0.570146</td>\n",
       "      <td>59661</td>\n",
       "      <td>0.0284855</td>\n",
       "    </tr>\n",
       "    <tr>\n",
       "      <th>7</th>\n",
       "      <td>1951-03-01 00:00:00</td>\n",
       "      <td>3.4</td>\n",
       "      <td>2125</td>\n",
       "      <td>NaN</td>\n",
       "      <td>43</td>\n",
       "      <td>1215</td>\n",
       "      <td>1215</td>\n",
       "      <td>0.642824</td>\n",
       "      <td>60401</td>\n",
       "      <td>0.0283014</td>\n",
       "    </tr>\n",
       "    <tr>\n",
       "      <th>8</th>\n",
       "      <td>1951-04-01 00:00:00</td>\n",
       "      <td>3.1</td>\n",
       "      <td>1919</td>\n",
       "      <td>NaN</td>\n",
       "      <td>42</td>\n",
       "      <td>1160</td>\n",
       "      <td>1160</td>\n",
       "      <td>0.619072</td>\n",
       "      <td>59889</td>\n",
       "      <td>0.027206</td>\n",
       "    </tr>\n",
       "    <tr>\n",
       "      <th>9</th>\n",
       "      <td>1951-05-01 00:00:00</td>\n",
       "      <td>3</td>\n",
       "      <td>1856</td>\n",
       "      <td>NaN</td>\n",
       "      <td>43</td>\n",
       "      <td>1125</td>\n",
       "      <td>1125</td>\n",
       "      <td>0.53125</td>\n",
       "      <td>60188</td>\n",
       "      <td>0.0254522</td>\n",
       "    </tr>\n",
       "  </tbody>\n",
       "</table>\n",
       "</div>"
      ],
      "text/plain": [
       "  Title:               Unemployment Rate Unemployment Level Job Openings  \\\n",
       "5  1951-01-01 00:00:00               3.7               2305          NaN   \n",
       "6  1951-02-01 00:00:00               3.4               2117          NaN   \n",
       "7  1951-03-01 00:00:00               3.4               2125          NaN   \n",
       "8  1951-04-01 00:00:00               3.1               1919          NaN   \n",
       "9  1951-05-01 00:00:00                 3               1856          NaN   \n",
       "\n",
       "  Help Wanted Advertising Unemployment < 5 weeks  \\\n",
       "5                      40                   1115   \n",
       "6                      41                   1107   \n",
       "7                      43                   1215   \n",
       "8                      42                   1160   \n",
       "9                      43                   1125   \n",
       "\n",
       "  Adjusted to Unemployed < 5 Weeks Job Finding Rate  \\\n",
       "5                             1115         0.561822   \n",
       "6                             1107         0.570146   \n",
       "7                             1215         0.642824   \n",
       "8                             1160         0.619072   \n",
       "9                             1125          0.53125   \n",
       "\n",
       "  Civilian Employment: Sixteen Years & Over Separation Rate  \n",
       "5                                     59636       0.0258141  \n",
       "6                                     59661       0.0284855  \n",
       "7                                     60401       0.0283014  \n",
       "8                                     59889        0.027206  \n",
       "9                                     60188       0.0254522  "
      ]
     },
     "execution_count": 26,
     "metadata": {},
     "output_type": "execute_result"
    }
   ],
   "source": [
    "df_shimer = pd.read_excel('116040-V1/data.xls', sheet_name=\"Monthly Data\")\n",
    "df_shimer = df_shimer[5:]\n",
    "df_shimer.head()"
   ]
  },
  {
   "cell_type": "markdown",
   "metadata": {
    "slideshow": {
     "slide_type": "subslide"
    }
   },
   "source": [
    "The vacancy data from JOLTS only began in December 2000.\n",
    "\n",
    "Shimer wanted a longer data series that goes back to 1951. Hence he used the now-discontinued Conference Board data on \"Help Wanted Advertising\" index (in newspapers). He showed that this series tracks the JOLTS vacancy data quite well."
   ]
  },
  {
   "cell_type": "code",
   "execution_count": 27,
   "metadata": {
    "scrolled": false,
    "slideshow": {
     "slide_type": "subslide"
    }
   },
   "outputs": [],
   "source": [
    "cherrypick = [\"Unemployment Level\", \"Help Wanted Advertising\", \"Job Finding Rate\"]\n",
    "dfs = df_shimer[cherrypick]"
   ]
  },
  {
   "cell_type": "markdown",
   "metadata": {
    "slideshow": {
     "slide_type": "subslide"
    }
   },
   "source": [
    "We make date-stamp index in this new dataframe ``dfs`` consistent with that of the previous monthly-series dataframe ``df``:"
   ]
  },
  {
   "cell_type": "code",
   "execution_count": 28,
   "metadata": {
    "slideshow": {
     "slide_type": "subslide"
    }
   },
   "outputs": [],
   "source": [
    "dfs = dfs.set_index(df.index[0:len(dfs)])"
   ]
  },
  {
   "cell_type": "markdown",
   "metadata": {
    "slideshow": {
     "slide_type": "subslide"
    }
   },
   "source": [
    "It turns out that the imported Shimer data was stored as ``object`` datatypes. "
   ]
  },
  {
   "cell_type": "code",
   "execution_count": 29,
   "metadata": {
    "slideshow": {
     "slide_type": "subslide"
    }
   },
   "outputs": [
    {
     "data": {
      "text/plain": [
       "Unemployment Level         object\n",
       "Help Wanted Advertising    object\n",
       "Job Finding Rate           object\n",
       "dtype: object"
      ]
     },
     "execution_count": 29,
     "metadata": {},
     "output_type": "execute_result"
    }
   ],
   "source": [
    "dfs.dtypes"
   ]
  },
  {
   "cell_type": "markdown",
   "metadata": {
    "slideshow": {
     "slide_type": "subslide"
    }
   },
   "source": [
    "We need to make this usable as ``float`` datatypes:"
   ]
  },
  {
   "cell_type": "code",
   "execution_count": 30,
   "metadata": {
    "scrolled": true,
    "slideshow": {
     "slide_type": "subslide"
    }
   },
   "outputs": [],
   "source": [
    "dfs = dfs.astype(\"float\")"
   ]
  },
  {
   "cell_type": "markdown",
   "metadata": {
    "slideshow": {
     "slide_type": "subslide"
    }
   },
   "source": [
    "Now we convert these monthly series into quarterly averages:"
   ]
  },
  {
   "cell_type": "code",
   "execution_count": 31,
   "metadata": {
    "slideshow": {
     "slide_type": "subslide"
    }
   },
   "outputs": [
    {
     "data": {
      "text/html": [
       "<div>\n",
       "<style scoped>\n",
       "    .dataframe tbody tr th:only-of-type {\n",
       "        vertical-align: middle;\n",
       "    }\n",
       "\n",
       "    .dataframe tbody tr th {\n",
       "        vertical-align: top;\n",
       "    }\n",
       "\n",
       "    .dataframe thead th {\n",
       "        text-align: right;\n",
       "    }\n",
       "</style>\n",
       "<table border=\"1\" class=\"dataframe\">\n",
       "  <thead>\n",
       "    <tr style=\"text-align: right;\">\n",
       "      <th></th>\n",
       "      <th>Unemployment Level</th>\n",
       "      <th>Help Wanted Advertising</th>\n",
       "      <th>Job Finding Rate</th>\n",
       "    </tr>\n",
       "    <tr>\n",
       "      <th>DATE</th>\n",
       "      <th></th>\n",
       "      <th></th>\n",
       "      <th></th>\n",
       "    </tr>\n",
       "  </thead>\n",
       "  <tbody>\n",
       "    <tr>\n",
       "      <th>1950-12-31</th>\n",
       "      <td>2305.000000</td>\n",
       "      <td>40.000000</td>\n",
       "      <td>0.561822</td>\n",
       "    </tr>\n",
       "    <tr>\n",
       "      <th>1951-03-31</th>\n",
       "      <td>2053.666667</td>\n",
       "      <td>42.000000</td>\n",
       "      <td>0.610681</td>\n",
       "    </tr>\n",
       "    <tr>\n",
       "      <th>1951-06-30</th>\n",
       "      <td>1933.666667</td>\n",
       "      <td>42.000000</td>\n",
       "      <td>0.587562</td>\n",
       "    </tr>\n",
       "    <tr>\n",
       "      <th>1951-09-30</th>\n",
       "      <td>2064.666667</td>\n",
       "      <td>41.666667</td>\n",
       "      <td>0.575571</td>\n",
       "    </tr>\n",
       "    <tr>\n",
       "      <th>1951-12-31</th>\n",
       "      <td>2036.666667</td>\n",
       "      <td>42.666667</td>\n",
       "      <td>0.588945</td>\n",
       "    </tr>\n",
       "    <tr>\n",
       "      <th>...</th>\n",
       "      <td>...</td>\n",
       "      <td>...</td>\n",
       "      <td>...</td>\n",
       "    </tr>\n",
       "    <tr>\n",
       "      <th>2002-12-31</th>\n",
       "      <td>8563.666667</td>\n",
       "      <td>40.000000</td>\n",
       "      <td>0.360970</td>\n",
       "    </tr>\n",
       "    <tr>\n",
       "      <th>2003-03-31</th>\n",
       "      <td>8633.000000</td>\n",
       "      <td>39.000000</td>\n",
       "      <td>0.352148</td>\n",
       "    </tr>\n",
       "    <tr>\n",
       "      <th>2003-06-30</th>\n",
       "      <td>9083.333333</td>\n",
       "      <td>37.333333</td>\n",
       "      <td>0.340466</td>\n",
       "    </tr>\n",
       "    <tr>\n",
       "      <th>2003-09-30</th>\n",
       "      <td>8897.333333</td>\n",
       "      <td>36.666667</td>\n",
       "      <td>0.344299</td>\n",
       "    </tr>\n",
       "    <tr>\n",
       "      <th>2003-12-31</th>\n",
       "      <td>8449.333333</td>\n",
       "      <td>38.000000</td>\n",
       "      <td>0.358789</td>\n",
       "    </tr>\n",
       "  </tbody>\n",
       "</table>\n",
       "<p>213 rows × 3 columns</p>\n",
       "</div>"
      ],
      "text/plain": [
       "            Unemployment Level  Help Wanted Advertising  Job Finding Rate\n",
       "DATE                                                                     \n",
       "1950-12-31         2305.000000                40.000000          0.561822\n",
       "1951-03-31         2053.666667                42.000000          0.610681\n",
       "1951-06-30         1933.666667                42.000000          0.587562\n",
       "1951-09-30         2064.666667                41.666667          0.575571\n",
       "1951-12-31         2036.666667                42.666667          0.588945\n",
       "...                        ...                      ...               ...\n",
       "2002-12-31         8563.666667                40.000000          0.360970\n",
       "2003-03-31         8633.000000                39.000000          0.352148\n",
       "2003-06-30         9083.333333                37.333333          0.340466\n",
       "2003-09-30         8897.333333                36.666667          0.344299\n",
       "2003-12-31         8449.333333                38.000000          0.358789\n",
       "\n",
       "[213 rows x 3 columns]"
      ]
     },
     "execution_count": 31,
     "metadata": {},
     "output_type": "execute_result"
    }
   ],
   "source": [
    "dfsQ = dfs.resample('Q').mean()\n",
    "dfsQ"
   ]
  },
  {
   "cell_type": "markdown",
   "metadata": {
    "slideshow": {
     "slide_type": "subslide"
    }
   },
   "source": [
    "Shimer also includes a different labor productivity series from the BLS.\n",
    "\n",
    "Let's import from Shimer's Excel data file."
   ]
  },
  {
   "cell_type": "code",
   "execution_count": 32,
   "metadata": {
    "scrolled": false,
    "slideshow": {
     "slide_type": "subslide"
    }
   },
   "outputs": [
    {
     "data": {
      "text/html": [
       "<div>\n",
       "<style scoped>\n",
       "    .dataframe tbody tr th:only-of-type {\n",
       "        vertical-align: middle;\n",
       "    }\n",
       "\n",
       "    .dataframe tbody tr th {\n",
       "        vertical-align: top;\n",
       "    }\n",
       "\n",
       "    .dataframe thead th {\n",
       "        text-align: right;\n",
       "    }\n",
       "</style>\n",
       "<table border=\"1\" class=\"dataframe\">\n",
       "  <thead>\n",
       "    <tr style=\"text-align: right;\">\n",
       "      <th></th>\n",
       "      <th>Title:</th>\n",
       "      <th>PRODUCTIVITY</th>\n",
       "    </tr>\n",
       "  </thead>\n",
       "  <tbody>\n",
       "    <tr>\n",
       "      <th>0</th>\n",
       "      <td>Source:</td>\n",
       "      <td>http://www.bls.gov/lpc/home.htm</td>\n",
       "    </tr>\n",
       "    <tr>\n",
       "      <th>1</th>\n",
       "      <td>Seasonal Adjustment:</td>\n",
       "      <td>Seasonally Adjusted</td>\n",
       "    </tr>\n",
       "    <tr>\n",
       "      <th>2</th>\n",
       "      <td>Units:</td>\n",
       "      <td>Index, 1992=100</td>\n",
       "    </tr>\n",
       "    <tr>\n",
       "      <th>3</th>\n",
       "      <td>Downloaded:</td>\n",
       "      <td>2004-12-04 00:00:00</td>\n",
       "    </tr>\n",
       "    <tr>\n",
       "      <th>4</th>\n",
       "      <td>NaN</td>\n",
       "      <td>NaN</td>\n",
       "    </tr>\n",
       "    <tr>\n",
       "      <th>5</th>\n",
       "      <td>NaN</td>\n",
       "      <td>PROD</td>\n",
       "    </tr>\n",
       "    <tr>\n",
       "      <th>6</th>\n",
       "      <td>1951Qtr1</td>\n",
       "      <td>48.7</td>\n",
       "    </tr>\n",
       "    <tr>\n",
       "      <th>7</th>\n",
       "      <td>1951Qtr2</td>\n",
       "      <td>48.5</td>\n",
       "    </tr>\n",
       "    <tr>\n",
       "      <th>8</th>\n",
       "      <td>1951Qtr3</td>\n",
       "      <td>49.4</td>\n",
       "    </tr>\n",
       "    <tr>\n",
       "      <th>9</th>\n",
       "      <td>1951Qtr4</td>\n",
       "      <td>49.4</td>\n",
       "    </tr>\n",
       "  </tbody>\n",
       "</table>\n",
       "</div>"
      ],
      "text/plain": [
       "   Title:                                   PRODUCTIVITY\n",
       "0  Source:               http://www.bls.gov/lpc/home.htm\n",
       "1  Seasonal Adjustment:              Seasonally Adjusted\n",
       "2  Units:                                Index, 1992=100\n",
       "3           Downloaded:              2004-12-04 00:00:00\n",
       "4                   NaN                              NaN\n",
       "5                   NaN                             PROD\n",
       "6              1951Qtr1                             48.7\n",
       "7              1951Qtr2                             48.5\n",
       "8              1951Qtr3                             49.4\n",
       "9              1951Qtr4                             49.4"
      ]
     },
     "execution_count": 32,
     "metadata": {},
     "output_type": "execute_result"
    }
   ],
   "source": [
    "df_shimer_qtr = pd.read_excel('116040-V1/data.xls', sheet_name=\"Quarterly Data\")\n",
    "df_shimer_qtr.head(10)"
   ]
  },
  {
   "cell_type": "code",
   "execution_count": 33,
   "metadata": {
    "scrolled": false,
    "slideshow": {
     "slide_type": "subslide"
    }
   },
   "outputs": [
    {
     "data": {
      "text/html": [
       "<div>\n",
       "<style scoped>\n",
       "    .dataframe tbody tr th:only-of-type {\n",
       "        vertical-align: middle;\n",
       "    }\n",
       "\n",
       "    .dataframe tbody tr th {\n",
       "        vertical-align: top;\n",
       "    }\n",
       "\n",
       "    .dataframe thead th {\n",
       "        text-align: right;\n",
       "    }\n",
       "</style>\n",
       "<table border=\"1\" class=\"dataframe\">\n",
       "  <thead>\n",
       "    <tr style=\"text-align: right;\">\n",
       "      <th></th>\n",
       "      <th>Title:</th>\n",
       "      <th>PRODUCTIVITY</th>\n",
       "    </tr>\n",
       "  </thead>\n",
       "  <tbody>\n",
       "    <tr>\n",
       "      <th>6</th>\n",
       "      <td>1951Qtr1</td>\n",
       "      <td>48.7</td>\n",
       "    </tr>\n",
       "    <tr>\n",
       "      <th>7</th>\n",
       "      <td>1951Qtr2</td>\n",
       "      <td>48.5</td>\n",
       "    </tr>\n",
       "    <tr>\n",
       "      <th>8</th>\n",
       "      <td>1951Qtr3</td>\n",
       "      <td>49.4</td>\n",
       "    </tr>\n",
       "    <tr>\n",
       "      <th>9</th>\n",
       "      <td>1951Qtr4</td>\n",
       "      <td>49.4</td>\n",
       "    </tr>\n",
       "    <tr>\n",
       "      <th>10</th>\n",
       "      <td>1952Qtr1</td>\n",
       "      <td>49.8</td>\n",
       "    </tr>\n",
       "    <tr>\n",
       "      <th>...</th>\n",
       "      <td>...</td>\n",
       "      <td>...</td>\n",
       "    </tr>\n",
       "    <tr>\n",
       "      <th>213</th>\n",
       "      <td>2002Qtr4</td>\n",
       "      <td>122.7</td>\n",
       "    </tr>\n",
       "    <tr>\n",
       "      <th>214</th>\n",
       "      <td>2003Qtr1</td>\n",
       "      <td>123.6</td>\n",
       "    </tr>\n",
       "    <tr>\n",
       "      <th>215</th>\n",
       "      <td>2003Qtr2</td>\n",
       "      <td>125.3</td>\n",
       "    </tr>\n",
       "    <tr>\n",
       "      <th>216</th>\n",
       "      <td>2003Qtr3</td>\n",
       "      <td>128</td>\n",
       "    </tr>\n",
       "    <tr>\n",
       "      <th>217</th>\n",
       "      <td>2003Qtr4</td>\n",
       "      <td>129.3</td>\n",
       "    </tr>\n",
       "  </tbody>\n",
       "</table>\n",
       "<p>212 rows × 2 columns</p>\n",
       "</div>"
      ],
      "text/plain": [
       "    Title:               PRODUCTIVITY\n",
       "6               1951Qtr1         48.7\n",
       "7               1951Qtr2         48.5\n",
       "8               1951Qtr3         49.4\n",
       "9               1951Qtr4         49.4\n",
       "10              1952Qtr1         49.8\n",
       "..                   ...          ...\n",
       "213             2002Qtr4        122.7\n",
       "214             2003Qtr1        123.6\n",
       "215             2003Qtr2        125.3\n",
       "216             2003Qtr3          128\n",
       "217             2003Qtr4        129.3\n",
       "\n",
       "[212 rows x 2 columns]"
      ]
     },
     "execution_count": 33,
     "metadata": {},
     "output_type": "execute_result"
    }
   ],
   "source": [
    "# Clean up a bit (drop junk in first 6 rows and obs since 2004Q1)\n",
    "df_shimer_q = df_shimer_qtr[6:218]\n",
    "df_shimer_q"
   ]
  },
  {
   "cell_type": "markdown",
   "metadata": {
    "slideshow": {
     "slide_type": "subslide"
    }
   },
   "source": [
    "Shimer's productivity series only begins a quarter later in 1951.\n",
    "\n",
    "So I'll trick it to say ``NaN`` for the last quarter of 1950 to make the series' length match up with that of our dataframe ``dfsQ`` above:"
   ]
  },
  {
   "cell_type": "code",
   "execution_count": 34,
   "metadata": {
    "slideshow": {
     "slide_type": "subslide"
    }
   },
   "outputs": [],
   "source": [
    "qproductivity_shimer = df_shimer_q[\"PRODUCTIVITY\"].array.astype(\"float\")\n",
    "qproductivity_shimer = np.insert(qproductivity_shimer, 0, np.nan, axis=0)"
   ]
  },
  {
   "cell_type": "markdown",
   "metadata": {
    "slideshow": {
     "slide_type": "subslide"
    }
   },
   "source": [
    "Then we'll plug this into ``dfsQ``:"
   ]
  },
  {
   "cell_type": "code",
   "execution_count": 35,
   "metadata": {
    "scrolled": false,
    "slideshow": {
     "slide_type": "subslide"
    }
   },
   "outputs": [
    {
     "data": {
      "text/html": [
       "<div>\n",
       "<style scoped>\n",
       "    .dataframe tbody tr th:only-of-type {\n",
       "        vertical-align: middle;\n",
       "    }\n",
       "\n",
       "    .dataframe tbody tr th {\n",
       "        vertical-align: top;\n",
       "    }\n",
       "\n",
       "    .dataframe thead th {\n",
       "        text-align: right;\n",
       "    }\n",
       "</style>\n",
       "<table border=\"1\" class=\"dataframe\">\n",
       "  <thead>\n",
       "    <tr style=\"text-align: right;\">\n",
       "      <th></th>\n",
       "      <th>Unemployment Level</th>\n",
       "      <th>Help Wanted Advertising</th>\n",
       "      <th>Job Finding Rate</th>\n",
       "      <th>$p$ (Shimer)</th>\n",
       "    </tr>\n",
       "    <tr>\n",
       "      <th>DATE</th>\n",
       "      <th></th>\n",
       "      <th></th>\n",
       "      <th></th>\n",
       "      <th></th>\n",
       "    </tr>\n",
       "  </thead>\n",
       "  <tbody>\n",
       "    <tr>\n",
       "      <th>1950-12-31</th>\n",
       "      <td>2305.000000</td>\n",
       "      <td>40.000000</td>\n",
       "      <td>0.561822</td>\n",
       "      <td>NaN</td>\n",
       "    </tr>\n",
       "    <tr>\n",
       "      <th>1951-03-31</th>\n",
       "      <td>2053.666667</td>\n",
       "      <td>42.000000</td>\n",
       "      <td>0.610681</td>\n",
       "      <td>48.7</td>\n",
       "    </tr>\n",
       "    <tr>\n",
       "      <th>1951-06-30</th>\n",
       "      <td>1933.666667</td>\n",
       "      <td>42.000000</td>\n",
       "      <td>0.587562</td>\n",
       "      <td>48.5</td>\n",
       "    </tr>\n",
       "    <tr>\n",
       "      <th>1951-09-30</th>\n",
       "      <td>2064.666667</td>\n",
       "      <td>41.666667</td>\n",
       "      <td>0.575571</td>\n",
       "      <td>49.4</td>\n",
       "    </tr>\n",
       "    <tr>\n",
       "      <th>1951-12-31</th>\n",
       "      <td>2036.666667</td>\n",
       "      <td>42.666667</td>\n",
       "      <td>0.588945</td>\n",
       "      <td>49.4</td>\n",
       "    </tr>\n",
       "  </tbody>\n",
       "</table>\n",
       "</div>"
      ],
      "text/plain": [
       "            Unemployment Level  Help Wanted Advertising  Job Finding Rate  \\\n",
       "DATE                                                                        \n",
       "1950-12-31         2305.000000                40.000000          0.561822   \n",
       "1951-03-31         2053.666667                42.000000          0.610681   \n",
       "1951-06-30         1933.666667                42.000000          0.587562   \n",
       "1951-09-30         2064.666667                41.666667          0.575571   \n",
       "1951-12-31         2036.666667                42.666667          0.588945   \n",
       "\n",
       "            $p$ (Shimer)  \n",
       "DATE                      \n",
       "1950-12-31           NaN  \n",
       "1951-03-31          48.7  \n",
       "1951-06-30          48.5  \n",
       "1951-09-30          49.4  \n",
       "1951-12-31          49.4  "
      ]
     },
     "execution_count": 35,
     "metadata": {},
     "output_type": "execute_result"
    }
   ],
   "source": [
    "dfsQ[r\"$p$ (Shimer)\"] = qproductivity_shimer\n",
    "dfsQ.head()"
   ]
  },
  {
   "cell_type": "markdown",
   "metadata": {
    "slideshow": {
     "slide_type": "subslide"
    }
   },
   "source": [
    "Then we'll drop the row containing ``NaN`` (1950-12-31 quarter) from ``dfsQ``:"
   ]
  },
  {
   "cell_type": "code",
   "execution_count": 36,
   "metadata": {
    "slideshow": {
     "slide_type": "subslide"
    }
   },
   "outputs": [],
   "source": [
    "dfsQ = dfsQ.dropna()"
   ]
  },
  {
   "cell_type": "markdown",
   "metadata": {
    "slideshow": {
     "slide_type": "subslide"
    }
   },
   "source": [
    "We'll combine this Shimer dataset with a subset of our previous quarterly-averaged dataframe ``dfQY``.\n",
    "\n",
    "We then store this as a new dataframe ``S``:"
   ]
  },
  {
   "cell_type": "code",
   "execution_count": 37,
   "metadata": {
    "slideshow": {
     "slide_type": "subslide"
    }
   },
   "outputs": [],
   "source": [
    "# Copy previous dataframe dfQY, of same starting date, but longer\n",
    "# so we truncate dfQY up to the shorter end-date of Shimer's dfsQ\n",
    "S = (dfQY.copy()).head(len(dfsQ))\n",
    "# S"
   ]
  },
  {
   "cell_type": "code",
   "execution_count": 38,
   "metadata": {
    "scrolled": false
   },
   "outputs": [],
   "source": [
    "# Insert Shimer's series into S\n",
    "S[r\"$u$\"] = dfsQ[\"Unemployment Level\"].array\n",
    "S[r\"$v$\"] = dfsQ[\"Help Wanted Advertising\"].array\n",
    "\n",
    "# Add θ=v/u tightness series\n",
    "S[r\"$\\theta$\"] = S[r\"$v$\"].divide(S[r\"$u$\"])\n",
    "\n",
    "# Insert Shimer's series into S\n",
    "S[r\"$f$\"] = dfsQ[\"Job Finding Rate\"].array\n",
    "S[r\"$p$\"] = dfsQ[r\"$p$ (Shimer)\"].array\n",
    "\n",
    "# Copy FRED's version of p\n",
    "S[r\"$p_{FRED}$\"] = S[\"Output per person (Nonfarm Business)\"].array"
   ]
  },
  {
   "cell_type": "code",
   "execution_count": 39,
   "metadata": {},
   "outputs": [
    {
     "data": {
      "text/html": [
       "<div>\n",
       "<style scoped>\n",
       "    .dataframe tbody tr th:only-of-type {\n",
       "        vertical-align: middle;\n",
       "    }\n",
       "\n",
       "    .dataframe tbody tr th {\n",
       "        vertical-align: top;\n",
       "    }\n",
       "\n",
       "    .dataframe thead th {\n",
       "        text-align: right;\n",
       "    }\n",
       "</style>\n",
       "<table border=\"1\" class=\"dataframe\">\n",
       "  <thead>\n",
       "    <tr style=\"text-align: right;\">\n",
       "      <th></th>\n",
       "      <th>Unemployment Rate</th>\n",
       "      <th>Unemployment Rate (Black)</th>\n",
       "      <th>Vacancy Rate</th>\n",
       "      <th>Participation Rate</th>\n",
       "      <th>Participation Rate (Female)</th>\n",
       "      <th>Participation Rate (Male)</th>\n",
       "      <th>Employment-Population Ratio</th>\n",
       "      <th>Employment</th>\n",
       "      <th>GDP</th>\n",
       "      <th>Output per person (Nonfarm Business)</th>\n",
       "      <th>Output (Nonfarm Business)</th>\n",
       "      <th>Employment (Nonfarm Business)</th>\n",
       "      <th>Productivity</th>\n",
       "      <th>$u$</th>\n",
       "      <th>$v$</th>\n",
       "      <th>$\\theta$</th>\n",
       "      <th>$f$</th>\n",
       "      <th>$p$</th>\n",
       "      <th>$p_{FRED}$</th>\n",
       "    </tr>\n",
       "    <tr>\n",
       "      <th>DATE</th>\n",
       "      <th></th>\n",
       "      <th></th>\n",
       "      <th></th>\n",
       "      <th></th>\n",
       "      <th></th>\n",
       "      <th></th>\n",
       "      <th></th>\n",
       "      <th></th>\n",
       "      <th></th>\n",
       "      <th></th>\n",
       "      <th></th>\n",
       "      <th></th>\n",
       "      <th></th>\n",
       "      <th></th>\n",
       "      <th></th>\n",
       "      <th></th>\n",
       "      <th></th>\n",
       "      <th></th>\n",
       "      <th></th>\n",
       "    </tr>\n",
       "  </thead>\n",
       "  <tbody>\n",
       "    <tr>\n",
       "      <th>1951-03-31</th>\n",
       "      <td>3.500000</td>\n",
       "      <td>NaN</td>\n",
       "      <td>NaN</td>\n",
       "      <td>59.333333</td>\n",
       "      <td>34.500000</td>\n",
       "      <td>86.400000</td>\n",
       "      <td>57.200000</td>\n",
       "      <td>47579.333333</td>\n",
       "      <td>2415.660</td>\n",
       "      <td>31.582</td>\n",
       "      <td>13.218</td>\n",
       "      <td>41.853</td>\n",
       "      <td>0.315820</td>\n",
       "      <td>2053.666667</td>\n",
       "      <td>42.000000</td>\n",
       "      <td>0.020451</td>\n",
       "      <td>0.610681</td>\n",
       "      <td>48.7</td>\n",
       "      <td>31.582</td>\n",
       "    </tr>\n",
       "    <tr>\n",
       "      <th>1951-06-30</th>\n",
       "      <td>3.100000</td>\n",
       "      <td>NaN</td>\n",
       "      <td>NaN</td>\n",
       "      <td>59.166667</td>\n",
       "      <td>34.433333</td>\n",
       "      <td>86.433333</td>\n",
       "      <td>57.333333</td>\n",
       "      <td>47959.000000</td>\n",
       "      <td>2457.517</td>\n",
       "      <td>31.475</td>\n",
       "      <td>13.283</td>\n",
       "      <td>42.202</td>\n",
       "      <td>0.314748</td>\n",
       "      <td>1933.666667</td>\n",
       "      <td>42.000000</td>\n",
       "      <td>0.021720</td>\n",
       "      <td>0.587562</td>\n",
       "      <td>48.5</td>\n",
       "      <td>31.475</td>\n",
       "    </tr>\n",
       "    <tr>\n",
       "      <th>1951-09-30</th>\n",
       "      <td>3.166667</td>\n",
       "      <td>NaN</td>\n",
       "      <td>NaN</td>\n",
       "      <td>59.233333</td>\n",
       "      <td>34.766667</td>\n",
       "      <td>86.400000</td>\n",
       "      <td>57.366667</td>\n",
       "      <td>48009.000000</td>\n",
       "      <td>2508.166</td>\n",
       "      <td>32.004</td>\n",
       "      <td>13.447</td>\n",
       "      <td>42.017</td>\n",
       "      <td>0.320037</td>\n",
       "      <td>2064.666667</td>\n",
       "      <td>41.666667</td>\n",
       "      <td>0.020181</td>\n",
       "      <td>0.575571</td>\n",
       "      <td>49.4</td>\n",
       "      <td>32.004</td>\n",
       "    </tr>\n",
       "    <tr>\n",
       "      <th>1951-12-31</th>\n",
       "      <td>3.366667</td>\n",
       "      <td>NaN</td>\n",
       "      <td>NaN</td>\n",
       "      <td>59.400000</td>\n",
       "      <td>34.866667</td>\n",
       "      <td>86.700000</td>\n",
       "      <td>57.366667</td>\n",
       "      <td>48155.666667</td>\n",
       "      <td>2513.690</td>\n",
       "      <td>32.075</td>\n",
       "      <td>13.494</td>\n",
       "      <td>42.070</td>\n",
       "      <td>0.320751</td>\n",
       "      <td>2036.666667</td>\n",
       "      <td>42.666667</td>\n",
       "      <td>0.020949</td>\n",
       "      <td>0.588945</td>\n",
       "      <td>49.4</td>\n",
       "      <td>32.075</td>\n",
       "    </tr>\n",
       "    <tr>\n",
       "      <th>1952-03-31</th>\n",
       "      <td>3.066667</td>\n",
       "      <td>NaN</td>\n",
       "      <td>NaN</td>\n",
       "      <td>59.300000</td>\n",
       "      <td>34.666667</td>\n",
       "      <td>86.766667</td>\n",
       "      <td>57.500000</td>\n",
       "      <td>48440.666667</td>\n",
       "      <td>2540.550</td>\n",
       "      <td>32.387</td>\n",
       "      <td>13.649</td>\n",
       "      <td>42.144</td>\n",
       "      <td>0.323866</td>\n",
       "      <td>1860.333333</td>\n",
       "      <td>42.666667</td>\n",
       "      <td>0.022935</td>\n",
       "      <td>0.637255</td>\n",
       "      <td>49.8</td>\n",
       "      <td>32.387</td>\n",
       "    </tr>\n",
       "    <tr>\n",
       "      <th>...</th>\n",
       "      <td>...</td>\n",
       "      <td>...</td>\n",
       "      <td>...</td>\n",
       "      <td>...</td>\n",
       "      <td>...</td>\n",
       "      <td>...</td>\n",
       "      <td>...</td>\n",
       "      <td>...</td>\n",
       "      <td>...</td>\n",
       "      <td>...</td>\n",
       "      <td>...</td>\n",
       "      <td>...</td>\n",
       "      <td>...</td>\n",
       "      <td>...</td>\n",
       "      <td>...</td>\n",
       "      <td>...</td>\n",
       "      <td>...</td>\n",
       "      <td>...</td>\n",
       "      <td>...</td>\n",
       "    </tr>\n",
       "    <tr>\n",
       "      <th>2002-12-31</th>\n",
       "      <td>5.866667</td>\n",
       "      <td>10.600000</td>\n",
       "      <td>2.466667</td>\n",
       "      <td>66.433333</td>\n",
       "      <td>59.533333</td>\n",
       "      <td>73.766667</td>\n",
       "      <td>62.533333</td>\n",
       "      <td>130571.666667</td>\n",
       "      <td>13559.032</td>\n",
       "      <td>82.780</td>\n",
       "      <td>81.974</td>\n",
       "      <td>99.026</td>\n",
       "      <td>0.827803</td>\n",
       "      <td>8563.666667</td>\n",
       "      <td>40.000000</td>\n",
       "      <td>0.004671</td>\n",
       "      <td>0.360970</td>\n",
       "      <td>122.7</td>\n",
       "      <td>82.780</td>\n",
       "    </tr>\n",
       "    <tr>\n",
       "      <th>2003-03-31</th>\n",
       "      <td>5.866667</td>\n",
       "      <td>10.500000</td>\n",
       "      <td>2.433333</td>\n",
       "      <td>66.366667</td>\n",
       "      <td>59.666667</td>\n",
       "      <td>73.500000</td>\n",
       "      <td>62.466667</td>\n",
       "      <td>130418.666667</td>\n",
       "      <td>13634.253</td>\n",
       "      <td>83.280</td>\n",
       "      <td>82.396</td>\n",
       "      <td>98.939</td>\n",
       "      <td>0.832796</td>\n",
       "      <td>8633.000000</td>\n",
       "      <td>39.000000</td>\n",
       "      <td>0.004518</td>\n",
       "      <td>0.352148</td>\n",
       "      <td>123.6</td>\n",
       "      <td>83.280</td>\n",
       "    </tr>\n",
       "    <tr>\n",
       "      <th>2003-06-30</th>\n",
       "      <td>6.133333</td>\n",
       "      <td>11.100000</td>\n",
       "      <td>2.466667</td>\n",
       "      <td>66.433333</td>\n",
       "      <td>59.766667</td>\n",
       "      <td>73.600000</td>\n",
       "      <td>62.333333</td>\n",
       "      <td>130189.000000</td>\n",
       "      <td>13751.543</td>\n",
       "      <td>84.345</td>\n",
       "      <td>83.224</td>\n",
       "      <td>98.671</td>\n",
       "      <td>0.843449</td>\n",
       "      <td>9083.333333</td>\n",
       "      <td>37.333333</td>\n",
       "      <td>0.004110</td>\n",
       "      <td>0.340466</td>\n",
       "      <td>125.3</td>\n",
       "      <td>84.345</td>\n",
       "    </tr>\n",
       "    <tr>\n",
       "      <th>2003-09-30</th>\n",
       "      <td>6.133333</td>\n",
       "      <td>10.966667</td>\n",
       "      <td>2.333333</td>\n",
       "      <td>66.133333</td>\n",
       "      <td>59.366667</td>\n",
       "      <td>73.433333</td>\n",
       "      <td>62.066667</td>\n",
       "      <td>130198.000000</td>\n",
       "      <td>13985.073</td>\n",
       "      <td>86.153</td>\n",
       "      <td>85.222</td>\n",
       "      <td>98.920</td>\n",
       "      <td>0.861524</td>\n",
       "      <td>8897.333333</td>\n",
       "      <td>36.666667</td>\n",
       "      <td>0.004121</td>\n",
       "      <td>0.344299</td>\n",
       "      <td>128.0</td>\n",
       "      <td>86.153</td>\n",
       "    </tr>\n",
       "    <tr>\n",
       "      <th>2003-12-31</th>\n",
       "      <td>5.833333</td>\n",
       "      <td>10.566667</td>\n",
       "      <td>2.466667</td>\n",
       "      <td>66.033333</td>\n",
       "      <td>59.166667</td>\n",
       "      <td>73.500000</td>\n",
       "      <td>62.200000</td>\n",
       "      <td>130505.333333</td>\n",
       "      <td>14145.645</td>\n",
       "      <td>87.109</td>\n",
       "      <td>86.455</td>\n",
       "      <td>99.250</td>\n",
       "      <td>0.871083</td>\n",
       "      <td>8449.333333</td>\n",
       "      <td>38.000000</td>\n",
       "      <td>0.004497</td>\n",
       "      <td>0.358789</td>\n",
       "      <td>129.3</td>\n",
       "      <td>87.109</td>\n",
       "    </tr>\n",
       "  </tbody>\n",
       "</table>\n",
       "<p>212 rows × 19 columns</p>\n",
       "</div>"
      ],
      "text/plain": [
       "            Unemployment Rate  Unemployment Rate (Black)  Vacancy Rate  \\\n",
       "DATE                                                                     \n",
       "1951-03-31           3.500000                        NaN           NaN   \n",
       "1951-06-30           3.100000                        NaN           NaN   \n",
       "1951-09-30           3.166667                        NaN           NaN   \n",
       "1951-12-31           3.366667                        NaN           NaN   \n",
       "1952-03-31           3.066667                        NaN           NaN   \n",
       "...                       ...                        ...           ...   \n",
       "2002-12-31           5.866667                  10.600000      2.466667   \n",
       "2003-03-31           5.866667                  10.500000      2.433333   \n",
       "2003-06-30           6.133333                  11.100000      2.466667   \n",
       "2003-09-30           6.133333                  10.966667      2.333333   \n",
       "2003-12-31           5.833333                  10.566667      2.466667   \n",
       "\n",
       "            Participation Rate  Participation Rate (Female)  \\\n",
       "DATE                                                          \n",
       "1951-03-31           59.333333                    34.500000   \n",
       "1951-06-30           59.166667                    34.433333   \n",
       "1951-09-30           59.233333                    34.766667   \n",
       "1951-12-31           59.400000                    34.866667   \n",
       "1952-03-31           59.300000                    34.666667   \n",
       "...                        ...                          ...   \n",
       "2002-12-31           66.433333                    59.533333   \n",
       "2003-03-31           66.366667                    59.666667   \n",
       "2003-06-30           66.433333                    59.766667   \n",
       "2003-09-30           66.133333                    59.366667   \n",
       "2003-12-31           66.033333                    59.166667   \n",
       "\n",
       "            Participation Rate (Male)  Employment-Population Ratio  \\\n",
       "DATE                                                                 \n",
       "1951-03-31                  86.400000                    57.200000   \n",
       "1951-06-30                  86.433333                    57.333333   \n",
       "1951-09-30                  86.400000                    57.366667   \n",
       "1951-12-31                  86.700000                    57.366667   \n",
       "1952-03-31                  86.766667                    57.500000   \n",
       "...                               ...                          ...   \n",
       "2002-12-31                  73.766667                    62.533333   \n",
       "2003-03-31                  73.500000                    62.466667   \n",
       "2003-06-30                  73.600000                    62.333333   \n",
       "2003-09-30                  73.433333                    62.066667   \n",
       "2003-12-31                  73.500000                    62.200000   \n",
       "\n",
       "               Employment        GDP  Output per person (Nonfarm Business)  \\\n",
       "DATE                                                                         \n",
       "1951-03-31   47579.333333   2415.660                                31.582   \n",
       "1951-06-30   47959.000000   2457.517                                31.475   \n",
       "1951-09-30   48009.000000   2508.166                                32.004   \n",
       "1951-12-31   48155.666667   2513.690                                32.075   \n",
       "1952-03-31   48440.666667   2540.550                                32.387   \n",
       "...                   ...        ...                                   ...   \n",
       "2002-12-31  130571.666667  13559.032                                82.780   \n",
       "2003-03-31  130418.666667  13634.253                                83.280   \n",
       "2003-06-30  130189.000000  13751.543                                84.345   \n",
       "2003-09-30  130198.000000  13985.073                                86.153   \n",
       "2003-12-31  130505.333333  14145.645                                87.109   \n",
       "\n",
       "            Output (Nonfarm Business)  Employment (Nonfarm Business)  \\\n",
       "DATE                                                                   \n",
       "1951-03-31                     13.218                         41.853   \n",
       "1951-06-30                     13.283                         42.202   \n",
       "1951-09-30                     13.447                         42.017   \n",
       "1951-12-31                     13.494                         42.070   \n",
       "1952-03-31                     13.649                         42.144   \n",
       "...                               ...                            ...   \n",
       "2002-12-31                     81.974                         99.026   \n",
       "2003-03-31                     82.396                         98.939   \n",
       "2003-06-30                     83.224                         98.671   \n",
       "2003-09-30                     85.222                         98.920   \n",
       "2003-12-31                     86.455                         99.250   \n",
       "\n",
       "            Productivity          $u$        $v$  $\\theta$       $f$    $p$  \\\n",
       "DATE                                                                          \n",
       "1951-03-31      0.315820  2053.666667  42.000000  0.020451  0.610681   48.7   \n",
       "1951-06-30      0.314748  1933.666667  42.000000  0.021720  0.587562   48.5   \n",
       "1951-09-30      0.320037  2064.666667  41.666667  0.020181  0.575571   49.4   \n",
       "1951-12-31      0.320751  2036.666667  42.666667  0.020949  0.588945   49.4   \n",
       "1952-03-31      0.323866  1860.333333  42.666667  0.022935  0.637255   49.8   \n",
       "...                  ...          ...        ...       ...       ...    ...   \n",
       "2002-12-31      0.827803  8563.666667  40.000000  0.004671  0.360970  122.7   \n",
       "2003-03-31      0.832796  8633.000000  39.000000  0.004518  0.352148  123.6   \n",
       "2003-06-30      0.843449  9083.333333  37.333333  0.004110  0.340466  125.3   \n",
       "2003-09-30      0.861524  8897.333333  36.666667  0.004121  0.344299  128.0   \n",
       "2003-12-31      0.871083  8449.333333  38.000000  0.004497  0.358789  129.3   \n",
       "\n",
       "            $p_{FRED}$  \n",
       "DATE                    \n",
       "1951-03-31      31.582  \n",
       "1951-06-30      31.475  \n",
       "1951-09-30      32.004  \n",
       "1951-12-31      32.075  \n",
       "1952-03-31      32.387  \n",
       "...                ...  \n",
       "2002-12-31      82.780  \n",
       "2003-03-31      83.280  \n",
       "2003-06-30      84.345  \n",
       "2003-09-30      86.153  \n",
       "2003-12-31      87.109  \n",
       "\n",
       "[212 rows x 19 columns]"
      ]
     },
     "execution_count": 39,
     "metadata": {},
     "output_type": "execute_result"
    }
   ],
   "source": [
    "S"
   ]
  },
  {
   "cell_type": "markdown",
   "metadata": {
    "slideshow": {
     "slide_type": "subslide"
    }
   },
   "source": [
    "There appears to be a difference in level (but similar volatility) between Shimer's nonfarm business sector labor productivity and [the updated series from FRED](https://fred.stlouisfed.org/series/PRS85006163):"
   ]
  },
  {
   "cell_type": "code",
   "execution_count": 40,
   "metadata": {
    "slideshow": {
     "slide_type": "subslide"
    }
   },
   "outputs": [
    {
     "data": {
      "image/png": "[encoded data removed]",
      "text/plain": [
       "<Figure size 432x288 with 1 Axes>"
      ]
     },
     "metadata": {
      "needs_background": "light"
     },
     "output_type": "display_data"
    }
   ],
   "source": [
    "S.plot(y=[r\"$p_{FRED}$\", r\"$p$\"])\n",
    "plt.show()"
   ]
  },
  {
   "cell_type": "markdown",
   "metadata": {
    "slideshow": {
     "slide_type": "subslide"
    }
   },
   "source": [
    "This is likely because the two series have different base years for the indices' calculations."
   ]
  },
  {
   "cell_type": "markdown",
   "metadata": {
    "slideshow": {
     "slide_type": "subslide"
    }
   },
   "source": [
    "## De-meaning data"
   ]
  },
  {
   "cell_type": "markdown",
   "metadata": {
    "slideshow": {
     "slide_type": "subslide"
    }
   },
   "source": [
    "Let's normalize each series by its sample mean and then take the logarithm of these ratios.\n",
    "\n",
    "This does not change statistical comovements.\n",
    "\n",
    "It only removes scale (size) effects. \n",
    "\n",
    "This also makes interpretation easier. \n",
    "\n",
    "For example, we can interpret each de-meaned series as a (percentage) deviation from mean."
   ]
  },
  {
   "cell_type": "code",
   "execution_count": 41,
   "metadata": {
    "slideshow": {
     "slide_type": "subslide"
    }
   },
   "outputs": [],
   "source": [
    "# Logged de-meaned data\n",
    "Sdev = np.log(S.divide(S.mean()))"
   ]
  },
  {
   "cell_type": "markdown",
   "metadata": {
    "slideshow": {
     "slide_type": "subslide"
    }
   },
   "source": [
    "## HP-filtering\n",
    "\n",
    "Business cycle analysts tend to filter out the low-frequency or long-run signals ($Y_{t}^{trend}$) in the raw or observed data ($Y_{t}^{o}$),\n",
    "\n",
    "$Y_{t}^{o} - Y_{t}^{trend} = Y_{t}^{cycle},$\n",
    "\n",
    "to get the cyclical component as a residual."
   ]
  },
  {
   "cell_type": "markdown",
   "metadata": {
    "slideshow": {
     "slide_type": "subslide"
    }
   },
   "source": [
    "A popular filter is called the [Hodrick-Prescott (HP) filter](https://www.statsmodels.org/stable/generated/statsmodels.tsa.filters.hp_filter.hpfilter.html).\n",
    "\n",
    "* It is cast as a Hilbert-space projection problem: Statisticians call this a solution to a \"ridge regression\" problem, a special case of [Tikhonov regularization of ill-posed problems](https://en.wikipedia.org/wiki/Tikhonov_regularization). \n",
    "\n",
    "* The HP filter can also be described as a *unobserved-component trend-plus-cycle* time-series (state-space) model. See the work by [Andrew Harvey](https://www.terrapub.co.jp/journals/jjss/pdf/3801/38010041.pdf).\n",
    "\n",
    "\n",
    "\n",
    "We will apply this here to our demeaned data ``Sdev``."
   ]
  },
  {
   "cell_type": "markdown",
   "metadata": {
    "slideshow": {
     "slide_type": "subslide"
    }
   },
   "source": [
    "For quarterly frequencies, economist tend to set the penalization constant (a.k.a. the HP smoothing parameter) as 1600.\n",
    "\n",
    "However, in Shimer's paper, he opted for filtering out only very low frequency (i.e., very \"long run\") signals, thus setting this parameter (arbitrarily) as $10^{5}$."
   ]
  },
  {
   "cell_type": "markdown",
   "metadata": {
    "slideshow": {
     "slide_type": "skip"
    }
   },
   "source": [
    "## Replicating Shimer's correlation table with our data"
   ]
  },
  {
   "cell_type": "markdown",
   "metadata": {
    "slideshow": {
     "slide_type": "subslide"
    }
   },
   "source": [
    "Shimer's notation\n",
    "\n",
    "* $u$ - unemployment level\n",
    "\n",
    "* $v$ - vacancy level\n",
    "\n",
    "* $\\theta := v/u$ - labor market tightness\n",
    "\n",
    "* $f$ - probability a worker finds a job in one period (author's model estimate)\n",
    "\n",
    "* $p$ - average labor productivity (non-farm business sector output per person)"
   ]
  },
  {
   "cell_type": "markdown",
   "metadata": {
    "slideshow": {
     "slide_type": "skip"
    }
   },
   "source": [
    "We'll loop over each series in the dataframe ``Sdev`` and apply the HP filter. \n",
    "\n",
    "The result will be two extracted components to each series. \n",
    "\n",
    "Each component is stored as a Python dictionary:\n",
    "\n",
    "* trend signal, e.g., ``Y_trend``\n",
    "\n",
    "* cycle component, e.g., ``Y_cycle``"
   ]
  },
  {
   "cell_type": "code",
   "execution_count": 42,
   "metadata": {
    "slideshow": {
     "slide_type": "skip"
    }
   },
   "outputs": [
    {
     "data": {
      "text/html": [
       "<div>\n",
       "<style scoped>\n",
       "    .dataframe tbody tr th:only-of-type {\n",
       "        vertical-align: middle;\n",
       "    }\n",
       "\n",
       "    .dataframe tbody tr th {\n",
       "        vertical-align: top;\n",
       "    }\n",
       "\n",
       "    .dataframe thead th {\n",
       "        text-align: right;\n",
       "    }\n",
       "</style>\n",
       "<table border=\"1\" class=\"dataframe\">\n",
       "  <thead>\n",
       "    <tr style=\"text-align: right;\">\n",
       "      <th></th>\n",
       "      <th>Std Deviation</th>\n",
       "    </tr>\n",
       "  </thead>\n",
       "  <tbody>\n",
       "    <tr>\n",
       "      <th>Unemployment Rate</th>\n",
       "      <td>0.125089</td>\n",
       "    </tr>\n",
       "    <tr>\n",
       "      <th>$v$</th>\n",
       "      <td>0.138978</td>\n",
       "    </tr>\n",
       "    <tr>\n",
       "      <th>$\\theta$</th>\n",
       "      <td>0.256592</td>\n",
       "    </tr>\n",
       "    <tr>\n",
       "      <th>$p$</th>\n",
       "      <td>0.013291</td>\n",
       "    </tr>\n",
       "  </tbody>\n",
       "</table>\n",
       "</div>"
      ],
      "text/plain": [
       "                   Std Deviation\n",
       "Unemployment Rate       0.125089\n",
       "$v$                     0.138978\n",
       "$\\theta$                0.256592\n",
       "$p$                     0.013291"
      ]
     },
     "metadata": {},
     "output_type": "display_data"
    },
    {
     "data": {
      "image/png": "[encoded data removed]",
      "text/plain": [
       "<Figure size 504x432 with 2 Axes>"
      ]
     },
     "metadata": {
      "needs_background": "light"
     },
     "output_type": "display_data"
    }
   ],
   "source": [
    "# Select subset of series from our dataframe Sdev (above)\n",
    "sdvsub = Sdev[[\"Unemployment Rate\", r\"$v$\", r\"$\\theta$\", r\"$p$\"]]\n",
    "\n",
    "# Filter data and plot correlation map\n",
    "Ysdvsub_cycle, Ysdvsub_trend = hpfilter2df(sdvsub, λ=10**5)\n",
    "\n",
    "# Sd and correlations\n",
    "sd = Ysdvsub_cycle.std().to_frame()\n",
    "sd.columns = [\"Std Deviation\"]\n",
    "display(sd)\n",
    "correlation_map(Ysdvsub_cycle)"
   ]
  },
  {
   "cell_type": "markdown",
   "metadata": {
    "slideshow": {
     "slide_type": "slide"
    }
   },
   "source": [
    "## Replicating Shimer's correlation table with Shimer's data"
   ]
  },
  {
   "cell_type": "code",
   "execution_count": 43,
   "metadata": {
    "slideshow": {
     "slide_type": "subslide"
    }
   },
   "outputs": [],
   "source": [
    "# Report select series (Shimer's data)\n",
    "select = [\n",
    "          r\"$u$\", \n",
    "          r\"$v$\", \n",
    "          r\"$\\theta$\",\n",
    "          r\"$f$\",\n",
    "          r\"$p$\",\n",
    "         ]\n",
    "ds = Sdev[select]"
   ]
  },
  {
   "cell_type": "code",
   "execution_count": 44,
   "metadata": {
    "slideshow": {
     "slide_type": "subslide"
    }
   },
   "outputs": [],
   "source": [
    "# HP smoothing parameter (Shimer, AER2005)\n",
    "λ_shimer = 10**5\n",
    "\n",
    "# HP Filter data in ds\n",
    "Ys_cycle, Ys_trend = hpfilter2df(ds, λ=λ_shimer)"
   ]
  },
  {
   "cell_type": "code",
   "execution_count": 45,
   "metadata": {
    "slideshow": {
     "slide_type": "subslide"
    }
   },
   "outputs": [
    {
     "data": {
      "text/html": [
       "<div>\n",
       "<style scoped>\n",
       "    .dataframe tbody tr th:only-of-type {\n",
       "        vertical-align: middle;\n",
       "    }\n",
       "\n",
       "    .dataframe tbody tr th {\n",
       "        vertical-align: top;\n",
       "    }\n",
       "\n",
       "    .dataframe thead th {\n",
       "        text-align: right;\n",
       "    }\n",
       "</style>\n",
       "<table border=\"1\" class=\"dataframe\">\n",
       "  <thead>\n",
       "    <tr style=\"text-align: right;\">\n",
       "      <th></th>\n",
       "      <th>Std Deviation</th>\n",
       "    </tr>\n",
       "  </thead>\n",
       "  <tbody>\n",
       "    <tr>\n",
       "      <th>$u$</th>\n",
       "      <td>0.123406</td>\n",
       "    </tr>\n",
       "    <tr>\n",
       "      <th>$v$</th>\n",
       "      <td>0.138978</td>\n",
       "    </tr>\n",
       "    <tr>\n",
       "      <th>$\\theta$</th>\n",
       "      <td>0.256592</td>\n",
       "    </tr>\n",
       "    <tr>\n",
       "      <th>$f$</th>\n",
       "      <td>0.076473</td>\n",
       "    </tr>\n",
       "    <tr>\n",
       "      <th>$p$</th>\n",
       "      <td>0.013291</td>\n",
       "    </tr>\n",
       "  </tbody>\n",
       "</table>\n",
       "</div>"
      ],
      "text/plain": [
       "          Std Deviation\n",
       "$u$            0.123406\n",
       "$v$            0.138978\n",
       "$\\theta$       0.256592\n",
       "$f$            0.076473\n",
       "$p$            0.013291"
      ]
     },
     "metadata": {},
     "output_type": "display_data"
    },
    {
     "data": {
      "image/png": "[encoded data removed]",
      "text/plain": [
       "<Figure size 504x432 with 2 Axes>"
      ]
     },
     "metadata": {},
     "output_type": "display_data"
    }
   ],
   "source": [
    "# Report standard deviations\n",
    "sd = Ys_cycle.std().to_frame()\n",
    "sd.columns = [\"Std Deviation\"]\n",
    "display(sd)\n",
    "correlation_map(Ys_cycle)"
   ]
  },
  {
   "cell_type": "code",
   "execution_count": 46,
   "metadata": {
    "scrolled": false,
    "slideshow": {
     "slide_type": "subslide"
    }
   },
   "outputs": [
    {
     "data": {
      "image/png": "[encoded data removed]",
      "text/plain": [
       "<Figure size 432x432 with 3 Axes>"
      ]
     },
     "metadata": {},
     "output_type": "display_data"
    }
   ],
   "source": [
    "seaborn_jointplot(r\"$u$\", r\"$v$\", Ys_cycle)"
   ]
  },
  {
   "cell_type": "code",
   "execution_count": 47,
   "metadata": {
    "slideshow": {
     "slide_type": "subslide"
    }
   },
   "outputs": [
    {
     "data": {
      "image/png": "[encoded data removed]",
      "text/plain": [
       "<Figure size 432x432 with 3 Axes>"
      ]
     },
     "metadata": {},
     "output_type": "display_data"
    }
   ],
   "source": [
    "seaborn_jointplot(r\"$\\theta$\", r\"$p$\", Ys_cycle)"
   ]
  },
  {
   "cell_type": "code",
   "execution_count": 48,
   "metadata": {
    "slideshow": {
     "slide_type": "subslide"
    }
   },
   "outputs": [
    {
     "data": {
      "image/png": "[encoded data removed]",
      "text/plain": [
       "<Figure size 432x432 with 3 Axes>"
      ]
     },
     "metadata": {},
     "output_type": "display_data"
    }
   ],
   "source": [
    "seaborn_jointplot(r\"$u$\", r\"$p$\", Ys_cycle)"
   ]
  },
  {
   "cell_type": "code",
   "execution_count": 49,
   "metadata": {
    "slideshow": {
     "slide_type": "subslide"
    }
   },
   "outputs": [
    {
     "data": {
      "image/png": "[encoded data removed]",
      "text/plain": [
       "<Figure size 432x432 with 3 Axes>"
      ]
     },
     "metadata": {},
     "output_type": "display_data"
    }
   ],
   "source": [
    "seaborn_jointplot(r\"$v$\", r\"$p$\", Ys_cycle)"
   ]
  },
  {
   "cell_type": "markdown",
   "metadata": {
    "slideshow": {
     "slide_type": "skip"
    }
   },
   "source": [
    "## Revisit by Hagedorn and Manovskii\n",
    "\n",
    "The authors used an HP filter smoothing parameter of $\\lambda=1600$.\n",
    "\n",
    "Let's try to replicate their result (in Table 3 of Hagedorn and Manovskii's (HM) paper) using Shimer's data plus our supplement of Shimer's labor productivity series.\n",
    "\n",
    "Note: \n",
    "\n",
    "* HM has an additional year's worth of observations in addition to Shimer's dataset.\n",
    "\n",
    "* HM dropped the constructed series on $f$.\n",
    "\n",
    "* But's let's check this out anyway."
   ]
  },
  {
   "cell_type": "code",
   "execution_count": 50,
   "metadata": {
    "slideshow": {
     "slide_type": "skip"
    }
   },
   "outputs": [],
   "source": [
    "# HP smoothing parameter (HM, AER)\n",
    "λ_hm = 1600\n",
    "Yhms_cycle, Yhms_trend = hpfilter2df(ds, λ_hm)"
   ]
  },
  {
   "cell_type": "code",
   "execution_count": 51,
   "metadata": {
    "slideshow": {
     "slide_type": "skip"
    }
   },
   "outputs": [
    {
     "data": {
      "image/png": "[encoded data removed]",
      "text/plain": [
       "<Figure size 504x432 with 2 Axes>"
      ]
     },
     "metadata": {},
     "output_type": "display_data"
    }
   ],
   "source": [
    "correlation_map(Yhms_cycle)"
   ]
  },
  {
   "cell_type": "markdown",
   "metadata": {
    "slideshow": {
     "slide_type": "skip"
    }
   },
   "source": [
    "This table is close to HM's, but exhibit marginally larger correlations.\n",
    "\n",
    "Note that HM used the unemployment rate series, whereas Shimer uses unemployment level. "
   ]
  },
  {
   "cell_type": "markdown",
   "metadata": {
    "slideshow": {
     "slide_type": "skip"
    }
   },
   "source": [
    "Just to be sure, we now use HM's data and reproduce their Table 3.\n",
    "\n",
    "Now let's take HM's data set from their [source on the AER website](https://www.aeaweb.org/articles?id=10.1257/aer.98.4.1692).\n",
    "\n",
    "Below, we assume you have already downloaded their source files to the same directory as this notebook."
   ]
  },
  {
   "cell_type": "code",
   "execution_count": 52,
   "metadata": {
    "scrolled": true,
    "slideshow": {
     "slide_type": "skip"
    }
   },
   "outputs": [
    {
     "data": {
      "text/html": [
       "<div>\n",
       "<style scoped>\n",
       "    .dataframe tbody tr th:only-of-type {\n",
       "        vertical-align: middle;\n",
       "    }\n",
       "\n",
       "    .dataframe tbody tr th {\n",
       "        vertical-align: top;\n",
       "    }\n",
       "\n",
       "    .dataframe thead th {\n",
       "        text-align: right;\n",
       "    }\n",
       "</style>\n",
       "<table border=\"1\" class=\"dataframe\">\n",
       "  <thead>\n",
       "    <tr style=\"text-align: right;\">\n",
       "      <th></th>\n",
       "      <th>year</th>\n",
       "      <th>quarter</th>\n",
       "      <th>$p$</th>\n",
       "      <th>$w$</th>\n",
       "      <th>$u$</th>\n",
       "      <th>$v$</th>\n",
       "      <th>$\\theta$</th>\n",
       "    </tr>\n",
       "  </thead>\n",
       "  <tbody>\n",
       "    <tr>\n",
       "      <th>0</th>\n",
       "      <td>1951</td>\n",
       "      <td>1</td>\n",
       "      <td>48.799999</td>\n",
       "      <td>99.699997</td>\n",
       "      <td>3.500000</td>\n",
       "      <td>41.333332</td>\n",
       "      <td>11.809524</td>\n",
       "    </tr>\n",
       "    <tr>\n",
       "      <th>1</th>\n",
       "      <td>1951</td>\n",
       "      <td>2</td>\n",
       "      <td>48.700001</td>\n",
       "      <td>100.599998</td>\n",
       "      <td>3.100000</td>\n",
       "      <td>42.000000</td>\n",
       "      <td>13.548388</td>\n",
       "    </tr>\n",
       "    <tr>\n",
       "      <th>2</th>\n",
       "      <td>1951</td>\n",
       "      <td>3</td>\n",
       "      <td>49.599998</td>\n",
       "      <td>99.199997</td>\n",
       "      <td>3.166667</td>\n",
       "      <td>41.666668</td>\n",
       "      <td>13.157896</td>\n",
       "    </tr>\n",
       "    <tr>\n",
       "      <th>3</th>\n",
       "      <td>1951</td>\n",
       "      <td>4</td>\n",
       "      <td>49.599998</td>\n",
       "      <td>99.699997</td>\n",
       "      <td>3.366667</td>\n",
       "      <td>42.000000</td>\n",
       "      <td>12.475248</td>\n",
       "    </tr>\n",
       "    <tr>\n",
       "      <th>4</th>\n",
       "      <td>1952</td>\n",
       "      <td>1</td>\n",
       "      <td>50.000000</td>\n",
       "      <td>100.599998</td>\n",
       "      <td>3.066667</td>\n",
       "      <td>43.000000</td>\n",
       "      <td>14.021739</td>\n",
       "    </tr>\n",
       "  </tbody>\n",
       "</table>\n",
       "</div>"
      ],
      "text/plain": [
       "   year  quarter        $p$         $w$       $u$        $v$   $\\theta$\n",
       "0  1951        1  48.799999   99.699997  3.500000  41.333332  11.809524\n",
       "1  1951        2  48.700001  100.599998  3.100000  42.000000  13.548388\n",
       "2  1951        3  49.599998   99.199997  3.166667  41.666668  13.157896\n",
       "3  1951        4  49.599998   99.699997  3.366667  42.000000  12.475248\n",
       "4  1952        1  50.000000  100.599998  3.066667  43.000000  14.021739"
      ]
     },
     "execution_count": 52,
     "metadata": {},
     "output_type": "execute_result"
    }
   ],
   "source": [
    "dfhm = pd.read_stata('20060403_data/Data.dta')\n",
    "dfhm.columns = [\"year\", \"quarter\", r\"$p$\", r\"$w$\", r\"$u$\", r\"$v$\"]\n",
    "dfhm[r\"$\\theta$\"] = dfhm[r\"$v$\"]/dfhm[r\"$u$\"]\n",
    "dfhm.head()"
   ]
  },
  {
   "cell_type": "code",
   "execution_count": 53,
   "metadata": {
    "slideshow": {
     "slide_type": "skip"
    }
   },
   "outputs": [],
   "source": [
    "# Apply HP filter at HM's HP-filter smoothing parameter\n",
    "dfhmm = dfhm.drop(columns=[\"year\", \"quarter\", r\"$w$\"])\n",
    "# reorder for ease of comparison to HM's Table and Shimer's Table\n",
    "dfhmmo = dfhmm[[r\"$u$\", r\"$v$\", r\"$\\theta$\", r\"$p$\"]]\n",
    "dfhmmo = np.log(dfhmmo.divide(dfhmmo.mean()))\n",
    "Yhm_cycle, Yhm_trend = hpfilter2df(dfhmmo, λ=10.**5.0)"
   ]
  },
  {
   "cell_type": "code",
   "execution_count": 54,
   "metadata": {
    "scrolled": false,
    "slideshow": {
     "slide_type": "skip"
    }
   },
   "outputs": [
    {
     "data": {
      "image/png": "[encoded data removed]",
      "text/plain": [
       "<Figure size 504x432 with 2 Axes>"
      ]
     },
     "metadata": {},
     "output_type": "display_data"
    }
   ],
   "source": [
    "correlation_map(Yhm_cycle)"
   ]
  },
  {
   "cell_type": "markdown",
   "metadata": {
    "slideshow": {
     "slide_type": "skip"
    }
   },
   "source": [
    "This reproduces Table 3 in HM exactly."
   ]
  },
  {
   "cell_type": "markdown",
   "metadata": {
    "slideshow": {
     "slide_type": "slide"
    }
   },
   "source": [
    "# Key Labor Market Observations"
   ]
  },
  {
   "cell_type": "markdown",
   "metadata": {
    "slideshow": {
     "slide_type": "subslide"
    }
   },
   "source": [
    "We'll summarize the co-movement (correlation) facts shown earlier."
   ]
  },
  {
   "cell_type": "markdown",
   "metadata": {
    "slideshow": {
     "slide_type": "subslide"
    }
   },
   "source": [
    "## Fact 1\n",
    "\n",
    "1. $u$ and $v$ are negatively correlated;\n",
    "\n",
    "2. $u$ and $p$ are negatively correlated; and\n",
    "\n",
    "3. $\\theta$ and $p$ are positively correlated\n",
    "\n",
    "over the business cycle."
   ]
  },
  {
   "cell_type": "markdown",
   "metadata": {
    "slideshow": {
     "slide_type": "subslide"
    }
   },
   "source": [
    "These imply that:\n",
    "\n",
    "4. $u$ and $\\theta$ are negatively correlated.\n",
    "\n",
    "5. $v$ and $p$ are positively correlated.\n",
    "\n",
    "6. $v$ and $\\theta$ are positively correlated."
   ]
  },
  {
   "cell_type": "markdown",
   "metadata": {
    "slideshow": {
     "slide_type": "subslide"
    }
   },
   "source": [
    "## Fact 2\n",
    "\n",
    "The U.S. Beveridge curve (Fact 1.1) appears to have shifted up since the Great Recession (2008)."
   ]
  },
  {
   "cell_type": "code",
   "execution_count": 55,
   "metadata": {
    "slideshow": {
     "slide_type": "skip"
    }
   },
   "outputs": [],
   "source": [
    "# Breaking up our quarterly sample in dfQY\n",
    "start_date = '2000-12-31'\n",
    "great_recession_date = '2007-12-31'\n",
    "pre_great_recession = (dfQY.index >= start_date) & (dfQY.index < great_recession_date) \n",
    "post_great_recession = (dfQY.index >= great_recession_date)\n",
    "Y_pre = dfQY[pre_great_recession]\n",
    "Y_post = dfQY[post_great_recession]"
   ]
  },
  {
   "cell_type": "code",
   "execution_count": 56,
   "metadata": {
    "slideshow": {
     "slide_type": "skip"
    }
   },
   "outputs": [],
   "source": [
    "def beveridge_prepost(Y_pre, Y_post):\n",
    "    \"\"\"Function to separately plot Beveridge curve data\n",
    "    (unemployment, vacancies) for two separate sample periods\n",
    "    stored in dataframes Y_pre, Y_post.\"\"\"\n",
    "\n",
    "    plt.figure()\n",
    "\n",
    "    # Before Dec 2007\n",
    "    u_pre = Y_pre['Unemployment Rate']\n",
    "    v_pre = Y_pre['Vacancy Rate']\n",
    "    # Convert timestamp to yyyy-mm-dd string\n",
    "    min_pre = str(pd.to_datetime(Y_pre.index.min()).date())\n",
    "    max_pre = str(pd.to_datetime(Y_pre.index.max()).date())\n",
    "    plt.plot(u_pre, v_pre, 'ob', \n",
    "             alpha=0.3,\n",
    "             label=min_pre+\" to \"+max_pre)\n",
    "\n",
    "    # After Dec 2007\n",
    "    u_post = Y_post['Unemployment Rate']\n",
    "    v_post = Y_post['Vacancy Rate']\n",
    "    # Convert timestamp to yyyy-mm-dd string\n",
    "    min_post= str(pd.to_datetime(Y_post.index.min()).date())\n",
    "    max_post= str(pd.to_datetime(Y_post.index.max()).date())\n",
    "    u_start = Y_post['Unemployment Rate'].iloc[0]\n",
    "    v_start = Y_post['Vacancy Rate'].iloc[0]\n",
    "    plt.plot(u_start, v_start, 'sg', alpha=1.0)\n",
    "    plt.plot(u_post, v_post, 'xr', label=min_post+\" to \"+max_post)\n",
    "    # Mark start points of post-GR sample\n",
    "    u_start = Y_post['Unemployment Rate'].iloc[0]\n",
    "    v_start = Y_post['Vacancy Rate'].iloc[0]\n",
    "    plt.annotate(min_post, xy=(u_start, v_start))\n",
    "    # Mark end points of great recession\n",
    "    u_endgr = Y_post[Y_post.index == '2015-12-31'][\"Unemployment Rate\"]\n",
    "    v_endgr = Y_post[Y_post.index == '2015-12-31'][\"Vacancy Rate\"]\n",
    "    plt.plot(u_endgr, v_endgr, '*m', alpha=1.0)\n",
    "    plt.annotate('2015-12-31', xy=(u_endgr, v_endgr))\n",
    "    \n",
    "    # Mark end points of total sample\n",
    "    u_end = Y_post['Unemployment Rate'].iloc[-1]\n",
    "    v_end = Y_post['Vacancy Rate'].iloc[-1]\n",
    "    plt.plot(u_end, v_end, 'sr', alpha=1.0)\n",
    "    plt.annotate(max_post, xy=(u_end, v_end))\n",
    "    \n",
    "\n",
    "    # Axes labels\n",
    "    plt.xlabel(\"Unemployment Rate\")\n",
    "    plt.ylabel(\"Vacancy Rate\")\n",
    "    plt.legend()\n",
    "\n",
    "    plt.show()"
   ]
  },
  {
   "cell_type": "code",
   "execution_count": 57,
   "metadata": {
    "slideshow": {
     "slide_type": "subslide"
    }
   },
   "outputs": [
    {
     "data": {
      "image/png": "[encoded data removed]",
      "text/plain": [
       "<Figure size 432x288 with 1 Axes>"
      ]
     },
     "metadata": {},
     "output_type": "display_data"
    }
   ],
   "source": [
    "beveridge_prepost(Y_pre, Y_post)"
   ]
  },
  {
   "cell_type": "markdown",
   "metadata": {
    "slideshow": {
     "slide_type": "slide"
    }
   },
   "source": [
    "# Accounting for business-cycle statistics\n",
    "\n",
    "In class we will discuss two models that help us understand potential reasons for these observed regularities.\n",
    "\n",
    "These models will be simplified versions of more explicit, dynamic and stochastic models used in research and policy modelling.\n",
    "\n",
    "* Here's some extra notes: [our replication of a global, nonlinear solution of a dynamic and stochastic version of the two-sided search model](https://github.com/phantomachine/courses/blob/master/Petrosky-Nadeau-Zhang%20Revisits%20Hagedorn-Manovskii%20DMP.html).\n",
    "\n",
    "* They account for some of the business cycle facts summarized above quite well.\n",
    "\n",
    "* This is advanced material taught typically in a second-year PhD program."
   ]
  },
  {
   "cell_type": "markdown",
   "metadata": {
    "slideshow": {
     "slide_type": "slide"
    }
   },
   "source": [
    "# Readings\n",
    "\n",
    "* Williamson, S. (2018), *Macroeconomics* (6th edition). Pearson Publishers. (Chapter 6).\n",
    "\n",
    "* Hagedorn, Marcus, and Iourii Manovskii. 2008. [\"The Cyclical Behavior of Equilibrium Unemployment and Vacancies Revisited.\" American Economic Review, 98 (4): 1692-1706](https://doi.org/10.1257/aer.98.4.1692).\n",
    "\n",
    "* Shimer, Robert. 2005. [\"The Cyclical Behavior of Equilibrium Unemployment and Vacancies.\" American Economic Review, 95 (1): 25-49](https://doi.org/10.1257/0002828053828572). \n",
    "\n",
    "* Petrosky‐Nadeau, N. and Zhang, L. (2017), [\"Solving the Diamond–Mortensen–Pissarides model accurately.\" *Quantitative Economics*, 8: 611-650](https://doi.org/10.3982/QE452)\n",
    "\n",
    "* Ljungqvist, L. and Sargent, T. (2019), *Recursive Macroeconomic Theory* (4th edition). (Chapter 6)."
   ]
  }
 ],
 "metadata": {
  "celltoolbar": "Slideshow",
  "kernelspec": {
   "display_name": "Python 3",
   "language": "python",
   "name": "python3"
  },
  "language_info": {
   "codemirror_mode": {
    "name": "ipython",
    "version": 3
   },
   "file_extension": ".py",
   "mimetype": "text/x-python",
   "name": "python",
   "nbconvert_exporter": "python",
   "pygments_lexer": "ipython3",
   "version": "3.6.12"
  },
  "latex_envs": {
   "LaTeX_envs_menu_present": true,
   "autoclose": false,
   "autocomplete": true,
   "bibliofile": "biblio.bib",
   "cite_by": "apalike",
   "current_citInitial": 1,
   "eqLabelWithNumbers": true,
   "eqNumInitial": 1,
   "hotkeys": {
    "equation": "Ctrl-E",
    "itemize": "Ctrl-I"
   },
   "labels_anchors": false,
   "latex_user_defs": false,
   "report_style_numbering": false,
   "user_envs_cfg": false
  },
  "toc": {
   "base_numbering": 1,
   "nav_menu": {},
   "number_sections": true,
   "sideBar": true,
   "skip_h1_title": false,
   "title_cell": "Table of Contents",
   "title_sidebar": "Contents",
   "toc_cell": true,
   "toc_position": {
    "height": "215px",
    "left": "1573px",
    "top": "160.281px",
    "width": "346.984px"
   },
   "toc_section_display": true,
   "toc_window_display": true
  }
 },
 "nbformat": 4,
 "nbformat_minor": 4
}
